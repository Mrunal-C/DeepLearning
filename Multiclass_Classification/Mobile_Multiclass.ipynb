{
  "cells": [
    {
      "cell_type": "markdown",
      "metadata": {
        "id": "hd3bBixL0uJv"
      },
      "source": [
        "### **Mobile Price Range Multiclass classification**"
      ]
    },
    {
      "cell_type": "code",
      "execution_count": 1,
      "metadata": {
        "id": "ml5n5J-HycbW"
      },
      "outputs": [],
      "source": [
        "from warnings import filterwarnings\n",
        "filterwarnings('ignore')"
      ]
    },
    {
      "cell_type": "code",
      "execution_count": 3,
      "metadata": {
        "colab": {
          "base_uri": "https://localhost:8080/",
          "height": 255
        },
        "id": "ZKw8QhUo1AOS",
        "outputId": "0c3020b8-bbce-45af-a2eb-877921e02983"
      },
      "outputs": [
        {
          "data": {
            "text/html": [
              "<div>\n",
              "<style scoped>\n",
              "    .dataframe tbody tr th:only-of-type {\n",
              "        vertical-align: middle;\n",
              "    }\n",
              "\n",
              "    .dataframe tbody tr th {\n",
              "        vertical-align: top;\n",
              "    }\n",
              "\n",
              "    .dataframe thead th {\n",
              "        text-align: right;\n",
              "    }\n",
              "</style>\n",
              "<table border=\"1\" class=\"dataframe\">\n",
              "  <thead>\n",
              "    <tr style=\"text-align: right;\">\n",
              "      <th></th>\n",
              "      <th>battery_power</th>\n",
              "      <th>blue</th>\n",
              "      <th>clock_speed</th>\n",
              "      <th>dual_sim</th>\n",
              "      <th>fc</th>\n",
              "      <th>four_g</th>\n",
              "      <th>int_memory</th>\n",
              "      <th>m_dep</th>\n",
              "      <th>mobile_wt</th>\n",
              "      <th>n_cores</th>\n",
              "      <th>...</th>\n",
              "      <th>px_height</th>\n",
              "      <th>px_width</th>\n",
              "      <th>ram</th>\n",
              "      <th>sc_h</th>\n",
              "      <th>sc_w</th>\n",
              "      <th>talk_time</th>\n",
              "      <th>three_g</th>\n",
              "      <th>touch_screen</th>\n",
              "      <th>wifi</th>\n",
              "      <th>price_range</th>\n",
              "    </tr>\n",
              "  </thead>\n",
              "  <tbody>\n",
              "    <tr>\n",
              "      <th>0</th>\n",
              "      <td>842</td>\n",
              "      <td>0</td>\n",
              "      <td>2.2</td>\n",
              "      <td>0</td>\n",
              "      <td>1</td>\n",
              "      <td>0</td>\n",
              "      <td>7</td>\n",
              "      <td>0.6</td>\n",
              "      <td>188</td>\n",
              "      <td>2</td>\n",
              "      <td>...</td>\n",
              "      <td>20</td>\n",
              "      <td>756</td>\n",
              "      <td>2549</td>\n",
              "      <td>9</td>\n",
              "      <td>7</td>\n",
              "      <td>19</td>\n",
              "      <td>0</td>\n",
              "      <td>0</td>\n",
              "      <td>1</td>\n",
              "      <td>1</td>\n",
              "    </tr>\n",
              "    <tr>\n",
              "      <th>1</th>\n",
              "      <td>1021</td>\n",
              "      <td>1</td>\n",
              "      <td>0.5</td>\n",
              "      <td>1</td>\n",
              "      <td>0</td>\n",
              "      <td>1</td>\n",
              "      <td>53</td>\n",
              "      <td>0.7</td>\n",
              "      <td>136</td>\n",
              "      <td>3</td>\n",
              "      <td>...</td>\n",
              "      <td>905</td>\n",
              "      <td>1988</td>\n",
              "      <td>2631</td>\n",
              "      <td>17</td>\n",
              "      <td>3</td>\n",
              "      <td>7</td>\n",
              "      <td>1</td>\n",
              "      <td>1</td>\n",
              "      <td>0</td>\n",
              "      <td>2</td>\n",
              "    </tr>\n",
              "    <tr>\n",
              "      <th>2</th>\n",
              "      <td>563</td>\n",
              "      <td>1</td>\n",
              "      <td>0.5</td>\n",
              "      <td>1</td>\n",
              "      <td>2</td>\n",
              "      <td>1</td>\n",
              "      <td>41</td>\n",
              "      <td>0.9</td>\n",
              "      <td>145</td>\n",
              "      <td>5</td>\n",
              "      <td>...</td>\n",
              "      <td>1263</td>\n",
              "      <td>1716</td>\n",
              "      <td>2603</td>\n",
              "      <td>11</td>\n",
              "      <td>2</td>\n",
              "      <td>9</td>\n",
              "      <td>1</td>\n",
              "      <td>1</td>\n",
              "      <td>0</td>\n",
              "      <td>2</td>\n",
              "    </tr>\n",
              "    <tr>\n",
              "      <th>3</th>\n",
              "      <td>615</td>\n",
              "      <td>1</td>\n",
              "      <td>2.5</td>\n",
              "      <td>0</td>\n",
              "      <td>0</td>\n",
              "      <td>0</td>\n",
              "      <td>10</td>\n",
              "      <td>0.8</td>\n",
              "      <td>131</td>\n",
              "      <td>6</td>\n",
              "      <td>...</td>\n",
              "      <td>1216</td>\n",
              "      <td>1786</td>\n",
              "      <td>2769</td>\n",
              "      <td>16</td>\n",
              "      <td>8</td>\n",
              "      <td>11</td>\n",
              "      <td>1</td>\n",
              "      <td>0</td>\n",
              "      <td>0</td>\n",
              "      <td>2</td>\n",
              "    </tr>\n",
              "    <tr>\n",
              "      <th>4</th>\n",
              "      <td>1821</td>\n",
              "      <td>1</td>\n",
              "      <td>1.2</td>\n",
              "      <td>0</td>\n",
              "      <td>13</td>\n",
              "      <td>1</td>\n",
              "      <td>44</td>\n",
              "      <td>0.6</td>\n",
              "      <td>141</td>\n",
              "      <td>2</td>\n",
              "      <td>...</td>\n",
              "      <td>1208</td>\n",
              "      <td>1212</td>\n",
              "      <td>1411</td>\n",
              "      <td>8</td>\n",
              "      <td>2</td>\n",
              "      <td>15</td>\n",
              "      <td>1</td>\n",
              "      <td>1</td>\n",
              "      <td>0</td>\n",
              "      <td>1</td>\n",
              "    </tr>\n",
              "  </tbody>\n",
              "</table>\n",
              "<p>5 rows × 21 columns</p>\n",
              "</div>"
            ],
            "text/plain": [
              "   battery_power  blue  clock_speed  dual_sim  fc  four_g  int_memory  m_dep  \\\n",
              "0            842     0          2.2         0   1       0           7    0.6   \n",
              "1           1021     1          0.5         1   0       1          53    0.7   \n",
              "2            563     1          0.5         1   2       1          41    0.9   \n",
              "3            615     1          2.5         0   0       0          10    0.8   \n",
              "4           1821     1          1.2         0  13       1          44    0.6   \n",
              "\n",
              "   mobile_wt  n_cores  ...  px_height  px_width   ram  sc_h  sc_w  talk_time  \\\n",
              "0        188        2  ...         20       756  2549     9     7         19   \n",
              "1        136        3  ...        905      1988  2631    17     3          7   \n",
              "2        145        5  ...       1263      1716  2603    11     2          9   \n",
              "3        131        6  ...       1216      1786  2769    16     8         11   \n",
              "4        141        2  ...       1208      1212  1411     8     2         15   \n",
              "\n",
              "   three_g  touch_screen  wifi  price_range  \n",
              "0        0             0     1            1  \n",
              "1        1             1     0            2  \n",
              "2        1             1     0            2  \n",
              "3        1             0     0            2  \n",
              "4        1             1     0            1  \n",
              "\n",
              "[5 rows x 21 columns]"
            ]
          },
          "execution_count": 3,
          "metadata": {},
          "output_type": "execute_result"
        }
      ],
      "source": [
        "import pandas as pd\n",
        "df = pd.read_csv('E:/DL_6to8/repository/Multiclass_Classification/train_mobile.csv')\n",
        "df.head()"
      ]
    },
    {
      "cell_type": "markdown",
      "metadata": {
        "id": "6wAZFZUS18zV"
      },
      "source": [
        "**Basic Data Quality checks**"
      ]
    },
    {
      "cell_type": "code",
      "execution_count": 4,
      "metadata": {
        "colab": {
          "base_uri": "https://localhost:8080/"
        },
        "id": "o6tu-7mi1Njm",
        "outputId": "0b744bb8-6bee-4a87-ba89-a18e93dd04e4"
      },
      "outputs": [
        {
          "name": "stdout",
          "output_type": "stream",
          "text": [
            "<class 'pandas.core.frame.DataFrame'>\n",
            "RangeIndex: 2000 entries, 0 to 1999\n",
            "Data columns (total 21 columns):\n",
            " #   Column         Non-Null Count  Dtype  \n",
            "---  ------         --------------  -----  \n",
            " 0   battery_power  2000 non-null   int64  \n",
            " 1   blue           2000 non-null   int64  \n",
            " 2   clock_speed    2000 non-null   float64\n",
            " 3   dual_sim       2000 non-null   int64  \n",
            " 4   fc             2000 non-null   int64  \n",
            " 5   four_g         2000 non-null   int64  \n",
            " 6   int_memory     2000 non-null   int64  \n",
            " 7   m_dep          2000 non-null   float64\n",
            " 8   mobile_wt      2000 non-null   int64  \n",
            " 9   n_cores        2000 non-null   int64  \n",
            " 10  pc             2000 non-null   int64  \n",
            " 11  px_height      2000 non-null   int64  \n",
            " 12  px_width       2000 non-null   int64  \n",
            " 13  ram            2000 non-null   int64  \n",
            " 14  sc_h           2000 non-null   int64  \n",
            " 15  sc_w           2000 non-null   int64  \n",
            " 16  talk_time      2000 non-null   int64  \n",
            " 17  three_g        2000 non-null   int64  \n",
            " 18  touch_screen   2000 non-null   int64  \n",
            " 19  wifi           2000 non-null   int64  \n",
            " 20  price_range    2000 non-null   int64  \n",
            "dtypes: float64(2), int64(19)\n",
            "memory usage: 328.3 KB\n"
          ]
        }
      ],
      "source": [
        "df.info()"
      ]
    },
    {
      "cell_type": "code",
      "execution_count": 5,
      "metadata": {
        "colab": {
          "base_uri": "https://localhost:8080/"
        },
        "id": "BBaMCag21xU8",
        "outputId": "f5bc7ff8-e71f-4592-c567-389319cb3a6f"
      },
      "outputs": [
        {
          "data": {
            "text/plain": [
              "battery_power    0\n",
              "blue             0\n",
              "clock_speed      0\n",
              "dual_sim         0\n",
              "fc               0\n",
              "four_g           0\n",
              "int_memory       0\n",
              "m_dep            0\n",
              "mobile_wt        0\n",
              "n_cores          0\n",
              "pc               0\n",
              "px_height        0\n",
              "px_width         0\n",
              "ram              0\n",
              "sc_h             0\n",
              "sc_w             0\n",
              "talk_time        0\n",
              "three_g          0\n",
              "touch_screen     0\n",
              "wifi             0\n",
              "price_range      0\n",
              "dtype: int64"
            ]
          },
          "execution_count": 5,
          "metadata": {},
          "output_type": "execute_result"
        }
      ],
      "source": [
        "df.isna().sum()"
      ]
    },
    {
      "cell_type": "code",
      "execution_count": 6,
      "metadata": {
        "colab": {
          "base_uri": "https://localhost:8080/"
        },
        "id": "X4NCJrLy12VW",
        "outputId": "886b204b-77c2-41a8-f608-702effa65f0a"
      },
      "outputs": [
        {
          "data": {
            "text/plain": [
              "0"
            ]
          },
          "execution_count": 6,
          "metadata": {},
          "output_type": "execute_result"
        }
      ],
      "source": [
        "df.duplicated().sum()"
      ]
    },
    {
      "cell_type": "markdown",
      "metadata": {
        "id": "gzLBR0GH197-"
      },
      "source": [
        "**Seperate X and Y (price_range)**"
      ]
    },
    {
      "cell_type": "code",
      "execution_count": 7,
      "metadata": {
        "id": "PsLG3Wtj16Zz"
      },
      "outputs": [],
      "source": [
        "X = df.drop(columns=['price_range'])\n",
        "Y = df[['price_range']]"
      ]
    },
    {
      "cell_type": "code",
      "execution_count": 8,
      "metadata": {
        "colab": {
          "base_uri": "https://localhost:8080/",
          "height": 226
        },
        "id": "qrgA9P3UDx8S",
        "outputId": "b16f1b0d-cafa-4e9f-a60c-95afa209cbce"
      },
      "outputs": [
        {
          "data": {
            "text/html": [
              "<div>\n",
              "<style scoped>\n",
              "    .dataframe tbody tr th:only-of-type {\n",
              "        vertical-align: middle;\n",
              "    }\n",
              "\n",
              "    .dataframe tbody tr th {\n",
              "        vertical-align: top;\n",
              "    }\n",
              "\n",
              "    .dataframe thead th {\n",
              "        text-align: right;\n",
              "    }\n",
              "</style>\n",
              "<table border=\"1\" class=\"dataframe\">\n",
              "  <thead>\n",
              "    <tr style=\"text-align: right;\">\n",
              "      <th></th>\n",
              "      <th>battery_power</th>\n",
              "      <th>blue</th>\n",
              "      <th>clock_speed</th>\n",
              "      <th>dual_sim</th>\n",
              "      <th>fc</th>\n",
              "      <th>four_g</th>\n",
              "      <th>int_memory</th>\n",
              "      <th>m_dep</th>\n",
              "      <th>mobile_wt</th>\n",
              "      <th>n_cores</th>\n",
              "      <th>pc</th>\n",
              "      <th>px_height</th>\n",
              "      <th>px_width</th>\n",
              "      <th>ram</th>\n",
              "      <th>sc_h</th>\n",
              "      <th>sc_w</th>\n",
              "      <th>talk_time</th>\n",
              "      <th>three_g</th>\n",
              "      <th>touch_screen</th>\n",
              "      <th>wifi</th>\n",
              "    </tr>\n",
              "  </thead>\n",
              "  <tbody>\n",
              "    <tr>\n",
              "      <th>0</th>\n",
              "      <td>842</td>\n",
              "      <td>0</td>\n",
              "      <td>2.2</td>\n",
              "      <td>0</td>\n",
              "      <td>1</td>\n",
              "      <td>0</td>\n",
              "      <td>7</td>\n",
              "      <td>0.6</td>\n",
              "      <td>188</td>\n",
              "      <td>2</td>\n",
              "      <td>2</td>\n",
              "      <td>20</td>\n",
              "      <td>756</td>\n",
              "      <td>2549</td>\n",
              "      <td>9</td>\n",
              "      <td>7</td>\n",
              "      <td>19</td>\n",
              "      <td>0</td>\n",
              "      <td>0</td>\n",
              "      <td>1</td>\n",
              "    </tr>\n",
              "    <tr>\n",
              "      <th>1</th>\n",
              "      <td>1021</td>\n",
              "      <td>1</td>\n",
              "      <td>0.5</td>\n",
              "      <td>1</td>\n",
              "      <td>0</td>\n",
              "      <td>1</td>\n",
              "      <td>53</td>\n",
              "      <td>0.7</td>\n",
              "      <td>136</td>\n",
              "      <td>3</td>\n",
              "      <td>6</td>\n",
              "      <td>905</td>\n",
              "      <td>1988</td>\n",
              "      <td>2631</td>\n",
              "      <td>17</td>\n",
              "      <td>3</td>\n",
              "      <td>7</td>\n",
              "      <td>1</td>\n",
              "      <td>1</td>\n",
              "      <td>0</td>\n",
              "    </tr>\n",
              "    <tr>\n",
              "      <th>2</th>\n",
              "      <td>563</td>\n",
              "      <td>1</td>\n",
              "      <td>0.5</td>\n",
              "      <td>1</td>\n",
              "      <td>2</td>\n",
              "      <td>1</td>\n",
              "      <td>41</td>\n",
              "      <td>0.9</td>\n",
              "      <td>145</td>\n",
              "      <td>5</td>\n",
              "      <td>6</td>\n",
              "      <td>1263</td>\n",
              "      <td>1716</td>\n",
              "      <td>2603</td>\n",
              "      <td>11</td>\n",
              "      <td>2</td>\n",
              "      <td>9</td>\n",
              "      <td>1</td>\n",
              "      <td>1</td>\n",
              "      <td>0</td>\n",
              "    </tr>\n",
              "    <tr>\n",
              "      <th>3</th>\n",
              "      <td>615</td>\n",
              "      <td>1</td>\n",
              "      <td>2.5</td>\n",
              "      <td>0</td>\n",
              "      <td>0</td>\n",
              "      <td>0</td>\n",
              "      <td>10</td>\n",
              "      <td>0.8</td>\n",
              "      <td>131</td>\n",
              "      <td>6</td>\n",
              "      <td>9</td>\n",
              "      <td>1216</td>\n",
              "      <td>1786</td>\n",
              "      <td>2769</td>\n",
              "      <td>16</td>\n",
              "      <td>8</td>\n",
              "      <td>11</td>\n",
              "      <td>1</td>\n",
              "      <td>0</td>\n",
              "      <td>0</td>\n",
              "    </tr>\n",
              "    <tr>\n",
              "      <th>4</th>\n",
              "      <td>1821</td>\n",
              "      <td>1</td>\n",
              "      <td>1.2</td>\n",
              "      <td>0</td>\n",
              "      <td>13</td>\n",
              "      <td>1</td>\n",
              "      <td>44</td>\n",
              "      <td>0.6</td>\n",
              "      <td>141</td>\n",
              "      <td>2</td>\n",
              "      <td>14</td>\n",
              "      <td>1208</td>\n",
              "      <td>1212</td>\n",
              "      <td>1411</td>\n",
              "      <td>8</td>\n",
              "      <td>2</td>\n",
              "      <td>15</td>\n",
              "      <td>1</td>\n",
              "      <td>1</td>\n",
              "      <td>0</td>\n",
              "    </tr>\n",
              "  </tbody>\n",
              "</table>\n",
              "</div>"
            ],
            "text/plain": [
              "   battery_power  blue  clock_speed  dual_sim  fc  four_g  int_memory  m_dep  \\\n",
              "0            842     0          2.2         0   1       0           7    0.6   \n",
              "1           1021     1          0.5         1   0       1          53    0.7   \n",
              "2            563     1          0.5         1   2       1          41    0.9   \n",
              "3            615     1          2.5         0   0       0          10    0.8   \n",
              "4           1821     1          1.2         0  13       1          44    0.6   \n",
              "\n",
              "   mobile_wt  n_cores  pc  px_height  px_width   ram  sc_h  sc_w  talk_time  \\\n",
              "0        188        2   2         20       756  2549     9     7         19   \n",
              "1        136        3   6        905      1988  2631    17     3          7   \n",
              "2        145        5   6       1263      1716  2603    11     2          9   \n",
              "3        131        6   9       1216      1786  2769    16     8         11   \n",
              "4        141        2  14       1208      1212  1411     8     2         15   \n",
              "\n",
              "   three_g  touch_screen  wifi  \n",
              "0        0             0     1  \n",
              "1        1             1     0  \n",
              "2        1             1     0  \n",
              "3        1             0     0  \n",
              "4        1             1     0  "
            ]
          },
          "execution_count": 8,
          "metadata": {},
          "output_type": "execute_result"
        }
      ],
      "source": [
        "X.head()"
      ]
    },
    {
      "cell_type": "code",
      "execution_count": 9,
      "metadata": {
        "colab": {
          "base_uri": "https://localhost:8080/",
          "height": 206
        },
        "id": "EDxFImHPD284",
        "outputId": "f78ab55e-120f-4eca-d6c3-953b45d2f378"
      },
      "outputs": [
        {
          "data": {
            "text/html": [
              "<div>\n",
              "<style scoped>\n",
              "    .dataframe tbody tr th:only-of-type {\n",
              "        vertical-align: middle;\n",
              "    }\n",
              "\n",
              "    .dataframe tbody tr th {\n",
              "        vertical-align: top;\n",
              "    }\n",
              "\n",
              "    .dataframe thead th {\n",
              "        text-align: right;\n",
              "    }\n",
              "</style>\n",
              "<table border=\"1\" class=\"dataframe\">\n",
              "  <thead>\n",
              "    <tr style=\"text-align: right;\">\n",
              "      <th></th>\n",
              "      <th>price_range</th>\n",
              "    </tr>\n",
              "  </thead>\n",
              "  <tbody>\n",
              "    <tr>\n",
              "      <th>0</th>\n",
              "      <td>1</td>\n",
              "    </tr>\n",
              "    <tr>\n",
              "      <th>1</th>\n",
              "      <td>2</td>\n",
              "    </tr>\n",
              "    <tr>\n",
              "      <th>2</th>\n",
              "      <td>2</td>\n",
              "    </tr>\n",
              "    <tr>\n",
              "      <th>3</th>\n",
              "      <td>2</td>\n",
              "    </tr>\n",
              "    <tr>\n",
              "      <th>4</th>\n",
              "      <td>1</td>\n",
              "    </tr>\n",
              "  </tbody>\n",
              "</table>\n",
              "</div>"
            ],
            "text/plain": [
              "   price_range\n",
              "0            1\n",
              "1            2\n",
              "2            2\n",
              "3            2\n",
              "4            1"
            ]
          },
          "execution_count": 9,
          "metadata": {},
          "output_type": "execute_result"
        }
      ],
      "source": [
        "Y.head()"
      ]
    },
    {
      "cell_type": "markdown",
      "metadata": {
        "id": "e0Nb_3z82WkL"
      },
      "source": [
        "**Price range**\n",
        "0. Low cost\n",
        "1. Medium cost\n",
        "2. High cost\n",
        "3. Very High cost"
      ]
    },
    {
      "cell_type": "code",
      "execution_count": 10,
      "metadata": {
        "colab": {
          "base_uri": "https://localhost:8080/"
        },
        "id": "1xYTMh9j2lTp",
        "outputId": "50fafa9d-6fa0-4727-bec5-862a21265576"
      },
      "outputs": [
        {
          "data": {
            "text/plain": [
              "price_range\n",
              "0              500\n",
              "1              500\n",
              "2              500\n",
              "3              500\n",
              "Name: count, dtype: int64"
            ]
          },
          "execution_count": 10,
          "metadata": {},
          "output_type": "execute_result"
        }
      ],
      "source": [
        "Y.value_counts()"
      ]
    },
    {
      "cell_type": "markdown",
      "metadata": {
        "id": "ZPmohSpt2mUP"
      },
      "source": [
        "**Preprocess the data on X**"
      ]
    },
    {
      "cell_type": "code",
      "execution_count": 11,
      "metadata": {
        "id": "4OsYg6bZ2uSi"
      },
      "outputs": [],
      "source": [
        "from sklearn.pipeline import Pipeline\n",
        "from sklearn.impute import SimpleImputer\n",
        "from sklearn.preprocessing import StandardScaler"
      ]
    },
    {
      "cell_type": "code",
      "execution_count": 12,
      "metadata": {
        "id": "PldrldaP3TTd"
      },
      "outputs": [],
      "source": [
        "num_pipe = Pipeline(steps=[('impute', SimpleImputer(strategy='median')),\n",
        "                           ('scaler', StandardScaler())]).set_output(transform='pandas')"
      ]
    },
    {
      "cell_type": "code",
      "execution_count": 13,
      "metadata": {
        "colab": {
          "base_uri": "https://localhost:8080/",
          "height": 226
        },
        "id": "iPHtauPf3lf1",
        "outputId": "925072d8-c547-426c-be97-b750d469adb9"
      },
      "outputs": [
        {
          "data": {
            "text/html": [
              "<div>\n",
              "<style scoped>\n",
              "    .dataframe tbody tr th:only-of-type {\n",
              "        vertical-align: middle;\n",
              "    }\n",
              "\n",
              "    .dataframe tbody tr th {\n",
              "        vertical-align: top;\n",
              "    }\n",
              "\n",
              "    .dataframe thead th {\n",
              "        text-align: right;\n",
              "    }\n",
              "</style>\n",
              "<table border=\"1\" class=\"dataframe\">\n",
              "  <thead>\n",
              "    <tr style=\"text-align: right;\">\n",
              "      <th></th>\n",
              "      <th>battery_power</th>\n",
              "      <th>blue</th>\n",
              "      <th>clock_speed</th>\n",
              "      <th>dual_sim</th>\n",
              "      <th>fc</th>\n",
              "      <th>four_g</th>\n",
              "      <th>int_memory</th>\n",
              "      <th>m_dep</th>\n",
              "      <th>mobile_wt</th>\n",
              "      <th>n_cores</th>\n",
              "      <th>pc</th>\n",
              "      <th>px_height</th>\n",
              "      <th>px_width</th>\n",
              "      <th>ram</th>\n",
              "      <th>sc_h</th>\n",
              "      <th>sc_w</th>\n",
              "      <th>talk_time</th>\n",
              "      <th>three_g</th>\n",
              "      <th>touch_screen</th>\n",
              "      <th>wifi</th>\n",
              "    </tr>\n",
              "  </thead>\n",
              "  <tbody>\n",
              "    <tr>\n",
              "      <th>0</th>\n",
              "      <td>-0.902597</td>\n",
              "      <td>-0.990050</td>\n",
              "      <td>0.830779</td>\n",
              "      <td>-1.019184</td>\n",
              "      <td>-0.762495</td>\n",
              "      <td>-1.043966</td>\n",
              "      <td>-1.380644</td>\n",
              "      <td>0.340740</td>\n",
              "      <td>1.349249</td>\n",
              "      <td>-1.101971</td>\n",
              "      <td>-1.305750</td>\n",
              "      <td>-1.408949</td>\n",
              "      <td>-1.146784</td>\n",
              "      <td>0.391703</td>\n",
              "      <td>-0.784983</td>\n",
              "      <td>0.283103</td>\n",
              "      <td>1.462493</td>\n",
              "      <td>-1.786861</td>\n",
              "      <td>-1.006018</td>\n",
              "      <td>0.986097</td>\n",
              "    </tr>\n",
              "    <tr>\n",
              "      <th>1</th>\n",
              "      <td>-0.495139</td>\n",
              "      <td>1.010051</td>\n",
              "      <td>-1.253064</td>\n",
              "      <td>0.981177</td>\n",
              "      <td>-0.992890</td>\n",
              "      <td>0.957886</td>\n",
              "      <td>1.155024</td>\n",
              "      <td>0.687548</td>\n",
              "      <td>-0.120059</td>\n",
              "      <td>-0.664768</td>\n",
              "      <td>-0.645989</td>\n",
              "      <td>0.585778</td>\n",
              "      <td>1.704465</td>\n",
              "      <td>0.467317</td>\n",
              "      <td>1.114266</td>\n",
              "      <td>-0.635317</td>\n",
              "      <td>-0.734267</td>\n",
              "      <td>0.559641</td>\n",
              "      <td>0.994018</td>\n",
              "      <td>-1.014099</td>\n",
              "    </tr>\n",
              "    <tr>\n",
              "      <th>2</th>\n",
              "      <td>-1.537686</td>\n",
              "      <td>1.010051</td>\n",
              "      <td>-1.253064</td>\n",
              "      <td>0.981177</td>\n",
              "      <td>-0.532099</td>\n",
              "      <td>0.957886</td>\n",
              "      <td>0.493546</td>\n",
              "      <td>1.381165</td>\n",
              "      <td>0.134244</td>\n",
              "      <td>0.209639</td>\n",
              "      <td>-0.645989</td>\n",
              "      <td>1.392684</td>\n",
              "      <td>1.074968</td>\n",
              "      <td>0.441498</td>\n",
              "      <td>-0.310171</td>\n",
              "      <td>-0.864922</td>\n",
              "      <td>-0.368140</td>\n",
              "      <td>0.559641</td>\n",
              "      <td>0.994018</td>\n",
              "      <td>-1.014099</td>\n",
              "    </tr>\n",
              "    <tr>\n",
              "      <th>3</th>\n",
              "      <td>-1.419319</td>\n",
              "      <td>1.010051</td>\n",
              "      <td>1.198517</td>\n",
              "      <td>-1.019184</td>\n",
              "      <td>-0.992890</td>\n",
              "      <td>-1.043966</td>\n",
              "      <td>-1.215274</td>\n",
              "      <td>1.034357</td>\n",
              "      <td>-0.261339</td>\n",
              "      <td>0.646842</td>\n",
              "      <td>-0.151168</td>\n",
              "      <td>1.286750</td>\n",
              "      <td>1.236971</td>\n",
              "      <td>0.594569</td>\n",
              "      <td>0.876859</td>\n",
              "      <td>0.512708</td>\n",
              "      <td>-0.002014</td>\n",
              "      <td>0.559641</td>\n",
              "      <td>-1.006018</td>\n",
              "      <td>-1.014099</td>\n",
              "    </tr>\n",
              "    <tr>\n",
              "      <th>4</th>\n",
              "      <td>1.325906</td>\n",
              "      <td>1.010051</td>\n",
              "      <td>-0.395011</td>\n",
              "      <td>-1.019184</td>\n",
              "      <td>2.002254</td>\n",
              "      <td>0.957886</td>\n",
              "      <td>0.658915</td>\n",
              "      <td>0.340740</td>\n",
              "      <td>0.021220</td>\n",
              "      <td>-1.101971</td>\n",
              "      <td>0.673534</td>\n",
              "      <td>1.268718</td>\n",
              "      <td>-0.091452</td>\n",
              "      <td>-0.657666</td>\n",
              "      <td>-1.022389</td>\n",
              "      <td>-0.864922</td>\n",
              "      <td>0.730240</td>\n",
              "      <td>0.559641</td>\n",
              "      <td>0.994018</td>\n",
              "      <td>-1.014099</td>\n",
              "    </tr>\n",
              "  </tbody>\n",
              "</table>\n",
              "</div>"
            ],
            "text/plain": [
              "   battery_power      blue  clock_speed  dual_sim        fc    four_g  \\\n",
              "0      -0.902597 -0.990050     0.830779 -1.019184 -0.762495 -1.043966   \n",
              "1      -0.495139  1.010051    -1.253064  0.981177 -0.992890  0.957886   \n",
              "2      -1.537686  1.010051    -1.253064  0.981177 -0.532099  0.957886   \n",
              "3      -1.419319  1.010051     1.198517 -1.019184 -0.992890 -1.043966   \n",
              "4       1.325906  1.010051    -0.395011 -1.019184  2.002254  0.957886   \n",
              "\n",
              "   int_memory     m_dep  mobile_wt   n_cores        pc  px_height  px_width  \\\n",
              "0   -1.380644  0.340740   1.349249 -1.101971 -1.305750  -1.408949 -1.146784   \n",
              "1    1.155024  0.687548  -0.120059 -0.664768 -0.645989   0.585778  1.704465   \n",
              "2    0.493546  1.381165   0.134244  0.209639 -0.645989   1.392684  1.074968   \n",
              "3   -1.215274  1.034357  -0.261339  0.646842 -0.151168   1.286750  1.236971   \n",
              "4    0.658915  0.340740   0.021220 -1.101971  0.673534   1.268718 -0.091452   \n",
              "\n",
              "        ram      sc_h      sc_w  talk_time   three_g  touch_screen      wifi  \n",
              "0  0.391703 -0.784983  0.283103   1.462493 -1.786861     -1.006018  0.986097  \n",
              "1  0.467317  1.114266 -0.635317  -0.734267  0.559641      0.994018 -1.014099  \n",
              "2  0.441498 -0.310171 -0.864922  -0.368140  0.559641      0.994018 -1.014099  \n",
              "3  0.594569  0.876859  0.512708  -0.002014  0.559641     -1.006018 -1.014099  \n",
              "4 -0.657666 -1.022389 -0.864922   0.730240  0.559641      0.994018 -1.014099  "
            ]
          },
          "execution_count": 13,
          "metadata": {},
          "output_type": "execute_result"
        }
      ],
      "source": [
        "X_pre = num_pipe.fit_transform(X)\n",
        "X_pre.head()"
      ]
    },
    {
      "cell_type": "markdown",
      "metadata": {
        "id": "Wt0c0upH3mbO"
      },
      "source": [
        "**Apply train test split**"
      ]
    },
    {
      "cell_type": "code",
      "execution_count": 14,
      "metadata": {
        "id": "te90unUm3uJ7"
      },
      "outputs": [],
      "source": [
        "from sklearn.model_selection import train_test_split\n",
        "xtrain, xtest, ytrain, ytest = train_test_split(X_pre, Y, test_size=0.2, random_state=42)"
      ]
    },
    {
      "cell_type": "code",
      "execution_count": 15,
      "metadata": {
        "colab": {
          "base_uri": "https://localhost:8080/",
          "height": 226
        },
        "id": "eDUf3_0s32SV",
        "outputId": "82522eaf-5077-406c-f30f-f75a3d6e0be2"
      },
      "outputs": [
        {
          "data": {
            "text/html": [
              "<div>\n",
              "<style scoped>\n",
              "    .dataframe tbody tr th:only-of-type {\n",
              "        vertical-align: middle;\n",
              "    }\n",
              "\n",
              "    .dataframe tbody tr th {\n",
              "        vertical-align: top;\n",
              "    }\n",
              "\n",
              "    .dataframe thead th {\n",
              "        text-align: right;\n",
              "    }\n",
              "</style>\n",
              "<table border=\"1\" class=\"dataframe\">\n",
              "  <thead>\n",
              "    <tr style=\"text-align: right;\">\n",
              "      <th></th>\n",
              "      <th>battery_power</th>\n",
              "      <th>blue</th>\n",
              "      <th>clock_speed</th>\n",
              "      <th>dual_sim</th>\n",
              "      <th>fc</th>\n",
              "      <th>four_g</th>\n",
              "      <th>int_memory</th>\n",
              "      <th>m_dep</th>\n",
              "      <th>mobile_wt</th>\n",
              "      <th>n_cores</th>\n",
              "      <th>pc</th>\n",
              "      <th>px_height</th>\n",
              "      <th>px_width</th>\n",
              "      <th>ram</th>\n",
              "      <th>sc_h</th>\n",
              "      <th>sc_w</th>\n",
              "      <th>talk_time</th>\n",
              "      <th>three_g</th>\n",
              "      <th>touch_screen</th>\n",
              "      <th>wifi</th>\n",
              "    </tr>\n",
              "  </thead>\n",
              "  <tbody>\n",
              "    <tr>\n",
              "      <th>968</th>\n",
              "      <td>1.558089</td>\n",
              "      <td>-0.990050</td>\n",
              "      <td>-1.253064</td>\n",
              "      <td>0.981177</td>\n",
              "      <td>0.619880</td>\n",
              "      <td>-1.043966</td>\n",
              "      <td>0.769162</td>\n",
              "      <td>-0.006069</td>\n",
              "      <td>1.434017</td>\n",
              "      <td>-1.539175</td>\n",
              "      <td>0.013773</td>\n",
              "      <td>0.274736</td>\n",
              "      <td>1.174484</td>\n",
              "      <td>-0.585741</td>\n",
              "      <td>-0.547577</td>\n",
              "      <td>0.742313</td>\n",
              "      <td>-1.466521</td>\n",
              "      <td>0.559641</td>\n",
              "      <td>0.994018</td>\n",
              "      <td>0.986097</td>\n",
              "    </tr>\n",
              "    <tr>\n",
              "      <th>240</th>\n",
              "      <td>-1.378345</td>\n",
              "      <td>1.010051</td>\n",
              "      <td>0.830779</td>\n",
              "      <td>-1.019184</td>\n",
              "      <td>-0.992890</td>\n",
              "      <td>0.957886</td>\n",
              "      <td>0.934531</td>\n",
              "      <td>-1.393304</td>\n",
              "      <td>-0.035292</td>\n",
              "      <td>1.521249</td>\n",
              "      <td>-1.470690</td>\n",
              "      <td>-0.261699</td>\n",
              "      <td>-0.561260</td>\n",
              "      <td>1.323964</td>\n",
              "      <td>-0.310171</td>\n",
              "      <td>-1.094526</td>\n",
              "      <td>0.913303</td>\n",
              "      <td>0.559641</td>\n",
              "      <td>0.994018</td>\n",
              "      <td>0.986097</td>\n",
              "    </tr>\n",
              "    <tr>\n",
              "      <th>819</th>\n",
              "      <td>-0.005733</td>\n",
              "      <td>-0.990050</td>\n",
              "      <td>-0.762748</td>\n",
              "      <td>0.981177</td>\n",
              "      <td>-0.532099</td>\n",
              "      <td>0.957886</td>\n",
              "      <td>1.375517</td>\n",
              "      <td>-1.393304</td>\n",
              "      <td>1.349249</td>\n",
              "      <td>-1.539175</td>\n",
              "      <td>0.673534</td>\n",
              "      <td>-0.288746</td>\n",
              "      <td>-1.024125</td>\n",
              "      <td>-0.662277</td>\n",
              "      <td>0.402047</td>\n",
              "      <td>1.431127</td>\n",
              "      <td>1.645557</td>\n",
              "      <td>0.559641</td>\n",
              "      <td>-1.006018</td>\n",
              "      <td>0.986097</td>\n",
              "    </tr>\n",
              "    <tr>\n",
              "      <th>692</th>\n",
              "      <td>-1.041452</td>\n",
              "      <td>-0.990050</td>\n",
              "      <td>-0.517590</td>\n",
              "      <td>-1.019184</td>\n",
              "      <td>-0.532099</td>\n",
              "      <td>-1.043966</td>\n",
              "      <td>0.328176</td>\n",
              "      <td>-0.352878</td>\n",
              "      <td>1.631808</td>\n",
              "      <td>0.209639</td>\n",
              "      <td>-0.481048</td>\n",
              "      <td>-0.768833</td>\n",
              "      <td>0.977767</td>\n",
              "      <td>1.276014</td>\n",
              "      <td>0.164641</td>\n",
              "      <td>0.512708</td>\n",
              "      <td>-1.100394</td>\n",
              "      <td>-1.786861</td>\n",
              "      <td>-1.006018</td>\n",
              "      <td>0.986097</td>\n",
              "    </tr>\n",
              "    <tr>\n",
              "      <th>420</th>\n",
              "      <td>0.495054</td>\n",
              "      <td>1.010051</td>\n",
              "      <td>-1.253064</td>\n",
              "      <td>0.981177</td>\n",
              "      <td>0.619880</td>\n",
              "      <td>-1.043966</td>\n",
              "      <td>-1.380644</td>\n",
              "      <td>-0.352878</td>\n",
              "      <td>-0.995993</td>\n",
              "      <td>0.209639</td>\n",
              "      <td>0.343653</td>\n",
              "      <td>0.400956</td>\n",
              "      <td>-0.341399</td>\n",
              "      <td>-0.495373</td>\n",
              "      <td>-1.497202</td>\n",
              "      <td>-0.176107</td>\n",
              "      <td>1.645557</td>\n",
              "      <td>0.559641</td>\n",
              "      <td>-1.006018</td>\n",
              "      <td>0.986097</td>\n",
              "    </tr>\n",
              "  </tbody>\n",
              "</table>\n",
              "</div>"
            ],
            "text/plain": [
              "     battery_power      blue  clock_speed  dual_sim        fc    four_g  \\\n",
              "968       1.558089 -0.990050    -1.253064  0.981177  0.619880 -1.043966   \n",
              "240      -1.378345  1.010051     0.830779 -1.019184 -0.992890  0.957886   \n",
              "819      -0.005733 -0.990050    -0.762748  0.981177 -0.532099  0.957886   \n",
              "692      -1.041452 -0.990050    -0.517590 -1.019184 -0.532099 -1.043966   \n",
              "420       0.495054  1.010051    -1.253064  0.981177  0.619880 -1.043966   \n",
              "\n",
              "     int_memory     m_dep  mobile_wt   n_cores        pc  px_height  px_width  \\\n",
              "968    0.769162 -0.006069   1.434017 -1.539175  0.013773   0.274736  1.174484   \n",
              "240    0.934531 -1.393304  -0.035292  1.521249 -1.470690  -0.261699 -0.561260   \n",
              "819    1.375517 -1.393304   1.349249 -1.539175  0.673534  -0.288746 -1.024125   \n",
              "692    0.328176 -0.352878   1.631808  0.209639 -0.481048  -0.768833  0.977767   \n",
              "420   -1.380644 -0.352878  -0.995993  0.209639  0.343653   0.400956 -0.341399   \n",
              "\n",
              "          ram      sc_h      sc_w  talk_time   three_g  touch_screen      wifi  \n",
              "968 -0.585741 -0.547577  0.742313  -1.466521  0.559641      0.994018  0.986097  \n",
              "240  1.323964 -0.310171 -1.094526   0.913303  0.559641      0.994018  0.986097  \n",
              "819 -0.662277  0.402047  1.431127   1.645557  0.559641     -1.006018  0.986097  \n",
              "692  1.276014  0.164641  0.512708  -1.100394 -1.786861     -1.006018  0.986097  \n",
              "420 -0.495373 -1.497202 -0.176107   1.645557  0.559641     -1.006018  0.986097  "
            ]
          },
          "execution_count": 15,
          "metadata": {},
          "output_type": "execute_result"
        }
      ],
      "source": [
        "xtrain.head()"
      ]
    },
    {
      "cell_type": "code",
      "execution_count": 16,
      "metadata": {
        "colab": {
          "base_uri": "https://localhost:8080/",
          "height": 206
        },
        "id": "3po1eOow37az",
        "outputId": "d5960dc8-8a28-4077-b560-3a99f079adda"
      },
      "outputs": [
        {
          "data": {
            "text/html": [
              "<div>\n",
              "<style scoped>\n",
              "    .dataframe tbody tr th:only-of-type {\n",
              "        vertical-align: middle;\n",
              "    }\n",
              "\n",
              "    .dataframe tbody tr th {\n",
              "        vertical-align: top;\n",
              "    }\n",
              "\n",
              "    .dataframe thead th {\n",
              "        text-align: right;\n",
              "    }\n",
              "</style>\n",
              "<table border=\"1\" class=\"dataframe\">\n",
              "  <thead>\n",
              "    <tr style=\"text-align: right;\">\n",
              "      <th></th>\n",
              "      <th>price_range</th>\n",
              "    </tr>\n",
              "  </thead>\n",
              "  <tbody>\n",
              "    <tr>\n",
              "      <th>968</th>\n",
              "      <td>1</td>\n",
              "    </tr>\n",
              "    <tr>\n",
              "      <th>240</th>\n",
              "      <td>2</td>\n",
              "    </tr>\n",
              "    <tr>\n",
              "      <th>819</th>\n",
              "      <td>0</td>\n",
              "    </tr>\n",
              "    <tr>\n",
              "      <th>692</th>\n",
              "      <td>3</td>\n",
              "    </tr>\n",
              "    <tr>\n",
              "      <th>420</th>\n",
              "      <td>1</td>\n",
              "    </tr>\n",
              "  </tbody>\n",
              "</table>\n",
              "</div>"
            ],
            "text/plain": [
              "     price_range\n",
              "968            1\n",
              "240            2\n",
              "819            0\n",
              "692            3\n",
              "420            1"
            ]
          },
          "execution_count": 16,
          "metadata": {},
          "output_type": "execute_result"
        }
      ],
      "source": [
        "ytrain.head()"
      ]
    },
    {
      "cell_type": "code",
      "execution_count": 17,
      "metadata": {
        "colab": {
          "base_uri": "https://localhost:8080/",
          "height": 226
        },
        "id": "kC5Z24nP3_y4",
        "outputId": "ffb6fbae-4207-4b19-bc18-9392416a288d"
      },
      "outputs": [
        {
          "data": {
            "text/html": [
              "<div>\n",
              "<style scoped>\n",
              "    .dataframe tbody tr th:only-of-type {\n",
              "        vertical-align: middle;\n",
              "    }\n",
              "\n",
              "    .dataframe tbody tr th {\n",
              "        vertical-align: top;\n",
              "    }\n",
              "\n",
              "    .dataframe thead th {\n",
              "        text-align: right;\n",
              "    }\n",
              "</style>\n",
              "<table border=\"1\" class=\"dataframe\">\n",
              "  <thead>\n",
              "    <tr style=\"text-align: right;\">\n",
              "      <th></th>\n",
              "      <th>battery_power</th>\n",
              "      <th>blue</th>\n",
              "      <th>clock_speed</th>\n",
              "      <th>dual_sim</th>\n",
              "      <th>fc</th>\n",
              "      <th>four_g</th>\n",
              "      <th>int_memory</th>\n",
              "      <th>m_dep</th>\n",
              "      <th>mobile_wt</th>\n",
              "      <th>n_cores</th>\n",
              "      <th>pc</th>\n",
              "      <th>px_height</th>\n",
              "      <th>px_width</th>\n",
              "      <th>ram</th>\n",
              "      <th>sc_h</th>\n",
              "      <th>sc_w</th>\n",
              "      <th>talk_time</th>\n",
              "      <th>three_g</th>\n",
              "      <th>touch_screen</th>\n",
              "      <th>wifi</th>\n",
              "    </tr>\n",
              "  </thead>\n",
              "  <tbody>\n",
              "    <tr>\n",
              "      <th>1860</th>\n",
              "      <td>0.927552</td>\n",
              "      <td>-0.990050</td>\n",
              "      <td>1.198517</td>\n",
              "      <td>-1.019184</td>\n",
              "      <td>-0.301703</td>\n",
              "      <td>0.957886</td>\n",
              "      <td>-0.388426</td>\n",
              "      <td>0.340740</td>\n",
              "      <td>1.688320</td>\n",
              "      <td>-1.101971</td>\n",
              "      <td>-0.810929</td>\n",
              "      <td>-0.978448</td>\n",
              "      <td>0.825021</td>\n",
              "      <td>-1.326201</td>\n",
              "      <td>-1.022389</td>\n",
              "      <td>0.053498</td>\n",
              "      <td>-0.002014</td>\n",
              "      <td>0.559641</td>\n",
              "      <td>0.994018</td>\n",
              "      <td>-1.014099</td>\n",
              "    </tr>\n",
              "    <tr>\n",
              "      <th>353</th>\n",
              "      <td>-0.128653</td>\n",
              "      <td>-0.990050</td>\n",
              "      <td>-1.253064</td>\n",
              "      <td>-1.019184</td>\n",
              "      <td>0.619880</td>\n",
              "      <td>0.957886</td>\n",
              "      <td>-1.325520</td>\n",
              "      <td>-0.006069</td>\n",
              "      <td>-0.063548</td>\n",
              "      <td>1.521249</td>\n",
              "      <td>1.003414</td>\n",
              "      <td>-0.834197</td>\n",
              "      <td>-0.614489</td>\n",
              "      <td>0.404613</td>\n",
              "      <td>1.589078</td>\n",
              "      <td>2.579151</td>\n",
              "      <td>1.462493</td>\n",
              "      <td>0.559641</td>\n",
              "      <td>-1.006018</td>\n",
              "      <td>-1.014099</td>\n",
              "    </tr>\n",
              "    <tr>\n",
              "      <th>1333</th>\n",
              "      <td>1.669628</td>\n",
              "      <td>-0.990050</td>\n",
              "      <td>1.688833</td>\n",
              "      <td>-1.019184</td>\n",
              "      <td>1.080671</td>\n",
              "      <td>-1.043966</td>\n",
              "      <td>-0.994781</td>\n",
              "      <td>-0.352878</td>\n",
              "      <td>1.575296</td>\n",
              "      <td>1.084046</td>\n",
              "      <td>1.333295</td>\n",
              "      <td>-0.793626</td>\n",
              "      <td>-0.693176</td>\n",
              "      <td>-0.745267</td>\n",
              "      <td>-1.022389</td>\n",
              "      <td>-1.094526</td>\n",
              "      <td>-0.551204</td>\n",
              "      <td>0.559641</td>\n",
              "      <td>0.994018</td>\n",
              "      <td>-1.014099</td>\n",
              "    </tr>\n",
              "    <tr>\n",
              "      <th>905</th>\n",
              "      <td>-0.567980</td>\n",
              "      <td>1.010051</td>\n",
              "      <td>0.585621</td>\n",
              "      <td>-1.019184</td>\n",
              "      <td>-0.071307</td>\n",
              "      <td>-1.043966</td>\n",
              "      <td>-0.829411</td>\n",
              "      <td>-1.046495</td>\n",
              "      <td>0.727618</td>\n",
              "      <td>-0.664768</td>\n",
              "      <td>1.498235</td>\n",
              "      <td>-0.877022</td>\n",
              "      <td>0.329755</td>\n",
              "      <td>1.630107</td>\n",
              "      <td>1.351672</td>\n",
              "      <td>0.283103</td>\n",
              "      <td>1.462493</td>\n",
              "      <td>0.559641</td>\n",
              "      <td>0.994018</td>\n",
              "      <td>-1.014099</td>\n",
              "    </tr>\n",
              "    <tr>\n",
              "      <th>1289</th>\n",
              "      <td>-1.419319</td>\n",
              "      <td>1.010051</td>\n",
              "      <td>-1.253064</td>\n",
              "      <td>0.981177</td>\n",
              "      <td>0.619880</td>\n",
              "      <td>-1.043966</td>\n",
              "      <td>1.430640</td>\n",
              "      <td>-0.006069</td>\n",
              "      <td>-0.289595</td>\n",
              "      <td>0.209639</td>\n",
              "      <td>-0.316108</td>\n",
              "      <td>0.847234</td>\n",
              "      <td>1.635035</td>\n",
              "      <td>-0.201218</td>\n",
              "      <td>0.402047</td>\n",
              "      <td>-0.176107</td>\n",
              "      <td>-1.100394</td>\n",
              "      <td>0.559641</td>\n",
              "      <td>-1.006018</td>\n",
              "      <td>-1.014099</td>\n",
              "    </tr>\n",
              "  </tbody>\n",
              "</table>\n",
              "</div>"
            ],
            "text/plain": [
              "      battery_power      blue  clock_speed  dual_sim        fc    four_g  \\\n",
              "1860       0.927552 -0.990050     1.198517 -1.019184 -0.301703  0.957886   \n",
              "353       -0.128653 -0.990050    -1.253064 -1.019184  0.619880  0.957886   \n",
              "1333       1.669628 -0.990050     1.688833 -1.019184  1.080671 -1.043966   \n",
              "905       -0.567980  1.010051     0.585621 -1.019184 -0.071307 -1.043966   \n",
              "1289      -1.419319  1.010051    -1.253064  0.981177  0.619880 -1.043966   \n",
              "\n",
              "      int_memory     m_dep  mobile_wt   n_cores        pc  px_height  \\\n",
              "1860   -0.388426  0.340740   1.688320 -1.101971 -0.810929  -0.978448   \n",
              "353    -1.325520 -0.006069  -0.063548  1.521249  1.003414  -0.834197   \n",
              "1333   -0.994781 -0.352878   1.575296  1.084046  1.333295  -0.793626   \n",
              "905    -0.829411 -1.046495   0.727618 -0.664768  1.498235  -0.877022   \n",
              "1289    1.430640 -0.006069  -0.289595  0.209639 -0.316108   0.847234   \n",
              "\n",
              "      px_width       ram      sc_h      sc_w  talk_time   three_g  \\\n",
              "1860  0.825021 -1.326201 -1.022389  0.053498  -0.002014  0.559641   \n",
              "353  -0.614489  0.404613  1.589078  2.579151   1.462493  0.559641   \n",
              "1333 -0.693176 -0.745267 -1.022389 -1.094526  -0.551204  0.559641   \n",
              "905   0.329755  1.630107  1.351672  0.283103   1.462493  0.559641   \n",
              "1289  1.635035 -0.201218  0.402047 -0.176107  -1.100394  0.559641   \n",
              "\n",
              "      touch_screen      wifi  \n",
              "1860      0.994018 -1.014099  \n",
              "353      -1.006018 -1.014099  \n",
              "1333      0.994018 -1.014099  \n",
              "905       0.994018 -1.014099  \n",
              "1289     -1.006018 -1.014099  "
            ]
          },
          "execution_count": 17,
          "metadata": {},
          "output_type": "execute_result"
        }
      ],
      "source": [
        "xtest.head()"
      ]
    },
    {
      "cell_type": "code",
      "execution_count": 18,
      "metadata": {
        "colab": {
          "base_uri": "https://localhost:8080/",
          "height": 206
        },
        "id": "NtHeWr7e4EUb",
        "outputId": "9f4fa9f6-ca82-4666-a9aa-2b923eb950d1"
      },
      "outputs": [
        {
          "data": {
            "text/html": [
              "<div>\n",
              "<style scoped>\n",
              "    .dataframe tbody tr th:only-of-type {\n",
              "        vertical-align: middle;\n",
              "    }\n",
              "\n",
              "    .dataframe tbody tr th {\n",
              "        vertical-align: top;\n",
              "    }\n",
              "\n",
              "    .dataframe thead th {\n",
              "        text-align: right;\n",
              "    }\n",
              "</style>\n",
              "<table border=\"1\" class=\"dataframe\">\n",
              "  <thead>\n",
              "    <tr style=\"text-align: right;\">\n",
              "      <th></th>\n",
              "      <th>price_range</th>\n",
              "    </tr>\n",
              "  </thead>\n",
              "  <tbody>\n",
              "    <tr>\n",
              "      <th>1860</th>\n",
              "      <td>0</td>\n",
              "    </tr>\n",
              "    <tr>\n",
              "      <th>353</th>\n",
              "      <td>2</td>\n",
              "    </tr>\n",
              "    <tr>\n",
              "      <th>1333</th>\n",
              "      <td>1</td>\n",
              "    </tr>\n",
              "    <tr>\n",
              "      <th>905</th>\n",
              "      <td>3</td>\n",
              "    </tr>\n",
              "    <tr>\n",
              "      <th>1289</th>\n",
              "      <td>1</td>\n",
              "    </tr>\n",
              "  </tbody>\n",
              "</table>\n",
              "</div>"
            ],
            "text/plain": [
              "      price_range\n",
              "1860            0\n",
              "353             2\n",
              "1333            1\n",
              "905             3\n",
              "1289            1"
            ]
          },
          "execution_count": 18,
          "metadata": {},
          "output_type": "execute_result"
        }
      ],
      "source": [
        "ytest.head()"
      ]
    },
    {
      "cell_type": "code",
      "execution_count": 19,
      "metadata": {
        "colab": {
          "base_uri": "https://localhost:8080/"
        },
        "id": "HSR_OE7B4pKX",
        "outputId": "3e631120-7755-40a9-8a56-a52af5902965"
      },
      "outputs": [
        {
          "data": {
            "text/plain": [
              "(1600, 20)"
            ]
          },
          "execution_count": 19,
          "metadata": {},
          "output_type": "execute_result"
        }
      ],
      "source": [
        "xtrain.shape"
      ]
    },
    {
      "cell_type": "code",
      "execution_count": 20,
      "metadata": {
        "colab": {
          "base_uri": "https://localhost:8080/"
        },
        "id": "j8akgii54qw7",
        "outputId": "84aa9290-e26f-40e1-a070-6f5645d484e1"
      },
      "outputs": [
        {
          "data": {
            "text/plain": [
              "(400, 20)"
            ]
          },
          "execution_count": 20,
          "metadata": {},
          "output_type": "execute_result"
        }
      ],
      "source": [
        "xtest.shape"
      ]
    },
    {
      "cell_type": "code",
      "execution_count": 21,
      "metadata": {
        "colab": {
          "base_uri": "https://localhost:8080/"
        },
        "id": "yJRa5OOZ4uaj",
        "outputId": "b6e0eeb7-e4c7-4bf3-d197-88b82d4f00d8"
      },
      "outputs": [
        {
          "data": {
            "text/plain": [
              "20"
            ]
          },
          "execution_count": 21,
          "metadata": {},
          "output_type": "execute_result"
        }
      ],
      "source": [
        "xtrain.shape[1]"
      ]
    },
    {
      "cell_type": "markdown",
      "metadata": {
        "id": "-DbpqGwp4Jzj"
      },
      "source": [
        "**For Multiclass Classification one Hot Encode the target features**"
      ]
    },
    {
      "cell_type": "code",
      "execution_count": 22,
      "metadata": {
        "id": "pkoIKX6PFbhV"
      },
      "outputs": [
        {
          "name": "stdout",
          "output_type": "stream",
          "text": [
            "WARNING:tensorflow:From e:\\DL_6to8\\repository\\venv\\Lib\\site-packages\\keras\\src\\losses.py:2976: The name tf.losses.sparse_softmax_cross_entropy is deprecated. Please use tf.compat.v1.losses.sparse_softmax_cross_entropy instead.\n",
            "\n"
          ]
        }
      ],
      "source": [
        "from keras.utils import to_categorical\n",
        "ytrain_cat = to_categorical(ytrain)\n",
        "\n",
        "ytest_cat = to_categorical(ytest)"
      ]
    },
    {
      "cell_type": "code",
      "execution_count": 23,
      "metadata": {
        "colab": {
          "base_uri": "https://localhost:8080/"
        },
        "id": "EiTVE60NFbeB",
        "outputId": "2b0b6d12-6863-4d83-f5cb-4a7c937b74eb"
      },
      "outputs": [
        {
          "data": {
            "text/plain": [
              "array([[0., 1., 0., 0.],\n",
              "       [0., 0., 1., 0.],\n",
              "       [1., 0., 0., 0.],\n",
              "       [0., 0., 0., 1.],\n",
              "       [0., 1., 0., 0.]], dtype=float32)"
            ]
          },
          "execution_count": 23,
          "metadata": {},
          "output_type": "execute_result"
        }
      ],
      "source": [
        "ytrain_cat[0:5]"
      ]
    },
    {
      "cell_type": "code",
      "execution_count": 24,
      "metadata": {
        "colab": {
          "base_uri": "https://localhost:8080/",
          "height": 206
        },
        "id": "1HJ5qjPhFdqH",
        "outputId": "fffc9426-04e9-4187-b497-bcb9e5bd3b24"
      },
      "outputs": [
        {
          "data": {
            "text/html": [
              "<div>\n",
              "<style scoped>\n",
              "    .dataframe tbody tr th:only-of-type {\n",
              "        vertical-align: middle;\n",
              "    }\n",
              "\n",
              "    .dataframe tbody tr th {\n",
              "        vertical-align: top;\n",
              "    }\n",
              "\n",
              "    .dataframe thead th {\n",
              "        text-align: right;\n",
              "    }\n",
              "</style>\n",
              "<table border=\"1\" class=\"dataframe\">\n",
              "  <thead>\n",
              "    <tr style=\"text-align: right;\">\n",
              "      <th></th>\n",
              "      <th>price_range</th>\n",
              "    </tr>\n",
              "  </thead>\n",
              "  <tbody>\n",
              "    <tr>\n",
              "      <th>968</th>\n",
              "      <td>1</td>\n",
              "    </tr>\n",
              "    <tr>\n",
              "      <th>240</th>\n",
              "      <td>2</td>\n",
              "    </tr>\n",
              "    <tr>\n",
              "      <th>819</th>\n",
              "      <td>0</td>\n",
              "    </tr>\n",
              "    <tr>\n",
              "      <th>692</th>\n",
              "      <td>3</td>\n",
              "    </tr>\n",
              "    <tr>\n",
              "      <th>420</th>\n",
              "      <td>1</td>\n",
              "    </tr>\n",
              "  </tbody>\n",
              "</table>\n",
              "</div>"
            ],
            "text/plain": [
              "     price_range\n",
              "968            1\n",
              "240            2\n",
              "819            0\n",
              "692            3\n",
              "420            1"
            ]
          },
          "execution_count": 24,
          "metadata": {},
          "output_type": "execute_result"
        }
      ],
      "source": [
        "ytrain.head()"
      ]
    },
    {
      "cell_type": "code",
      "execution_count": 25,
      "metadata": {
        "colab": {
          "base_uri": "https://localhost:8080/"
        },
        "id": "0QM0SGRUFdfn",
        "outputId": "355c3678-c125-4fce-e8b9-8864f5b94f99"
      },
      "outputs": [
        {
          "data": {
            "text/plain": [
              "array([[1., 0., 0., 0.],\n",
              "       [0., 0., 1., 0.],\n",
              "       [0., 1., 0., 0.],\n",
              "       [0., 0., 0., 1.],\n",
              "       [0., 1., 0., 0.]], dtype=float32)"
            ]
          },
          "execution_count": 25,
          "metadata": {},
          "output_type": "execute_result"
        }
      ],
      "source": [
        "ytest_cat[0:5]"
      ]
    },
    {
      "cell_type": "code",
      "execution_count": 26,
      "metadata": {
        "colab": {
          "base_uri": "https://localhost:8080/",
          "height": 206
        },
        "id": "N6fSWnlaFdUA",
        "outputId": "4d074ee7-95a9-4751-e005-1f7805d35adb"
      },
      "outputs": [
        {
          "data": {
            "text/html": [
              "<div>\n",
              "<style scoped>\n",
              "    .dataframe tbody tr th:only-of-type {\n",
              "        vertical-align: middle;\n",
              "    }\n",
              "\n",
              "    .dataframe tbody tr th {\n",
              "        vertical-align: top;\n",
              "    }\n",
              "\n",
              "    .dataframe thead th {\n",
              "        text-align: right;\n",
              "    }\n",
              "</style>\n",
              "<table border=\"1\" class=\"dataframe\">\n",
              "  <thead>\n",
              "    <tr style=\"text-align: right;\">\n",
              "      <th></th>\n",
              "      <th>price_range</th>\n",
              "    </tr>\n",
              "  </thead>\n",
              "  <tbody>\n",
              "    <tr>\n",
              "      <th>1860</th>\n",
              "      <td>0</td>\n",
              "    </tr>\n",
              "    <tr>\n",
              "      <th>353</th>\n",
              "      <td>2</td>\n",
              "    </tr>\n",
              "    <tr>\n",
              "      <th>1333</th>\n",
              "      <td>1</td>\n",
              "    </tr>\n",
              "    <tr>\n",
              "      <th>905</th>\n",
              "      <td>3</td>\n",
              "    </tr>\n",
              "    <tr>\n",
              "      <th>1289</th>\n",
              "      <td>1</td>\n",
              "    </tr>\n",
              "  </tbody>\n",
              "</table>\n",
              "</div>"
            ],
            "text/plain": [
              "      price_range\n",
              "1860            0\n",
              "353             2\n",
              "1333            1\n",
              "905             3\n",
              "1289            1"
            ]
          },
          "execution_count": 26,
          "metadata": {},
          "output_type": "execute_result"
        }
      ],
      "source": [
        "ytest.head()"
      ]
    },
    {
      "cell_type": "code",
      "execution_count": 27,
      "metadata": {
        "colab": {
          "base_uri": "https://localhost:8080/"
        },
        "id": "DN3QQzdLF8tq",
        "outputId": "f07961d6-9b10-4c46-ceed-28774abb88a3"
      },
      "outputs": [
        {
          "data": {
            "text/plain": [
              "array([1, 2, 3, 0], dtype=int64)"
            ]
          },
          "execution_count": 27,
          "metadata": {},
          "output_type": "execute_result"
        }
      ],
      "source": [
        "df['price_range'].unique()"
      ]
    },
    {
      "cell_type": "markdown",
      "metadata": {
        "id": "O8UQ3pTy8ohN"
      },
      "source": [
        "### **Build the Neural Network**\n",
        "\n",
        "![image.png](data:image/png;base64,iVBORw0KGgoAAAANSUhEUgAABIUAAAJLCAIAAAD2HLEEAAAgAElEQVR4AeydCZxbVdn/wyJbZZdNEbGiKKICLq/rayY3mdFkwA0yqO8LqSgu/yD6IhGF95XoW0GMCAUCvEIhLS2l6b6E7m0Kli7pdN/SjQKiUcQNWkppz783z8zD4S4n597JTCYzv/n0A+fe3HvOc75n/Z3tBgT+QAAEQAAEQAAEQAAEQAAEQAAEGkEg0IhAESYIgAAIgAAIgAAIgAAIgAAIgICAHkMmAAEQAAEQAAEQAAEQAAEQAIHGEIAeawx3hAoCIAACIAACIAACIAACIAAC0GPIAyAAAiAAAiAAAiAAAiAAAiDQGALQY43hjlBBAARAAARAAARAAARAAARAAHoMeQAEQAAEQAAEQAAEQAAEQAAEGkMAeqwx3BEqCPQlgUKhkE6nE4lEsPsvHo+n0+lisdiXZiAsEAABEAABEOhXBMrlcjwep7Yxl8v1K9tgzOAhAD02eNIaMR2MBCqVSjKZDFf/DMPolmNBwzDoZj6fH4xcEGcQAAEQAAEQEKJYLFLjGA6Hk8kkkIBAQwhAjzUEOwIFgb4gUKlUOjo6Wltbg0FTgIVCoZaWFpJkoVCIJFk2m+0LUxAGCIAACIAACPQ/AsViMRQKBYNB6LH+lziDyKLG67FCoZDJZJLJZDQa5cH7RCKRTqfz+XylUhlEqYGogkBdCaTT6UgkEgwGI5FIIpEoFApcoIrFYiaTiUajvTE/RpNyVJyj0ehAknyZTIbilUgkyuVyXZOr+TwDDUWaMRxu1/QdhUJB4TN+qiOBfD5PfY94PA7sdQRbF6/6JnWgx+qSWPCkhwQaqcey2Ww0GjWqf+FwmMYnqMWikXvDMFpaWlKpFHa59DCZ8fogJFAul6lMGYbR0dHBSqwPUOTz+XA4TGWZJuX6MvTei2CxWOR4RSKRgaQzfUADDQU0GY6+DOPmb5BnLQXYuv8UDAapnmxtbcVatbrj7aGHfZM60GM9TCa8XhcCjdFjpVIpkUhEIpFQ9Y/EGK+kamlpocVUvKLXMIx0Ol2XCMMTEBgkBLLZLJUgwzB6YxJMgTGRSFj2qvWxAQrbevITN9u0/nOQd5pBQ5GXZDis4fWFGSZqFGzr+xMnCtaq1RdsXXzrm9Th0oo8UJdUgyf+CDRAj5VKpfb2dl5GFYvF6Jw3HkGvVCq0mCoej9PsGS24wrk3/tIYbw1OAnSMRzAYbGlp4cLVByjkeTnqiRqGkUgk+iBozSDK5TKvjvYkFHnbN9VIA0aP8cGbnoa9BioNzVykfgw9PDWfuv/Kq0Pj8bgnz/tmBsaTSXiYCXhKnUKhQPotGo2WSiX2pKYDpbUmIjzQBwQaoMdoZiwYDLa1tdXcg1EsFhOJBB0EN2B6P32QrggCBKLRKM0ze+2g9BBdJpOhYZTLL7/8hz/8IUmyUCjUf3ZbcetrGIbXWiWdTlOTX7Pu6iHGvnydYuRjbHhA0qgLec5jPqjWxYDB5gkPPwWDQU9xz+Vy2D/miVhfPuwpdXhJyMFF8p42uaC09mWaIiw3An2tx3K5nDxkrjlsT2XS00i2W4RxHwQGCQHfnewe8uFp7dtuuy2fz/OayUwm00Of6/U6t74+9Fi9bOhX/jQqq/QrCPU1hvMY9Fh9wbr55luPuXmI+01HAHqs6ZIMBssE+lqPUV+Ndl94GsCQjYYbBECgJoGGdLILhQIJsFAoRCtGGjVNp+DDfWXoMaLUkKyiSKAB8BPnMeixvklN6LG+4dyfQ4Ee68+pA9tqEuhTPSZvLOlX+0lqYsIDINBcBA5uwqQDcvq4O5hOp8PhsGEYvEiS7tAQTD85pYD7ytBjlKuhx+peujmP9XEBrHtEmsVD6LFmSanesxN6rPfYwuc+INCneoybKMMw+s/ipT6gjCBAoI8JcFnry+4gi0C5gPOpD+Fw2NNxEb1HjOFAjxFk6LG6ZzbOY31ZAOseiybyEHqsiRKrl0yFHuslsPC2bwg0TI953UbfNzgQCggMDAIN6Q7ybjHL6R28SrmPT3p0S0qGAz1GiKDH3LKK7/ucx6DHfDP09CL0mCdcA/Jh6LEBmayDJ1LQY4MnrRHTQUSgId1B6hLZT7enExdpyWJ/OJWH4UCPUZGAHqt71cB5DHqs7mwdPYQec8QyqG5Cjw2q5B54kW2MHuuNJioej1OvwutKyHw+Ty9Go1H1kdzJZNItiHw+n0ql+KNG0Wg0mUzmcjn1AZLlcjmTybC3wWAwkUjQ19j0s1qhUKBw7faT//xxIX3/KTqMVDM6CpvL5TL5KRsTDAaTyWQ6nfa0rahcLrNhlhdzuZwdJp0qIX9yKplMKkxV/MTGp1IpxWM+fioUCpQTOAsFg0HCnslkLNF09L9UKlHmpP+GQiG+pBNN+ZId9Z2jlneHWj4VyD/VpeCXy+VcLpdKpTgbcMbO5/OOJa5YLHKs+YM2dEf+brX8zMHvtjkeOJTNZumxeDxuCatUKnHy+c4hnIHVPpRKJcrtMgTOMOpv71QqFbbTEmW3rBIMBh1zi4KGYy6Vb3I6crEiYxKJRCqVyuVy6tpY9orcjM7eBBSLxXQ6LQdENa1OybIHpHOnl/SY/IEBHTP4GTlzqmPNaWrf421vsOLxeCqVcit3HHpNB1eAnCEpM2ezWbfMzMlNryiyLvvpWPPLDahjkVcYP/DysJxPHIu8G41cLkec4/G4p5LL+c3egRFCqFOH36Wg5cpcbgE5A1Craqm3hRDq0prP59PptFzTJpPJTCbjljPdEOE+CKgJ9KkeE0JwwbCsaFJbqfMr+eyjw6c/puIYRKFQoOVY4XCYq4BQKESnGsRiMcdKrVKpZDIZ+jyU3JAYhkEvJpNJzUotm82SD/I3NyqVSjqdJv/lSkr237E2KRaLHB1+UY6OpatdM2mKxWIqleKYsp8Mk+IbjUY1feb9SPLkRqlU4u/UcR4zDKO1tZXbYDroj7rjjnFXxyWfzxPncDis7iur/ZF/rVQq2Ww2Go3SB7vkLER2EhzDMKLRaDabtTck7Bu3KBx9tcNHSeGwHB1yObJn3UQiQUnfk4JfLpfd8hJnbCpxFlBsm5qJ/Kucu+T48jC8YRiW3htvn6O0s0OQ/XF0FwoFzmNue+3y+XwikXAsUFxOQ6FQPB63mMchcgmS46t2u+UWBQ0Ozu4oFovJZNIxCjSJStk+FAolk0m3WNi9pShYTHWs0ORQEomEj9rAHrrlDpdHiz2Wx7xeMnCvX9lie9wyNlviGES5XJaTjHOLXO7UMo/9tzhyuRy1OOQV+yxnZsdswE96clhCF0JwAxoOhx0ba/sr1IOXgVjaNcbSdHmYx85CoVA0GnWMu+NNXpTuCaMQgttlx9Xs6tSR86pmNrDX2wo9Jvfu5CTmCiqVSlnaGkc4uAkCOgT6Wo/xYWv1baVY6fnwlvtqsp5xZEcFnoOoVCqpVIpKJvWk6US7lpYW6l5Tt6y1tdXStSoWi7FYjDpehmHIKo7LfCQSaW9v1+ko2O0vFArkP/V4ZP8p0GAwaPefJBxZTv/l6JA/FJ1IJGKJjiMrIQQ14dwyUUzJTyJJ3nI3XdNne8eiVCq1t7dHIhHZbPK8ra2N9RjnPfm0CTfj7fcpret4TmCpVOro6GANJmchmQ8lGfVOOjo63LJEw+fHuFNlH1YXQuRyOUromt1BO3m6k8/nCUIwGKRCx3mppaWFfgpV/8LhsAVUHefHuAfgWF30MI/Jr9t7tywtuJBy0T44m0cQuD6hcue4OrSO82NqGo5JmclkwtU/KkpsMOV5SyzoSft8l6PP9vo5nU4zq4P9MM4wcsVIDziCcgxF8yZXU9xeaL6ofoyB96Uey+VyXL7k9LK0dF4P7KlUKjSIRn7KPlNbQ0lD5T0cDluyQb3mx7gB1a+aBnYelsfO3JobSy5lFUeF2rEJsLxCl/x9FLdRTnXq9N78mKV3Z6k95H5ULBbTpORIADdBgAn0tR4rlUosOexChc3y4bA0xvo+cIF37GDJ/shBVCqVYcOGtba2hkKhSCSSTCYLhQKNlFQqlXw+39HREYlE6JXW1lYeeKNpFu4QyLPepVKJjKFuFnUra46+yPZPnz49n89HIhGyqr29XV7vUSqVqINC/huGEYvF2GaKDjV+iUSCl6BUKpVCoZBIJFpbWyk6kUik5lyWRSPF4/FMJlMsFuXoFIvFXC7nBkomL7u5o2MYxt13300BGYYRiUQ6OjrYbF7Qxa04Twt4HfkTQvDUh493ZePZTUdfUFkgJUbrNuVJlVKplM/nk8kk91TC4bCmSmdK9e0Osv0WB7M1DMOxa8sNtnwUvsUTxSXlauqlUYzy+TyzOpg6tCCNhznUoBiOfg+MbeMOsWN1wd0LH9GsVCqxWIxqBv5aAIdL9QaPbiQSiVwuJ88dEYSD9QmNTXBlJT/Dvlkc/DAPXlgecLtU07C8Rf1vqhU5mm6x4KQMBoOaLYUcC66fqUKLx+PyAkiqaWVQhmHUt1PFeay+BZCB95keS6fTlGSRSCQWi8kNFq1ClytwnaaBcgUlUFtbGw0Oks9yXqXaj7QB1ZPqbOCbDDegOrXBYMjD8tgZt56Wsmy5pOaMCiDV0lw5W560XNbcWuwpdfhhx8rZErR8aSmtXHvQMEQymeR+BU2myf0ozX6aHBzcIOBIoK/1mBAik8lwz56Wk2kWXccI8E25MeabOg79MkxBGIbx1a9+NZFItLW1HWzF29vbHcUJTTexJKNlWtytbG1tTSQSjhEngcGSjIWcW1zY/nA4fNNNN1GICrDFYvHiiy9m/9PpNDeNVPs4RkcIkU6nKeFCoRALOYVVNIkRj8cdO+j8IoHiLFFzPRtXnYZh3HjjjTTF1NbWNmzYMFnssf+yg9dUGIZhn3+Qn7S4ub3xN7dm8U0elWhra0ulUo45gd8qFovt7e08odre3q5+XrEAg/2sr4MndhzXnFBY8gSj3PGqaUmhUOBO/MUXX6zITrQMmPRtJBJxW1YqZ6Ga5ctiHnf73Jp8OY95iqY6jyWTSapwHNduyUaWy+VEIkHENGWh78qzJg3ZsFQqRcWcqk1FOtIICFc4JMlqdg3t9TNVaG5JXC6Xhw0bxqD0B/XlSLm5OY81rx6j+S6WTG5Ls+QK/OBX4HVqJyEENaDBYJCWMCiq7mKx2NHRwTnHTTZzVvSqVLkB1dFjgyEP+xg747qdy6C6dHOp4drSrd33lDr8sFvlzOFaHFxa5d4drSFy6yfI/ahIJFKzdrKEiEsQsBNogB6jnj3V8rxwTr03xm63/Y7vLoV+GaYgeJkN9SrcmgfqUnR0dPAyLVqbQS0QqSB7LOgOzzZoKh+ecqQue1tbm3pJYS6X4wl3UoasLdU9SG7zaq4Rz+Vy0WhUs1IWQrDPNQUPV52cEJFIREeM0VYBnpJSI7IkjY8lHBYf+JKnQfQH/mnx5+WXX07G03wse+joYEr17Q46hsUxcltzQm+x3vC0rok9p4kOdf6kgAqFQnt7u7xU1WI2w9HpgVne5Yzq1uRzfeIpmkII7tM4dk1SqVQikdCJPtU8NNVGZcStS8FR81151qTBQWSzWRbVmnO8VGDpLZ3Ud6yf1cTK5XJ7ezuvF6gJiqNT08F5rL4FkIF7VR1sT808LwdBzYTOrBfXkPaFhXZWnBl0qjLKzySE3Aqd3IJ4JcMFtiYZNptkp6Lpl6PMbzVRHubUdKyL5NiRm/eAcU3iNhYmv1sqlbjouY2G6KeO3L4r8olsALu5dHCnoq2tzW3EnN/i7b60XFwxpsCvwAECCgKN0WMkyXjnDI1iOm7EV5hu+YkrAq9LbrjA1yzD3N5TodXpVXAflF5hMWYx3n7JjaLbAjB+he0n82qKMXqRx6XIMM0GhoWi5rg7G1nTIS/0cquayRO56qSlETUn6zh0HvnTEbr2t+wnufMz+g7ae0Bts6e8Ks+qOW5Klm1gSvXtDspBsJszuTqvsrLyBF+9n5ttsDhKpRItkbXcp0uGU7MHZn+dC6ZbdSHnMf0N8fxWvdJLXghUc+zWd+VZkwYBtMgetUayME+lUiTJapLxUT/LfTj1aILFqpqXnMdqml3TK/kBBu5VdbA9NfO8HAQNmOoMq3HTUHNFt796gFbWOB7BR3xks2ViNd3cgKrJDKo8LNcebutlGCxnLVqEzMWQH3BzyAsj3ULRTB0Kgh92q5zdLOEocCdKc4SXc51hGG5RcAsU90HAQqBheoxOMpU3CfRQlfnuUuiXYa5oNNULsZaHjlpbW3XGjYQQch9X3Z1i+z3Nt3BVSJHS3z7BQk6xMs2SyTQvZVCKVyxVZzgc9tS9kytQnX6G5SyKHta53O32tMieaXBa1+zkMaWaT7Lnvh2EVEdl8bJGtXJjS7jrVl/9z3DUPTA2Q3Zw/lE0+fyMZjQteUwzW8pW2d089qyTAXxXnhxTBQ0efaMxCE/z0va5PkVh91c/131rKKUF5zEd/vbkc7vDwPtGj0UiEf3cKE+qKOaOeIRFv3S40ZDv+ybDlaq6NuC6y+u8dzPmYa49dIYgCWAoFLr44ovvuOMOWsQRCoVqzjbLGcZtBb5m6lBO4IfV1ZGcbcjNpZUGIBKJhOZkV6FQ4K0fml07e+i4AwJEoJF6jOopOvadl8/REEtLS0s6nXYroo6J57tLoV+G5fa+Zl3DRnI7QVWbZjkvl8t0GljN5pzt16k62Sq5AvLULnKz5LXK46DdHAxKrfRky32s22ahqz8cXkcJyjLYR6NOqxap9q8p55hSzfzjlhya91lh6sSIZ0E1reLEUneVNE3lxxiOD285lyryP5utn8eoa6KjaTkWNR1UX+lUC74rTx0a8pHWoVDIU61OceQ6R53H/NXPtJeJOpEtLS0+zHNMCM5jpELZNh2HYgCOgfeBHqu5dNwScXlSRaHiqDqtb1bvg/WKPFw4SPKwfqtHdRfVdSzk1EWV+n7Uw1FXUHL3xm0jKOdDflhROfPDsoNLK2VL/UqAR3PqO2Io2wb34CHQYD1GoMvl8sGPINPhudzdpNWM+vvKfHcp9Muw3JTqZxH232vnj4Krufyjh/5TKP6i08PJIkug3NVQV6ZcdVINqKlvOSyecqkpaegV/QaGg1A45BFBxRCywgempFbRTElT+ShCVP8kZz+dQQpP3Rp5S5U/XI7GMxyvRVLu9ilyqZzH1IMLZJ4nTesYI8eb+vUVPekjq3BuVNCQRbi/IWQ5vewnT3Lc9ePLr5CD9Z4iFpZXal6yzbJVOm51KjDwPtBjXmnwMISiWMnVqb/M4EbeNxm5BnPr8Q/CPKyprmVBQiKcavia+kTOLYqOhE7qcJbgh71mXS6t6tLHAckOFq5ei6TsCdwgIIToF3qMUoK+jcsfzuIuQiwWU6xR4VTk5z3tyZH3D9Qsw3JryuHWdHAdoWilHD3hvru6nPv23190eILea3Qc4yjf5AZVnRA9qTopOO5+6az5lpslHb0hx8ji5qarpsa2vChfcnKrByB7TkkOVOHm0W7NvVIyT0UzTCF69Vxhp/wTw/GRhzVzqe88plPXyXFRuPULuO/KU4eGpxR3iw7HRTE7wc+oK0x7EFym1DWP/UXFHc5jPubH3FSBPBzgNY5sT808r5OmjhHXCUKzF+7ov/omm+2VDKe+gswgzMOaypkTlAsmV30Ht3UoBtHksTbFfJRO6nDG4Ie9FmTOuj70mO+Mx2bDAQJEoB/pMTJIVmXUvtK+MsX6B3rRd5dCvwz7a+/Zf0V175gdNcu5b//9RYdrLq/RcYyjfJPjq65M2QAfVScFx1vP1Ssl6GGSBDVH++SIuLl7brn+QfZ1CcstInxfbrM19wXxKzpIfRdqttDRwXB85GH9XEpL4Po4j8nx1S/gvjnr0NB5Rjbb0a3jiX58LUFwFaqueSxvqS85j/muphz9Zw5eVQfbUzPPcxBeaegE0RuoCRSb7ZUMm6Qgw557ZSInoo4n/SoP68z8kPqSK3PNEVueRlMf36WTOgyZH/aaTJx1fZRWTlavGY/NhgMEiEC/02NklvwdIaqham4s9t2l0C/D/upK9l9R3TtmR81y7tt/f9HhmstrdBzjKN/k+KorUzbAR9XJwXFLw6N6/JPskJWbYlOH/IrCzZvHvG7MkP1kPaOeZKsLJTlcRzcPhdY871F+XYavGECVo6Ap9uRQFG722Uce1sylQgg5mooBYDmPKSZGFNFx+0m/gPuuPHVo8ApVnaWbbnHh0XTFnLZ+fC2hyFVozTlby7tul5zHelJN2T1n4F47f2xPzTzPQajrYbttHIRi2yR7XsetemQJ++yVjJz6bgVwcOZhrt4Vh3NQLSe3aLwMRDEUxes/5RftOUpevlQz38oP9yTrel1gxRlPPR/oGDvcBAGZQD/VY2QifQaXhpnpWHZF7813l4Kr45pl2F97z/7rVChy2nA5Vzcwvv33Fx1udL1Gp1gsZrPZZPVPDprd8pkuilVbbEBPOjoyNIXQkhskRZdaTjWFWw7UreFXvM4/MTFFxqgLJQ7RzcFjnIpdPfZ3WZdqLrn0mtPsIVruMBwfPnOprFldyMld9zxWqVQKhUImk0kmk4lEQs4Sjm4LAcslveKjQOnQkO2xhKt/KcN0Kzu+A9LxXN9UepLzmA+qirAYuKLsO77O9tTM8xxEzRxuCYiDUESZPfdqvyUs+6Vvn3VS33fWku3s1YB0PJeN0XGzanKrqOXBQXkxP4+euA138vrPmhrGU7z44d7Ium7EOON5DdTNQ9wftAT6tR4TQpRKJf5ep6KWF0L47lLol2F/lTL7X7MhtORCLufqpsu3//6iw42uZnTosBbuuIerf3LQdre6XmMD1PnBAtNyyScoyAstLM/wuXCKcT77K4o7vlPK4qdMzPITX9aFEvvm6OCdAzXHOC2v89mhmlN8mjnNEorikuH48JlLpTqXyodh6uQx/cxcLBZTqVRLSwsdRRsOh3nESs4YFreCRk8qTx0asiVqMxS/6pQd3wHpeK6wzfEnzmP6Kevoj+UmA1c3Cpa35HXONfM8B1Ezh1tC0Ykye+7VfktY9kvfPuukvu+sJdvZqwHpeC4bo+mmhtutouaRNUtq8n23Q6d4Vq3mQJ6nePHDvZF13YhxxvMaqJuHuD9oCfR3PUYNCXc4FMuiqMb00fjpl2F/lTL7X7MhtORCLueWys7ymG///UWHG12d6GSzWdr+R31HwzBC1T85aHb35fyYvDPebYiORwfdGhVLQtS89J1SFp+ZmCJjcDL5KBGW4NwueRCUv3UuG6Zw0zHH9ICCLUdBJ6e5Gel4vyc+c6nUaX35YbeKS9a0NbfIViqVVCplGAaVFKP6d9AMmacbdkcOfJPe8pFVOIIKGrJJHKJXh07Z8R2QjudeDeY85oOqIiwGrij7jq+zPTVLEwehSFN1EIoos+de7XcMUb7p22ed1PedtWQLezUgHc9lYzTd8goR+6IVYm5Pbh7udFy5yrNqOgN5nuLFD/dG1nUjxhnPa6BuHuL+oCXQBHpM7jorCrDvLoV+GfZXKbP/NRtCSy7kcq5uunz77y86ntr1SCRCx8qHw+F4PJ7JZAqFgtuiU46vul5jA+zNgAWg+pK7wm6LMVhv9GTfi2yD75SSPeHZDEo+y098WS9K7KHFwS2unIt8uB0bbAqLo+C14FhMtV/2xGfNXEqBauYxnW8xlcvljo6O1tZWUr80Z5vNZovFottKWjk57BDkO/SkjwKlQ0PfDNkki1un7PgOSMdziz01LzmP+aCq8JyBqxsFuw9sT83SxEGo62FFEIoos+de7bcHZ7nj22ed1PedtWQjezUgHc9lYzTd8qCkfdE1YXHc0qk4HZpnz9xGQmXbPMWLH+6NrCtbJbs543kNVPYEbhDoX+fdK9KDC7CioqeqQfGAm//6Zdhfpcz+12wILRZyOVc3Xb799xcdzXY9k8lQ3/Fgndve3q6zS57jq67X2AAfaS0T5o9EOS7G4E3JbmpN9krT7TulZP95sZ86+vWiJActu7lIBoNBnfkZObNxUSVHyOUbwRwFxSiMbJK+W/bZbTOSm2+auZRer2MeSyQSNLoRiUQ6OjrsY9V2g2Xm9l/lO5wiPdnL7maSvhmySRa3epyeHvYdUF0KpsVgzmPqcmp5q+YlZz91o2D3h+2p2QxxEOp6WBGEIsrseb0GudgM9tkrGZ3U95212DwhRNPlYTKe9xpY1hbyOYqOskreISZvLePPr6tXcTM3ndSxP9wbWZdDsTg443kN1OIPLkGgOebHuC1RVPS+uxRc4GsWJ3+VMvtfsyG0ZEcu5+oGxrf//qLDaaGITqlUkpeYuk2IucVXnRBsgCIzWHx2u+QG0jAMS5vBMxv2n9x8q3mfG7CeWC5HX/FBVfkxr53smhHRPzxQ4ZUM31GuaypPRRBuPzEcRR52e5dLpTqX8utyNC0rEuU85iZmyJ9cLsdrFDs6OjS/ga5fwH1Xnjo0eKRckxijkx1yQG71iX58ZZ/lY9l85AeLV3zJeawnhZ19YwdzUDcK/Dw72J6aceQgvKYXB6GIMhcHr55zRNwcbLZXMjoN6ODMw4RaTjK56JHicpNVvCjRMqDJA52ao2w6qcNZgh/2mrt0si6HYnFwxvMaqMUfXIIA9JjQL8P+2nv2v2ZDaMmOXM7VDYxv//1Fh2suRXS4BtescyniHF91vcYGKFp9C0m3Sz5q3L5qjoxxa2zcPFTf5ybKcUZO/S7/qpncdaTEQbODI9KTk07klTCWkVcOiLJoT3CxV7KD4SjysPy87NbMpfwKs7LnMerk6eQx+eh8y8ABB2R36BdwetJHgdKhwet+Hdc12c12vKMTF51nHD3XLFOO77rd5Dzmg6qbn/LSfXWjYPeB7amZ53XS1O6/fGSIIsoyasdRGEefdW6y2V7JyCa5zZYPzjxM2OVhIznJqFKyyC05pRwn1mTfdKoyndThQPlhdReCn2cHlw5F1uWHLQ7OeF4DtfiDS0xLcVUAACAASURBVBBoDj3GZVhRWnreGNcsTv6C4DqiZkNoyY5cztUNjG///UWHay5FdNjymkjlKGu+xQYoMoPsrdrNPV15/QxvjvKkJ9UB0a/URNEaP7dtP2p/5JFaebTS8lZ9KVk8l/W23EJbHqt5yTQcV7zIvc/6fq2I4SjysJvxmrlUfr1mHnPrBbIn/oqq/lv0pI8CpUODl7Yqum4cU0eHPLGsmBPWj68lFN9VqMUf+ZLzmA+qsj8Wtw5wyyt0yfbUzPM9D0IRZTbDd2ZwjJ1cV6ibS/vrOqk/OPMwsZJntPjbzXITaZn2Z8LcTMjVOylb/SE2ndThEPlhTx0PzaEEDsXi8F1eLP7gEgSaQ4/xWmRFW8KlwlPXrVKpyB1c9aohf+091xEK4x0zIsdI3cD49t9fdLhBVUTHn88cX3VlygYoWn1Hno43ZXrcrnDrG3LZ2uTolc5NeZy1Zi/c7qHcCrrNKdFb9aVksUTWUf5UJXnI5dqtcyanjg9cFrP5kuEo8jA/bHFo5lL5Lc5O8gQRR61mHmNrvWZ4/WJIT3r1X+4EK8oszxDqHFsic2M3d+wUp3FqnnPDfsoOTgsf+UH2R3b7TjXZE7tbNpXrK/tj9jsyQ3VR8pHDKTjNKFNm850Z7FGjO2y2urm0vy4jdSMzOPMws+JmiysrHiKXxzH5eXLwMIpcrKjtcKvwLT54XUvMSamojuxBQI85MsHNvifQBHqM98TTwWJukklub/QbqkQi0dbWxi2Em+eUMPr9GzkhuY6QayX5ATe3ZgPj239/0eFGVxEd9llRWdtjrSmM2QAf3Ud7oKxwZN94IRkPB9pf9HeHF+n5647ImVw9MVVfSnJkOQoyMfkBfbfcy4lGo/YX+QGdRX32193u9AQOl0r9Jp/zmLy8k1f71Nzdx9bKr7tFje/zqDYVRr7v6OAC67Uvq0mDi3Y4HHbr8joaJn/GreaYuu9Y+K5C3WzuYQ9P4S33g/V7tEIIPl2J2lB1Emimqd1IzqjqmoE792p1bfdffce32ZqpPwjzMAPnXMdJRomorpG4CuLHuO3Q35WtmTpkqqeHOXY9LK2+M55sANwg0KfnK+bz+Wg0qu5EOiZJNpvlveyKOQGuMtSNAQdRqVTS6TSdAUgNec0Olr/23ncdweVc3Uny7b+/6HCjq9BjbHkoFNJZI05nT3FaqBOCDdBMaE5xN4dsbblcljWAvrB389x+n1evhcNh+wnC9uf5Du9209FydafEZtS3O8U03FpoTh1PXflKpZJMJmuubfMh89gedS5lXORgaKHqjKvXPMZFVXOAo1KpDBs2jM/UUVcg8jSXp8UF8otqGvl8nupwOm3V05wqA49EImohwZRqxteSOr6rUIs/8mUvFUDW9jqVANmTy+W4au0PesxTPSYjpS6E2yJtORE91dvyi4oMNgjzMMNnZcWbYGmaS9EHoHe58FK99+tf/5q+Qeo4+sbByQ7N1KFX5EKXTqdlf9Ru+cWaA2QWr+Q4qgf0LS/iEgQsBPpufoxkVSQSSSaT+u1xPp+nU56DwWA4HFZ07uVptHA4rK6Rqb9CrRT3WtRdCt/rYTxVKHLycDlXdy98+++v+8I1l6Iulteh1azdqOss9xjUCcEG1EuPsZI3DGPkyJG33XYbZQnNvq+cZDruQqFAfdNgMBiJRNQZlT0slUrt7e2hUKhmQaBX6k6JvOWGmbbAaR70x7GwOzj3cktveYZ7b9SVdOuNyW+VSqWOjo7Pf/7zirzHOpA6CvLrajeXSnUutXgi57HbbrvtV7/6FfVLYrGYDkMem1cUOg6Ros/VJhVz/tXRIc+7amZI8kefhnxefyKR0Im1PEwTiURqTlb7q9C8rolyBGi/2UsFUNbAOlNk6XSacgI3czWzkH6aWmKtH2UOIhKJKAZNZP8zmUwkElEUOi5iOlhkn7kKqklmsOVhmRKPKFE3jLKTIjnoXXmp9pgxYy6//HL6nL2+WNJPHXku3etAm37WlZmQmzNzTRr2d3EHBGQCfafH+MjmcDgcCoUymYxalVUqlWw2y72Ktra2mmWYnw+FQpdccombeCsWix0dHVS5h0Kh//zP/9SsXPy1954qFDltuJw3nR7jQdxgMNja2qpIOEoLEmOsUtT1Wk+qThkvu1nJG4ZxxRVXdHR0eG0z2CtNRzqd5lWykUgkk8mou6e5XK69vZ1yqU5B6OECDEUsuH11k0+Kdx1/krOKmwBOpVKUQ2h2RSEYqNIwqn9quc4KxGtEuFSqc6k9sjyiHI/HSVrrdxx5bL6mhqesQnUsFyh1BSKE4L6sYRj65+nL2qAmDRpQoDys8wm1crmcTCZ5yKy9vb2mFPdXPzedHisWi5yyra2tblM6MsBwOHzllVcS/Jqqw3cO16+Z5Q+itLW1JZNJRQVYLBZZCBmG4TYFIdckhmHUzC1cQvUb6MGWhxmREIJrfmolNae5OFFIIFF3Tn/VjI+yyQNt4XBYfzWWftaVmZDbd3mxe4U7g5xA3+kx+g4gqSAa6g6FQqlUKp/PyzXswQH4YrGYyWRisZjc6ij69HIS8n6wUChE3R1WZZVKpVAoJJNJ6q5FIhFq4++66y7oMZmh2s01l7pdl3cstLa2JpPJfD7PCrxcLufzeU6LUChkGMZNN91EKa7u27EB6g63OhaWX7l3TnmD8ifnHMvDdbmU18qGw+FYLJbJZIrFotwvKRaLuVwuHo9T95r64poFoTco8ac8iY9CF3lCJE/+OLagNJtNCpbKNWUnuctlqTRIUStSUO7Ufu5zn0ulUuxbqVTKZDLRaNTxdd+tr5zHaJ5TPnasJjGu2TgbFAoFzi2lUknOKpFIJBaLff/73+cqVO0/D0mQ54lEguNeLpfJZ8e1tZ5oUHeWTKKCZk/HcrlcKBTS6TQlNNmjI8Z8r1/w0edTw6Rfe6kAkudy7UpLTvL5PGeGYrHIAEOhEE3CT5gwgXKdut72pLEtHDxFmVa+kEmUXS0VoKWN4JxpCVS+TCaT3ONvb29nJpVKhZobxylWfT0mhBhUeVhmy8qKKn9apqEzt8kCiXpZXhdWeEodKss8iE+jFdzroIolGAxySeEIesq6/BY5PNWBlndxCQIygT7VY1RaSGhR4QyHwzTQwkObLS0t1DvnpVmhUMhtCFCOCbnlhYhUZZA/VAtQG09NVCKRoB4YF3i1DPDd3rP/NRtCS3S4nKuHt337z8zV/lus4pqrZnRIcnA6HhzabGlpoUBbWlqox0xpFIvFSqXS7Nmz6WF1QrABddRj8qI4am8UOxUtQHxfZjKZcPUvGAxynmdEfJNLSigUcpQrjgb0BiXe9aS/d8XRNstNeXLGscMkhKBFrTyaY683GCDlq46ODnmUxxIiXcqdWla8jN1tuxqXSnUutYfI9KgIeF1R41izcW6h6FNdGg6HaUHgPffcw30guz2WO4VCgfsxcp1MRZWGVCyv+Oi701pKpm1PR6r/WbNRXLhHZTdAvuOvQmtGPcYrOR1rV5ayNNBD0porhJr1tu8czkFo1sz5fL69vZ0VFOU6ztKWNoJ229p70nIGOLj7l9cRUIkg32Sv5OfJ7bUBHTx52MKKB864BtMZkuPNC/SW1/UIXlOHBg15+Ync6+Dun71p8Jp1ZTK+y4vsCdwg0KfneTBuWlMUj8epxqQmmZtSKjM0etrS0pJOpzUbY9l/Gh3kHj9XHxRWLBaTBZ58Xoi9oLK3PdFj1L1w6+HJQchuLudqvcT2e/Wfmav9l02yLISTMVoeo8tsNhuLxSghuGtIgofSoqWlhVfrsShSLEohA1iiKDYIOdqjuMnDeGSe42yA4nV/PxWLxWQy6VgQZEqhUMhrQWCYmn0jHfu5ZY1EIprTdDreynvS1FNGuVwuGo1SduKZH27mqdKIx+PZbFbdb2Or0um0W+YMh8OOtQGXSnUu5SBkRzweZ83jaTkNeUJHEDnmFo6FfGYS1wyaBTyfz7PnXDlQhex2loYPGlT/UzqS2TxkRmKYagbSqzodPibMNmvGl19kUF6rUPbB7uiNAmgJRa5dmSE3oFRpcEGQ7VHX2z7SlAyTg9CsmWlRJec6xzaC1tE4FkYLEJq/4haHmdCoH00k2l/xkfqDJA9bWPGWEypoIb2PwXCu4IraU6H2lzqJRILGOu05ynHLLhvpo7n0XV4seHEJAn09PyYTL5VK2Ww2mUzG43FuSqPRaDKZzGQyvNhAfkXfXS6XM5lMMplkn+PxOC2P5CaKfCsUCtFoNBgMxuNxtfZj33Sm6dnUYrFI/rutgOInLY50Ok3Gq9s2tj8ajWo2WhRQKpXS8d9iValU8hQdWiuSSqUSiYQ6LcrlMuUEdULwY8FgUH++yBIL+yWPw1GnUJ0T7K/35A4tCbMgCgaDiUSCcqwPYyqVChcrdfdL3/JMJkMpeHAHFK/u039d8WQ2m+W8UdNnWnbChZHzcCaT4VV2irAsP9HiLkvmTKfTbkWJTY3H45aaxOKz/bJQKHCiJBIJH8lKe9ZzuZyl2kwkEul02hJ9rhnUFYhsp73ajEajlAnlx9jdQxpURVN9QunI9b8bfw7a7uAs4al+FkIwKK9VqN0GvtNL1RT7T45KpUKZgRkSwFwuZ8ldbE/NZsh3mnIQXmtmqgAtWZraa3tELATsl3YmwWAwmUzmcjnHAtuT1C8UCgM4D1vYlstluZ7UH5LjngYlhGMqWMLiS9+pk8/nU6kU17fUnrodW+A769LsOjeLnqLGcYQDBIhAI/UY0gAE+g+BcrlMi1t8jJD1n1jAEhAAARAAARAAARAAgeYiAD3WXOkFa3uLAC/G409e9lZI8BcEQAAEQAAEQAAEQAAEuglAj3WTwP8HNwE6jjwUCul/qnJwA0PsQQAEQAAEQAAEQAAE6kAAeqwOEOFFsxOQj/jrm5M8mp0Y7AcBEAABEAABEAABEKgLAeixumCEJ81NgE/y1TwzqrljC+tBAARAAARAAARAAAT6DQHosX6TFDCkQQT4w1A4yaNBKYBgQQAEQAAEQAAEQGDwEoAeG7xpj5gTgXQ6HQ6H6Xtfnj6NAoAgAAIgAAIgAAIgAAIg0EMC0GM9BIjXm5sAf4wYJ3k0d0LCehAAARAAARAAARBoTgLQY82ZbrC6TgRyuZxhGDQ5hpM86gQV3oAACIAACIAACIAACOgSgB7TJYXnBiSBeDxOegwneQzI9EWkQAAEQAAEQAAEQKCfE4Ae6+cJBPN6l0A8Hg9W/zA51rug4TsIgAAIgAAIgAAIgIATAegxJyq4BwIgAAIgAAIgAAIgAAIgAAK9TwB6rPcZIwQQAAEQAAEQAAEQAAEQAAEQcCIAPeZEBfdAAARAAARAAARAAARAAARAoPcJQI/1PmOEAAIgAAIgAAIgAAIgAAIgAAJOBKDHnKjgHgiAAAiAAAiAAAiAAAiAAAj0PgHosd5njBBAAARAAARAAARAAARAAARAwIkA9JgTFdwDARAAARAAARAAARAAARAAgd4nAD3W+4wRAgiAAAiAAAiAAAiAAAiAAAg4EYAec6KCeyAAAiAAAiAAAiAAAiAAAiDQ+wSgx3qfMUIAARAAARAAARAAARAAARAAAScC0GNOVHAPBEAABEAABEAABEAABEAABHqfAPRY7zPuZyEUCoV0Op1IJILdf/F4PJ1OF4vFfmYpzAEBEAABEAABEAABEACBAU4AemyAJ7AcvUqlkkwmw9U/wzC65VjQMAy6mc/n5efhBgEQAAEQAAEQAAEQAAEQ6FUC0GO9ircfeV6pVDo6OlpbW4NBU4CFQqGWlhaSZKFQiCRZNpvtRxbDFBAAARAAARAAARAAARAY6AQao8eSySQpgVQqNdAJ95f4pdPpSCQSDAYjkUgikSgUCpVKhYwrFouZTCYajWJ+rFdTq1QqxePxYDAYjUYhfXsVNTwHARAAARAAARAAgWYh0Bg9xivlgsFgs5BqajvL5XIoFKKZsY6ODlZiTR2ppjM+mUzS/CSlRdPZD4NBAARAAARAAARAAATqTgB6rO5I+6OH2WyWNowZhoFJsEalEG3e48GIRpmBcEEABEAABEAABEAABPoPAeix/pMWvWgJK4GWlhZMjvUQdCaTIU0Vj8c9eYX5MU+48DAIgAAIgAAIgAAIDAYC0GODIZVFNBqlQzu8SohBQcdjJFncel1tWywWsX/MI2w8DgIgAAIgAAIgAAIDnAD02ABPYIoezeeEw+FkMjkoItybkfStx3rTKPgNAiAAAiAAAiAAAiDQlASgx5oy2bwaDT3mlZjieegxBRz8BAIgAAIgAAIgAAIg4IkA9JgnXE35cKVSoU+NYX6sLukHPVYXjPAEBEAABEAABEAABEBACAE9NvCzQbFYpAPWocfqktjQY3XBCE9AAARAAARAAARAAASgxwZFHoAeq28yQ4/Vlyd8AwEQAAEQAAEQAIHBTADzYwM/9aHH6pvG0GP15QnfQAAEQAAEQAAEQGAwExiYeqxUKmWz2WQySceL8xd4k8lkOp3O5/O+v8FVKBTS6XQymWQ/o9FoMpnMZDLFYlE/J5XL5VwuZ7EwkUikUqlcLufbPDKgVCqxecFgkBYr8pEe8k/szmazFuPT6TT9mkgkLD+pL0ulUjQapXcLhYLi4Ww26xZEuVzOZDIy53g8nkqlepJ2ZEmhULD4TCmYzWZLpZKjtbIZwWAwHA4zNzeH4zmW5XKZM2Qul3MMy+1mpVLJ5/OWvBcMBuPxeDKZVBjv5mFD4LsZg/sgAAIgAAIgAAIgMGgJDDQ9ls/n4/E4fWsrHA4bhiH3mMPVP8MwWlpa0ul0uVzWT/hCoRCPxw3DIE/Y21AoRAEZhhGPx2uqskqlkk6nHS0kz8m8TCbjW5XxhBgbqXY47ivzPQvEoRuGYZd5MnDHIMrlcjKZZD5sOcOJxWJqmScHIbtzuRylIHnFPnMKhkKhZDJpT0F+0pNDDprcxWKRMqQjcPvzdKdcLqfT6ZaWFnveCwaDjCUUCsXj8Xw+7+aP5X4fw7eEjksQAAEQAAEQAAEQAAEiMHD0WKVSoS4md3kNw5CnhlpaWqjnTb3qcDjc3t6u2X/NZDKs7sLhcCgUohMLg8Ege0sSIhQKKWReqVTq6OiIRCLUk7ZYSD6Q/a2trel02l82rcv8mGN/XceenuixXC5HacQwKbFIjRAZesATnEqlkkgkKAUtPtP8oVH9o7mvcDicyWTkmNZrfozJ6OuxfD7f3t5OM3JsOec9i/GkzZLJpI6St6dvL8GXScINAiAAAiAAAiAAAiBgITBA9FipVIrFYrLOSSaTB/uy8gq0crlMqw2pX0t92UgkUlOS5XK51tZWEgaGYaTT6UKhwF1e9jYWi5FUs0+wEPRKpcJirLW1taOjI5fLyRYWi8VcLpdIJAzDaGtrc1zzZkk/nUsfMkAIYe+v64QlhODgvM6PpdNpSsFIJBKLxTKZDMMpl8v5fJ7pBYPBSCSiueSvUqkMGzasra2N3iKf5TQqlUr5fJ6w64jhnpPR1GMEhM/GZMs57xFtmvfjVZRtbW3Dhg2Tn3FMOEssegm+Y9C4CQIgAAIgAAIgAAIgwAQGgh4jnUP90ba2tkQiIfe2OarsKJfLiUSCJVYkElGsf6tUKrFYjPvECp8rlUo2m41Go27zY9lsloyMRCKpVErRYy4Wi4lEwjJLw/Z7dbBA0pQB5L+lv64fKAenr8fC4XA6nWbJ5AaHlnpSwoVCofb2djfUsrWJRIJ8Jomrxt7R0UH+G4bBalD2rS5KVSchcrkcqVOSkdlsVmG5ECKXy8mSrOauP07fXoVvQYdLEAABEAABEAABEAABC4GBoMeSyST1oSORiM7MgBCiUqmkUinu2cdiMbfObi6XozmTmurCQtZ+GY1GQ9U/RXD2t3p+hwWSjgzg4Li/HgwG+aaOg4OrSUwOgpVqzVkvmsiitYU1JWs2m+U5N535Rs4YB5ekumlv2WwdIPwMk6mZEMVikcWVzhQuBWF5S3/zXi/B54jDAQIgAAIgAAIgAAIg4Eag6fVYoVCg3mQoFPKkc2hWjbRWOBx267ymUinyv6WlRWc2xg10qVTiSTZPe5/cPNS/ry8DZD97rjo86TGaBaq5dpRW6PFGsmg0KttscfPcpte8kclkFPOcPSdTU4/JmtMtZ1oiS5c8q1YzynIsegO+o3m4CQIgAAIgAAIgAAIgYCHQ9HqMTsyj4zF0evNy/Pm8O0XnVe62yu96dbMoqqlSvPpc83kOuqYMkL3yHXEOrmZM5SD0Z4GEECxXDq5adFtVKITgBaKGYXjNGzIKi1s22/KT+pLJqBMin8/TEACd2Kn20/4rm6cYZbCsuuwN+HbDcAcEQAAEQAAEQAAEQMBOoLn1GE86+eu5CiFqyjnu3ba0tLitabRjtd/hvrhhGDVX2dlf78kdDlotAyxBcMT7YL2iVyaZTIYXkSqEFiWuQmxboqx52XMy6oTgKVl/MjKfzzOceDzuFimORS/BdwsX90EABEAABEAABEAABGQCza3H5H55zX1HcrTZnc1mecmi4zLCdDrNkxX+gqCwyuUyrVc0DKOjo6Mn0o6N13T0fz2m2KzlGEdZcrgt52OtHg6HU6mUoz/+brKS8a1UFXqsUqnQcfahUEi9GlNhPH8nTfH1BY5Fb8BX2IafQAAEQAAEQAAEQAAEZALNrcc0163JEba4Wau4zbDx4jE60E+xOs7is/2S5+IikYij9rO/Upc7HEeFDLAHxP1136pDf72iV0nAMVIEIWu2ngjp3iCjSIhCocD7DH3LSE47xQwbP9Mb8O3QcAcEQAAEQAAEQAAEQMCRQHPrMZ4H8KoZZBY1PUkkEvxls/b2dt+dez56JBgMtra2JpPJnhwQIkdB7Wb1opABdh+4v+6VLQenEEsUHAfRG5KAZz69em5HYbnDZvsmo0gINrsmPYtV8qWOJxwLr3z001c2CW4QAAEQAAEQAAEQAAFHAk2sx3hBmmEYNb+25Bh5uknH0NPnoR2nv0qlUnt7O0myUCgUDofj8Xg+n/ex5jCdTtMh+3RceygUSqfTjoEqDPb6E3egFTLA7if3132rjpqKgoPwLQkUaxHZ8x4ejNkbZBQJwZvHQqGQ4rN4dqvkO/yRBh0+vQFfNgZuEAABEAABEAABEAABBYEm1mP+ZIadBXfcFR3TUqlEs2S8B8wwjFgslk6n3b5SZQ+I7tDcBe1JY1WWSCRyuZwPgecWinzfHyjG0s/1mNtXxXzbL6NzdPv2WSch2HNFbnS0Sr7ZqwHpeC4bAzcIgAAIgAAIgAAIgICCAPSY0O8BZ7PZWCxmVP9oPi0cDtPGM8Upf3b6pVIpmUzSVJss8FpaWtLpdN0XMfrrQDMW6DFLCvacjGJ+jD2HHrNgxyUIgAAIgAAIgAAIDEgC0GMe9JgQolKp5PP5RCJhV1PxeNzTArNSqZROp2WBx9Nl6XS6jnNl0GP1LbosmXwrVeix+qYIfAMBEAABEAABEACB5iUAPeZNj3FKy2qK57jC4bDXb4tZBB4dLhKJRDo6Ouq1rwx6jFOtLg7oMT4B0m2xaF04wxMQAAEQAAEQAAEQGAwEoMde/yS01+kOni6LxWJ02gcdnOjvAMZSqURnOVBnlyRZXWbJBrke6+GHvO21QP/XY/JZ/27fZ+NYeF0Y6S872THiDgiAAAiAAAiAAAiAgBCiifUYfzmX5pR8Jye93pPP71YqlVQqRQcnhkKhWCzmW0cVCoVLLrmE5x/cOtOeIuuvA839da8ylYPrm/MV3aZo+EPeXvVGTbY9J6NYryh/4tx36svn3buNDnAsvPLh9FXEoiZDPAACIAACIAACIAACIEAEmliPCSFqHlVfM5nr2Lnkj1MbhuHWCa5pjxCiUCgYhkHnhUSjUZ1X1M/4iyP315tUj+loEjU3t197TkahZHSOqnczjO+zhQqtpfMMeyg7/GUn2Qe4QQAEQAAEQAAEQAAEmEBz6zH+WJNhGJ5OOOT4y9MRPRFRpKN4XiudTnMQPhws7ery7Sx/Heie99cbOz8mx7qHyWFJQSbjW6kq9Jj8Vb14PG4JWueS543VU74cC4VmcwxOBus2Oen4Im6CAAiAAAiAAAiAAAjYCTS3HpMnE/x1DePxOE9G9fCg+Tr2U333le0JLITwZ5g8v+RJ6/JCwcbqMSEEr0TtyQpSO1JOnd7QY/Ksr2EYXr9uJ4TgzWPhcFghRDkW0GP2JMYdEAABEAABEAABEOgzAs2tx3gqIBgM+ui8yj3XVCrVQ+iy7FH0g3VC4b5yA+fHZDj60clkMrSPjlJEvQOKo9lLkqDn06eOidXbZvOcrWIazdEwuikPMSiO6OztWCgsxE8gAAIgAAIgAAIgAAJMoLn1mBBCno1JJBIcsZqOSqUSi8V4haGPiQhLECxgerh/TIiuIx/V680soSsuZaGoP4tYLpcJjv4JJblcjsVYf9BjxWKRJz89TZHl8/loNOomZnzPHGomBJOn79F5+qhdNpsNh8PBYDASiajTGnpMUWTwEwiAAAiAAAiAAAj0GYGm12Plcrm9vZ2UQ2trq+ZMTqVSGTZsGB1SH4lE3D4alk6n4/G4plST5yUsSx/L5XIwGMxkMjrnLrKuU683088imjLA7iF32XUsSafTxJMkUH/QY0K8/nG5SCSiOQWayWQikYhiys53AuknBNlAZ7q0t7e7KUNLkuXzeUqCUCjU3t5uyYSWhzlxFTG1vEKX+rFwfB03QQAEQAAEQAAEQAAEZAJNr8dow4z8+a9kMqnuiRaLxY6ODnqlra1t2LBhbjIpmUy2trYahpFOpxV+VioVViOO/X7qwtInxdR7sYrF4sUXX0zy0jAMzY64nKJ2t+8OdLFYpMkW+q6a2+LDcrlMoGg+58orryRJ1vD9Y0KIUqnE+rCtrS2ZTLqlNW20SyQSrCrddLg8f+UpjfQTgsYL2traSNa2t7erD5upUuaVoQAAIABJREFUVCos4WhyTJ3NZKUKPWYvMrgDAiAAAiAAAiAAAn1GYCDoMZZkvPgwFAql0+lCoSCLqFKplM/nk8mkUf0jjaEQY0II/qpYOBx29LNYLGYymVgsRrolHA47rotjVUBBx+PxXC4nd/fL5TLbxnN9bvrHa+bQlwF2n+X9YLQELp/Ps6QpFovpdDoUChGfSCSSz+cnTJjAelIdhb6ZoqFZIzIpEonEYrFMJlMsFjkWMnwSb5FIRL32NZlMyjNRzKRSqVA6Or7uKSFkSUaE7dnm4P5JSw6kJ2uKMegxe1bHHRAAARAAARAAARBoCIHG6zE6BE//v259zXw+397ezvM5pBBaWlrY51AoZBgGCyea9eJOuSP9crlMEyay0rP7Gar+hcPhjo4OtxmtXC4Xrv7RjIdhGOQnmdfS0iLbFg6H3ZZQOtqpvulJBti9SqfTra2tTODguSlMgHr/NC0Wi8VopxMH1x/mxyg6lDdYQRF8joUj/JoZo729ncQb5SvyTfbKTpLJaB7UUalUSLLyfKM921DonANjsZis8+028J2+EcMcHBwgAAIgAAIgAAIgAAKOBBqmx2Q1wpKppkPdxS+Xy+l0mvvErM3IWxI81KNNJpOa3dZKpZLNZqPRKE1tWfwkiWUYRiwWy2az6k58sVhMJpMsC3kdHSm0cDjs1TbHFLXf5GMtNGWA3YdsNhuLxQggJxyJMbI5nU5z3OXgNOfHvJ6NKQehPrWC40KLKmvCT6VSmhmjVCrZmZA0dTtLw4fZNPcbj8cdLafgKOfo5ECmIc+P9QF8OVy4QQAEQAAEQAAEQAAEZAKN0WN0fl1N9eX4QM3j5mjNWDqdTiaTsg/xeDyZTOZyObcpLJmL3V0oFDKZjMXPZDKZTqd5uZr9Lfudcrmcy+VSqVQ8HmfzyLZsNuvPNnso8p1KpcJhqQWS/JbFXalUcrlcMpmMRqNkdjQaJZ7yolAhRLlcpuCi0ag6sbLZLHkVj8dZzlnCdbzkIILBoHpjleV1gp9MJhlIMBiMx+OpVCqXy1kiYnnXfmlnEgwGiYljdHybTRvhstmsxXIKjpbmOoZot5nv9D18DhoOEAABEAABEAABEAABJtAYPcbBwwECIAACIAACIAACIAACIAACg5YA9NigTXpEHARAAARAAARAAARAAARAoMEEoMcanAAIHgRAAARAAARAAARAAARAYNASgB4btEmPiIMACIAACIAACIAACIAACDSYAPRYgxMAwYMACIAACIAACIAACIAACAxaAtBjgzbpEXEQAAEQAAEQAAEQAAEQAIEGE4Aea3ACIHgQAAEQAAEQAAEQAAEQAIFBSwB6bNAmPSIOAiAAAiAAAiAAAiAAAiDQYALQYw1OAAQPAiAAAiAAAiAAAiAAAiAwaAlAjw3apEfEQQAEQAAEQAAEQAAEQAAEGkwAeqzBCYDgQQAEQAAEQAAEQAAEQAAEBi0B6LFBm/SIOAiAAAiAAAiAAAiAAAiAQIMJQI81OAEQPAiAAAiAAAiAAAiAAAiAwKAlAD02aJMeEQcBEAABEAABEAABEAABEGgwAeixBicAggcBEAABEAABEAABEAABEBi0BKDHBm3SI+IgAAIgAAIgAAIgAAIgAAINJgA91uAEQPAgAAIgAAIgAAIgAAIgAAKDlgD02KBNekQcBEAABEAABEAABEAABECgwQSgxxqcAAgeBEAABEAABEAABEAABEBg0BKAHhu0SY+IgwAIgAAIgAAIgAAIgAAINJgA9FiDEwDBgwAIgAAIgAAIgAAIgAAIDFoC0GODNukRcRAAARAAARAAARAAARAAgQYT6CM9tmDBgp/hDwRAAARAAARAAARAAARAAATqROD+++9vsJaqR/B9pMfqYSr8AAEQAAEQAAEQAAEQAAEQAIEBRQB6bEAlJyIDAiAAAiAAAiAAAiAAAiDQRASgx5oosWAqCIAACIAACIAACIAACIDAgCIAPTagkhORAQEQAAEQAAEQAAEQAAEQaCIC0GNNlFgwFQRAAARAAARAAARAAARAYEARgB4bUMmJyIAACIAACIAACIAACIAACDQRAeixJkosmAoCIAACIAACIAACIAACIDCgCECPDajkRGRAAARAAARAAARAAARAAASaiAD0WBMlFkwFARAAARAAARAAARAAARAYUASgxwZUciIyIAACIAACIAACIAACIAACTUQAeqyJEgumggAIgAAIgAAIgAAIgAAIDCgC0GMDKjkRGRAAARAAARAAARAAARAAgSYiAD3WRIkFU0EABEAABEAABEAABEAABAYUAeixAZWciAwIgAAIgAAIgAAIgAAIgEATEYAea6LEgqkgAAIgAAIgAAIgAAIgAAIDigD02IBKTkQGBEAABEAABEAABEAABECgiQhAjzVRYsFUEAABEAABEAABEAABEACBAUUAemxAJSciAwIgAAIgAAIgAAIgAAIg0EQEoMeaKLFgKgiAAAiAAAiAAAiAQE8J7Hu+E/8GAIGe5oN+8z70WL9JChgCAiAAAiAAAiAAAiDQ+wT2Pd+5+6nbd6+4B/+alcBTt+97vrP3c0ofhQA91kegEQwIgAAIgAAIgAAIgEB/IGDqsRX37Ol8EP+alMDuFfdAj/WHogQbQAAEQAAEQAAEQAAEQMAzAeixJpVhbDb0mOdMjxc8EDiw/8DLf8O/AULgpRfF/n0eUh+PgkDfEjiw75UBUtZQbfYGgZdePPDKS32bJREaCPQRAegxFjZN6oAe66OiMkiDeeUlsaEg1s8U6/Cv2QnMEDsXHvjXC4M0JyPazUDgwF92iGcWiXUzUOGAgI3ADLF9/oHtS5shI8NGEPBMAHqsSWUYmw095jnT4wV9Agde+de+zsmvrJiwe9mE3cvxr4kJvLR0vNhY2P/Pv+inPp4EgT4m8Fplm9gx/+WnxqO2AQELAbMG27lg39bf93GeRHAg0DcEoMdY2DSpA3qsb0rKIA2F9NirKye+sgL/mpvA7mV56LFBWoybJ9qmHts5f/fSPCocELAQMGuwZxZBjzVPaYal3ghAjzWpDGOzoce85Xg87YkA9JilT9C8l9BjnnI+Hm4IAeix5q1hetty6LGGFEkE2mcEoMdY2DSpA3qszwrLYAwIeqy3Oxl95j/02GAswM0WZ+ixPqsQmi4g6LFmK82w1xsB6LEmlWFsNvSYtxyPpz0RgB5rul6Lm8HQY55yPh5uCAHoMbfyi/vQYw0pkgi0zwhAj7GwaVIH9FifFZbBGBD02IDpBkGPDcYC3Gxxhh4bMBVO3SMCPdZspRn2eiNQdz322tqHRXnsa2sfVssbsWXMns4HRXms+rED63PqB/Ar9Ji3HI+nPRGAHqt7r6JRHkKPecr5eLghBKDHGlU/9P9woccaUiQRaJ8R0NFjYrOpnRylEQkqsWE06aLX1j781yXZ+SNv+OuSrEKSiS1jhl97aSAQmD/yBoUkO7A+F/nE+YFAoG9EV1dcqkKxb0KsSyjQY31WWAZjQNBj/b+bomkh9NhgLMDNFmfoMc3iPAgfgx5rttIMe70RqKnHxOYxy8bdHAgEIp843yLJRHns/JE3BAKBS1s/RpJMbBh9aevH5DuOkqMf6jFRHnvXjVcEAoHh115Kc3eOlvfDm9Bj3nI8nvZEAHpswPR7oMc85Xw83BAC0GMDpsKpe0SgxxpSJBFonxGorce6RZdCj/FPYvOY1FWxQCCQuipGs2qOAqY/6rHuKTvosT7Le44BBRzv4majCECP1b1X0SgPoccaVYgQrj6Buusx85vC1W/ZN6rcaYa7Z/mEl5fl9y6fsNc0GJ9fc/jYI/SYfjnCk81IoL56zNwSVl3cqBBj5jPd4qf/rFdkk6DHGpuNoccay98auqYe27N8gv2fZkdkMDy2e1l+9zITUQMjCz1mzdy47n8EvOqxqtzKV8tXfretfL28LC92zhflOWL7fPuvfVwY91SF1u5leXs98PLS8aI8S+xYIDY+LjbNErsWvVqaXH3e1Ga7lzWy3nhlxcQuvP3ADHwPuv8VWVhUNwL112PVIzosu8LE5jG8x+zA+pzYOd5x/5jYNo53nYlNj4gNoxz3j4lt43jl5KtrHrIsL+wShFvMEMWmR2iCjk4ZcZyso5s6ekyUx4oNo19ZNXJP54OvrBpZtbBr41zX8SS2vWdd97c++roZmx55dc1DXYFuGG0Rrl172MpjxdZHKSBL7OxRwHrFuhUGeGQnoKPHdi+fIDbMFFtmic3d/7bMEhtmmsPSTp2PPu4GNTa4PcsnvLpysti+wOwUbp3TwJFv6DF79sad/kZAX4/tXpY35daWOWLnAvHMIvO/m2a9ssycZdqzwpxd2bN8gtg2b8JvfnL9lV9+4H+SYvOsBlYFZiW5dobYPk9snSfWm3UjG/PS0vHi+d93jrvjVz9IXP2Vtu/GP//ILdeJDYVXVkwUTy8Q5bli53y7hOPXe9th1hu7FplmPL3g5YZO3GF+rL+VVthTXwL11WO8C+uuG69gSSZ2TVj+2M20r4z2oc0feYNdj4nnJ08ece1F550dqP5dfVnLlpm32fWY2PHY5BHX0v1AIDD0zFPNGa3qpBzNztFut+HXXrp55m1XX9ZCvl103tnmXNyzE+16pksadU/Zuc2PiWcmzB95wyUtHz7xuCGBQODE44ZcfVnLphm/ElvGumk5vj/qlm+LrY+KLWP/uGjE1Ze1DD3zVLLq0taPLRt3M1vF9OaPvGHULd+mgNzs4YhAj9W3RMC3NxCoqceqI9ALd816cOOkuzdNyW6afM+myfdsnHzPs3NGivUzzP7E6mmNbcV7u7+i8H/PiomvrZws1s+8+yffue6KL5YevV2U5zSqawU99oacjYt+SUBHj5lT8Ssmmhps/fR1E++ac1964m9umHv/z9dPulusmy52LdzXNbmUF1tmf7Hl44FA4CPvP2dvaeK+zimK0tp7P5nKcO2Mvy4e+/Pvff1/vt3xzJyHxMaZVA+8vDQvnlv88C+uPen4Y6lbQP/tfOwO8dflM+767x/+xxce+vm1YsvsvSsdlvDVy+bX5+6qUpa9NS3fPm/MrT/6wX9cMvH2n4gdjVaGzyzat/X3/TLnwigQ6CkBT3pMbBl7YH2O/4mNo+k8j9f3j9lUjdg8ZvljN5O0GHrmqZFPnE9u0l28XlHseGzULd9m7URy68TjhpB0Ye0htj9G+9OGnnlq6qrY8GsvJX8inzifpsLkI0YooMgnzmf9Y4qfbuXGfuroMVZKQ8889fpvRIdfeylb+PyiEWLbOBKBQ888dZ900P9rax+moDdOv1VsG7dpxq/IpEtbPzb82kuvvqyFLl+H0E2PZOTQM0+l2PFkoMVmuoQe62kZwPsKAmo9Vh06XTjzrv854y0nnXLi8YcfcRh3Kc46/ZTwxy8Y8eNv/fOpx8TO+S8vHYw7IojPnPvShOULLf8mVk99deVk7u70pQN6TJHP8VM/IVBTj5nZeN1MsWV2PnNDy0c/eOLxbz4kcEggEDjkkENOOv7Yf7/o/SPT3xdrpou1M6qLAGd/JfzJQCDw8Q+eu7c0aV8Di96O+ZnrvkH1wE+vuqw6VW4uYBabHt8x8//edurJ1dHl03/yjUv/+1sdrZ+4cPPU7MtLx3/w3eb49HFDjjGl5ubZvTSUYyJdP1Nsmye2zzuwagov7KyaV9g+8/4zTjkpEAic/dbT/rxgtFg3o5fMqFkZmnZCj/WTggozeoGAvh478bghkU+cb/nHcog0A88I8awOrzm8+rKW/etyYsMomiOieomkyGtrH35+0QgSJ+ZU0oZRYsOojdNvJc/5vHvWWhedd/afn7jbXD24ZYzY2HWiY9ccVPfpI4FA4KLzzjaF0IZR+9flaHbu6staeAWjRdvYLZcfEJseoaMXX1v3sLn2cov5j/ykcPd1S6/XxdW2cZNHXNt11KS09tJ8niwvj7WoOLYhEAgQrtfWPqwWY3s6H4Qe64ViAS+7CdTWYzsX3JH6JpXnY446khxDjj7K7CJV/z7+gXO3Tr9PbJsjL9Gp2fQOjAfMDsTTCxc+MJxQXBb5lFg7HXqsO3Ph/yBgJaDWY+aqv/Uz9q2acuUlxmGHHkrF6sTj3nzW6acc/+Zj6DIQCHzt8/++r3PKqysminI/0mNcT978na+KrXNpObd4emHuf38QCAQOO+zQSbf/VPzp92LrXFMdbXz8H79/9KL3DQ0EAiefcNymKdle0mOm6Nr4+Jap934vHv3RlV/62xNjxdrppLiqPxV2Pv7A209/SyAQOPcdb/tLcYxYO3XP8l6cqVPU/NBj1tKC64FFQF+PcV1nd7jNj4kNozdOv5VW9+1d3bVpytzKtW0ciRlSL2LrozQ5Zp6b3/2FaLFl7J+fuFueHxObHqGJo8kjrhXPTCRRJHaOl8/cZ8029MxTTc22xfzetOLIfhZdrIVYSfJP5DB3i20ZY4oxUlPPTqQll/Q8T6Cx5GNrTQG2K08cLjrvbLG56k9V0YnyWJpno4k7tsGc7rNtRbPYw5fQYwOrRPaz2Ojosd/86KpAIHDEmw4fPfy/Nky6e9Vjd5Qevf3RX13f8tEPUGXR9smLXuucsrc0yd7W7lk+0dyRX/1Xs5nfs9zcE7Kbzg5ZMXFP9z/Z2+ozXd0F8txxNNd8Vy9czScl317fGfLKiol7S5PFltmTb//pQz+/dtuM+8WmWc72vG7MG16Xo1bdEvOGnhDTsDzmeGn2ZjYW9v/zL/0si8EcEHidgEKP7Vkxcd+KSWLDzMtaP0UVy4XvHToyfc36SXf/Ye5DnY/dMen2n3wl/Mkjj3hTIBDYPvP/TFWzpYYek4st7TpzLDtm0euuMWi1pOtjXJClhX97lk88sGbK3hUTx97yo9HD/+tFU/OYs0zmYu9tc2/85mWBQOD0t5z43JyRYvW0l5aOp7ORxLZ5y0ZnHrz5+7PvvVnsXGCvN3RN6racak6L5eaCyV2LRv3vD805xkDgqdG/Ftvmv2EP3s4F8/9v+IM3X/PEw7eKHQ5m0Fa97jrcXEpqCYIvq/F6/VeuvhSv8Lt0rAjmx14vKnANOAL6eizyifNZA7BDvV6R1RELNnqRhUeXHutep2fRQjy3Rm+9tvZhmjG7+rKW4ddeyv9IpFEQcohiwyi2c0/ng7TZjM/SkH+Sj3y02MCPmUps4+hl426+68YrKGiSUvT8a2sf/sPCO7uVp3ngx97VI088bsjBbWbmgsan8zRXRrvd2PLh115KglPNgW1wdECPDbhC2Z8ipKPHbq/qsSOPeJPZlv9pidhUMA/2eO6JV1dODlYl2eGHHTYre7N4eqF8mgV1Rw6smSI2zRZl89+B1VPMfoDtkDSzJV4+YW9pwv7VU8TGWebD62fsXzllf6f570B1IJybbbFm6oE15gju7mV58/mtc8SmwqsrJnOTv2f5xJeX5fd3ThGbu8NdM9Ut3JeX5c0NYGtnmIFumb2fLHxjh2P3MtO2A2ummyeklWeLtTPkfs8e0/JJ4rknxB+fFBsLMgHq5L28LP/qyikmtCoEsWHmq6XJlscodq+unCjWTt3XOWVP9cQzU+ltnCm2zhYbH99bmlRz+hF6rD8VLNjiTEChx0zl8Oyi3/yoa9Xf5z/14RcWjxXPP2mWnbUzzDrn2cViy6xJv/3J5Z/7zAvFR8TqaW56jErQqysnV4tttR7YNGt/5xTHckdKwKwxNjxuFtJNhf2dZk3FdQ45dpsFubuuKM8+sGqqfKTqnuUT9q+abFr7xyfF6mlmFbFi4r7SJLFt3vc6ooFA4B1nnPKvJY+JtTP2d1doplorzxN/ekI8vchuWFfVtLFg1gDdxlsqz93L8ma12TnFPLORqpc1083z9LvrWKoVxbOLx9xyXSAQOPTQQ5eP+Y3YsXBfadKBaj1jxn1p9YzKPz0ptjssO68GMcmsiMj/qiVu1alYM/3Amik8BifWzegyfuXkmtUX9JhzgcHdAUTAkx6zrJ2TxY/jekXRvWavhh7r/mqZRQsdWJ8jzcM6xD41x3fom9R2kyzv8qXFwRLRYgM9JjaPKeV/TsZwiOTg58WmR15fwVg9m4SWHdL6RppMs7zLl5b5MfbTYqTjJfTYACqO/S8qnvTYkw/fKspzX1o6fvfyCS899Zh4bvGDN19DuXzEj68WOxdwr8LsaqyZLrbP++eSx9ZOuKtz3B1r8iP+8ftHxY75B1ZP48eoo2M+vMk8ufGfSx7bMvW+znF3PDf3od3L8y/Tv+rmBxoqFhtn/e3Jsf9a8tj+VVPFM4v+9dRjnePu2Dz1XrFm+qslc4R797KqqNsx/+Wl49dPvNsMd/wIc7h6+zyxZrocrtlTMQ8WW7yvc9Kzc0Z2jrtz/cS7/7FknNg2b3/nFO73mH3EbfPF+hl/XjR67YS7Vj12Z2XBKNPaTbOpx2au+VljxuiF4hjzzMnunhCJTFPs7Vq4tzRx05Rs57g7OsfdsbPwu/2rp4qnF76yIi9PGNIhli8UHzHPJFg+QexaKFZP3Tr9/pWP3lGedr9YM01snaPepAc91v+KFyyyEnDTY2Y5Wjf9T/NHvevM0wOBwFmnn7Kz8IDYOf+lp8zahmZaTBlQne0R62bsXzXFLJtO6xVNaWSWu+KB1VNfWPzI6vEjzFpiyr0vL8+LHfPpoHnWWub5qKXJZt21PL+z8LuV1SdNY55esHf5pD0rumazzbCeWbS/c8of5+dWj79zbf4uc+Hf1jk0D0aFXWwo/OP34/7+5Fix6XGzIlo1ZW9polg3/VtfaQsEAu9822kvLxu/Z0X10MiyeRArVR0vFB8xTyKRdr5VK5+8eKa4b+WU8rT7Vj762y1T7929PN9ViXXXMGZ537lIbHr85aX5zVPv7Rx3x+rxI/5SfERselxs7qqd9q6YKNZOE+umP/QLc3PFoYcc8sTDtx7oGp+aKNabQ0uvrJj4WufkF4qPvLbqDRtfzYGtaqzF2uk7Z/6Oqq9NU+41w92xYP8bq3Gz+tr0+ItPjH1p6fh9nZOrsvbxZ+c81Dnujg2T7tlTmiieWfjS0vGM3dFh+oz9Y9YSg+uBQ6B39Vj3bq4aeszj/Nj8kTfYlQmdp99LeuzA+hxNzQ2/9tKN02+l0OX1iuYMW7f4NJXhjsdo1q5r4qv7J8c5RlpRqTNHZ4819o8NnKLYP2PiWY9tn0+qxmw7n1446fafkB7LXPcNsaNLj5mt+NY5f//9uJ9/7+vnDX07D0u8751nDr/mP81d+JtmszQyH961cGfhd8nLY2+tbiunDe4XnDv0ove966L3vev973r79Vd8qToAPHfZmMw7zjjl1JOP+/vvxy14YPiF5w495qgjjjryiGu/drHYNMsc6N1i+nzrD6780Hu6DnINBALnvP2Mn33n8r89+ajlPHrx9MJ85sefuvB9bOE5Z53xi//39QNrpr220pxwM23745Mrxt5++ec+c3T33rmTTjj2qi9Fds1+UGwwZ8PE+hl/WjDqo+e/57ghx/zuZ0meJDR/2jRrX+eU7I3f/eSH3nvckKMplOOHHGN87INjb7lObJ1rhlLtD5kP71ww4oarhxx95FVfiojnnphz38/bPnlR1ytvPubiz35s85R7xTOLFZLM9ATrFftnMYNV3QTc9JiZe59eOHr4f1Ge/9l3vip2LXrpKYcePM1TdU2n2PSYKXLWztjXOfmBm6+JfeYjJxxrHpdMf+ef847fXv9NsWXW3lKX8NizYqKp3DYV7vnpdz5wzju6Hwxc+N6h2Z9+V2x+nJ6kemBW9ubIxy844k2H02NvO/Xk6xNf/ueScQfWmNNuYsucdRPvftfbz3j76acs+N3/il0L//XU+E9ecO4F5559yonHBQKBI49400XvG3rR+4ZecO7Z42673vwW2fb5P/3WZW8+5qgvhj5+YNXUVztNq/Ysn/DaqqmiPOeRW6777Iff/+aju+qN8895x8+/97V/PPmo2FDoWgn57OLiyFuu/krbe97xVrb8raecNOyLYXMx54555jn7W2Z//2vtH3j3We9822n0zHvf+bYPn/euC849+2Pnv3vrjPvpe2iJL4SGHH3U/+uIii1dy62rZkwWO+ZPueOn0U9/5C0nmFGgvwvfO/S2HybMKHervt3LzEMan3j41lNOOP68d571amlSeeq9V14cCgTMHYBDjj7qo+9/t7mA4i/L1ZLM9BN6rLuk4P8Dj0Dv6rHNY+jIihOPG7J3tbmKb0/ng+b+se1v3D9WHnvXjVd0HX3B+8e2jbPuH9vQdXSHuX/s6bwsTujLYKakcVGAtF6RjwaR3yW3Yn6Mt5+Zu782ju4SflsftegxXqMYCAQ2Tr+VDoek4xbf4MMbV1HSbrqaNtgN5juYHxt4pbIfxcizHtsyx5wfW5Z/aclj4vknb/7u16iRnvCbG8QzRfq2qdgyq7JgFOmcQw4JnHX6Wz507jtPO/lEOgIk/PEL/rlknFg9zRzzXjZBbJuzfuI91F046sgjPvSed15w7tCjjzqiu/U3//+16GfNvSK7Fk6986ZAIPDWU0564GfJU086np+55LMfM2eQNhX+/uSj4Y9/iO6fedrJF5z7ztPfcuIhh5ghf/rC8/68aLRYX93XUR1lp3WYgUDgzNNO/tSF57136NsPP8w8QHLOfT+n7pR4euHih259S7U7dfybj/m3D5570fvOOfYYs4eUSnxZ7Fhg9ng2z9o8JXvKiaYx/311h9g2l0e+/7nksdi/f5SNPOOUE0858YRDq6cUHBIIXPv1i0V5Nm26Mzsi2+b98D++EAgEPvepi26//qohRx8VCATefMxRbzq860zLc846wzyErTxbnoKTh5lNT6DH+lHZgikOBNz12ASxZXbiEoOy/VOP/LpalFSbLc0M/0Y99urKya+unLx/1ZQvG5+gcjfk6CPf+bbTznrrKbTrLBAI3PStuHh6wUsmBl3+AAAgAElEQVTV82DNmfmtc6/5Wjud3zj0bad95sLz3vX2MwKBwFtOOG7L1HvFlllmGX+2+Mgvrzv6SLNSOvWk4z95wfvef85Z5OHo4T8UzxRfemq82Llg0YO/pEDHZ34s/vDki4vHnHmaeayi/e+en37H/Jza1jnx1k8HAoEL3jv05eV5cwFhdXTm4GDWD75+CdVahxwSOOHYY3gw6HOf+vDeUnXP6s75I9PfP/JN5la6ww499K2nnnzOO952QvVbPeZZZ+8d+tfFY8SaGWLT4x1tZhD2v2OHHL16/J3mRNa6GZ/40HsDgUD0Mx8RG7qO6Te/jbZlzo+HfYVPVTn+2CFnvOXEN3XL0ZaPffCFxV0rAqo6qjjljhuryzJPzd743befZh4QcvSRRxxzdNcRUMcOOTr/6xvEMw4rM7kSq/qD8+4dSg1uDQwCvarH9nQ+yAcPpq6K0fmKf1h4J63rCwQCXdNH3cd+BAIBU2utH3VgfW7ZuJut5yt2H/tx0Xln/7E4outcjc1j9q19eP7IG1ZN/IX5Aei66LHNY/hMf/p6NZ9KYoa79VFRHvvH4gieMeOzN0T3wkv6KXVVjI/XZw7m8R50NMiWMWLTI39YeOeYX31HbBuH+TEqUIGBUa4GTCw86bFlYzLiryvMZTPb54ldixY9+Msz3nJiIBD44HvO/uviMQeqEuuV0iSxdsYXW/6tutvyzffd9L0/LRz1zyXjnp3z0PBr/oM6MTd/96vV5Svm5gexZlrsMx8JBALvecdbFz34y+qu8YmPZ28+q3rkV0fbZ9bkR/x50WhzzPjphTPu+u/DDj30mKOOPLn6MZ9vfql1we+G33fT936b+pb53dhNs74e/WwgEDh2yNG/vf6q5+fn/rlk/PNzH/7Nj74xpNotuO6KL4od8//11Hix4fEt0+47vWr8t77S9scFuX2dk//+5NjiyFvirZ9eMvrXojx3X2nSvs7Jn/uUOUn1kfPOWTPhzldXTn5paX7j5Luv+Wr7/1zdIXaSHjO9Ou3kE0w99u0Osd3UY2YfbueCH3z9EuoGdbR9ZtGDv9w1+8FnZj84467/pkOuA4HAiBuuFk8vfHlZ3uyIbJt33RVfCgQCdI7cyScce89Pv1Oefv/a/IhvfDFM/nwvHhXl2a/YdrZQh8b0BHpswJTMARoRNz326soJr3VOveBc87zBd5/11n89NV5ewsdddtlhZnibHhPrZv5h3sNmpfTus7M3fnfT5Hv+tGBUZdHoJx6+9WPnvycQCJxw7JCV437bJbR2LFz04C9J1Qy/5j9ffGLsvs7Jf140evJvf3pZ5NPPzn5IbJghVk97cfHY91Xn+b8Y+vjOx3+3r3PyP5aMW/pI5ptfbp18+0/MRZVLx4sd8xePvIXKqTk4tWuRWDt9w6R71uRHxKuK6MzT3rJ8zO0rH/1t6dHf7i1NMlcSbp371c/9eyAQ+PB57zLXWHZOMf15bvF9N32P/Al+5AMLHxi+beb/bZqSfeDma0goPjvnIfPDj5tnfTf++UAg8IOvX7Jk1G3PzX3oheKYbTP+j4WcWcfumH9g1ZTn5z28dsJdt3zfHBE/9JBDxtzyozX5u1aMvX1NfoTYOOuV0gSxbsanLzwvEAhc/NmPmjtgl08w5wP/8MRDvzCPhQwEAh87/z3T7rxp64z7n5v78LJHMjzG9LXPf7b6he7qCsxdi6aNMAfLeP4wNezL6ybeVZ5+/63XXnlU9QiWf/vAuebqUGllppya2D82QEs8ovU6gd7WY7yKj47ToC1YJx43hBQL6TFTimx9lD4sRufU069DzzxVPl/RfGz7OFoHeOJxQ+j7Y9d/I/qGIzF6rMfoI2nysf7LH7tZbHqELKcDOa7/hrn/lg7ol/d68TwYVVPV0/ZHd819md9hS9MrkU+cT0d6kC7lxZyKOTqeDbM7MD/2em6Gq+4E9PXY4YcfduO34g//4gcPpr9/5w1XD/timL5w+rZTT174wHDxbLFLVzyzaModN9Lg7u/+Jyn+VqqeUTHZ7EM8/8T3q0PRZ5xykrlUptqrWDthBImrMbf+SPy9c9/KiftXThJ/XXb3T8zvFb7t1JPN/geJqKoeO7x7vugnV10qnl4odsw3/7t9ntgxb979v3jT4eZqotuvu0r8dZlYN33fqknmNrbKkp9Wjzg76fhjzV7IpoJ4pjitOtU25OijVuZHiF2L9i6faB4PsH2e2DJbrJtuDpxvmPH8vIdPPckUWrf/+FviheV7l004sHqauT1j+zxz28ayvLlrYrNVj5mdqq3zVoz9zfHVtVLf/HKreRTBM0WxYaYZ5ReWbZl239AzzeVDQ888vbJwlFgz3ewAdesx6o92jvutqDxlPv/0wv2rpn7qAnNR5ZmnnWweY9B9XLVDbwZ6rO4lBB7WlYCjHqNFhn9amKN58s9++Hyx/g1bMS1ZnS7temxfdQGw2PT4ykdv//uTj4pni2ZpXTNddE4RL66Yc1+aZnvML5jRpNb2eZn/GkYl8cUnx4lNBVMmrZlmfop68+P7V001C+b2eU+N/vWhh5qT7LPv/7moLNm7fEK1rphrjgGZR/hMMC2x6TGzHtg4Uzy3+P9dHgsEAu96++nmVq7t88S2uebJRmYt8QY9Zu41XTOtsmg0rT+84Nx3vrj4UfHHJ8x6Y2NB/PH3T88a+cDPrhGrp+3rnCLWTH/68Qc2T82aFeC26gH6q6eKrfNeWzXlove9KxAI/PuH3y82Pf6vpePNQP+2YtyvrqfzPLoqli2zxNa5e0vVFQoWPVbdgvuPJ8dd+F5TG1/43qEvLh5jHuO0caZYN03sKu5fNSVaHUE7+sgjFj44XOww9/iJbj0WCASOOerI0cOvE3940qz3Nj0unnsi+VVzBvLII94057602PGGY5/klDUxYr1iXYsbPOtXBGrrse41hywbWBLwZBSdpUHLBWnl4V03XvH6yfWVaZNHXEsSixYlrhifpsdYj5nv7srzeYMHjyW8+rKWF36fJcXCIZIkG3XLt/lojROPG/KF0IfNWbU/TjF/7baWTeJ3SUG9sqpr2STfJwcfWE9SSv4vLY988al7+QvOQ8889Rtf/iydLSnrMdOAjaPJtovOO3v/upwcitg5ftOMX119WQsJSFKeqatiLy6597XqV6TZBpme7IOjG3qsXxWogWaMvh6Tywy533T4Yd/8cmTj5HvEn5bQxoDqru5ZV14SokmzA6unmp92XTfTXG24Zrr4w5NLRt1W7dgEJv32J+YQ8s4FtMrluCHHrJ0wgkSO2QfaOnfB7/6XluoVR95C2/ppfoz02Oc+dRGdVPbyUnNyyez6lGcnq/2ec8464+VlE8xzGtfO6Ap31+I1+RE0Cp773x+Qipt9b5rWT44a/kPx4gqxaurupePJN9rFIdbOqCwY9Y63nhoIBBJfMMSzi8TGWbuXjn9paf7lpXk6uMxZjz01XpTnXlPtgpxw7JA1E+40Z9Ke6jrk2lzn+YfFN34zHggEDj/s0OkjbhJPLzQ7NN167Kgjj5h7/y/EC0+9tOSxrnNTdi267YcJ6uiYPbCN/5+984Br6vri+HMPFFfV1rpq9d/WUa1arbZWbd3W1tnaaqutdXSpbR2496oD9wZEhoxA2DsEUBkBwt4b3LMVIUCA+/e8G54hBGQlJOT0k499ebnvjl9yL+/7zj3nuHPhRhTvZpDHGtsEbWzjqZTH4l3TXC9SD9KZn46k+4rlf94Vj5XymGzypvmQSKfcQOv8YJuCMPviCIi2mulhRPMyH1jzA0n1gUmXKTxlAM992uu1CTA5SJ6GlbJGKlgHqGOniEeSvcXWx5s3A1eog2uWkAfBJNbleZBNHrttm/ZKKY9x69KqBWDI6tfz9UII3GrP7meG8LAKPFYUZk+y/BxPwK6/F0nJTm1aSW5dp4sAa7OyAWNdhq+sRTarGEmCGEiwtoTaFUc4QqDFZC9qTv/g3X4QU4Ta3DJ8zfeDY17Tpk1DzI9Q2yANeAgkXJ7HYC3N8rtSZhwz3r2a3LtBuyGBME425M519zM7aCf3/vE9SWOVlOOx4xuWk4chcEkID2pL9/Ez2k+f0MFim4U81tgmNY6nmgq8ksco5EjERgrBFTmMgQJxMisQHLMOYByMyYqlWlHkoIVpFi+uMIcZJMmCxqMviDAmCebgWyVX88tiKde4zkDJODO630/WVqKFQpe4CyuDMdmFZa5rXHnZeXYzIXQmwZzWUBRlAnsO6UjLJwojiRbUgkfzRCtWFWdGEsy5mPtQZ6IFpwwniIJ6CpUovEUeq+ZPHYvVRoHq81jTJk1GDOw/4cMh7/TtSaNTtG7V8sDaJeRBUF6wNb1LoFuM3nsLYnjMnvjR0+uWt7xNuNcDv6vXTQ520m/3wj3j9KaVlItcTm9v0qRJixbN4UYhHf60s8Ryg2+4mW4uAicH1mlNnsdswUPjZXALiQgsVyMH9mcYZvJHwx75m3GN3vI2ue97NdTy2OtdYGvlvj++B8+NCMe7AtN33+oJjiKd9E9sXP7A34ykCUiSR15ZELDCcLDpff/FRApOvyyYnux8HmLoZ8EtkSwOhzL7GERCi3IawXbmkw/eI3Fu8l7s4DKX7HnT9J+Xd12ZQGscj3Xt3OGeryn1r5Pt4cnwpeGqWzRv5nt5L0kXKA0eDXd4yGO1mQR4jfoUqJzHPFJdLr7BRvQZN3wQiZGF/quIYdyZynisINQOJlSkEzzxSfYi0c65gTb5wbxU54t93ujKMAwEC0kBP1iS6h1ifqQ9G2vnf33etDy47lmgNaxLsWCyptO8hOW6kYNgbdHXa7vr1+/AYp/mQ5K9JWwmMdkkrWAfY51pbUmylzyPcbv1lPNYqs/uXxcBH7ZtA+thipf8TKcOt/LDl4jsoCfpviTOtUBk9+ymtTSMv4IN5zikf5//bl6DUIpswKRyPAY+rjLHPOU8luqzbcU3DMN079IxxfmCfNhY1pLpdF9o1r83eNktnzeVJLhJWISj+xWbN2vmb7SfutGCMhB30TOef4ZugqDLPhfMiRsLPQBN0D6mvrmILalbgerwmAIA4NvKFJDPQnbH76Q8aFV2Sd3PI4+pe87oVHvV57FWLVtAvPskT2k4P8zy6KTRwyhRHFu3DDb/sLcm1KbUk3Xmbtu6VZvWslgUtOQLj6nO+u2ofQyeNKcLSIxzutsl+tD6z++/ghuLLD+wRMW5LZw2jmGY997q9eS6RSnd0Se3XxHMaxmy56ySUDsS4fhfoBXd5yPvRM6121FfjwbSgF2OaT65QWCksj1i0JmFQ3h6/ebrf/8wG2x9Wf70Poy1fXmmuFwYxu7boZ3/dvqngkt7YB9OnCvsU1LGYyTC6YGfeT82bPfCqeNIQjlzFnuD4p7sdI7eBW78aR5r/bN+yWOd9OGGLwbijijwWLNmTd3P7iQZyGM6NUcb1WAr5bEYl9veJpSXBvTpIRHxpOEOCvfrCm8r4zEArVsBjwIsjHatXjZ78qzxo4a981av118b/HZvaiTfCTzmI7Nf5fgf/mspF+1jyIA+e35bfMvLhNy5QR/NwNblbD9fo709WY9WGk9o1fxpYdeOkQxhcYQji0lK9ivWlMcgWVmS529ssrLXu3QCEIp/GV1Dcexg13Il8e4+F/esWzJn7qSx44YP6vNG9/f69aKBjoYM6PPspnUteAwiecS5sdERmYFv934cYE6inOUN8kXhfGk4/8NBA2jwIRLlBCtwmX2sebOmPhf3cLlPYLlL8oi3P00jNILHbJYwn2VdhRHJ1jrksUY13XEw5RRAHqs7EXE1cA5gKxZM5CJ5cJ+q6AB5rNwPGt/UrwI14zHTg2CcEfHIbf8HfmZDBkBM+R7dOqe7XZQFf493zXC/TONk9Hr9tbHD3v3o/XfkX2OHvjtx1PtTxnwAqaWTvYGLsvzWLYE4Fs2bNVs4bdzZLatObFzOuYz/8+dSiHjBbkqUt4/ZH9vERZanj3jvCUz7sjGde3TtPHaoYrtj3n9n4odDPh891OfSXpLuI9tIczdQbG24aMb4dm0hmCEQV4d2h9Yu4TYFwa1YmuChn/m2Fd+8WRYqrUXz5ktmffYsyJrEu8Kz5wr+YyTGOcvDiEYYY53H3OUjIkJvE9zS3S7R26bfF84kKd6QzK1sv2LXynmsebOmHueQx+p3BmBtalVAKY8VhNqB4SjMTrakdO2c5W70yi2LSnkM/LLu3vC5uIdG4KCBEzu01+v2Woee3bvQAKocjxXQnBY5/u5nd0wd8wH1PqW5m68dXEfu3aRWMgC8uzcTHM8snzulU3sw79Mw7ltXfEOSPYvD+bBQ1Nk+xvKYx89zprCeoq/leBtzyc0U0IWuePkhNt/NGE9HRL2z3uzepftrHfXbtWUYpvY8FmZfGun45fhREGjkvbfzwJ2ML58pkfWtdfuYDQEydth7dE8E8phaZxE2pp0KII/VIyYVR19RiFNSj5VXVhXymHbOPC3pdc147MpBkirIC7GF7UB3rxvvWk1vTXb+8h2lJhLl+NDfrBf7IHnxzAkkwb0g1I4N0FzuX2m4PUmBjKUl4Q65QdbjRw6GINdlmXZonV06tN/3x2KSKigIs5c9OpW3j8nxGOQzjYB6/tf3TbpPksS5KG23KNyepHrRPM7srZgN7PZJ9IixO7Xxp3k0RuKLkNZnN6+iYQ9l7cY4kwzBXR/TM1tW0ftFhmEWzRhPYlwKQu0r8pgUXER4dDPklxNGU49/7o6KtY95xNqdpjd/rH1MiDymJdMFu1lXBSrjMbjLT/Ja/MUE+mgG0lVl+XFTlZs+9OBlCsTy8RULw+h8PNf7ddiX2K9n9wvbfk13vXjP9yrNNd+b3a8oz2OwuREi2geQKKcA4wPL5kymhut2bduAnadsbzA8eUnyJCleiY7ndv7ybZ83wK30RVf3/rEYnqcoi69YU/sY+I+leNONgq911I+1P1XRU1RmpwqD5MvUhNWyRfPfFs4QWx2/7XPlcYDl8yDbn+cC0dWax8DYFee2bM5khmHe7duTBhzi7GOQsY31SaMJHsGPN8oJTGpoH6vrzMDrG78CyGOVcU7tznOROWp3eS2uQh5r/LO0AUdYYx5j80FDdOYIx6c3r73DItB7b/XMDbQqZpP/SMPt32dzMU/88H2S5Fkogr/f8q/icL40zF62ySfb/+q+PxmG+ej9dxIczp3etOrnuZN/+2bGiQ3L4+xOkyy/IrbkK3mMfWDsTLPofDhoAIl1LQ61K66kXXpLR50x6I0dSfAkOQGhlsf6stE7Phw8oFjsUMTGaoObKhoAOsqJ3L7+9Ma1GZ+MoKl1Yu1Ok0R3kuCmEO8eYDXO7dMRg9igJm8VhdsXhgJS0hfc2GX727PecQzDGO9ew8bzQPtYA04CbFp9ClTGY2DsyhSaloWRWDLrM8pCHAmwu4jt8kJsAbpy/KViB5hK5XkMno+k+ez9/XtqL3I9s4P8GwYBBiOdSZLnHR9Z/EZ5HqO7jvNCbAGH0n1JhtDecBPN/vfj7EkkRZZOkA2iyJMEg4smuX092en8oP69YUN1v17/3bQqjoDUyQrx7mvDYxl+JrvhIVfzZk0hFGGGL0ekEhGMnW5jJkkekTYnqB3s53lTyK3rbBoxZwKJpL1pWCMFHjNj43kwDAMbE1IFnAcXNbXJx7uH5StdsItNLNmhnV603WkS/9LCD4+T4lxTnS/Qp1ewyTzJAy5BHlPfHMKWtFUB5LFaIJBGXYI8pq1zTyv6XTsek+3zyfDdzMYJZBjG5vBGku0Hz4mTPFYtmMbm0WLz/OQEPA+0zguBHDVgWAu2IbHOJA12DMKf9kRPulnxqwmjIcb0oxDyIIjcD4SAh3cDwfMKcnOVuVFVbh+DIBkpXuuWwr7Htq1bQai0uxATrFy7MWy7MqcsHkn3IZm+Ejam4vNgm+c3r5Fs/7VsRuZ3+r75QGhWGuVM4tzAvzyMn8fGVHx204rcucln0542b9aMPj4n8cp4LMmTitCieXPILv2ADZYYAoEZIeFPmoDmq+3Z/bVMj8sk1gXuLHG/olZMGOxk3RSojMfoI5X7QrMBvXvQNFbmB/4mD4MJRKSABPR5wbbSCD7J9i+NdHQ9vb0ojA8EVZ7HYMtfgvuPX0FS6b49uj30Ny8N4z8PtskNtCapXjnextRVlfKYLF9Fpi9J9sxj14HcYJsCyPDuOXH0+wzDfDbqfRLvDukKU7xJJkTxyQuGFSz35jVyL2i7jFjagrdnlHP98Fimr+/lfTQU4W8LZ5Icv3y6iAXbFontSZbwsb+FNMKBwg/dqWi+/2+S4fss0JoOgWT50fiK5Xgs08/2yEZarfeF3RDLJMhGwq6rSniMDc5xdS88JgMD4O+Lyb2g54FWFC8h2NLDkBMbl1MzpuvpHbLMAchjdZsXeLUuKIA8plFwVYvOII/pwjxtsDHWmscAgVK9Qy2Ptm/bRrZLMN49P9iGZPp6X9jdskULhmHmTRr75IYlgFa6L42mSNJ97/pcAVd4Nn8XSRMcYiO5t2rRfPJHwzYvW3B600qT3WuMd632Or87xu4UBKxP96E3ZJX5j7HWMx5JFwRePUQfbE//eMQdgSnbLpudLF1A0n0fCM1ElkdJrBvcgqR48Q23AFAleUEEkVRv2LCU4DGL9ZoYPxLSH5E4t0jbk9b/bIDn8dn+bJ4fH/Ig6MCaJTRrc7rrRRLrptw+luHrc3FPqxaQDG30kHfS3S7BM2yaKi3V59i6n2jUfsjZynnHIY812CTAhtWnQGU8JnvEc/u6ye41lAQ6tNc7vuFnSCOW4k1SfUiKd0GoneDSXpr8KsLmOFinkzznTRpLDeyFYfaQjD7FZ+/vi6l/140rh8gTERS7db0wzH4py2kvKqc8VhBiSxLcLQ6si7A+LosklOxF7t7496bVe/0g8uqK+VOh6Xh3z3O7PM/tgjWBrgMZviTH/4dZEHl1yIC+uYHWAIp1to+ViPmFYfZF4fbjhkN25nZt2zgYboEW09hFLMbl4rbf+r75erLTeXIrIMJaZh+DHPcPgkiKB4SNzRSa7ftL0X+M9W3zubindcuWL0B3/+ofQBN2nzaJdqE2N3n7GJyJcr7tbUI3C3TtpO91YTckE0sXQBNZ/t4X9lAP4XmTxpB4N0kooDLax9Q3hbAlrVUAeawWCKRRlyCPae3k04aO15jH5Pe6sEmTp4z9gEaCBspK8QYkS/aiKVAZhhncv/f2lQvND/xtf2zT+W2//jh7Eg10kRtkUxzhAI5kUc7fTR9P78AU/m2v12bmuJFia0Ny6wZE/qjcPia7mUsTbPhxHq3knT49Nv+8wGzfX/aGmy7u+H353Cn92GgfD/0gXBiJc503+WOGYeZOGmO8a7Xw8j7eUYOF08bRR8gXtv1Kbz5OGaygt3pH/v7J89wuj7M7N/40rwPrLv/9FxNJrCv4WlSI55EXYgv7mlK9f2VDpTEM07/XGztWfWtzeOPBtUtmjf+QBnn74N1+T29co3HtYbMW8pg2zBfsYx0VqILH6I5EAlb3BXQm0girX00cvWLe1K8mjh4x8G0aCLFH186ZHkYQYLA8j8Gjk3Sf61cOtmkF7DFkQB+T3WtFFkcv7/yDBqxv0xrOy3gs1L4onN+nR9f2em2WfvX5tUPrfC/vNdv312ejwDjWtnUrYLAUrxePcn79esaLnX5Txw4/v/VX7wu7nU5uXTZnMs2OuOuX70gyu+jVA4+xSaJv3bA33EyDweq3a/vd9E9fRBjaserbiSOHvHBt7da5Q5LjOZLoXhzhMH4EuN3qtWm9adn8G6aH3M/upIkf27ZpBWPvL4uvCNsQotnYlexm7G6dO2xf+c2BNT/MmzQmyekc5Gksn39Mtj37VoDRztVNm0KOxi4d269ZNMv8wF9nt/zy/RcTO7TTg5Md2sPWRzbWKyxfaB+r48TAy3VAAeQxjYKrWnQGeUwHpmnDDbFaPLZ+2YvMXS2aN4PUzJm+nO8BPEnNkTmAMQyz8cd5JMUHonREOpAE992/fdehPfzlVvivSZMmi76YQOIgvxCJdpaIbL/4dCRkT3+v37YVC5fNmfzDrInfzRg/YuDb9I5nQJ8eaS4X4eF0ltDp5Fa6S4emk+Z6Qu/kwIsjxfPwX0u7dGyv0CgbZo2Z89mY0khHeIieJjizeVVL1n4lX7JVyxZ/L5lN0tgYksneweaH6QYn+TJNmjSZPGbYkwALWXzFJI8Eh7M0WOL2lQtZpxdbMMFFOpF4t9XffcGF0uYqadKkyfRxI8G8lgZyybzj0nz++n42wzBdO+nf8jYhMbJQ19SvxvzA3wzDQLx7iK/oy6UP4tzSZJVg/rGGm0rYcnUUeBWP8aRie5IuOL/117d7vc5NGe7gRdaNSR8NvW5ykGSzWdSTPL+aOJphmJGD+heG2klp+uNM4Z7fF7dmkYy7sG3rVic2LJ8/GYxpNP+YJBTsY2u+m8WV4Q46tNczXLeM3A5g05H5mu/7s31ZCFauDMRZ/fIzEuNSEgn7mUmmr9BoP/3U5vAGku3P+Y8tZxOC0XzQCvnHFrBPhYa+81ZesG2p2EEisoNe5QSY7F7TrUtHri160LG93v4/vicp3tBcmo/I8ghNAiZf7OspH59kNxMOerv3vzevkShHmeNZhtBw/TIugCRrf2sdds2QOp6Nef9dhmGmfzKCxJUtO8E25M6NM5tXKV1LB/brBbD6MJhmVoQ1KtvfwRAyWTdt2gQ83zJlyUhgkU/yjrE7RfOPQbz7bD+Md1+dmYJlGp8CyGO1QCCNugR5rPHNSg0aUdU8BlyR4Cm2Nvxt4cyNP8576G/BEhSXS9SuJJJfLHbYuerbVQumm+75kyR7wC2FiAeOHNn+IeaHtyz/et6ksZ+OGDTt4+GLZow/sPoHodE+EutWFG5XEAL+YyvnT2XNaH1ueV+BrYNxbrJXtPOF7YlqZnIAACAASURBVL9R+jplsAK2O0Y53fa5sn7pnDWLvsxwu1wxOQ/r+m9Pcq5HWBvuWLVw/uSPx48cNHXsB99O/3Tv79+D40SUE80XBFuVMoUBJge2Lv9m7udjPh0xaO7nY/7+YXaA8QGS5kPDjQBtZvslO547tm7Z4pkTJn44ZPonI1YtmH7t4LrSSEeS4JYfwqPRxorC7Xf9+t0vX0+HRKgpXjS6fb6IVxzpRFJ9AkwObFo2f/bE0R9/MHDGJyNWzJ9qb7gZYgykeNJo2jTdGUn29rm4+5evp+/+9bvSSCepWJZ8Cb6CeLdUl/NrF3+1YencewJTLjWZPIwhj2nQpMKuVK5A1TxG5wKYnXOu3/G5Yr7/r3VLZs+fNPbLCaN+njtl/+ofAkwOkEhHkgFRXuFeP83H4sC6FfOmntiwnCR6FIXaSeBlTzJ8/Y33r1381azxoz4fPfSXr2eAT+mzcP4xgxXzpwou7mEDdfCKwvkk3s319Pa1i7+cNX7U+JGDF04bt33lQshBnyWUsGmyAH6y/cMsj+385dsFsKQM+WrC6DWLvoRMgInupZEOEhEPJmm08wOh2YYf5/65+KsUF1nqMDif6uNwfPPK+dMgkQYbb5ZOW9p56382rJg/DVI4xrNLIiSaZ5HsXmCk7YnNPy/4cvyojz94b+7nY/b+vjiGd5JkCV+GBcoS3hGYHly75Ntpn074cMjXUz+5vPMPkuD+5LrFn99/BfsSY105/JPAszM/l9PbVy2Y/tWEUQsmf3x8w3KS4AEWxWSvC9t+Wz5vqtHO1STZiwZQARkh7OT1OP7Z/au//2bKJxNGDv589NDFMydc2PbbQ39zcjuAS3MPw4xzyfIw+uv72X//MJt9nCRLnygR2ZVGOeSJbLev+vaXr6cHmx8hSR7y+T/kFzGW6/ykKTcr//ngJ6iAFisAPBZ0LD/0TGN9kWTT0ohGOzr41oKOSe+ItfgnWL7rTPm3+K6BFaiax2R3+Uke8Bg1xYtEOyn8KZWIeKViB/C/SvTgYkPDTRWNIp3iA44KkY6FofbFEQ4kxoVk+pI030IRG8wj3jXd7WLXTvovdr8Acd0OyA20LhDxCkS8/GBbEuP60N+C+jBsXf41SfaCWCAxrtCNZC8S66zURiSLXp3sCe1GOxeF2kvFDgQC1oNzRWFZtEbOJAVRPaKge3CTB3uTBAXBtpKyWIhwfxDvDigY51IYZl8i5sMws/zk6wH4pAoke5Jkby4emuzOMhgSE5E0H7DLhdqXiB1IggfJ9qcKyN+LAP6lQ/B9kupdFA63Zdyn4KoX5wajTvEiMYpfgVwxCP5W8uxhA/+ksHlUoHIFXslj9PcMacSinMF7KtmLRDnSJyAwi9N85OcOwFK6EDzEygLTyy5nMweSFK/SSEea14tkCCCqR4aADVsvm6eSUF6hyB4cTZOhJKwD0RD1hyR5cM9KZGtFqjfJgCWlkE3PBb3K9isIseXmKWvtd4EZmuTBJmOUPbSCeZ0hgB6yQYy42VoWEqms82ycIe5TGH6yJ0ll1w0Rj0Q5wtgTK/QqGuKIkBhYnWB1zRICyka7QPfSfORDU8qayxKSRA8QM8qZZMI6LAllwzZC5e7gqcua68t1I94dmo52Lgy1l4bzSawLyBXpoFAS1qhYV3aN8iAxrvJ/Jl7+jUj2BGHLN8G1JdMZ80FXPnfwE21XQHpH3LhfdsbHUkNcGvcYkce0fRpqbv9fyWOUKwpCeAUhPO7mQ/6PKNBLCAtR5W8p4O+riJcfYlsUzpeK+UXh/MJwfj6b2Zl+RFK8wq0Mqff5kb9+Ai/zWBe4UYh2AYJ6Gup1fhf1AzHdsxZ2ucDdDw8wrJKecL2iwfS5dovCYUOR/OZGWhJiPAa/7F5BWSxHrh469rxg28IwvpSN5l8QwlN6P1HWK9lNmHwN7EcvWykMU14D1QRYlI17Jl/DK7+CsuEgj2nuRMOeUQWqyWP0N0+3/BWxU69QBBOn4uyAW39lswbOyxYfBxqtXjbF2Miu8vOLa0UKWS7s4G3FpSyEl0fXCtk6oGQ9Af5hV0IFEKqsh1VPefn+F7Erp0K1stUpxLYwnF/Crq50aaLdqCgUNMcunlRP+fUQzrPPyORloccSNtsHt5YWsmup8j8EdPiwOCsug5Kypit+JN8i2sdwlUAFtFqB2bNn8/l8rR6CTnUe7WOa9XVXh8fk/2TW1zGXV3Rw/z4Mw3Tv0vHSjt9TXS7cF5rd8zVNdj5/dd+f/+sD+Z1HDHz7gZ8ZiXKu+m95fXVMe+thrXloH9Os+YW9UVCg+jymvTNR/T3nTPrqb7oeW0QeU5gs+BYV0C4FkMe06/tCHtOs76uheIw+rCVZQo9zO1/v0om6pHfWb9eudet2rVt3aK9HA6z9r8+bYVaGJCdAfvtQPd4BNKaqkMc0a2phb5QpgDzWmNac+h0L8piyGYPnUAGtUWDYsGERERFa012d7yjymGb9BBqQx2S+XveCYu1P/7n4q5GDBnTpJIuL+FqnDuNHDjm+4ec7PqYkx59zHK/fP/+NrDbkMc2aWtgbZQogjzWyZaceh4M8pmzG4DlUQGsU6Nu3b0ZGhtZ0V+c7ijymWT+BhuUxGZKxzu4kxvmhv3mKy/kU5/OPr1tCBIt0AYl1RctYNe94kMc0a2phb5QpgDxWzemsg8WQx5TNGDyHCmiNAi+yiWhNX7GjhOC3pVm/ggbnMerUzrrUQ8xoyE8a70GiHKmTPfqMVf+2DHlMs6YW9kaZAshj1Z/RulYSeUzZjMFzqIDWKNCxY0et6St2FHlM034DmsBj3G0HzeTD/vsy2jv3KR5UrQDymKZNLuxPRQWQx6qexbr8KfJYxfmCZ1ABbVEgIyOjb9++2tJb7CdBHtO0H4FG8Zgu34vUfezIY5o2ubA/FRVAHqv7TG+sNSCPVZwveAYV0BYFIiIihg0bpi29xX4ij2ncb4DyWEGoLc3QRXcJ4r/aqMDzIBvMB61xEww7VF4B4LF0n+dB1to4xbDPKlXgeZA1SfORptws/5PBd6gAKqAFCgiFwgkTJmhBR7GLZQqg/1iZEhry/8LnJMGd5PiRTCHJ8sOXFiuQ5gOdf/5IQ35Z2A1UQIkCjzLIYxFJ8dLiiYbrpIoUSPMh/4lJpkjJzwZPoQKogGYrYGJisnTpUs3uI/aunALIY+XkaPA3pYX5RUk3CxOvFyXdaKwvafLNZ1E+/0Z4SZNvNtYxysaVGFCa/1+D/6iwA6hAZQqUPL1TlODfyKdhtddSkh6SKbR5HuNbmhaMmoACiQHSW3GV/XjwPCqACmisAoaGhmvXrtXY7mHHKiqAPFZREzyjcgWCgoJcXFxU3gw2gAqgAqhAtRUIDw/fsmXLkSNHHj58WO2LsCAqgAqgAhqnwA72P43rFnaocgWQxyrXBj9RmQICgcDKykpl1WPFqAAqgArUTAGRSLRt27bc3NyYmBgDA4PAwMCaXY+lUQFUABXQGAWWLl1qYmKiMd3BjrxaAeSxV2uEJepdAeSxepcUK0QFUIFaKxAaGrp169bHjx/TGh4+fLhv3z4LC4uSkpJa14kXogKoACrQUArMnj2bz+c3VOvYbi0UQB6rhWh4SV0VQB6rq4J4PSqACtSTAjExMZs2beJgjNYqlUqvXr164MABhfP11CZWgwqgAqiAChWYMGGCUChUYQNYdX0rgDxW34pifdVQAHmsGiJhEVQAFVC5AvHx8Zs3b759+7bSlm7cuGFgYBAXhzEtlMqDJ1EBVEBDFejbt29GRoaGdg67pUwB5DFlquA5FSuAPKZigbF6VAAVeLUCiYmJmzdvzsnJqaJoVlbW1q1bMf5QFRLhR6gAKqBpCiCPado38sr+II+9UiIsUP8KII/Vv6ZYIyqACtREgZSUFAMDg+o8Qs7Pzz99+vSpU6fy8vJq0gKWRQVQAVSgYRRgGLy9bxjla90qfmG1lg4vrL0CyGO11w6vRAVQgTorkJKSsmnTpvT09OrX5OrqumXLlurwW/XrxJKoACqACtS7AhkZGX379q33arFClSqAPKZSebFy5QogjynXBc+iAqiA6hXIysrauHFjjWCMdioxMdHAwAC95FX/FWELqAAqUHsFIiIikMdqL18DXYk81kDC63azyGO6/f3j6FGBBlMgOzt706ZNiYmJtevB06dPDx48ePny5aKiotrVgFehAqgAKqBSBSIiIoYNG6bSJrDyelcAeazeJcUKX60A8tirNcISqAAqUN8K3L9/f9OmTQkJCXWpuLS01NraeteuXffu3atLPXgtKoAKoAL1qAC3m1ooFE6YMKEea8aq1KAA8pgaRMYmFBVAHlNUBN+jAqiAihV48ODB1q1bIyMj66Wd0NDQDRs2iMXieqkNK0EFUAFUoI4KLF26lGH/69u3L8Mws2fPXrp06Y4dO54+fVrHmvFyNSiAPKYGkbEJRQWQxxQVwfeoACqgSgUojEVERNRjI3fv3t21a5etrW1paWk9VotVoQKoACpQCwUiIiIoj8n/u3bt2lpUhZeoXwHkMfVrji0S5DH8EaACqIDaFHjy5Mn27duDgoLqvcWCgoLLly8fPnz4v//+q/fKsUJUABVABWqkALWMcTzWsWNHNI7VSMAGLIw81oDi627TyGO6+93jyFEB9Srw4nZkx44dgYGBqmvW19d348aNSUlJqmsCa0YFUAFU4JUKmJiYcDDGMIyhoeErL8ECGqIA8piGfBG61Q3kMd36vnG0qEADKZCbm7t9+/aAgABVt5+enr5lyxZ3d3dVN4T1owKoACpQmQJPnz7leAxDelSmkmaeRx7TzO+lkfcKeayRf8E4PFRAAxR4/vz57t271ZYu7Pnz58ePHz916pREItGA0WMXUAFUQBcVoFE9OnbsqLalTxdVVsGYkcdUICpW+SoFkMdepRB+jgqgAnVSQCKR7Nq1SyAQ1KmWml/s4OCwbdu2W7du1fxSvAIVQAVQgboqkJGRwTAMhvGoq45qvx55TO2SY4ME43ngjwAVQAVUqIBEIjl48KCrq6sK26i86piYmI0bN968ebPyIvgJKoAKoAKqUmDChAkYxkNV4qqsXuQxlUmLFVeuANrHKtcGP0EFUIE6KVBYWHjgwIGGgjHa9cePH+/fv9/U1FQqldZpMHgxKtDoFJDeEeMLFdB2Bep9XiKP1bukWOGrFUAee7VGWAIVQAVqroBUKj127BiPx6v5pfV8hVQqvXr16v79+x89elTPVWN1qIA2KyC9I84POpYfegZfqIBWKhB0THpHXO9TEHms3iXFCl+tAPLYqzXCEqgAKlBDBYqLiw0NDW1tbWt4nQqLBwYGbty4MTo6WoVtYNWogFYpADwWekYiNsIXKqCNCuSHnkEe06olBztbuQLIY5Vrg5+gAqhAbRQoLS09fvy4hYVFbS5W5TU5OTlbt27l8/mqbATrRgW0RgHkMW2EEOwzpwDymNasNdjRVyqAPPZKibAAKoAKVF+BkpKSs2fPmpmZVf8SdZYsKCg4c+bMsWPHnj17ps52sS1UQAMVQB7j7uzxQBsVQB7TwFUFu1RLBZDHaikcXoYKoALKFDh9+vSVK1eUfaJB5zw8PDZv3pyWlqZBfcKuoAJqVwB5TBshBPvMKYA8pvY1AxtUmQLIYyqTFitGBXROASMjo0uXLmnFsJOSkgwMDLy8vLSit9hJVEAVCiCPcXf2eKCNCiCPqWJZwDobRgHksYbRHVtFBRqdAloEY1T7//777+jRoxcvXiwsLGx03wYOCBV4tQLIY9oIIdhnTgHksVdPciyhLQogj2nLN4X9RAU0WYFr166dPHmytLRUkztZsW+lpaUvgkDu2LHjzp07FT/FM6hA41YAeYy7s8cDbVQAeaxxL1C6NTrkMd36vnG0qIAKFLCysjp58mRxcbEK6lZHlWKxeN26dSKRSB2NYRuogMYogDymjRCCfeYUQB7TmLUEO1JnBZDH6iwhVoAK6LQCtra2hw8f1l4Yo1/e/fv3d+3aZWVlVVJSotNfJw5elxRAHuPu7PFAGxVAHtOl5aqxjxV5rLF/wzg+VECFCjg4OBw5cqSoqEiFbairaqlUevny5QMHDjx58kRdbWI7qEBDKoA8VlMIKY6+QpIti6Ov1PTCWpQncWYk2bIWF+rOJchjDbl8YNv1qwDyWP3qibWhArqjAJ/PP3ToUOOAMe5b8/Pz27hxY3x8PHcGD1CBxqpA4+axgghjidioNNa0vvikOPrK48CzAmODx4FnVY1kJM4s3vmgwNiAZPPqq/+Nrx7ksca6NOniuJDHdPFbxzGjAnVWwNPTc+/evXl5eXWuSeMqyMrK2rJli7Ozs8b1DDuECtSrAo2YxwojjTvp6zEMM3nMYBJvVgsUKYgwpkTHXUvizOZPGcUwzPwpo0hcberkqpI/oEYwBVNYQYSs/6e2/KDwkfy1On6MPFav6wFW1qAKII81qPzYOCqglQp4eHjs27cvPz9fK3tfjU7n5eWdYP9rxGOshgxYpJEr0Fh5jKRa8U+uYcr+C7HaSRItaoQuFIc66evJIxlJtNiwbCbDMBuWzaxphZW1TpItT235gWEYBe4qjr4yfGBfhmH4J9eQVKvKLtfx88hjjXyF0qnhIY/p1NeNg0UF6q6AUCjctm1bbm5u3avS8BqcnJw2bdqUkZGh4f3E7qECtVOg0fJYosWKBRMpONUanyjNKQAPxbD6gjGJ2IgkWexbM59hmH1r5pOkctBIt0QijCl8BfJvkcdqN/HxKk1UAHlME78V7BMqoKkKBAQE7Nq1SxdgjH4D8fHxGzZsCAgI0NQvBPuFCtRegUbJY8XRV24LTzAMM3xg33jngwzD9OvZTam7FwTMSDCnFrCCCGOSYE53IVKXM+U8xgbYkN9hWNE/TfZpgjklB9pKUZTJy7dlUTpoSY7HZAXKqIx2RoH9SLIlt1US+lwh5gfXN5JsyfUNitXfBkt5ImrYY+Sx2k9+vFLTFEAe07RvBPuDCmisAoGBgQYGBv/995/G9lAVHXv06NH+/fuNjY0bWeQSVWiFdWqXAo2Sx0jKtasHVsp2AMabVbbrj2TYJLgcWrFgInUz66Svt2LBxFSPIyTu6uQxg8u2Or78P9iy5PcWZvMExgYy/7S4qxyWkGRLen7FgokAeFm8BJdDP835tF/PbrSu+VNGQZSOO3yu5Ms22CNqKON81eQ3W5I0a4GxAfVhYximk76erLZb9jKWK+uhwNhAYGzADWT+lFFJbv+QpMYWrRF5TLsWHOxtVQogj1WlDn6GCqACZQqEhYVt2bLl4cOHZSd06P8lJSWWlpa7d+++f/++Dg0bh9rYFWiUPFYSY0oZLN75IMmypWwGdCTnQkYSLUTWuyiJ9evZbfKYwZSXIPhHgvnFXT9RmxXdRrhvzXwZI5XfW8iFDIGGyqxPJMGc8tLVAyvJLXvKZgzDLJs3ft+a+XQXJcMwgGRZvCS3f/atmU+pafKYwbQh9wvrqGmLnoeS1CiXZk2916jpj+vzCwMgtJVuLb/7kTbUSV9v8pjB3DDvBZxSaifkYFLrDpDHGvsSpUvjQx7TpW8bx4oK1FKB0NDQjRs36iaMcZIFBQWtW7cuIiKCO4MHqIBWK9D4eIyGiafEUhJjyu1dZBjmtvAERyOlsTJmW7FgYkmMaWmsqTT6isDY4Ovpo0miBUm5JhEbUbMVhRzq2aXg60USzCn2cKE4uOY66esVRhqTlGsnNi2e+emwu/4nodokC5JmTaN3yKxncWYkx47br0hy7KAMS1+lsabyPMYZ0zrp6wmMDUpjr5bGwuhobS+Me3f8TkJutDJiZBhmxYKJd/1Okjizu/4nKW0CtrFD0zruqqzDyGNavf5g50GB27dvz5gxY+zYsYMHD37nnXc++eSTcePGhYaGojqoACqACigoEBUVtXHjxtu3byuc18G3d+/e3b59u42NTUlJiQ4OH4fcyBRohDxWBiQce5QzWLE0QhItQqx2Ur+ykpiX2cnANUvOhsbxGAcDHO3IzGVlWxOHD+xLPbW4rZIUt4DlUq6B71aSJRwkWZAMG26Xo+ySsg4rxPNQ5LEy9oNiGTYvuxR3lRoD6Xi5HkJE/lQrWUSQNCuKbQpNcJVo7wHyWCNbkXR0OD/99JP8ruVPP/0UIzvr6E8Bh40KVK5AZGSkgYHB3bt3Ky+iW58UFBScP3/+0KFDuhPURLe+YF0abePjMWn0FWoLui08IUOgLB7dsgh7EVlHL46aqk4j9koek4iNuOaolxfHftwmQ9ZmZRnvfPDqgZV0OyI1qU0eM7hGPFYUZULHJe9OJr9BUYaIyuiOs61xlKi9AKbQc+QxXVquGu9Yo6OjO3bsSFecpk2b8vn8xjtWHBkqgArURoHExMS//vorOzu7Nhc36mu8vb0NDAwSExMb9ShxcI1cgUbGYxx49OvZjcIP/Zdzu6KOXpwRqWp7UXV4jKsKMpIlW9K4jv16dpNGX5GIjYqjr+SGXuR8xuSfgNeUx+T3T8ozCdeB6vAY16h8DVp9jDzWyFco3RneqlWr6ALx+eefS6VS3Rk4jhQVQAVeqUBycrKBgQHCWGVCpaamGhgYeHp6VlYAz6MCGq5AY+Oxsk198uQjfyyDlrIghFXbi+iF8riiAD9gnooz40Lql8SYUkMch3lc/uj5U0aFWO2kVdVuvyLNT80wTF3sY8hj1ZyPTDXL6Uqx0lJSLCUlxfhSlQKEREdGdO/6ml6b1g72dvC7QrVVp0CxlJSiw4murF6NYJyZmZl//vlnenp6IxiL6oaQm5t7+PDhM2fOSCQS1bWCNaMCKlKgkfEYF/DwtvCEPEdJxEb8k2uow5g0+oq8Ga04BgxZ9AX+Y2W5v5TaoyrymERsxIVzDLHaSSNwcOEWOYiCzZOpVsBvZS5nHBoprVMiNlL0H4szexm2McfuZZ/LB/RXWlvFRrnLtf0A7WMqWhnKVVv8OKdQ7FgQ4YIvlSpwR3A1x8skP9ypMNJVpQ3peuViR+ndpHI/cXyDCmiqAjk5ObgZr5pfTmlpqb29/fbt22/dulXNS7AYKqAhCjQmHivnFVaWi5njDQ7VqH2J8/vat2Z+ccwVLr7i6sWTKZJxKMXC1VWaM1o57ZSlO6MwNnxgXy5GCOf0Be5kadYkyaIkxlTRf0zeWBdvRmMkKuGxslY66euFWO0sjYWYkIWRxnQrJpfwWnkPK0AgJ4u2HyCPqWMlKX2cRXL8SJQjiXPBFyqg3QpEOZK710vuJKhj5mAbqEDdFMjMzPz777/j4+PrVo1uXR0REbFu3bqbN2/q1rBxtFquQKPiMXkLUoWo7lxselmg+VQrajGjRjMul9dLs1XZ1keawothmIIIY6W0w8W4p/sbubiO8sE2OunrbVg2c9+a+XqtW9NsYC8bKtvxSGP0v961I7iiJVko2MegtjQrzhVt+MC+XGKxTvp6IutdNDKk0h6ifaym0xT3K5ZTrORRJkn3yQu2kYh4+EIFtFqBvGAbkuErvY03uOXmOL7RQAXu3r1rYGCAKbZq8dU8evRo9+7dpqamGAq/FurhJQ2iQGPiMbrDkMvEpWD54WLcd9LXkxm77joIjA3oJkBKZSsWTEz1OEIzOxdHX/kv5AL3KY3ESMpsWVzCMdoKSbSgpFSxdZpejIZG7KSv9+XE4WE2uzvp640dNoDGVwTQYpNW0zL9enazP7GapFqRMryUdxgjaVZXD6ykAe65Pie4HOIi4CvtIcdjVceTVFBMK96ifUwd6wbLY4L8YNuCUDt8oQJarUB+sC3JECKPqWPhwDbqoMCdO3c2bdoUFRVVhzp0+lKpVGpiYrJnz54nT57otBA4eC1RoJHxmERsVBBhzCV9ViAKakGiMCbjqGRLSl8SsVFRlAlJMOfe0uiI3NuXB2yyZpqyWb5+wu6QVNo6SbIoijKhfYNcZIkWBRHGHIzJepJyjZaBbrCeZsBpcWbwr1xKNHibco0bYMU+QwFlPZSdZCuU77a2HyOPqWOlQR7TagLBzssrgDymjiUD26ibAo8fP96wYQMmha+binD1jRs31q9fj1hbdyWxBlUr0Ph4TNsBA/tfIwWQx1S9RED9yGPyN/R4rNUKII+pY8nANuqgwJMnT7Zt2yYSiepQB176UoGsrKwtW7bY29u/PIVHqIDmKYA8VqO7fyysaQogj6ljUUEe02oCwc7LK4A8po4lA9uorQL//vvvxo0bb9y4UdsK8DolCkgkkjNnzhgaGubm5ir5GE+hAhqgAPKYpgEG9qdGCiCPqWMVQR6Tv6HHY61WAHlMHUsGtlErBXJzc3fv3i0UCmt1NV70CgU8PDw2btyIadxeIRN+3EAKII/V6O4fC2uaAshj6lg5kMe0mkCw8/IKII+pY8nANmquQG5u7vbt2wUCQc0vxSuqq0BCQsL69et9fX2rewGWQwXUpQDymKYBBvanRgogj6ljqUAek7+hx2OtVgB5TB1LBrZRQwUkEsnevXtdXFxqeB0Wr7EC//7778GDBy9dulRYWFjji/ECVEBlCiCP1ejuHwtrmgLIYypbG+QqRh7TagLBzssrgDwmN7PxUCMUKCgo2Ldvn5ubm0b0Rgc6UVJSYmlpuX379nv37unAcHGI2qEA8pimAQb2p0YKII+pY6FpQB6TiOzyRbz8EFv5l0TEk7/D1s1jCcgC6bl1c/i1HjXymDqWDGyj2goUFRXt3bvXzs6u2ldgwfpRIDQ0dN26dSEhIfVTHdaCCtRNAeSxGt39Y2FNUwB5rG4LQPWubigeywu2LY7gk0QPkiUkGUKS7ksyfEm6kMS65YXY1iOKSBo0z3UtWs8X8UiiJ8n0JQke+YhkNfn6kMeqN+mxlDoUKCoqOnr0KMKYOrRW1sYL+9iOHTssLCxKSkqUfY7nUAH1KYA8pmmAgf2pkQLIY+pYLNTPYxIRTxJqR24FFIn5kTYnTPf8rZlU3wAAIABJREFU+c+fP25b8c25Lb+4nNp229uEpHiRRI+8YNta20nohRIRrzCcXxLObyiqyRfxSsQOhTVhKomIRxLco2xPup/dGc8/S+LcakF0ddRNey9HHlPHkoFtVEOB4uLigwcPWllZVaMsFlGVAkVFRRcvXty/f/+TJ09U1QbWiwpUQwHksRrd/WNhTVMAeawas7zORdTMYxIRryTSkaT6OBzfPOHDIa1btmDK//dG185/fPtFhtslcvv682CbWrOBRMQrjnAg8e5SMZ+kCfJC6kp3Ne0JkFWytzTcniR75odUd+dhUThfKuZ/8F4/hmEmjxlGop2LamIgqmknG1l55LE6rwdYQT0oUFJScvr0aQsLi3qoC6uoswJCoXD9+vUJCQl1rgkrQAVqqQDymKYBBvanRgogj9Vy5tfoMnXymERkx+5R9Fyz6MumTZtSEHuja6cxQ9+d+OGQwQP6tGzRnJ7s1/P1m6aHyJ0btbOSSULtSsQOUrHD6u9mTfxwiM2RDSRdoE4rWVGoHUnwOPTn0gkjB+/5bTEgWfWsZFIxv0BkN2RAH4ZhPh/9PolyLkQeq7YCyGM1mvtYWBUKlJaWHj9+3NTUVBWVY521UyA9Pd3AwMDV1bV2l+NVqEAdFUAeq9HdPxbWNAWQx+q4AlTrcrXyWLANyRCsWzKHQteA3j1M966962vKGq94zwKtQiyOzJ/8Mf30rTe7JzmdkzcuSUR2sNexErCR/whcsGJdb3kZv93zdYZhDH6aR1K8nwfbKFwrf0lBqF1+iCy4iEIxzoikUJ47XxBarmOSUDtpOL8o3H7KmGEMw0z7eDiJdYH6K+88V5U0nF8QZjdkQF+Wx4ZWh8fY4B9lMVEqiCMp3zeuIe6gskHJhVrhSUR2XHn5A/lruW5Upp78hSo6Rh6r1pzHQqpU4OLFi+fPn1dlC1h3bRTIzc09duzYqVOn8vPza3M9XoMK1EEB5LEqAKMgwlj+04IIYxJnRpIt5U9W55gkWkjERqWxpkoL0wqrqFahG0or0dmTyGN1mP3VvlRtPJYXYkty/D3O7mzF7lF8762eKS7nyYMgEuVUEuFQEulQHOFE0n1IkufyuVMokn0zdRxJ8CgIg62GsP0v2pEkeJA4F4U7fonITioGexSJd2cJwa4wzJ6kC+4Lr/bv9QbDMJt/XkBuXScxLiTBQyp2oGWkYge4JAZqywuxhUtSvUi2P4QViXXJC7aVhxCJiCcrH+9a0aGrKNyOxHuQBI+iUDvKPxCQI9p52sfDGYaZMW4ESfKCAvHuJMpZofMKZFIjHgOODbElcW4kXUCy/eCV5FUYZp9ftjkTRIukorkqbRcKsD2Xsj2nncmnaiR5gBTZfiTFuyTSAQQpb6cCJ8BYVzpq+HKjnCAGSbY/iXWr/v5MheHX8S3yWLXnPRZUiQKX2P9KS0tVUjtWWmcF7O3tN23alJWVVeeasAJUoAYKII9VRjIFEcad9PXoLR/9t5O+3vwpowTGBuSuQ2VXVTxPEi1CrHayjh6DKyIZSbY8teUHhmFObflBKZIxDNNJXw+RrKKw9AzyWA1me62Lqo3HCsLsSYzL7M8+YhimWdOmbmd2kEfBzwOtKR1R29fzYFuS4PY4wGJAnx4Mw3Rsrxdjd4rEueezzmC5gdZJTufuCK6QKCf5G/eiMDsS45zsdC7T/TKJdy8M45E4t2xPoxCLw316dGMY5tdvZtz2Nkl1uZDsdK5E7FAUzi8K45FouOSB0Ewazic5/sXhDiKLo66ntwuN9uV4GpNMoTTiZSCQonB+idgx1fl8psdlEuMsTyaANIke6W4XU5zPk3hX4Lo4MM0lOZ0dP2IwwzATPhyc5XE5zRVazw20Ko10kic9+YEUsIa16tjHJCKWObP9SJxbutul61cOupza7npme6TNCfCay/LPY13visUOz1jRbnmbkCTFPZP5IbYkXZDhfinV+TyJdS0KB5h8DjZMPxLpGM076X1ht9vZnSEWR/67aUVy/IE2y+xvMOo412xP4zTXiyTGmeRcf+xv4X1hj9vZHaBeghtXUmGAKn2LPFbrdQAvrLsCly9fPn78OMJY3ZVUaQ3R0dEbNmwICAhQaStYOSogrwDyWGU3+hKxEcWwyWMG0xeHZ/yTa0iqVRUXyn9Eki0FxgaV8liSxb418xmG2bdmPkkCM5rCi/ZB4SS+5RRAHpOfzqo6Vg+PsTHc3eP4Z/T12jAMM+kjNlKFCABA4QYdeCDLb9uKb+j0OLNpJcn2fx5kQ5K9Vy+a1bF92w/efbtIzAc7EnstQEWm0HjXmtc6tn/ztU4JDmfJ/SCPs/CYpEP7ts2agZeaXpvWbVq3pBXu+30xSfMhGb5X9qzt0qHdF+NGkhRv7wu7xw59l3qvNWvWtPcbXXf+8i0Yf4CdYBMjyRSe3fpLt84denV/Ld3tEjXE0S2IJMXn+pVDb3br0rVTB5dT28j9oBTn8wzDtG/bpmULiFbSqkWLTu1lj3++/2ICJR+FUXNvq2kfKwzlkTQf2yMbp308omsnfc4Zr0O7tuNHDva5sIfcC8oNsibpgvVL53bWbzfo7d4ZbpchWmMZUIFFK8vP49yu3q93ZRjG8/xukuGbF2hN7t4IvPrPpI+GtWvbmirWokXzwf37nN60kiR6FofzZQbAePdMD6O+Pbp169QhxOJIiMURuseSYZhPRwzKD+GVih0qfrncMFV0gDymqmUC61WmgK+v7+3bt+kn5ubmZ86cQRhTppPGnXv8+PHevXsvX74slUpp50pLS589e4aR8TXuq2osHUIe4+7sKx5wLFQaa1oaa1oYabJiwURqsCqMLLeVseK13BnkMU4KVRwgj6ljKVITj4XYkgzfq/v+pBNv/x8/kGyh0lgdAD9pPkKj/bTkqgXTSaJnfrANSfJcOH0cwzB9e3QrENkVyfNYuuDwnz9S7gq/ZkgeBnucAx7r2F6P47G2bWSBHPf/8T3wWLrAcP3PDMOMHfruobVLmrPBRXp07TSgTw+O3H5fOJMkewJ0BUPn9/2xGCx7zZomOp4jiWCyY13ObEmW0OXU9hbNmzEMY3VoPXkQlOICPKav1/Ylj+m3o8P5/ouJdecxyocXtv1K6+zYXm/Q270+G/V+/15v0G507aQvsjgCmyQzfK0Pb6DFDNf/TLJeai4JtiUp3svnTWUYpnuXjqkuF0mcK7kVcHbLLx1ZeuzaucO44QM/Hz30zW5daA1rF31JUrwlIbZA10ke8fwzeq1bNW3aZM9vi+i+UL3WrZo3azagV48nAZYk2rEKMyDymDrmNrahYgVGjBgxefLkZ8+eWVpaHjlyBGFMxXrXZ/UlJSVXr17duXPngwcPCCHx8fFTp07l6Lo+W8K6UAFCkMeqgAR6g8EVKI6+clt4gp6EXYtyjmQkyaI4+gotWRx9Rd56hjzGCaiKA+QxdSxjauIxQBrBhh/n0jl27dA6kuHLuTnJ353nh/BIsmcU7yR1M5s69oOicPuiUHuS5PndjPGV8Jjvkb9/ojwmtjpOEtxJvNs936sRNsf7svsV//j2i4f+5tmexpkeRuDBxfLV8Q3LGYZpy9rNenTtfGnH74/8zEsiHLzO76JXtW7ZIvDqPyTNB6xzGb4HVsPmYyU8lil0PS3jMet/IJAjiXF56Gee6X55wodDGIaZOOr9u76mOV4mme6XIdx/RFWgUh37GPBhlnDbym96v97VcP0yiHoS4UhiXaXhDic2rmjeDMjwp9mTII1blPNDP7P/9X0TbJKjhxWLHaTh9jIDV4zzfaEZjXeyaMZ4wnqLCS/v02sDZrEFkz+GnZmxriTe7aG/2fdfTGAYpnWrlv5G+0mmL9gwEz0SHc+91lG/SROGWtJ+njslyPQfwcW91v+sJwnuDRKmH+1j6lgysA1WgYiIiA4dOjAMM3To0IMHDyKMaePvIigoaMOGDSKRaPr06QzDHDp0SBtHgX3WfAWQx6qABAUeoyUr8hiJM9u3Zv7wgRDtjGGY4QP7wobGTFtaHnmsCoXr/hHymDoWGfXxWLrgp9mTGYZp2rSp4NJekuajNOoD2F4S3FNdLr7epSPYr4a9lx/Ck4prwmPJnrAZL9X7nkAunke2P4l0AmgJs4dPM3wpjzEM0+eNriLLo+RhUEmEY4GIR/4NdzyxlVLNqgXTSKp3bqB1DXiM4kqcG4lyksXz+GQEhPeIdSWxrqUAY1XlIqsOj1E3s+fBto/8zEm2kPrX5YXYlkY4kni36R+PYBjmkw8Ggo9ZuB1JF6z+btaLW402rVuGWxmCsZGNX0Ky/HhHYbM1wzC8owYQhyPObfbE0QzDvD+gb26gFQw8yCY3yIakeD30M/9fH4C676aPJ7GuBaF2JNE90fFct85wP8owzMoF00iagGQISBqEAKl6jPL4Xb/HyGPqWDKwDVaB48eP0x8/POyYNOn+/fsojDYqcOvWrdGjYd1jGKZ///74PWrjl6j5fUYeqwIJ6OzjCpAsXrzzQXrytvAENYiRODNKYsMH9t23Zv6GZTP79YToAOAPlgY+ZshjnICqOEAeU8ciox4egzCACR7fTIUNhy2aNwMwSPJSmpILAkXEOt/1MR3QG0J6jBryv7xgG8jpXH37GOWxWOfb3lfoPjqDZfNJijcbMrFsk6Ecj9kd3UQei8oii/CkbFCNDwcNYBhmyIA+j69bAOdU3z6W6ZsXYlvMxrufOvYDhmGmfwLx7mVx5yv4yykASTV5DFSKcCTRLrlB1nkhtkWhdpDxLNKJ5Phv+HEewzADeve442MKkTZSvQNMDlC83LHqW5LllxdsAxbCZK8lX37OMMz/+vR4HGBJ0nzi7M+81kn/hefb0XXLyONQiAaZ4gOvOHdyP2jNIoC6AX16PL1+rSTSSZ7HRrz39r83rEis2/Ngm/wQiLyvMCi1vUUeU8eSgW0QUlpaOmWKLAwsvW+YOHEi3fmG8miXAteuXWvZUuZd/GLHxD///KNd/cfeaoUCyGNVQIICjwmMDSh6bVg2Uxakviwax4oFE0m8GUmyIMmWD66fpkgW73yQxsfHeB5ViFzHj5DH1LHOqIfHwOUp1ef7L8BHs1mzptevHCSp3krtY2zgPogZ+Ga3zjQ4BISzD6u5fSzOpRyPQXMyToDOlPFY82bNIm1PkASPl3AYAs5Rf3z7BcMwPbu/luF2iUS71IrH+PI8VhBmXx0sqSaPUdc1CFmZ7Ufi3dmYjbxMd6OH/uZ/fT+bYZhe3V/LcL9M4tylYvvCUPtxwwfJ4DbItjjCkcS43vK+0ouN5LF60SyS6k3YXZd0WTz297Lwa4ZBV//hXmIrQyqIfru2sOcz1pkkvLSPbV+5kGT50oiO1Rmj6sogj6ljycA2CElOTu7UqROdLz169Fi0aJG1tTUmttK6n0Z8fHz37t3p90j/HTx48JMnT7RuINhhDVcAeawKHpCfgPS4k74eGL6yZHsRpVEmFL1uC0+QlGvAY0kW5DafhkykIezRPlaFwnX/CHlMHSuMmngs2Jak+/76zQw62fiGm0mmkAMk+Rt06j8WzTvVmk1T9sWnH5aI+QU18h+j9rFq8xgY65K9OR6jtLb7t0Wsd1krsfVxkuhB0qvtP/bSPqZCHoMtlwkeJNLJ9ojB4pkT3n2rJ9NEtqa1aQXPenu/3jXL3YjEuYHzW7aQxjtp2rQJOICleJJMP+t/IM5HyxbNfS/vJam+JF1gumctw0A1NCiIwhLZtAk0oNemdZLTeTCdyfEYxKJMEyj9NuW/WTUcI4+pY8nANgi5cOFC586dFyxYYGNj8+jRI5RESxV49uzZ9evXz58/v2zZsnHjxvXs2ZNhmNOnT2vpcLDbGqsA8lgVSEBvNmiwe8pdk8cMjuLvo/md5cN77FszX/41eQykFKIh7JHHqlC47h8hj6ljbVETj4FJSnhw7RI68S5s+5VkC/ODlWxsozjkc3EPLbluyRySJngeZM3uV/y0WvE86shjEC3D9+Aa6Gp7vTZgPWN5bP/q76sVz0P1PAYudvGujwMsv5wgc3vorN+u9xtdh77z1thhA/u8AZuqOR5jyc0t0fFch/ZtGYZZs2gWZHlO8lgw5ROGYUYO7C8R8WCvY7rgwrbfWO++JkP/99b4EYPHDR8k/5owcsj4kYM3/jSPRLtAjjU5/zHYBok8po7JqqNtFN9OKIz1KYzz1ZCXNMEv1dM0zulicZI/yQgqSQ4oShAWxvs25CtOUFqYp6O/j3oadlFR0a1bt65fv+7p6VlPVWI1qIBMAeSxKpCA3uxJxEalsaYlMaY02P3wgX1J3FV5xzBarOK/aB+rQtv6+gh5TB1rmbp4DPJleZzdSc0s8yd/TBLclcZDh9h9qYLlc2W+GZYH15FsPzDyJHsuZf2d+r7ZvSBMMd79Ufn4imU8dsv7ytu93mAYZtOy+fLAoLBfUWxdzpmNxgKhoSD79eye42VMomC/4uG/IKR+s2ZNwUAkH+8+TeB2ZkeL5s0ZhoH4ii95zL5sv+IIiIFRf/sVAYdiXL6bDnTaplXL3b99l+py4dnNa6VRjuTuTWrZ43gM7H5siur5kz9+0cP3+vV6FmiV432FRrHf9esikuELmcoyfa8dWg/2sSZNXM7sgG2QCe5gguNeiR7Apak+hZCQDVJgc/E8kMfUMVF1uY2cSPJfGIQATRfgS4kCaT4kwY0U5OrybwTHjgposgLIY1WAAcdjtExJjCm1kl09sJKkXJO3jymtROZjVr180OCBllguHzRnWBs+sC8XTF9pQ7p8EnlMHcuLengMvMJinB8Ir1JA6theDxI3p/k8D7aR38bGBlL3zPEy6fX6a9QUdt/XjEQ55UGyLK/fv51JfbqeXrcsYRMTF4Tagenszs1Dfy59Ge++jMdu+5j07w08tn7pXJLqnafMf6xZ06Zh146RDIjhzvWERDlPGQOhOEYNHpAfYgvRHTN8z239BcxHTZqIrQw5fzMAxTs3XU5vp4nO5HmsONyBxlecMuYDEuNcGGZfnaiDSvzHRDyJyI57AQvFuyc7nddvB/au5XOnkFvXSYJ7SaSDJATi8u/85Vt5+5hExAP1cvzND/xNVz3Pc7uuHVxHrX80sArInuErNNrfhN2UeG7rLyRTmBtoTYNz5IfY5oXY5gXbPg+yoSqx2b2Rx9QxPbENQog0IxxmaJAsWgz3s8QDOjclIbYlEfxSyTP8taACqIBmKoA8VgXMKPAYSbl29cBKhmH69ewmZbONFUQYd9LXe3HDw4Vb5GojKdfoMYdVk8cMLo015QrIPk20CLGCtLSd9PXu+p8kSZZcAZJpu2EZ3FsCqiWYc+fxQF4B5DF1LCzq4bGCUDuI6ZfqvXbxl3Tu/TxvCknxJileBWH2hSIevMLtSbI3SfVZuWAaLbN95TckXZDHhuwjaT57f4eMzK1atgCXp7vX4f4syIbcvZnmfnlIf0hJodemNeQfozwW5fzvDasP3u0nS8aV6JEfYlMUzpeKHYBPyuJ5MAwDOZrjXEmilyTYBvjqdoDI8mib1q1k4d2TvSDme6bQ7qgBxZVTm1aS+zfzWTghaT4FYfazxo+iHeZ4rDCcT2Jdvp0GJqzRQ94pEPGk4XaFYfZSsQNHfUoP5Hls0kdDSawLiXQoiXQoLXsVR/BJmk+Q2eGWLcAiZ7hhOcn2z71plRdsUyiyI3dvrP4OIpFw9jEJ4ByvNNLpob/ZW2+C5/pPcyZ9zW5WnPzRMBLtXMCCIolxvie4SmNaTh4zjMS5kWjAYLjlDbYtCLGFdjN9SZIXfB0itI+pY25iG1QB4LEsP01wUFQ6Zxv8ZGGoXUmEg6bxWKkktyg9rCgjHF/aoUB6aPHTO7jmqEgB5DH5m3uFYwUek4iNiqOvUBMZzQdNEszpJsYVCyaWxJjK4nkkmBdGGlMbmvy2xsljBpMky9JYU+5Fma001pSLmM+GZLxaGmtaGGl8aguklmUYhsZpVOgbvqUKII+paGUoV63aeIz1enJPd79Eb/qbNGmyZNZnSU7nSiMcID5EvFux2CGef3bRjPEUez4cNODf69cgfTNskLMl6ULBpb3NmjZlGOariaOfBVqTdB+S6h1meXTYOwBd8jyWH8IrDOeXRjrSjMzvvdULQrrnBJAoB5m1TY7HGIZZNGP8Pd+rJM2HZPrd8TEd98FA6knleGIr7JYMtiFxEPLx9dcgotrg/n1SXS+SDB+S5pPlbvTFpx/S1rn9ivShNUn2pom/9Nu1Dbc6Ru7eILEuJWKHwio3Lsrz2MQPhxSE2T9nk4DRVGC5AIEQGSXL/XLH9vC4aO7nY2Ab4a3rNNDiKYMVCvE8qFEONmGmeNOY9frt2rbXa8MwzJlNq0gGROcvCLUDRs0Ubv55AU0Qt2PlwhIxH1KKZQpJlh9J9paIeF7ndwea/UMS2fRuuF+x3DTCNypUAHmsauTTTB4jzx+RWwHgrZrlhy9NVyBdQJ6Jyf1kFU5j3a4aeawKsKF3UHIFLpOyAPfU2FUcfeXRzTOUpvr17EZDeiybN54azeiFnH2sk74eDQ0y6aNB9ODSrmUkxZIkWoisd9FLGIahH3FvgevKUkuzFV6W648RHiOPqWMBUxuPyW7679zwOr+bOi+9MO90aNf2s1Hv//jVpKVffj7xwyH6erAHj2GYgf16x/HPUF8s2b1ImD2JdKQeWQzDjBjY/6/vZy/96vN2bVszDEMtVJx9TJbyOFWwfulcWuHno4du+fnrWeNHbV/5LYR3TxfQfNDNmjZ9oysE1u/X8/XV3876+4fZg/v3ppf8MGsiSXAHy16onYRNMP3n4q/oR/17vfHbNzN/+2Zmr+6wr3LKmA866reT5zEAyEyh6V6IWMgwzLB33tq8bMHCaZ/OmjCaxLoWVZ6FjBrQhgwAc1+7tm2GDOgr/xrcv8/Qd/rdND1EUrwXssa3pk2bLpj8scnuNee3/sqK0KR7l05NmzZ5s1sXGl+R8hj0J0souLinFRu1kmGYbp07prpcJHHutABsKI1yeuxvOXrI/2iUxXHDB61fMvf0ppVH/vpxzaJZIwa+Ldv5mSZgt5V6JDie68rmg0b/MXVMVB1uA3lMG3ms5NkDkuD+POjltmfcX6qxCjwPtCYZAunteB1eZlQ7dOQxpUiTLzpL9yI2b95cViD8cn7Y+aLw8wkuh8rhVtzVBzdO71szn1JZ8+bNe7/e+ae5n4ZY7ZRGXsoXnSHsjsTmrCc/ve/ijiGPWawxlEm1uut38sCf39BKIKVq3x4rFkwMsdpJsnn5YefzRWegG2wfJGJEspcgijym2gWC1q5OHgN3r2Ab8iBIbH18zmcfcWxAJw/9t5N+u9+/nXnL5wo1THE3IuA3leKZ7nZp3HAwXnH/dWjf9ujfy8RWx1/ax1I889lNeiTW5Y7PlbFD3+UKMwyz+ecFYAcr47GWLZo7nNgy57OP5Ms0bdJk0Yzx+SJbEudG4+CzuOJcGGq/aOYE+ZItWzT/beHMO4Krb3QF0xnsV8yCOP6SUDtpGJ9EOdKoG9wlcz77iMQ4F4XbceNSOGAd7Vyo9xp3lcKBzeGN5HHIHe8rk0YPVfho2ZzJDoabGYbp0rEdJAqLl+FWQahdYRi/KMyO4hbDMAumfEwSPDifOqBlsKF5PfQ3/3nuFBqeRKHyt97sDgZD8LWzJUkeCQ5nu3XuyDAM8Fg6xrtXx2zVzTaQxxRWCYW3mmkfAx6DXeJKgugq9B/fNrgCkCkk0xd5THULLPJYRR7LF50tLn6YH3SsIMK4+EGytPBOftCx/BDDkvz70sI7haLjCudL8x8Q8kAacUkSYVL8ILn0aRKJPFcUdpKWzw86VhR2Eup5EAttsWXoMYk6y5UpEB0nRY9IbhotQ/7NIiX3pKEnuHZlfZA8lrGZ+CWTVByC7pxBHlPd4vCyZjXzmAzJ0nxInEuU7YnjG5b/vnDmvEljF04bt3rRrMs7/0h1uQC8FOeWVyEaPuv3Jfgv0Prsll9+mj3pRZDGHau+jbU7Re7czA+2Pb1p5bmtv0rF9sVlPlpspESvpzesLm7/7feFM3+aPenQn0ufXrcsjXQi6b7UPta8WdNo3kmS7GV1aP3yuVPnfPbRuiVz3M/uhC2UcW7yNxNgYopzI3Gu1w6u++Xr6XM+H/P3D3NumB4iqT4k2cto12rD9cvuCU1JtMtLi1O0I4lxsfpn/V8/zF7y5WfbVy5McDhDEjxpAaV/g4HH2HAdpwxWGK5fdnzDz/Ivw/XLzmxe9fSGZWkEnyR6FoXZ2xze+PeSOfMnf/z7tzPdzmwnyV4kxvn0ppVm+/8i8R5F4XyuFVAvy+/kxhWUsqwOra/okwOKxbmTJI8A4wN7fl/04+xJX44ftWrBtINrl3ic2/lAaEayhfR7kYodSLSj8a4/Dv/1Y5TtSZLgVsWguD6o+gDzj72c2I3oCHms6omDPFa1PvjpKxVAHlP1eok8VhFd8hPNSxlGSh4USx+XMEzJqGGac1zKMPnxZhX7rLNnkMdUvURA/ernsYJQu/wQnjSMRxK9wLsgzQeQJsUbvJUyfGEHXTBEjFD6JyQvxLYk0gmcmuhVaQKS6P48yAbwIFNIMoRSMV8eDPJCeCSS/ShNAK1k+JIo5zw2nGAZjzWDGIOp3vBRKtuTdB+S7lMQqiQcokTEg1jzXOvpApLsXRAKQS/gZKaQRLvI91wi4klp+XS29XQBiX/1A2OoLd6dHY4v9ErhlSkkUY7Up644whGK0crTBCTdtyAUMgHQzhSKeBK5jZHAWvHucz8fA5sz3+x+3/cq9c1T0Jn2n5oQy74XMCfCK8Y5L0T2vUhCeUWhbEMZviTBLb/svEJtan6LPKaOJUPtbSCPVT2PkMeq1gc/faUCyGOqXtWQxyqSTH6SZdG8sSVfTithmMKjvxYum6o5x0V7luWXRW6s2HMdPIM8puolAupvEB6jTln5bKCUDJf+AAAgAElEQVQOGsHv5cb6SkiM+4tCUSQ/GOL+wVVl5WkNXDHuQCKye1l5iK0sOkhZPI/mzVgeS/J6HsxG06Z1VkkXstqUtS6PgrQDEoBPtp/svxULcP2UP5CNUe7C8pXItju+LCbrtmxrEC0sXyEEU0nyjrA5TqOA/LZwBkkT5MmF+JcvTIG53DChJxCnsUIxGFrF8wrF1PYWeUwdS4ba20Aeq3oGIY9VrQ9++koFkMdUvaohjyllmPxb9kUzRxXt/DHvnqOmHSvtsM6eRB5T9RIB9TcUj73yL4TqCoABSoHHkr05rlNduw1YMw3xv23FNzSFms+FPdTPrQG7pIqmkcfUsWSovQ3ksaonC/JY1frgp69UAHlM1asa8lhlJJOfZMlZojTtuLI+6+B55DFVLxFQv87y2LF1yxiGad6sGeSDbtQ8Bj5p0S73hWb9e0F27OHvvV0QypOG8eV3M77yD7ZWFEAeU8eSofY2VMFj1PyrOabduswv5LG6qIfXwoYIjOeh4mUNeUwHGaYxDRl5TMUrBFu9TvIYj2T4Oh7fOmRAn7HD3s32MiJxro3jzkzpvQXwWKJnPP9Mty4dRwx8G0J95ATIR1ZUepU2nkQeU8eSofY2Xslj4Kgpdnj5CucXhfOL2K3CFee1JNSuUMQjGUJI2Vfe4VMbf/MQOlUj80FjfEUt+jkhj6l6VUMea0xwooNjQR5T9RIB9esgj8HjQPCn8sgNtJGE8EicLCKiFv35rGlXaRj9vGAb2LiYLnheIXZlTSvUzPLIY+pYMtTeRtU8xs5lz7xgSJXOvmwKQu2KIxwIhFEVkFgXhUitFMZcz+ww3bP2ruAKidX6ZzHIY7Vbjir62daunmpeRf2lKz4gqOblKi2GPKbqVQ15TAcZpjENGXlM1UsE1K+bPAZxCEPtSqMcS8QOElGl2cBU+idQ/ZWXRjmWRjpoSCxEVQwfeUwdS4ba26iCx+BBQ7LXP38u7dX9tZ7dutB/B73d+5MPBs74ZOShtUuyPI3JrYDnQQBpbKAaCIXqdX5XyxbNGYb5ac5kkgjpClXxa1RbnchjNZVaImLj0Kb7knTfovIheauuKj+EJ58EperC8p/CU4NED5IlJDHlYvDKl2nAY+QxVa9qyGONCU50cCzIY6peIqB+neUxiPEosmt8PlRV/FGH8TZq+EQeU8eSofY2quAxqZhfGGo/9H9vKeQu59726NbFfP9f5EEgtQlDLJ8cf95RA1rgq4mjSbxGpM6rYtq+8iMt5bGX4WHZ8K2vHGa5uK91C+taFG5HEt1vmh66bnKQRLnI52msrBuyba6p3iTTtyi8XFaVyi7hzktC7Uica4LjWcHFvdleJiTaUdPWYeQxVa9qyGM6yDCNacjIY6peIqB+XeYx7u8lHjQOBZDH1LFkqL2NqniMzXg+6O3eDMMMe7dfiPmRAJMDfkb7THav+W7G+NYtWzAM81pH/fBrhiQF7GASkV1ppMPzYNuNP81f/MUE30t7SapPFVvIJHDJq61ntBj8K5fxr+o5Vc2aq66EfqqNPAYbp1O8IH99kif8myGQhMjSdVQ2ZHavtQ9cRS9J8qqdEywwebrQ++Ketm1atWzR3M9oP8n05axelBKVfOkiHknzCbtmGGBysDTCSSp2qKyfCucloXZ0F8YnHwxkGGblgmkkTcA1p1C4od4ij6l6VUMea0xwooNjQR5T9RIB9SOPNdSfQGy33hVAHlPHkqH2Nl7BY2F2g/v3YRhmwsjBkAk92QvcxjKFJEt4+K8fqR1s/dK5JMWL7tSViHglYoeyNPSe3D09ZHsP5xeypg9JqF1esC2kVo9xIdEuhWH2Sm+gaW5DyLQe5UTi3Ei0W4mYnxesJCNfucoB8OxJHFczD6KPVGJyAcALgQJKCKGM/bSOx4CIMn19Luz5YtyHn416f9b4Udb/rCe3/LnvouLKACLfDvA4t3P2Zx99Nur9aWOHCy/vI6m1yVMCrWcJnU5upb8Nr/O7SYaMx2BXYbwryfQjCR7y+7rZDvu5ntnRiiX8/au/Jyk+1dzmSh8B5AbZvD+gL8Mwi2dOgG6/Cj4rKqDSM8hjql7Vqs9jpbGmBRHGOnjHj0NWpwIk0UIiNiJJ8G91Xshjql4ioH7kMZX+ncPK1akA8pg6lgy1t1FNHvt0xCCS4P48CBK75wXbkGiXB35mvV5/jWGYSR8NI3Gu9AYaXM4iHQGfopxIsjdlALgRj3Ymsa4sgDkXiuxIjl9JpOM9X7NHfuZQONtPIX96fgiPRDiQbCFJ8swNtLkjML3nayoR2QEN/p+9qwBv6mrDtzjD3d1tuPtwZ/gYMAYbMMZgyAYMGDJch7tUoU3TVJNaUqHU3V3RbcA/Rl3Oz3dPckmTtE2hCWn78eQpNzfnnvOd99x77nnPZxFCeWoBlYfZSisH5mZLoh2eSwxeuBiQaAcSLaKNkkSJ/FXUoDrb35zEORYEW5EYh6IoWbnjY1n+FiRK9NWMcZxZad3Pavkan2GJigptJBuOyCbN4U7H1s25SzYsnsFy7BK0asrzD0uuXGwv7tPT02MYxun6H5SPgVVhmG2K/R2bC/uiLK+QcFvOqhAuSZJc3/cjbf27BVNIlDBbDcUpHcT8YMu3Xmb9e4BV7arZE0m8M/Ixrc8in7hBNfkYiTScMrIvwzA6RclIrAmJMJRfteeF3uPOFITr05+Ui8lfov4xJQkk1kT9SxRKkmhjyjcUzleGryTCsEToSLSxz4MDDMMc2bKIxN1XBxbkY9qYQZCPKb+w8Uw5RQD5mDamDK23URo+Zv9+petvkeXH79GxDcMwo/r3JGEQRhX4UqjV/x7dXzFrwtSRA20u7SMJzqB7CbN9JjFYOm3swsmjnzjfI3FO+od/nj56UPcOrft0ab9w8ihYtT/zfOvNxQUxJ7EOb73NjI/tWDFrwvB+3Tu0bt6lbcuxg/rs+ObLeNsbJMWFxnVkuYTdE6e7S6aOXjRlzEt3k5cPjb/7cmq39q07t215YMNXyaJbM8cOmT56kPDyAZLkIq91yWZ5y57vFk8a3n/P90tJhF1OgIrgQ+WOj4HiMcR67oThDMM0blCvTu2aDMNsWzmfJEkUgmHSiQjYdaob1XbWr/MZVVKtWziNxDq+H26ZtrDEuUslH0v34UHgzQjh0mljGIYZN6gPiRRxlcMgxthHCC7NmTBs8vABTjf+IIli+ZEqptFMXz7yMa3PGTrXoDp8jFslr1s8kUQZ0VWyMq/ICblLoow4OqTOYvpjypBUc/GdXZE2x7kW80Lvvfa6umjqMLo9MWVk34JwfeViH9YoiTE+smURwzDiO7uK4RXF8FWSYu7z4IDPgwMkxfzDZNDaVRRS5SEGzRVLRznM1RSJRBhG2hwH6FJL6Htu6L3ObZs3ql/nqeuFvNB7JdaPfEwbcwrysWJepfhT+UIA+Zg2pgytt1EaPiZ662Wa4cN7621GEp0jBJebNKjHMMyGxdNJjEOGDziDkSj7GOtrLZo0ZBjm9LY1JEEMhWMdgkz/bFivDsMwNhf2rZw1kdPD0IPaNWvc+2MLeexOzRFJhG2S8NbIz3tyxapWgX/0a5e2LaMtr0KWeR9zUI7FOfqZnKWsw/rCvvFDYP+b/hver3uE4BJV4k0bNZBECDkOABdGOURaXmncoC7DMFu+nkNiHbN8VKiPyikfm8fysf7dOy2aPIphmC7tWv7lakhCrBXUgJm+5nlBVhk+vOH9ujMMs2jyqA6tmjEMs27RdHk+Rv3xwEVQiZhlsglOsmWugEXxsUwfHgm1mTcRWOLI/j1JpPCttxkdQRpKhESBTjU/2IokqDA4hIEDy1J+ToBltq95ug+PSlIiH8tgC2f7Ss1WpdcWoXxjg+abs4VlrSiVpC5wtAybhQ9uwuJncrRX1PSsphYfizJatxhmHuAS1JxMpseQTRjwf+e2zdctnhhle4LEPyhxGV2qAllBdxR4Dok1ubhnFcMwjerX4X4iEQZUibdo6jCWO9UicfeVi5Wqaa6wOnwsK+hOo/owV3NXcQccp5WHkftVpw5IhCHltNxwc+KRWBPxHQg6tWjqsFJRMg6Zi3tWcWxWSu0K6xu5kTU4tl4dFRnyMU1PEVA/8rHiX1Q6/quC9zkNx6ywoNHxLqgpniwaW3ELC+Rj2pgytN6GmnxswtB+5LE7SZKQFFeS4JzjZ7F63iSGYerUruVx7wQoNCgfixTF2lxr2bQRwzBntq8lCc7Ax2Icgs3O16tbu0oVPapSG9qn29W9Pzw48cvm5bNpcPweHdu8dDMuCLGGwBJpbibHtjMM07drhyObVjpd/8PH+IzTtUMbl86sVq2q1E0oQpjlbw5mjbEOAQ/O1apZo1rVqjQU5NC+3Y78tHLrinnfLZhGksTfLZjCrnjqBpn+CSyOXT2D1i7Z5dKu9QzD1KpZw+X2EdoF5eelXPOxQb263D+xo3o1SD9geGQbSXHjGCntKeCQ6mZzYR87lDUF5/a0b6nIx4BiRYpIlD3ElA+xkacfwMBZa08oEAvqUxV8LFEMyrFEMUkUfzlp5DsjxtEDesGNFOsA4UMSwVUM6HGQFXgnRovkaTNrkQhB8CG9eIx9QbB1XqAlGLgmu+QHQnKR4vkY3Esx9uDuGG6XH2RZEGQNrC9JUhBio2C8msX6NJJ4NqJJmC20Em4LQhbuL1QYYUuNZqFMiDWJcyJx7/0kle8fYJve4NGX+yRS6w93ZWlQHT6WHQw0o3Pb5rkyfQW3Lm9Uv86UkX3ph3KzRvXrACUrbEbILeg/4IAu5eV5F2hp4h8ILmxhGGZQ745Ui5IXeu+Jy3lKC/PD9EmMMRjIKRX7AAHoJerwsczA2xQE5VaogqhR/TqN6teR1+kpl/zkZwrC9SmtVdYEcuNOdY/qi5oXem9Qb/BTFVzYQuk6x7vkGRqMLKtJk1I+mTK2mIaQj2ljqvowPqa1yOnUYz5Dtteo8l2ihZPqkAEtiKHQBKxUIkT0XQ4Q+ZqTeCeS6kYi7Qo7o8NyoVyTNFjUxjiQJDFJglW1Ag7cV+Rj2pgytN6GmnysR8c2+oe33jrw043fN+1cs3D0gF5scMV6dw9tIU88qKkhPCNF87FG9UETxTDM6rmT3niZkscP4eF68nDfuqX0vNGx7dQQkYTZJghvGRzZ+vqhCTxx8U4kxpEkw8GiKaDt6dCqWbL9LRIhgoeU5WMN6n5GK5kycsArj/vkyUMS5wyeY6luwsv76U+ntn8LNns02IMPj4TbThren2GY4X275wRYZPsLuFtd/qBc87G+XTu8dDce3LvLu/3sGWMGK7jeAdvxsyDRoiVTwYxw9vihKfa3WzVrLK8fo2MabXl13aJpW5bPee5iQELBNpX6bhWEWP7nZfbrtwu/mfNFkNl5EmUP9Du5sP9Yqkumr/mxLav2fr+kZ6e2DMO0a9n04A/L961bunvNIoOjW4Hmhdm8fGiy/Zv5a7+cEml5mUSKaBPAxMKFJNre/uqBLV/PnTpy4NiBvVfOmXjrwE9vPB+QRHG6N0+lvWImqxAjCeIQswtndqxdNn3s2EG9p4wY8N2XUy7sXPePmxFJc+PsYzMBBz5JlnganNz57cIFk0aO7N9z8ZTRZ3as/cvNiITbUGGga888UuxvH9uyasXsCWMG9poxZvDu7xYHPPiTJLsqEzzuLkI+pulZrUQ+xlGaQsaKMj3JlJF9SYwJmAVGGDxxOU/X3KVVnhSz2qY/0VlIoRhd1nMmbUVRBYViCpWo//Uj+RhlGlTRV4ZkVX351S+pCT6WGXibjhSnO+XwBFexwtE78sP06Y30xOU8N75FyY98TNNTBNRfWj5G3yIFwZb5wZby25DczF6GBxAJLdgSlkTJLnnFRhgrw0aVq4L3fYgNiJHgnO2vwh5G+RItnIF1QJxzgu2Nk1tX03UGiRR6Gpw0O7UzzvY6CbeTLhcoSUt2IRG2xTAZLQj8wU0A/jGiYNPzJ7auFl7eT5KL9NxAPqaNKUPrbajJx+hiQuHv8H7dHa4dJPGOeUEQolAdPjZ/4gjQPESBudpbL1CdhVtcaszaPe5cs5C1kWO1JeF2JMWNBFv952n61svsrbfZm0cPSJLL7QM/MQxTv05t//tnSbwT6Cvk+Fj7ls3iba+TZBdqV5nDOhe98XxAQ/aPGtAzP8iKhnMk0Y6h5heoCeWxLatgZV9EUL5yzcd6d2mf7W9x/Odv3qkr69WprRDVA7RS0aII/sX6dYDNGh7Z9sLVsGUT0G1y9oowE6a53T0Eu/jgdnLzMEl2oUo22MdJcPY2Ol33s9rvyPml3etZ5JX42AvPGOurtWvVULh56Ncvhn2e5WdOUlw99E9QTanh0W0kxVW6BRZumxNgsWLWhKpVpdaqXCUDenQKNb9IouzzggSK8TzY6J0FwdY/LZ9drw7IpvCvT9f2nvongfyzg54JHNL14Mbln9UCXzv5fxOG9ssLsswJEICX3fNHwsv72zRvIl8AdiUa1Y+wuERiHIt6ZSMf0/SsVjIfizb+de2sd3onefsxleSHJPOozkrBYA9ibEQZ5YTcpUtqUFuxRo/yK2w4GWVELQ+zgu5wfmg0Jge9beTLA72hlpNyijhqSjdlZF9pQ9TTSakY5QYlixQNGjZaFRDOJDN1/MdUispJrmB4yRnskVjgtFKxIwy5drkL1cKQjW6ijCFXSVbQnYJw/bzQe7Qt8PeTdZArkxl4u7R8TM1e0Lako8YODcXzyJZF0o7LWBmR3XKcMk1ePIVj5GOaniKg/lLxMXg7hgthCeJlBscJRS4RSrX4Zm3iVShwcgMsc/wtXG4dBludMLWydpaqXYXCKo39IFpxiOXrhyZONw556J8g8U5qhtVSqLxsv8KyMszmfx4PBvbszDDMw3vHSZr7q4cm1Brq2/mTSaxjpg8PxijOye/+GYdrB9Mc75BIKUkrW2E0XVtOgCA/yPKLYZ8zDNOmeRMIlhBpT9mmQtPIx7QxZWi9DTX5WIsmDVfPm7Ry9sRVc76YNW7ooF5d6OJVT0/v128XkjinLD8LeCJK0o/dObiZpLlL9Wl+/LwAwX+epj07gtpk/cJpJFpEF7WZvub/eZmSYGuS4gLmYfHOoMJ94m5+9jeGYWrWqP7I4KQyHzu59Vvy+OFbL2lcEKkRWorrnu+XUHu8R/onwITSy4wki8/uWMswTMN6dQLl7BgV7vksP35552P/eZlFCq5Q5eSuNYuoTol2E9hsssvv60E/2blNi1cPTdIc7qjgY8kuBke20iUa5BMDLTrEXQQ+Fu/ka3yGch7gY0kSFtvC+rFkl/wgwenta/atW9pLph87tPHr39cv+23tYpPjO2BkE5w9DU7SUCL3j+8gKa7gSejHJ1GilXOk3oZjB/U5tXX17QObt6+a36Vdy3dR8natWUjinXIDFfkYdVkMt7hEZV46bezN/Zscrx3ind65Zv5k2sqYQb0zYEdSACrWRBC4ZnXIp7f2yylud475Gp/hnd45c+xgWJT7mOcECkiIzWPHu/RGHTOwt83Ffb4mZxyvHfxxGazyPQ1OkYT3adYU7iLkY5qe1UrkY9zqXN6bSDUfkynN5PkYiTF55nph3eKJndtKY5AumjoMqkrjcwtrkmQWZXti3eKJ1PnqXSyHdYsnxtuf5vzB6N3I/aVkjAbi43Rx3K/cARjCJfMUisG16oiUYu5rekA+NIj4zq6P5GMKhpecwZ74zi7xnV3URJDa6cUIT5KY91Ec1RKYjW4yd+JgeQzBcFRWD2199MDub3yv07Y6t22u0rKUG3F17BXV7EUhn7Q0PmXO3EjRA05RxtX569pZytSdu23oAfIxTU8RUL/6fAw4QKjNX66Gs8YN7d+jU/8enR6c/JWkuHyk1oXlDM6gfYoSylcFu55JErpvyjDM9X0/clliFN4lZfIVepckhqVVqK38JiK8C+OdNyyezjBMjWrVbC/uI0mwM1omjX5wJRmwXSrZumIewzBfTR9HYp1IiOU/rka9O0Ni3OUzx5NoeygT4xTGv1iP3RueM35YXqBlfoBA2d/9g8XQzoU5AYJsPwuqQGjRpCGEoo6xlx8jTgzkY9qYMrTehpp8bMKQfiTNHewGIcuwIwmxdrp2aEAP2LDQ09MzOrKNJEP4vhL52I3ff2Q9taTPeG6gZaafeW825fSGRdPhyWJt4WBJ/eThKw8T24u/n/j5m60r5i6cPHryiAH92DRTtWpW91TFx+798bN85VLOAAE/zlD2uOe7JWzIR5hsxw7q824lPXXkQBJmW8ycU9752D9uxiTOce4ECNfWrX3rV+4m+cEQ1QPm5GDrl+4mvTq1k3KbVLck0S0VfCzlY/gY5B/L8mH9x5IkCzj/sWQXcB6LdyKJrIdhvJMCHwNel+pmfX4vjZu/fMY48Nei5DzJ5bnE8Nv5k//4aQVJECvzMbgPQ61ee9z/Y9MKqkcFTzDq+vjEfeOSmQzDVK1aJZh3nsQ4wp2W4LxxyQywXO3XPS9QwN7nDvA3zBb2p0KsqZJQcA72AurXqQ0E/h9fMLNkzTqSRbey/C1y2OTp3Gwpf4B8TNOzWol8TKVPlGo+9tzK4Bi4lXI+XSTCMMr2BGUINMYGR7q4tT6JNvY1PUjLdG7bfMrIvpS5gSVklNGNg2soC6Ix0I9sWURX7QoCUOM3GnSkc9vmtBhlfZzSjCqF1BbpgLxI9Jga0XGSKxAD+pVSC5U/KSDJGexRsaknHtfoc/eLUgM/dTCURTfp3Lb5L2tmHtmyiDIuhSiFdGhoL2gB59s7ueganMyl42OysJPF96JQnSnmMcKTnJBTRval4yW6voNTtSmMGieb8gHyMU1PEVC/+nwMmEmKy71DP3NsGxYKoTZZ/kX688jP+CqP4Y0b6+B+9/jl3esjLS6TCCGn94AXTIIzpRwMwxz+aQVJLHJ7T2Xl6p8EZ+54J+Hl/Vf3/PBMrM+5H0ANPjwSbU+DboEtweGtJPUT8zF4lz/1sLv0e/Xq1apVrSJh7XMKgqz+cTeipOXrWTI+lujsoX+CjteoAb3eepkVhFhxSXXUx+fTlsz2t8gNsKAL4uH9uucUvbBAPqaNKUPrbajJx2T5xyC+IoRN9+WTV36eBiepyR/8GmwNj3NJ+jHgY7IEwVl+/Fw2KkPvLkAJOD4Gz+Df3hZnd9MnDigfw1SpAvms6Oq8Vs0aKvkYKN/kKpc9WRYkxGYSqwHu160jrL/jnfxNztZnLdlu7t9U/JxT7vmYqxF55vngxC90pjI6uo2kQRxLeOOkuRke2QamjJ/V9jM5S9LckoQa4WMQDpGNrzh/4oj38RXZXHY0pCFRyceiRV/PHM8wTJOG9WCfiFW+SdPfhduAVi3GsWj/MX5ekAA0q7FO/3mxJq9erMlrrKPT9UNV2Vid1hf2Sg0s452Wsw2N6NcDspmH2YGVrLcZvLmihdTLmqS4Gh0FrBrU/SzY7DxJc3/z6AHY3MIehBC2FYqOsoh8TNOz2sfzMW6JbHBsPaUTnJkZp+ACW8dYE4ixEWtCFVZcdJCCcKmz0LrFE/PD9AvC9XND770LZL9kxnDI1sUmoeJIDtTAWrUp8DHQeiWZcYt4uDAGMn2pKCaLwViMSJzYVCQSYUBVfFSMMudjYOS8eOIz1wskwvCZ2wVKRznrUE6Y4gSOMqJ8NS/snrTvMcZUucfVw7HBRvXrAFONNAS7UNZukBtBelCIOxUuoAJPGR8rvhcKdYJ5ahqfs1ckaXx6b1ABuFiUHLFXkFD+K/IxTU8RUL/6fAyWMhFCmjSmVk0wta9f57OAB+e4gGCytYWKDDkqfwIyFmLz76MHQ/t2YxhmjczKThYmGCJTh1tcXvPl5O8XTk0W3SIRGjG3AzEiRcn2t2my0T82rZB31QD1XbyT650jy2eO37py3r8e90mI1HlaZac0fZL1qbP+11MK2peTRkKwL18+CbFR4GOZPjxQiAUKDvzw1eIpo8xP7wRCW/QrWdOSf1j9QMuTXSW3jtSqAbY6tw78RFLdi3KkQT6mjSlD622Uho+9zz/GxhwyI2G2I9g46W2aN3khMYCkzx/Nx8BRJ9nV+vze2uw02LtL+9Pb1oiuHHh495iP8elDPy6n9orq8zFgdymuV/f+8O5lX71aVfsrB8jf3kc3Q5jp1s0aJ9rekN+oUn6Oyj0fczMi0fbPJQbd2rdmGGbuhOEkzDbL3yITQgUKp48axDDMrHFD2ITadprjY9l+kA9ano9xOklq91hYP+aS7W/xxsu0eweQeebYISQa8tFxo8OGgAIVX/HxFd96m4FvWCQblilZQpJcyPNHsTbX6HQHViGsqyFJkpz8eTVl+/s3fJXpZw7hHMPt0r151KiESuhlcLJO7VoMw8ybMDzN4Q5JBrKX5QPMlhNM5QHyMU3PasXzMW79rbAy5s5TisL97dy2OZCxF9ZAkGSB8gb17kiijSiVostuqpwBVsCm5OKCInLrbCBvcj5mHB+TL8CxL6niS2YtKR/6j5NTmotMHZGSzCJtjtNI+tnBUp83cN+Kf0AZTpnzMTC5jH8g1YYlPKAB+qVqQHUEpg5yUSzCLAUFkOXZjswv6z2flDMW5SDlDhS4E3cexlQJZE7LV0wvVPqkcRdyZoryDXHsUeGk8lfkY5qeIqB+NfkYkJZoUaTgCvVr/2n5bDrvHy7MXpTnetYpCzKrgDNYAJ/uNdJiUGew9f887g/qBcG1WD7mkOUNeTnpTh7sj8Y5sIGMaYhhiKWR7cfPZqMPK7dFQw9DAbkUNGyAY5oWRpAbIMgJECgEGwTGFS5MFt6kWYCgRwnOmfJiePNIggRWAzGOJFSRjEFyGzZ6YU4An+2jgCaQUSleti+kjqGEM8OHTSMTKMgJhEvUZErUjNPk+A76zF/Z8wNJdYEFYqgiH8tio3vnBlqCNWO4HUmSuoazIcsAQzlJAPMcNSShixHjlH8AACAASURBVAx1ekojUrLRX1hYAiFbDre+kQcn0xeEoSOe4Wue42eeGwju6dxuLokULmQzFC0A8mknf63CMfIxbUwZWm/jw/hYlh+fRuOgIQpbNmmU4nAH4hl+NB/L8rMoCLGeOnIgwzAdWzdPtLtJnniAoiPGnrz2Nzu1s7R8DGbCKGG87Q2aFW3TV7NItP2o/pDcbOm0sSTWQWWWZO7mrwB8DHQ+yS5bvp5LVWFgbhftQOKdvAxPUTNO4+PbIY1BmI2u8DGIUC+MElxu2qg+wzA/LJlB4lQnpy6GjwEPj3UgEcJoyyv8M7sv7lq/b/3Svd8v2bB4RrWqkDXh2t6NNEc2CbF54Wo4mH1RgjVUr85nd6xNFt4iic4Q757SLTDlcKCm9e+2rtq2aLrjmy99jc+SSCGJBzUdd8MoHyAf0/SspiYfkyc58utyLt491YytWzwxJ/gOF0mPhvfgDAipWdqRLYuoCgiIzWMLauLIuYEpL7hVLs1VEAMlqiAvp5SPycLfFyfSU4EC06MicfyhzPmYPCHh+kWjWXLBLYsTmFVhgVos0tDnwYGLe1ZRnCnpla9cmdaqRPvD+Jh8Qwq9QD6m6adY4/WrycfgzZHscnr7GroESRbeGj0AlgtD+nTL9DOH4IdyFIib7uEqdpmSFwjBGMG8PsqepIIXB/CKEBsS55jlaz64d1fqpkwePwTmECEkcZBwk2VKdsDHIkUk1AZqC7WC0GfhdiTRWXnPD5Y18UCZIBgxzQHqb8GmhXEsCLbK8gU2CDLEO5FIe3o5bCuG25F4p8eOd2lamyM/rXwvRjy0ArQwhtJC+/wgK44nsL4fvFx/ASwUIoR5rEFIboAFyJ/iQokfB0WmHz/H3wIM+iOEJFJEfcpJlBAK+PKlfElue5W7UOGAvjh3r4UE9gzDXIUXtguLjCo+5sfPhUZZAGMdaZfZ9YEABiJCSCLs/vMygzBxEawkfqwkiS7yG72cAMD64sACJz8YQMihPU11zfa3kMcEQhTQQPxJEhYWAUs1zVlYFAuz27qO0P1YR5AkSUzT6UBczVh7OJPsKr55uGqVKq2aNooSXFGZiZWTEPmYxueLT9FAafgYPFnsFgybEjpa9PKhCY2s0LdrezZkvMXH87H8YAjwQ6OuL5s+jiRL/mMNw/579IA8e/TgxK+l5WPsFgmPxDh+NWMcwzC9OrW1u7yfRhTknd7F+ugWt5iuAHwMwqLEOXrcO0ETkbFOdBKS4Lzl6zkMw3Tv0Ob1Q5P8IEsSoTP6sWQXEu3gbXSaDtPv65eReBVJomnMfZXx7mGSTHaLtb62dNqYup+BUkv5H+VjYAAJIT2ck0U3l00bS41T3k3+LRo33Pntwn89TUkU+DTS0FMkzPb3dcsoS4QIMbVqLZo8GswXnzwshpIhH9P0xKYmHytKP0bj3YNFn9sF6pgEMRhYI0OOwCjfP/QM6McSTd8brcnUOMokgZaXP8+t+DmiqHxGBR+TM65TKRWI9MSC0kiu5k/Cx6QEUh2Bo8Ey0593iBIwhX7J0yRlGOUh5Y7LkI9xGCrXyd0e8hJyMqgk4fK/cseoH9P0FAH1q8nHsv0t8gItx7H+5V/NGEf+8j608WsIcVG9GsQXTpTGF+ZWxqyTEvibPbp3YvPy2SM+79G+VbNhfbuvXzTd4epBkiAmkaIUh9vrF037avq4Jg3rgSd3h9Zr5k3+Zs4Xy2eMg5RBcc4kUhTCO//tvMmr506CTehE8RNn/RmjBy+aPFpwbo9CKBHqA3b5tw0zxwwGNw92I5wEW9td3r991fxJw/t3aN2sbYsmowf22vv9kjib6+SxGyz3Y+yDTP9cM2/yosmjqMZvUK8ua+aDGCtmTrC7vB9cuuMcna8f+nrm+B8WT/+fhwnnXcbyE+fcAIHBka1fzRg/pE/X9q2aDe7d5asZ4/QPb83yNyfx4nSWYmX68QsCLbMDLHas+nLlrAl+98+Qv7wcrx9aMXtCj45turZrNW/icNuLv5MnD2meGQ5G5QNWP+Zy4AewiXqXjtacXa6p5GOZPrz8QMvcAMEv3yxYMnWM/h9baHytghCrt15mm7+as3rupEjLK+TxQ5uL+5ZOH9utfetu7VsvnDzK+cZh8swzU44cgtWNH588exTCu7Bt1bzRA3u1ataoX7cOy6aPfXDiF4A64n3GM/B+SXsYb3vj0u4Ny6aPG9izc6umjbp3aL1s+tj7x38hUcJ8mScD8O0EZ9OTvy6ZMubYz6vIa1/xzcPTRw9q37LpqP49vY1OA3MOsaYe9sA8n3rIB6ZTAY43jyS5YFZTbUwcWmxDTT42YUhf2HyJd4LpJcGZxDtn+fF/YEMjMAxDV8zwzH60fizPX/DWx4wmqgIf2jgn2DAKsyXPPf/ncX8aqzcrpf8Yu4WR6mpxbjflcsP7dmcYpmu7VmBjGaaok1e48ysCHwu1yWFfMeOH9KWM9N9HD56LDajNwp7vl5AkF9jDiiyCjyW7GBz+4PiKEM8j3YdXOntF4GMi//tnG9SrwzDMtpXzSqUfg/swQpgkvNmrM/gl1q/72ZJpYy7sWmd+Zpf45uHbBzfTwPocH5PG4YyxJ5EiL8NTm5bNognNwVRyzBB4O7Nbopm+5nlBViRJHG974+jmVf26dqCvifYtm4XyLhQVBgnzQWthMiuej3FJluVDJirzHDgTY0LN/BiGofmOOd0OF4CeW0PTA+rfRc3z5JObKRRTuTRXZl/KZ5TlVFMkXdCPSfmYTKFXDIZU+0TJ8JEtiyJtjlMAlYkufeiU4VU4w3Ened8zWoYjUVzkQ+6MPK1SHguuTk67qPJCaSvRxtTJUGEXQEFO+hX5mBZmCbX4GGc9X5tNfmJxdjf528v//jnqPrHl6zkQEKywOUSmL5+kuh7dvEp5569GtWqw/fnkofjmYXrjKv/9Zu4kGhvKUBbF2On6IfLMI9XhDvXyGje4b06AgNPLgWYsxOapsz5NvTL/ixEk1vHVQ5NZY4dWYR2jwTGjalXqas8wTPtWzWC5H+tAUt1uH9ysLAA9s/f7JXRtd3jTCoZhatesEQ5ZXCDYOmxYxosThTcmsl74yjWMHdQnwe4GdUUD8SJET5zudmrTgo0VufH39cvoTjB3YZ3atc7+spaN9FXcXjgAG2L52uM+7/Qum4v7SKSQmvYp2yvClmeE6LEMsQ2sRQ2QpWj7ONtrLZo01GP0DI9s27ZynkLmnAZ1P4MQAnL5Q4GMpbnf3L+peeMGVOCa1avR6AUQN3byKECDDYkGt0qi2ODI1uZNGtKSVfT0qrO2N/TrhiXTSZQoy8+CahdJvDM1Upozfhj/7G4uIe87F/mLuyBZUH6QwPLcXkg7Fg/xyhVWogpfUT+mjSlD622UwMf8+DSoRpd2rS7uWnd2x9qzO9ae3r7m5xVzB/fqAhE2ICpdjxcuBiQcohR+PB+DxyFatG7hNHZDqvqxzauS7G6m2N+2vbiPusIyDFNaPgZTRLD1q4cmXIAQqRUcm1BY4T5X+Fox+Bi7j+N2aTcEjmMYxurPvff+gNhR9et8BhEI49hMbkXxsRRX05OglmQYBpKjJMrFu4+xD3pwjmqxioh3X4iP0dBNI/v3JJGQy5tCzb0B38e7B3tFm3jb680bw0S3cPIoVkI5/zHWjp2qrZT1Y/95mr4T8tfVCyj9hl0tSLPpCuYkzx/FWF+lSjB5PkYtwLP8+LDjkCRJFN5YPHU07TIE7WSjTNGglLA9FykkqW5vvEwPb1pRvRqYPq6a8wXNvqBw80g7CPYvEtzJ0tzcVjwfo0teOpryq2HlBTelZDTIHpArVmnDrapJhIH85dQdS54vdW7bPC/sHleGBv/gvqojgGqRChsxygeKKFIkGRloVL9OdvAdKgMInKAp/7FimEypBAY/vUhp7jISd/+D+RgXbp5VfhpzGZkBhEhDSvw4qqaSVimPRen4WOFR424DlQfIxzQ3ObyvWR39GMzvSeLfvlvMMEynNi0gAmG4MD/YiqaE6t6h9Ut3Y7ocp5M7lE9zvXNwC+U/vTu3O/fLd/ZXDxge2bZk2hhq2v5cYkAi7EyO77j02wYZxeqjf3jr7YObb/y+KdDsT7BhS3YxOrqdzhHON/6AfegEMV0G1apZA0KJREsTXEKLqW6cVxXkh/lfgPvdY+9SiHZp13LXmkXCy/v9H5zz0D+xbdV8uvU4bdRAEmxFQq1fP7xvcGTbqW1rmrApXxdOHmVwZNvtg5tvHvgJCFWoDUkUU9/62jVrsFk1IWYACbJK9zYb8XmPd7Efq1WtunTaGONj213vHLW+sJd6hDMMM2pArzdshiJ4nYfbPnXW79IWktL06Agu4O1bNju5dbXd5f2/frugfl3Idtqg7meh5he4BEcqX5xAY2h+6hQXkupKyRgs5pT8x1g+JnzsdK8z2yh4OMSyoZOjRPG2N1o2aVhFT687K0m39q3O/fKd7aXft3w9l3prtGjSMNHuBgmHcJd0nXRlzw9V9GBx++UXI52uHwrmnfcyPLV+8XTK5SBrULLkrTeYipFYxxljICvOrLFDbh/46ZH+Cf/7Z3lndtFUaVWrVBGc+42uHqBwvPPWlRC1v2u7Vq2bNWbrH/H7+mWzxg01O7UTApSDoY6EpLpmyfzuioJFusuL+rH3D3cFOSqOjwUKsv0tBvToRGcJ5b+1atZYOm3sY8e71A8HnpQo+xjrq9RT6/S2NZDsy9uMxDoEmf7ZqF5dmdOOdEEvi69o1pvVY3y/cCqJtofZJsoelBtsHPYqVfQa1a9LtypqVK++cenMVk0hYTGkK0yAh4JAOPuz9Bm/feAnVfEVIQYS6EwSJTvYNfr7SU9FMEbFgEkVg4/BbBBulyy8SYdm5tgho/r3YhhmzvhhJEoEyb4g8FIR+rEEifONP2gMDAjPmOIKZqu+5m89Tckrf5PjO+g0pQ4fWzBpFOug1SUv0JLuGVEXaKX4ii6ZfvzcAEF/9t7r3Lbl366GJNQWTPF9zdO9eTl+fJIsgRSd3mZKfMwpB8zXBdQFEWLGBlqC0tXb7A0YH4qirVTwMRJln+1vAWEnvXlA51JcUx1v0/3HX1YvkPFVYUGwJQ1NCerEEFsS6zhnPCQSGNKna7afRS7bKeUpFO0VNT1XlsjH8kLv0SU4p9mQ51GcQRqclAWfaFS/zjPXC3mh93JD772PFkgDTsQYkyijJy7njU9sIPEPMgNvc2WObFmUFwapiml8xc0rptBQijRxlkztZkDzHSuv+JXPqJSTaw4YRUki/bp2Vn6YPokweOJynstFJo+DMkOgMyTVWRWEQ7hIyCUti03C/QqyyWwRi+Fj8vgUJXAh2N0ukLj7JNaEMx+Vr1y+dWXJuTPyKQFkgR8NKAhcRgGOpKnZCxV8TBajH9h7pCGQPZnBKkcIOS0cJ5vyAfIxTU8RUH+JfIwG9Hvj+YDm1fluwVQS7/Sf5wOS6nZuB6QrZa3mdtIIxTSiBgmx/sfNmCbW7Na+daz1NfL0ESiakiUk3sni3G/rF0/PCRCQUGvyxCM3wGII6z/2/YKp5JkHGBolSSBWFfg1FeZj8WKSJBZdOUAbPfjDcpICrmjs28WCxNivmDWBZYzNn0v0SbT9P67Gdw9tgX3xJAk0HesIOVsfu6/9cjJEKG5QL8HuOgm3LQi2JM+9nov127dq9m5j+/iWb8grX6kYkXYghhIfg5Np7nQrt0oVvVPbv4WaU12hj4/dSYTdD2yuGIZhTm//FhYH3mZSPtauFRV+zMDe0jAACc7k2aPr+36k5yF/qBorMLpXyoXHKJaP3VXJxyj5gexGowY+cdYnT9xB+KcPT237lkpy/OdvSDIbKSRcmOpwpwMLzrLpY+nOK4QuSHImae7fs1qCFk0aRltdpTvKJNbJ8s/fHK8dBBe1FAmw6Gh78tovmHeeqr/AticWfN/l+Rht9NjmVbD7myiGS2Q+6DRduPIaQvkM6se0MWVovY1i+Bjc+bGO1/ZunDVu6Ozxw+bIPnPHD/tuwZRjm1d5GZ6CeykKSBR15iGhVv96PJg2alCvTu2sLuyjWTRIqO0LF4NJwwb07drB6fofJEHMxdeBhXW43fIZ47u2b3Vp13oS5yRVjyeJU+zvbF05j9NoLZ46BpQzUfZTRg4Y0rtbrM01EimCmzzM9plYf+LQz/t16yi5fZTEv69c/h6GfZZoUbj5xaYN61NK8J+nGWF9NeWLKR9XDD7GGkWDp+7quZO4tAEMw/BO7yRpkGKkKD4G56PsY6yuNGO199NGD4KpPs4RPI2fezpd/6N5owZ0eimGj0ndlaPsNy6F3F/tWzV7JjGAZGJxTuw0yFPiY0D53iUZ37VG6sp7cutq8uwR2FxECsljNxIpurZ344mfV5EEp7wghXzQTqyZg/Vclin1794Jhj7GgY295ECSXagvgGxrALK8kFDreDsIswkihdkUBFmRZJfnEoMOrSH57x8/fk0SxfkBglTH22/YtHgkzAZc8iJsSYJ48RRQo40f0peE2WQXEV8X+ZimZ7US+RiJNv51LWTu5lQiKnkOXShzwdkpDZDPLcalmaLEhiNynA0hjbIon39MGjgxykg+t9W7jH80ULuCVaGafOzDRKLhFpV5qTI9oE/0lJF95T8bln5BKRn9VYqVenxMLYFlQfxp2I9f1sBcQSOsfAAfg/FN4dE4K7Qe2hcqfKP6dXxND3IM88P5mIy906xoLZs1BPZFkxnIRlz+llOGmp5BPqbpKQLqL5GPgYIixdXu0u/UPg0yoqSyBCNKGG11la6waQJiulCAl0eyi9mpnVQ5du6XteS551tPNimQD49NZOxCYhyywZzDvCDI6n8e92nYKIivGOOQ7mUGqWDYWHyKfCxBkh9o+e+jB/27d2S1Tz1Zc3kBaJ/CbJ4432vbognDMN8vnEbi2D3vYCt4e4XYcNld0r1NSbKL4E9Imlm7Zg2X20elu+Nhtomy+IoQ7z7emUYFkIqhwMeiRSTY+i9Xw16d2zIMA3mNQmzyg2BXMsOHRhFwfOx0l+6RTxz6ebY/H2J+UP0Yy8f6devw2PEewOhlmu7NKwgBEHp0bMMwzOKpY0i0Q6bMTkZ57aXyzAfzsRGf93jlbgIJT73MONLYrkVTyHGxcJo0xkai+PJvG8A1vHatANNzJMU129c8198i25dP4p3DzC9QldqFnesok2Q1Wi5UXQbVwsc028+ChNqMHwzOIQsmjyKhNjkBAtAzyPRjbIDNKSRJnO3Lp0gqxAhR2XGFk8jHtDFlaL2NYvgYq8EAL0RYBCt8oh3gfAKE5JG/l9gNJitY2oZADAm6qQFPUIg1CRfCJlG0A7fTQW8wdsUvggLsPgI9Cfd5hIjEORYEWz4T67/2MIGQgEniLD8LEmEHC+Iwa0rqZJXbsZW/j8ivePfCotzR/8HZOmx0B3B4S3GlDqgKJRW+Vhg+BpCmutpe/J1m32IYpnfndq8emlDjC4BRlX6MarHehf9dMhWML6pUqfLjslmh5hcSbG8c3/INXdxQ3+AS+JgPjyRJzu/8nl6ybeW8eNsbj/RPWP25BwY0QVw43j37Eoyxj7K80pK1za5Zo/qe75f4mpyJtrpqdX7PvAnDYU77cgqJcVTOBw2Ku2SXPd8voW0d3Lj8pbtxhg8vzub6ukXTuO5Te0USbpdgd5NhmOUzx0tuHXkm0X/10CTe9obMYraa/dUDYO4YZtOlbYvh/XrcP7Ej1eHOS3eTp2L9i7vX076DD16imLPAVLiFkI9pelYrmY/JXJjkXbw4OzqOVkk5hqwwd54kmUXZnli3eCJVlNHF969rZ73yvPpex/LMUnxnF6eA6ty2+brFE+PtT5MIw8zA23mh9/71uc79SiMxcgJwgRmVzwCvkBkfcsXgpDoivbAWXNhCCRj4Pkwd5md2kLq6FaMf41R59PHh/lI/KPpro/p1OBUfrfDinlVcHjCOVZZK4LzQe6+8rnK5tju3bb5mwXjKVzk+ptB6UfSGO09SeJE2x5UHDvKksYpN6YjL1FzF94JEGNIRhIgpMm0hZX30xujctrnF+c1SlWmIVK1KHRE5kVQeIB/T9BQB9ZfIxyAJTJzj9wumUjfrl+7GBYGW6d5mmcCCbKm1fYsmDZOEN6l5G8zsiZJfWKsbMPATXCIRIm6zma6f6PKIXabYFOJjsY4cFQFep6AfS5T852VKkiQ71yxkE/VUg83vOEfYp0x1o55menp6dpf2kxR2P9WP/5+3GQQYTHCWWudHwf6ip8FJ9rWtZ35mF2R3YV38k+T5mMz9QPqmV+BjkUKSKPa4B6kzGIa5sGsdG3Fe6mnAhkrjv9uvpaHSurRt+VSszy7OwL2tC8vHflgynWb5pIXz/AV5QZYzxwx5Z+M0eUT/3MD3fnEKb82ivgKSRdorFqcf2712EbXtoaqDvCCIMj92YG9gTZNGkhBr2MeNdaQ7rP26dshmczFn+1vQT36w1QsXw67tQem3beV84GOsFiLdh5fhZQa7s0kSCD4Z7wwLmjQ3ajkzblCfLD9+PtxF7/lYw3p1IKFqjD1Np1NUT4s/j3xMG1OG1tsono/BQ8qmi1DxF3SwqrPVU08bhdzo0pOqQsXKyheqjd2vgVQNJMwODJhlzdHCCvdqMZXTkvA4JIq5mdP//jkS4yA/cypUyH0tp3xs7gSwo+vZqe3frkY0SBKEfg0Cs72BvTrT2XXfuqUkBeLHshMU8LFEmUEjWGrI6DHol+KdfI1Pt2X3klgb8irUfLFB3Tr6h3+mKVUu7oY9I3hfpLhaX9hLm3C4dpAkQzwqdha1feJ8t6vMioFuKU4c2g9+SnH10D9Bbd2Nj0Hwfenu27NHxse2U/80qtbjvJTr1akNRtdJkrwgwX9eZv26QXSNr2eOZ/24zEiYzXOxwZA+EFuYOgIM6d2VGrVOGt6f7jle+W0DTKGh1s8kBjR+jJ6eXutmjXt2bNugLsQRYRhmy9dzSawDpKCMEn0z9wt6snGDer06tWveuAFrY86MGdj7H3fjYgLDIB/T9KxWIh/jQnrI+1NRqkOt8hRWyXRJTVVb0iV7hCGJMsoJkcvlFf3eK0laJtaEsq/MwNs5IXfBkpAlY/RXMGaTfX1/QPNuyc5zInEFpDUrFYOS6ogkywkmLc+m9oJjNr48rVz5L+VaCuc55pkVdEe+AK1KoULpSbl+qSMwQBRlRCuXAsjKyRkBZgbeVmhdQUjlr+qgxAFSYi/ouHBkjDZH4u7TGwNkZmkeZ345qHfH/DB9ZakUziAf0/QUAfUXz8fYpYbNM7F+h1ZgF/Hr6gXktT8EJU9xgb9vg4xOSBNh3fj9R3Y3l5ftDxGll88cT60+HjvdpTyNWz1wB1B5SOn4GHCneCdP/ZM1a1RjGOa37xazxiSmJNqebo5+3r3jG88H+WxsCSic5JIXIJDcPHx+5/f71i1dt3DamvmTZ48bSrdR+R/Mx5Ik1FdNT48ldUnwbub6RXWAu9eCu91ntWqCIV+UiIS952PrFoHqibskJ0BQEGQ1ezxINXpAr3QfXn6wpcJKkatc5QG7klCMdw+v2AjhY6fi+NjONQtpagHKx/KDwWWCarGmjx6UG2CZH2RFQqxGDwBHjiYN630xvP8kuc/kEf0nDO1H1xCr534By0c2SwHE+EoQJwpvGh3dduSnldtWzf9m7qTvvpxKMwqMG9wn298iP7CQfqxF44bgl/hxubaRj2ljytB6GyXyMZUPhTZPAtdSxeLUl4HOtP+4GtKcyFNHDiwIss71t1Cn2nLHxyAWboz9zyvmtm3RZPqYQRk+YCNAZzxQkSW7XNy1rmPr5kN6dwVb9yiRbP+OT0KtXj28P6Jfj3Ytmx7etJINMS9lyMBmnzwKMT8/c8zgenVqU1qyeOoYH+MzJEkyZeSAti2asNFoWb1WnLOX4am+3Tr07NTWx/g0iXemvB1aT3N1v3d8wpC+jevXY6rotWjS8OjmlWB6HeUQZXnl8+6durRrCQm7WQonzXH3t7fk5uEFk0bSIEl6VfTat2r2zdxJkBD8+aO33ma5gZZ5gZbzJg5r07wJTLnsfh+0lShOEt38fuE0GkYS9IFd2p/eviYvULBm3qSObVrYXNgHBJJ1LPTQP7Fy9kQ6hTIM07B+3QlD+hkf20Fi7PMCIJ0MCbd74Wq489sF/bp1rMbG8KhTu+bn3Toe3rTitcd9ThWs8p5EPqbpWa1EPgYL7mhjajEIuZ7ldCMKK2P8igh8PAKc85g6xoqZgbeRj2l6ioD6i+dj8JJLdTM6uo2+3lbPnXRp9/pzv3xHP+d3rtv7/RK6ZTh99CASZpvlxwd2EWxFNSF9u3b4x824qEX2B/CxdB9eXoAg289iNKvDGdqnG7yrohxSRLdbNYVoEBBYAlyoWbvBF94P7x4fN7gPza1Ju8D9rVKlyofzsQTn87+CWUutmjUg0EiC9HVOX3Wg2UuSnN4GudoYhoEFQZxT8XwsP8iSskSWj5lrlY/J0ubQvKUZvubjBvdhGGb66EF5AZYkzPqtN4/uLnPQKRzoMUz1alVPb18D9jDeZqzdl92BDV9RMx6FwtTCU5mPNW/c4LHTPRJmK29apnLpUMxJ5GPamDK03obu87Fi7kk1f6I8hAsne3H3epLmJnOOVQzgoVBnueNjbCQMfkGw9T+uRlm+5mw+Q7k+gj+Y6KW7MbjPRRVSmIO6Psw63Yv3j6uR8muF1bc75QZZptjfDuadf+x4B1zI4sXU7PylmzGJklpqwKsnSvTa4/7rhyYkXMr3KKpQSYpLlh//ifO9FPvbLySGJMYxO8AcrOIjhf8+evDS3YSrh14C7yAwjLd+LjGIEFyOtrr6t5sRpECQi42Zxwae+cfVSD6DJbQVY0+iRH+7GUVZXomzuQ7xPJLFJMQqx98ComTJFKRweyRBkpi/3YxirK+F8i8+kxjA1meaMXY38gAAIABJREFUW5afNP0jSBhhS+Kd3jwyTRLdCjIDBKDCJAkJsea2/xRuHvoV+ZimZzW1+Jgs3p28yeLHr7yxBkRAGQEacKVR/TpP2ZAwygUUziAf0/QUAfUXz8doZOcvvxipvKpWOFOvTu0Q3nkS5QCXRIpoaI2OrZs/cS5L/RhkxmQzUx/bsuqdH3PVKlUe6Z8kr3wNWcZYq2aNRxDTjHUeS3T21D9BgxG3bQG7kpZ/7nG/ezxJeJN3eufH6scSxVf3/kAFsDq/VyECB/tuc9nL+gbo6emFmV8Ex5Ji9WM6y8cKgqxyAyxpGMnh/bqHW1yKtroaZXlF4RNnc42E2bHO4hYkSvTD4hnUdGfaqEE3928SXTkQwruQYn97EpsbQKV+DPmYNp728tlGZeBjWWxQimXTx0Imxvat0xzvFGNdprCkLnd8jGrjcwMFJNS2IMhSQQeY6ceHGCqhNgVgL13IQJReWBBiSUJtcwIFCjhQY/i8AAHQklgHEm6b7W8Bhoh+5gVBNqzP6nvWB++pUPakkmIzg83cCJVE2JJQ22yZ8pNuIEI9qi7JBidhG+BX0fYQOYNtmpMwk7XQJqG2kH1R7vIMX3PQFobagAou0r4ghPVD9jXPD2T7KF/Sh7U9CbEhkXYkxoGE2+QHCBT8wSjzLAix4RCgFSrDyAlGD5CPaXpqVIePgYos0pCmG1ZYDeNXRKAMEeD8/cDtjc0qXmLlyMc0PUVA/cXwMTCBiBLGWF+j+ZqH9+v+01ezNiyeLv/5cenMmWMH00joR35aSVJcIfRisssvq7+k6iNwCoqwk/eCyPAxz/aHtyynH6Pql28hnkcJ/mPSKFjRojDzC9Rk/5fVC8hzz0WTIUjx6AG9cvzB+Qp2E2Mcl00fxzBM04b1vY1OkaceELUv1oE88/AxPq3Mx97H8/hxBZe+pkj/sWQXSzYoCITA2reRpBbayQZ7xViHlbMnMgzTpnmTFIfbECegfPKxnEA+iRTSuMw9OrbND7ZiFxwiWHMU+oggPgfEr3fyNT5Tu1YNhmG++3IKbBKnuZEECawPUlypjzvyMW082BWojUrBx/z4BcFWCXY3vI1OwYwR7VDiGppbUpdHPkaFL8bOU6UPnuwqeHdw3Vc4yGTfLGzir/dlMv3AzU+xpK+Kk9Im2EqUZVA+I18n0CH2o9wWvO9onXIUi7uWVsv+lTJGWpgrwB3QkrR38ryOK0BfrFQS+QrlCygfIx/T9HypJh9T6SpW4loZCyACpUWAOpjJu70VXwPyMU1PEVB/MXyMaqL+ZA3zqlWtKrpygDz3hDjCcU7vP6muT5z1ae6dYX27Zfvzs/34JElyaTdE5GMY5vJvG8CG3tMUsrLQ+IqJLiTKPi9QkAGWKhAahLonLZk2hkQIM335UExlfMVEiPwL7xJ/CxJuR00ih/bpFim4TKO3n/h5NY1NXBBk+Z+3Gc0MM3vcUAiY5g2RDN94PiAprl6Gp+T5GHQzwvaJsz514/7124Uk1oGm0qLbjYrx7qNEJMohwuJS4waQrQjS40TbZ9Pe+ZqDs3isw2PHu9SzfN7E4STEmhWYzT/Geoor+4/prH4MNqoTxDQOWJ3atSAxa5LkP08AM53VVQJQvmbUHZ8NrSkxPALWrdWqVhVeOUD5+Vtvs7ePAHlpPA9V/mOoH9PG014+26gkfAz2pyJFEHwoQii/gaW8elY4U375mEJH8OunQgD5mKanRvX5WPHLYvwVEfgkCCAf0/QUAfUXw8cgcHOI9YSh/d4lgenTpf0bL9O8AMhHSTNHgemgDy8T3LdEX8+C6B3VqlZ9ePcYiReTcLt4m+uUI/Xp0h78gl54gT1GsgtJdnG6fuir6ePAOD7UBohKqDQNy6BeXcAgHspI3uVFfetlqhxfkfIxYFCprjf3b6Jh69d8OQX8m+vVYS0DRRk+5jkBgvwgq2F9uzMMM7J/TwgzHesAf1Mf5gVafs2mKeP8xyB+RqBluo/USwr4W6wjiXViAwM6ghgK8RWj7WHlFCGkHl81qlczPLodMs/E2EPE7TR3Eu3w4zJITFG9WjXxzcPS9ABy8e7LEx/ztyBxjt5Gp2nQ5KXTxgKMTx9CT8OFJFoE4xXj8NzFgIRBLlSS4mr55x5KxQ2ObCWv/QqCrSD63HNPh2sHaWIl1I9p48GuQG1UEj5GNRsZPkUqbYparCMfKwoZPK8mAsjHND1fIh/7JCwCGy0rBJCPaXqKgPqL4mPgHBzv5GtypnZNsD3b8c18EuekYK2e5Qe6LJLmdv/4L3QJDql+EyWghpJLrjKwZ+fr+zZ6GpwSnPvth8UzqDFbgt0NEi0CbVKC84/LIA0iwzC/r18WbHbe+Nh2k+O/gM9VcuF80DL9GNChcJsU0e2WTRtRHsgwzMyxg0mEbRYb3hqIQYLzT1/NpnqwXWsXpdjffiYxcLl1ZMIQSIGlp6dXpYoejefB0kvw1aYRDmvVqHFx1/pA0z/vHNwMcbQgi5H46GZwV4Pw/RaXSIw9OHAnu0puHWlQD4IO1/us9oEfloeZX4wUXOaf3b1oMuTfZBiGhhzMZONxy+cfo3yMA5Nlj5qL53GvmHzQEOxLIZ6HX6F4HnkBAnC0iHXcIMtwPWPMYMG536Itr6bY34oSXLl//BdqmQkJDyLsSJQIErOyCVh7d2nvfOOPv1wNE4U3T/z8TdWq1apUqYLxPLTxVFesNioPH1Nz9axQDPmYAiD4tbQIIB/T9JSJfKysiAHW80kQQD6m6SkC6i+aj4Ev0J7vIGFljerVHK8dIimQpEVhos/0NS8ItnnhYkAj9nbr0PpvNqAiCbb+95EptU+j5ITLyqKnp/fjslkkzCbHXwAWbrHA+po0qEeL0b+r5kwE96RkF4MjW+kZp+uHSOJ7AeDCaIcVsydwV934fRMYK7ISUsL22PHe52zmaIZhGtT9rFUzIG+1atbY/s38Xp3bvQsuDMlh2LDFUFuqm83FfTRWJFcnxNNnU8oe3rSC8rFwlo9l+poDJXv+yPDwVk5yluMB36D/5n8xAmJbRUDAQFafJnrseLdTmxaQapmNd59FRfXj5wdA/rFZYyH/2Mj+Pd96mxWw8foVoC7mK9Qfavu3q1GvTtAvmp4bEsdFCNMc7nRsDbkKNiyZAbnavM1ItCjO5jqlsju/XaDIx3zMxw6C+IrTRg3MCbDID2DTbYdD+uZ1C6dVrwZpBthbojqXcodhmFZNG0EEggg7mtvn7I61dLirQLacRjT89Mj+PTcvB4Y8ZmAv+fxjW76eyzAMa694l4TZqXS9KKbv8j/BqiLJJfdJpDaeHGxDWwgAH0t2oant5Icbj6lXUjak7bIsyHyjrQFRq538N3+R6CKTX+PY6RQCyMfUuqc/ohDysU/CIrDRskIA+dhHPP1qX1okH/M1J7FOO1bNH96v+9r5U0iIdba/inhW0ogX8c5//Pj1iM97jBnUG/QkUULQUEUJ84IsL+5aP2Fov1bNGtWqXr1Lu1ZLpo0RnPuNRNsXBFrSlTeUfObhfufYvAnDu7Zr1aJJw8G9uvBO7SQJTiTW6aH+iUnD+08c2i+Mf5HE2nNuFRBrJEHifvf4F8P6jR3Ue9n0sf+4m5BQG241D4q7ROd3AX+3rZzHhWufPnqQ8PJ+kua2cvbEL4Z9Hmj6J5tJE/y833rzyF+eln/umTpyYMfWzVs1azRmYG+X20fB0DFRzDu9c8zA3jPGDHou0edislNKFvTgz41LZg7q1YUSs85tW84eP/TeHz+DXV+kHU1rk+nLhzhXPrxl08cO79v9zI5v5UPkZwcISJTw1zULh/XttvbLqWwcMNVQF/UKp8G7cgIEK2eNH9a326Efl5M453TI6mOT7sNbOm3M8H7dz/3yHUmEkyTU5rXH/S+/GDG8X/eb+zeRJDGXMzcnQEDCbTcsmTGsb7etK+aRCGFOAEgCytIQGxLvZH5m5/yJI3p0bENZWc9ObWeNG7Jv/bJg3nmS4MTVQ5Jd+Gd2zRw7hFLBjm1a/LJ6QaafuZfhKWBlX80m4bY5wPQgA8+N3zeN/LzH3AnDAM8gq6Kc1Ivqu/x55GNqP/flqWBucgBJdaO5NHICBPhRQCCPTTFSkPmfTg0q8jH5qUnHj5GPafrZQT5WVsQA6/kkCCAf0/QUAfUXxcdgFc6mmEz3gWi8eUFWHNVRfrWwkRjt01nHLS5Mc4aPeV6QgCS7ZPtbPBPrp9jfhqws4XbyKVNoVUDJEiF/y99uxk/F+qBjSQJNF1QbbZ9NA3go+biz0fyccwIsMnz4JNiKRNhybE1arQ8P/ONjHd54mj5xvPtUrA/ZjVNds/3MIcaGnwW7ffs+6BYolFJd8wIs/3I1fCbWh1w3iRIQw8ecxEK4MwjQXDgEM1CIOAcS4whNsPlq/nYzAo+pFNdcfwt5eYCSBVkWBFtDpyIL+etL4zuH2aWDmss6L9CiVMmgaWdZSiYgtH4IiwL9Au0l2ygo0GSNwnGwFR1QhUQ6kBcIPPpsQJJwu1w2Jpi0frZCkuJGQmxeuRmnOtx57Hj31UMTgDRJQmLep7cGQsXqG/ODrP52NUx1uPP64X0S70SCrWlqVxIuzPWHaGPSeywKsC0IslKOfE2bVv8v8jFtTBlabwP0Y5Gi3ABL3fnkB1nrjjA5/pDyEfVj6k8UWFIBAeRjmp7VkI99EhaBjZYVAsjHND1FQP3F8DFpcudAy5wAQTFkjM7s2ZDjxVIhuQoNlpjP5pkhESISakPjECq8DKiSDZQzITYk3BZIi8wwElwjAhWr5S6HCI2BlgVFSwiMyMecBFmRMEgmQ3Uymb5s0mqZgo6rjYoB6WtCIe1MvpwYOX78gkDL3EBL+cL0mIaCLAixgqsiRCQETPsg0olSXGNKmfIDLZXT11BKJuvI+yQ5ys0Vcwbq9we4qFKLllTZKD1ZoKo7IEmAACSRI2Ncoxk+POkwRQghhD3trDcwZ64MPaCZuyGvDlsMAGHT+BQEKdZMsc0JBEc1hUpK+xX5mDamDK23UZCTVZD5n458SHb6y6epQgGP5GfriEhUDJKfr/WRKa5B1I+Vdvr6hOWRjxV3K5fFb8DHvM5m+F3GDyJQLhHwOpv7NLAsHoVCdTCFvlX6L8XzMeqfoOZ7AlKmqFpSS/OuFJ3shaufulopcL+iqqVXFf/r+zJKrasUlfa3KDE4OZUPMn1BGUU/yr9yZ4qXtiiRuMtLPFBZv/onufqLl4TrqcJIcZfTA2hXCROVNas8qVCbOl+Rj1X6+UwbAKSlpR07dkwbLZXnNoCPRYneeplmePPwo+MIvPU0JUli9LzV3AOX+zQQP4hAeUegzB8Q5GOFIC2Rj6mzDsYyiIAuIIB8rNCzjV80gwDyMbVwffsPeeoB/reQshI/uo1ArAP5x4v8FavWyGIhRAARQATKAgHkY4VQRD6mC0QCZSgTBJCPFXq28YtmEEA+phauuVn5rx7nv36CHw4B8uY5+fcZ91W3Dl6l6ZoLolq3GRZCBBCBcosA8rFCQ4d8rEyYAFaiCwggHyv0bOMXzSCAfEwzuFb8WhMTE1++fFnx+4k9RAQQAURADQSQjxUCCfmYLhAJlKFMEEA+VujZxi+aQQD5mGZwrfi13r5928fHp+L3E3uICCACiIAaCCAfKwQS8rEyYQJYiS4ggHys0LONXzSDAPIxzeBa8WtFPlbxxxh7iAggAmojgHysEFTIx3SBSKAMZYIA8rFCzzZ+0QwCyMc0g2vFrxX5WMUfY+whIoAIqI0A8rFCUCEfKxMmgJXoAgLIxwo92/hFMwggH9MMrhW/VuRjFX+MsYeIACKgNgLIxwpBBXwswfmtJ2aJwSQ55R4ByKKTgFl0Cj3g+KXMEUA+VuaQVpIKkY9VkoHGbiICiIA6CCAfK4zS6zTyjzdmicEMORUBAcii401exBS+xfEbIlCWCCAfK0s0K1NdyMcq02hjXxEBRKAEBJCPFQKoICs9/+Xj/FdP8KM5BMi/z1NCfaJ9XMmbF5prBWsGBF4+Lsh4U+gWxy+IQJkigHysTOGsRJUhH6tEg41dRQQQgZIQQD5WEkL4uwYQkEgkpqamGqgYq0QEEAGtIoB8TKtwV6DGkI9VoMHEriACiMDHIoB87GMRxOs/AAGxWPzgwYMPuBAvQQQQAZ1CAPmYTg1HORIG+Vg5GiwUFRFABDSNAPIxTSOM9atAAPmYClDwFCJQDhFAPlYOB00nREY+phPDgEIgAoiAbiCAfEw3xqGSSYF8rJINOHa3wiKAfKzCDq2GO4Z8TMMAY/WIACJQnhBAPlaeRqvCyIp8rMIMJXakkiOAfKyS3wAf3H3kYx8MHV6ICCACFQ8B5GMVb0zLQY+Qj5WDQUIREQE1EEA+pgZIWEQFAsjHVICCpxABRKCyIoB8rLKO/CftN/KxTwo/No4IlBkCyMfKDMpKVhHysUo24NhdRAARKA4B5GPFoYO/aQgB5GMaAharRQS0jADyMS0DXmGaQz5WYYYSO4IIIAIfjwDysY/HEGsoNQLIx0oNGV6ACOgkAsjHdHJYyoFQyMfKwSChiIgAIqAtBJCPaQtpbEcOAeRjcmDgISJQjhFAPlaOB++Tio587JPCj40jAoiAbiGAfEy3xqOSSIN8rJIMNHazwiOAfKzCD7GGOoh8TEPAYrWIACJQHhFAPlYeR63cy4x8rNwPIXYAEWARQD6GN8KHIYB87MNww6sQAUSgQiKAfKxCDquudwr5mK6PEMqHCKiHAPIx9XDCUooIIB9TRAS/IwKIQCVGAPlYJR78T9d15GOfDntsGREoSwSQj5UlmpWpLuRjlWm0sa+IACJQAgLIx0oACH/WBALIxzSBKtaJCGgfAeRj2se8YrSIfKxijCP2AhFABMoEAeRjZQIjVlI6BJCPlQ4vLI0I6CoCyMd0dWR0XS7kY7o+QigfIoAIaBEB5GNaBBubkiGAfEyGBP6PCJRvBJCPle/x+3TSIx/7dNhjy4gAIqBzCCAf07khqQwCIR+rDKOMfawMCCAfqwyjrIk+Ih/TBKpYJyKACJRTBJCPldOBK99iIx8r3+OH0iMCMgSQj8mQwP9LhwDysdLhhaURAUSgQiOAfKxCD6+udg75mK6ODMqFCJQOAeRjpcMLS8sQQD4mQwL/RwQQAUSAIB/Dm+ATIIB87BOAjk0iAhpAAPmYBkCtFFUiH6sUw4ydRAQQAfUQQD6mHk5YqkwRQD5WpnBiZYjAJ0MA+dgng76cN4x8rJwPIIqPCCACZYkA8rGyRBPrUhMB5GNqAoXFEAEdRwD5mI4PkM6Kh3xMZ4cGBUMEEAHtI4B8TPuYY4sE+RjeBIhAxUAA+VjFGEft9wL5mPYxxxYRAURAZxFAPqazQ1ORBUM+VpFHF/tWmRBAPlaZRrss+4p8rCzRxLoQAUSgnCOAfKycD2D5FB/5WPkcN5QaEZAikJ2dHRERERkZKRaLf/755/j4+NDQ0MePHyNAiICaCCAfUxMoLIYIIAKVAQHkY5VhlHWuj8jHdG5IUCBEoDQI5OTkTJ8+vXr16nXq1KlRo0bdunVr1arF5/NLUweWrdQIIB+r1MOPnUcEEIHCCCAfK4wHftMKAsjHtAIzNoIIaBABU1NTRu7fkCFD3r59q8H2sOqKhQDysYo1ntgbRAAR+CgEkI99FHx48YchgHzsw3DDqxAB3UEgMzNzzJgxHCMzNDTUHdlQEt1HAPmY7o8RSogIIAJaQwD5mNagxobeI4B87D0WeIQIlFsEeDwe5WPDhw9H5Vi5HUatCp6VlZWRkUEIuXbt2sOHD/Pz8zMyMnJzc7UqBDaGCCACiICOIYB8TMcGpHKIg3yscowz9rKCI5CVlTV+/HiGYYyMjCp4V7F7ZYSAh4fHkCFDhg0b1qlTp969ew8ePHjatGnPnj0ro+qxGkQAEUAEyiUCyMfK5bCVd6GRj5X3EUT5EQGKAJ/PnzJlCtV4ICaIQIkIvH37dsSIEZyZK8MwGzduLPEqLIAIIAKIQMVGAPlYxR5fHe0d8jEdHRgNiZWTmZsSlJsSjJ8KhkBeasi/UZ4hIpOCx2EVrGva605SYEH6aw09ebpZ7YMHDzg+1qRJk+joaN2UE6VCBBABREBrCCAf0xrU2NB7BJCPvceiMhxl/ksSnUmyhKS44AcRQATeI5AoJi99yP+eVIZpgOtjVlYWFwlm8+bN3Hk8QAQQAUSg0iKAfKzSDv2n7DjysU+JvtbbLkj/HwmxTvc2y/Dm4QcRQAQ4BN56mpI4p/yXqVp/KD9xg1RF1qhRo6ioqE8sCjaPCCACiIAOIIB8TAcGofKJgHysUo058LFQ60xf8yw/Pn4QAUSAQyDDm0finSshH8vOzh42bNgPP/xQqWZC7CwigAggAkUhgHysKGTwvAYRQD6mQXB1r2rkY9z6Gw8QAXkE1OJj+Xm5Me454U45Ec4V5pMXJUlxNvzrkXlelKTCdAo78mkRyA5zyH/zt+69AFEiREAtBJCPqQUTFioTBF6/fv3w4UNvb+/z588fOHDA19fXzc3txYsXZVI5VqKzCCAfk1+C4zEiwCGgJh8jEQ4kzZ3EOJA4J/wgAoiACgSiRCTNteBfTJygswsBFKwEBJCPlQAQ/lyGCDx79qxDhw5cZC2GYRo0aBAREVGGTWBVOogA8jFu/Y0HiIA8AurxsdzsYDsSap3uzcvwMccPIoAIKCPw1suMxDjkvX6qg29AFAkRUAcB5GPqoIRlygyBM2fOyPOxbdu2lVnVWJGuIoB8TH4JjseIAIdAKfhYhC16YHK44QEioIBAhg+PxDgiH9PVVQDKVTICyMdKxghLlCECL1686Nq1K6VkTZs2jYmJKcPKsSrdRAD5mMLSAb8iAhQB5GN4JyACZYIA8jHdfPujVOojgHxMfaywZNkgcPr0acrHUDlWNoDqfC3Ix8pkwYGVVDwEkI9VvDHFHn0SBJCP6fxCAAUsAQHkYyUAhD+XOQIvXrzo2LFjgwYNUDlW5tjqZoXIxz7JAgUb1X0EkI/p/hihhOUCAeRjuvn2R6nURwD5mPpYYckyQ+Do0aNbtmwps+qwIt1GoLzwsUxf8wxfNl6Crzn66tBFWKYfH6HQ3HoU+ZjmsMWaKxUCyMd0exWA0pWMAPKxkjH64BK5SQFZoY7Z4c74kUcgN1LyPz+bf7wEuZES+fMV4TjUIf9l2gffMBX1Qh3nY0DDvHnZ/hYkQkhiHEmcI4l2KAiRhrOrVGsahc5m+prnB1qSSFFOgCATc3lrAAHkYwq3HH5FBD4MAeRjFXX9UHn6hXxMk2Md/4i89CHRIhLvhJ+Kj0CkkLx4RP5O1OQtVS7r1mU+9tabR8JsSLJrXpBliv3tEN6FILPzsdbXXnuYkHhnkijO9OOViYIow4eX4VM2VX3AeoXV+5Wu9Uxf84Jg6xx/i1SH2yTUJtffAinZByBf/CXIx4rHB39FBNREAPlYuVwcoNByCCAfkwOjrA9zot1JgvNbLzPlXBl4puIhkO5lRhLFeS8Syvo+Kvf16Swfe+ttRp56PHa8e2jj8rGD+rRr0ZRGmmnSoF6/bh2WzxjveO0giXUiITYZPuZqLguUi2X68bN9zUmKK0lxIWF2Gb4fXpVy5eqcgZVKvDNJdiGxDhk+PHUuyfLj5wZa5gYI5owb1rJpw81fzwEtmdYlV1PU8lsM+Vj5HTuUXKcQQD5W7hcKlb4DyMc0eAsAH0t2UX8BpFOzGwpTWgRgaZWEfEzFA6WbfCzD24y88DQ5vqNTmxaUhlXR06tZozrDMFWrVqFnqlWtum7RtPwgKxJu88FasuwAAYl2sDi7+/rejcmiWyRUq4mkMn3NSZyT5NaRy7s3+BieIdFCdTqS6csnIVavPe736dKeYZgZYwaTEOucAEFpHwosXzwCFZKPUZ/DTF9zVKgWP/r4axkigHxMxasXT5UrBJCPaXC4kI+V4Wyr+1UhHyvqWdJBPgaasScet/b/VIslYLVq1Fg5Z6LF2d1ehqd8jc/YXfr919ULWzRpSFnZ8pnjSYQoy9/iA27CDF9zEm0fa32tWaP6DMPs37CMpLhmeKurpPqAFuUvyfTjFwRapvvyBveGpH9zxg8jsY7q7BBl+vILQqz+ffSgb9cODMPMHjcU+Zg8sGV1XJH4GLWJzQ20JEFWJNqBhNsVBFnmBAjSP52ZblkN08fXA9rmQMuPrwdrKAoB5GNFvX/xfHlBAPmYBkcK+VhRU2eFPI98rKhnSdf4WIaPOYlzDjT9s3njBgzDNKj7mfHx7SRRQlLcwDoxxp4kSUiqa6Dpn706t6OU7NrejSTZNV1m7Jfpa55TRODBTF++/E/QVqQw2upq4wb1GIbZt24pSZKke5uB9kBm/pfpx17ChovI9DVP9+HlBPBzAixzAvgZcsW4p4Y2ka1K/8DaRoJ5JFVNZPqa5wUI0r15A3t2Zhhm1tghJMZBoXWuWvmD0vIxiInCLrtzAgTwYcFRIH5U7KLMNTN9IZBjjkxyKgxbLUAtrTaAn+HzHjdOYGoRmu3Lp5qZDF9zWp5DmCupawcVg49l+vHTvc1InDOJc8zwMf/bzSjC4lK87fX/PbqfF2RJEsUk3Da9LPYgMn351A/zU42j1Au0NJFd6I5Mth+4X5Jo4cdYPn+qXpeLdpGPFfX+xfPlBQHkYxocKeRj5WIeLyshkY8V9SzpGh/L8uORWIe186dQrnXj9x/JK98ML7N0Hx7s8bPU4q2nKfnH1+X2kc9q1WQYpn+PTm88zfKDBZm+/HQfHolxLAixJtH2Cit++CnekYRYkwhhToAFfI20I4mSROHNJg2Bj+3f8BX5ywsCOUaKSJxTug8PysSyl0TZg9Yu1IYkiPODrLL9LXICLEiUPYlzeOttxt2l6d6yJiJF+QECeQFg5RchJOG2JAw+6d48EDLWsSDIalCvLlI112N3aevxsHTmqlU4KBUfgy61elc/AAAgAElEQVSE2gKJDbXL9rfI9reAVXi4HUlyyfa3oBJCmRh7QCZalBvAz/Tly7cIrDVaCJeE2ZJwqYsd9DTUliQ4k2BAI9vfIj/IEsICRdjJL+7BIJMFHDoeYklCbEi0Ay1PohQHSL5RXTiuAHwsg+X8JMnFy/DU9lXzP+/esWnD+g3qftaoft2WTRtOGTHgxM+rHzveJc883nq9v40/AHy4vUOsSJo7SXXLkd1XH1DPh10CuwkBfJLmRlLdCgIt5Z+7YioEmeOcH+mfGNW/x8CenV1uHyGJ4mKeu2Kqwp+KRwD5WFHvXzxfXhBAPqbBkUI+VvwEWsF+RT5W1LOkU3wMlu/htkmiW81Y5dioAb0Kgq3yChMbemdm+JiRGMdFU0YzDFOtalXbS7+TBAlQpninw5tWjOrfc/uqeSRSmCPbLAdSkSSxurD3i2GfL50+FhhIvNjH6PS38yYtmTqGGkYO6tVlw+Lpa7+csmrOFw7XDkJs/QRnu0v7xw/uu3f9UvLC629Xw6ObVw7v16NT6xbdO7ReM39yOP8iee5NKRmsOZIlvFO7xg7qs3LOxP+8zUiI1LEN+hVlH8q7MHf8sOmjByfY3iAJzk+c7q1fNP2buV80bQjWku1bNlu/CFpfOXvi1T0bSZxTUctK9fkYsKYn7qmOdy7tXj93wvDObVq0adFkQI9OCyaNuHNwM8SuDLOloO39fumoAT1/Wj6LhNlm+793RYM1a4x9hMWleROHTxzaL876Gomy/8/LlDz1eOqsf/Ln1WMG9mrWuEGrZo0H9+66b93SRNEt8tQjneWo0OtQ25duRoumjJ49buhLN+O33rzNy2d3aduyU+sWm5bNIpGiovqoC/NPeedjcM+H2ZBw2z3fL65Xpzbd4FD+27F1c/6Z3eSV3wdTMnBoDLX636P7hke2WZ/fS8LtcrRr/gd2mGG2vNM7TU/+mu1vURBkqY53HDywqa680zspJibHd6BLuYaeO+RjRb1/8Xx5QQD5mAZHCvmYhmZe3awW+VhRz5JO8TGW0riaHN9BV0h//Pg1SXWhi3uF+wqYRorrzf2baElQbaW4gN4s2n7isM8Zhhnat1u2P8QhpBdCzYnigxuXMwxTr07tJ873yNNHdw5uVl6e0jOHNn4N2p4kydEtqxiGWThppPvdY5yFJHdVxzYtPO6dIGlu6d48uMeSJdtWzmcYplnjBonCmyRayjeg9RQX/pndVapAMBL3u8fIPz6eBie5ehQOlk0fS8JsiwrRoSYfg+V4sovdxf1tmjeh9evp6VWvVpVra+6EYZm+fEhiluC8bRWIXbVqFfurB8CJTmb8CTgnOG9nf61f57Mw84ugFXzyyO3OsZ4d29KqPqtVk4ZaYRimXcumQGWfuAMgvuYk1jHU/CItJrp8YMqIAVzrvTq3S/fh5QXprt9OueZjmb783EALEin8Zu4XFPPWzRr/snqB47VDvsZnPA1PXdnzw6Rhn+vp6TEMU7tmDf6ZXeSFp8pnTeHRU/4Kt3eS5NLuDQzDNK5fN8j0TwgWKrP4VS5Pz8hbBRdVRp3z7FaL2PnGH7SbZqd+lb+Bi6mBzjb8s7vphfdPqMvHqOQKauRiGlLnJy7OijqFaZlyFJQFoI5xzHv9tKjXEJ5HBHQcAeRjGhwg5GPqz/sVoCTysaKeJZ3jY4liuvp/Z4goOPcbSZJw3ED+PoRFWLzTw7vH6FpqxeyJJFIEBEDGx0Z83iPHH9yl6FWwIEgUH960gvKxp873SKzD3y6Gtw/8dOSnlXVr16IRNe798fP1fT9eo7EWQ2xIkuTk1tVUedWcjSCyaMpoi7O7nf7P3lWARZV98Wu3CHZjYYGF3d3d3d3u2t1dYCLYonRMMMM0iHR3zhD2uuuuKyVx/5x7h3EcGERXVtj/85vP7/HmzX33nlvnd885v3Pr2Ia5EypWAGzTXr/ZW+lDHMaGKJ18PNaonq6CZ4EjlHyJRPOTOl3eR8khAY8pJFkBDvePb7u6Z03LxvURQl0M9O8e3WJ2YMP1vet8LS/gGIE221Ex8ViGjx2Odd08fxJCaESfrnePbvF8eNb/yUXutYNjB/Sgcrvw63JwZYx29bW8QDHV2lnjcLyA+hxCyulg1p8eTzqRUL3JQ/uQrNz8WPbN5o2gzq2bNrx3bGuIrUmQjcndo1taNm6AEDJo2fQ1FQgoYa7hDlcRQtWrVqFumd07tD6+ceHWhZOnjeiHw9gqA6Z655aS6zKNx8DsmSQ7/8sy2tFDjA3j2DfBnzBBBLFksUKc7IbDOKc2L65AzgjaNGuU7HoHhytHLAkGg0i/9ML8ZtMgitJRNTE/etngOMGlHSsh4LNWDb/HF3EEL9XLRp0aJ82HlEZAGngdg78uG4eyM/0hhLKgOUvjFepDQuMraGm0gHf9MG2p5alfcZwAMtl4fyWn37fiMVptyE0PNefkBjvBoYOafNL9IIIuE3yqC3c2hgg3+MkXjEFpvnap3rZwLBLKwSHsDD9wpVZvL71WCpCUDBLwd8ShnBzohcLfVbCEn3iHwWPa9l/mflmRAIPHSrCnGDz2E1fnf//VDB7TNpdKFR7L8LHF0fxFE4cihMqVK+f54CyOFxaqcBDoJYhwuFq5UkUafJVDLC3fgMeC2TjYCb/xTuJZ0Pixw+vm4z/9qVkMh3NBz1NIKR6jNoQb+9ZBrrBkGU50y7OJ7Vg6naqAZgc34CQZWOeKj8cSRKDYpbjhULZxJ4gfA37Fl0/J28U4piiixWLiMXAXjHUVmx8HZ85QNlQ7TgRxYq+fvXN/1K5FE2XQWoxrhr9dbpDTSGK8at2s0RvJAxwGnpagRSVJ+TcOU5X9/vGtkCctTrBiGkT3Na6vC5aQ33xwNB9H8fB7P+ntk1WrVEYIndy8CCskoKYTPFanVg0qqKG9jH6TPYRWxwlwzNdNKP/+QqH+xrKLx4jfr0si36IZydrXunkjucst/PzpRy9rSnqR5mOb6m0Dbn4KydIpI2jvnNq8GMvFlHERh0IEJsT+yUXqAYEZfvbp5CgEosUSJQSQ2OIEIf7N+9q+dQgh3Vo1wp2u45ceAPwU4iwCGCC4K9YVYEyc6KOXNY4V4XjhB0/r390t4UVJsuwAR5U9DZhjAhxxnDA3yBknSjXeDgZbhQSyXCSIMn3tYJLGuuI3ntLbJ2kr7C7uwb9507fjUI4G+Pmif8HBWFYc+xi1ROEYARxehHH/9LD6Tfboow+YjnGCUj6wIgU5Az9KGBcnaVY7g7KqyKXwE7lYddQCzSHFpvna/iZ79NczK5hKSbKML2Pw4LFECXRHvICsM244jP1W9giiWIGCqBD8pt7Sn37N4DFt+y9zv6xIgMFjJdhTDB776Wv0v1kBBo9pm0ulCo9BNrBQzowR/RFCVatUjoFoJbB6FRwqJCKLl8C9Ranqh/Y0SqMOWsW3jxFaORzBjXG+QfEY8CvKJVRnVaIRNTxmums1fuuV5gOH2WAKC+O+FN1vXE8XrE+9u5JQMRusUPorft0+Jhenettm+Tto8CuSDPVfOdcvJh7LIKf1wEeS7JbubfvRyxqa5mWT7meNo/iLJ4EbWx8jg1Qf4EjEKW7X9oK/GULI+uxO6oEJWmC8cO2sceCI2LBeiuAOVkgSuOZNGughhA6umYtfeKT72NJkA5l+DjhWOGVYH4TQ0F5G4C8X5ICjwT5G8Zh+kwZgokmS0TYWCrMLdvRPvFN28Rix/Eiv7llDO3TH0mngzVuAsQP6N0kqunWsckU41DDu1DY70BGOCULZ79wsF0wYOrJvN9ntE3Amkj8HYahEuGyZP2mwseGtg+vheCKSd2bLkgXjh/Q2NMiD4pUrVZw0pNeSycMXjB+6fs74P59ZQQxbCHvj3Ilj+vfwengO/xngY3l+1Ywxxp3adjHQHzfQ2HT3mkxgx1HSG2YFOuUEOW+eN3GIseHtw5twvEj1dsA88UKTnasG9+i8e9kMOGVQSB6f3r5g/BCVK+wQ485LJ49YOGHosikjY5xv4EittDFESl/HY5QHFccJvR+d37ti1sTBvbq1b9WxdbN+XTqsmjHa4/4Z/MIdYGE494Xo3qIJw8b07w7xeIkS9REOAasK8ZU9q2eNGrBl/iQc4gy2Rz97nCj1fnRu07yJ/bp26NiqafeObWaNHvjkzA4wRIdyaMOh1Qqx48W9Q4wND6yag//wF5sfnzy0t2HbFoN7dJZanMDxApWIfuJ8KeLVDB7Ttv8y98uKBBg8VoI9VZrx2KcAx6xAp9LsyVPEyls6v2LwmLa5VLrwGHHCmTa8H1Xsopyu4+jC8RjoKFG8eI4Zpaof3a/7J38HUBa/CY+BOY4Xw1LDYwqpyskKdIh8PFa7ZvVE/m0cwf2sY/nb4QjujJEAHTu1afG7u2UusTbQ+LFi4TEfcFJK9VHjuy+B/GNpvnZ/ewGzCE6SwSdOAOyRz903zZuIEDJq1xJsFCEsHMZJ5FnQrG5zxgwi5Ie2OIz1TmZpoN8UIbRsykiwrSXJ2FcOEA6V8sDcEMnLCnBUfvwdcbyYxqG1atrwjfQBDmZRPKZD7GMnNi7Cz90LooLSuWIAmgU4Ksr5PVnb3IH7OVmZwVwc8a+mEf+qxIjVxZVi45rVqvo/uQgW13xMpf5zyrfZr2sHCHrU1Yl2vgFIIE7o8+h87RrV8+LB4BgCWAeVFphPgU6Z/vbd2rdCCC2ZNBxH87IDHalllWI/9f9r16wexzbDcvHvbpY0V969Y1uu71tXi5Ss/uT4QT2BJCaYBX7IEZyX4vsGLcF+u2r6aBzFz/TPP5EBqk/+/PGD6VHCB09rLJfQkaxemuqad/0wTv4cDKnecOVpRTHsY2CsC+XsWDqNmuIRQuXhH8TdIYRqVKv6+NSv+MVTHMx6I31Azc59DA2yA5wy85MiwuFRGPeV+H6bZo0QQrNGDQC/RH97nCI7vWUJJYlFCFWqWLE8CedDCC0YPzQ32CknyIk6juI4we7lMxFCo/p2E9w4olu7pqqN5BTpcwdptLGU/MngsaLWEOa7siABBo+VYC+VTjyW7mefE+SUG+QEi3WES6E7aClZYctWNRg8pm0ulSo8luEPKGvB+CHEXxEBVYY2f0VIUyYIsTWhDBkzRw3AoWySREjJ5/H1+LFwDhxaFxOP1agezzHDUWp8gEQ13DgXUE2TBnXjOLcorXypwmPgFuXvgOWS58I7Vmd2nNi0aNuiKSumjV49c0znNi0IHtP/4+ljMO4BlOUtnjQMIdSorq7CxRxHcHGi1OnSPuo76myyDyeBt9V14pZWsUKFvkbth/UyGmJsqPqM6N2lNdE4q1etAuFz4S5KPFYTNPure9aULf66MorHQPsPZf8me9SJdHEH/WYfvWxzAsEaU3DRJiZQpQNqpYoVXK4dovGEPpbna5NeM939JR6DFHYOFI8tnTICsH2swOXawat71swiZKfVqlbZs2Lm9b1rTXatundsKyR1COP+8dTSqB3kLqcxhLVqVNuxdLr9hd23Dm7o2RmSoSOE9qycpfRxDee8Ft9v3xJOAVbNGIOj+BmaeAzWh75d2hPXR6HvkwtX96xWobIVU0fe3L/OdNeqm/vX/+VppeI4Ldj24tjHQJiRvCSeBa3kksnD7x/f+vTuabfbJ09uXlyP5JHv2KrZc+FdHOyM5UrzeLWqld3unFSx58OLkqSOl/bSQh6e/AVORpLdbh3cQFHdtOH9nE32Bzy5JDY/vmrGaOoevG3hFHAfJSFqOE6wZwXgsbbNG9MpNmVYn90rZk4b0e/2kc1YUdpp+hk8pm3/Ze6XFQkweKwEe6oU4jFQiYKc//K0GtGnWxeDVic3LdKmjBbcWpg7RUuAwWPa5lKpwmPQTQnijcR0k6e9sUz3a+fzAMJ6odlRquL8smgKTiChKfn2sX5dO3yFz+Of4bFUAghpCFl9XZ0Ih2sAYPL9FRt/lc+DBOqUqH0MEjH7O+Ak2ZmtS6mHIZWV+v9G7ZR4DDwwk92AcYSwO5gf3IgVUhwnXDZ1JEKoQ6tm758+yQmEoJ3zvy6nCE2H6OvqpdHrBno6I/p0+dvLJifYWR2PgaUlUaqytBQ9YUvDt2UUj4HpOJoXy7pJrZ3D+3T5FOCgIrbRECwoyvHCfatm074DT7lEKY52LS4ei3JJhwgoV/wx+Crxd9WtVSPM4RpEFSokOEmWCXnJ2H88fWzUTp++wqhtS9/HF/BzN3jRG68k1zsdWgFRZ5vmjV+LH+AwFg5jFx+PgU9sOBf/GSCxOEHLt72wG/8dBBnkE6UY7Ev5trUCcLQ4eCzDDzhac4KczA6sD3hyCWK9kmUQ5Bnjiv/wNd29ir7U6uwOaG+cwOPeaUphCu6U8SLKzAHejPHCReSwo3mjeq/ED3Csa7LgbssmwH+zaOIwOLl48RRH8yBILElGF0Dd2jWDbExwNA8wcz4eo1Pv2MaFEN1Hok9xZBk4t2XwmLb9l7lfViTA4LES7KnSiMeIV0OK4A4NiVkyeTiOE5Yh9UVjpy9VfzJ4TNtcKl14DCLspdQCgxDau3IWCegvJFMtJTPcmc+ocffoFhKYBHz3I/oA371xp7bAd6/Or5gg+oJf8Z/hMVA0o/gb504gqmSjF6K7wHCgkFByyHq6tRO45ip7GtH8vuRXLHk8BuQocvHZbcsop/mgHp1vH9nkevNIqN2VaKcbCyYAaYoKj6UBlaLjB09rSqU4pn8PHMt/I3nQpnljhNAvi6fmsd6DR5lcbLILdNCqVSrbX9zzUnQ/iW+RxL+t/knkWXzwtIKc1/n8ihS5MXjs31kSCR4ThNqZUrHPGzcYh0Mq8ELfDiNTLr6yWxlpdu/YVpwkwVHfgscoqUackPIr1qlVA9wjI3kfvW3SfCASUh2PtWraMMTOFL/2pFGaQE3xyuPCdkD4CCGgRoTE5azi47HcYBagnRgBP59fEdKIxQuVcZgFMJi6EIqJx5TJppPdcAw/zdfmo5fNR2+bvz2tcRgnlnWTEtic3bYUKySZkH3baUC3jgghw7Yt4EiC8JTgcJcUwV19gr7WzR4HoC5RevPAeoRQ7ZrVA6wu5iWc+PDM6qO3DUycaEGA1aVa1SFfnMXhTTjZjdJXUvuYEr/FCbMCnVK9bT4FOJaJuAYGj2nbf5n7ZUUCDB4rwZ4qrXiMkyK8S/HY8mmjio/HlNlLitx+1Lei4qQuKc4z6mWW5msGj2mbS6ULj5Hsw/5PLtGYii4G+h89bXKDNQ+5YXcPYf/+9HF7EtpUX1cHwA/l54hxnTwUKCXa6zfN8LVXmQWo/ef01iWf+e7z8Vi08w0ahHZgzVycVHj8mE7NGkmut3E4Ry1+DA7mJw7uhRDqbWjwyd8xw9ceK6QH18yl9O7AJRClPLqGE+5kN86VA5/57tXwWLcOrRFCEwb1xHECVfRaEbOpOHwexM+Km8A1py5VEwb1zA1m4efuwP8WzceJ0vz4sXx/RUK6jeViairRqVk9lnXT+fJ+Cr2AoD9BBIpvopTmzy1frpyz6X78xhu8NCNcND8kETYAA8KvyOCxInrzh38FIVjgymtKc0DPHTMIh7Ez8w8mNF5H8RjF2HknC+BK9632McrDmSD+Ao/FKilANPDY4knDyKamtFnBCIl0CbExoaFZlFAHhzh/Ex4jVBnSL/AYcGl8nXKwmHiMSgzgpRcYHsGEFS/GcUKcKP3N/TFN7rdv5WysIPkPk6WXdqygSeq5Vw/iZBlEbyZJbUjW6YrUIzTJDUdwF5IDkV6d2wHjImUojSI8pXGCD542NHwOGF/jRep4TE+nVpj9VRwvLJQTX6NzS8+fDB7Ttv8y98uKBBg8VoI99d/AYzThSRohBoBsJIFOlM5YW6pKmv+EBijnBJLELwXcOYBZztuGsmzhIGfKaFyclf07MloWp9gf8gyDx7TNpVKFxzKIi11uMGtM/+70yPzRyV/wX4HpPpCwiI5tOBX2d8DvfC5uB70HIQQnFzH8DD9gPsRxQpoAt75u7WTBbRzK+ehtS9nPcBhn0pDe6ngMtIQInsLFgipVO5dOx3KxiuEQvs3n8yiHyj088Qv+ww+Iwn1IgTGCOI4ZJWacNrwfjqU81NILxJ0PISSxOE7YGm1SvW2B7/u5286lM2iFAd4o8Zhjhp/DwO6dEEKj+3XDkS753INFaZOF4LFg5wyS0wmkRD4QWqOQca8epEnSbh/ejJPd/vaEM/hUL6s8VXIDseyp7GOET9IOx4t8LM/XJGfzprtXU177PkbtM/3tswMcQfElij59AFj7kmWpntZAOJkvFtAdw9gUQjN47IesXd9aCLGP8aKdr9fX1UEIDetl9FV/xd3LlSPT/uKeb4sfi4J8ZTBTiofHFk4YisM5KmMdoLVw9kvhvQZ6UFXgjIkXlUI8BiM/kofjBNFO1x+c2HZi46KN8yYsmjh05qj+1atVQQhRPJbqZYMjXWJYN+vVqY0QWjNzLGRC87bGcYLZowdS+pw0H7usIIecIGfKoVKnVo1Bxp0HdO+o+gzs3rGPUXta7JpZY3GkS7qfLY5Vxo81bVA3EWI7Sxd/zFeHKIPHtO2/zP2yIgEGj5VgT/0H8Fiar12WvwOk9YwVZPjav5M9ghN6Qm+dHejw+SCfGM3S/ewyfOxxggQniLMCHX93swR+6kQpsIaoJZSEjSfCBe6Hst8/fQxeGZAv5evHjZA6NtAJR/FxaGncKhg8pm0ulTY8BiMw2Z1lur8S4eCuV6e27fldEK2RJANNUSGB+I0w7vX962pWhyTOTRvoRTtfw7GuaT5EL1RIqCNQnmHn9JYl+J0PjnPFLzwyAxyWTFbmWapVoxrkgybGrjwm7nfull0MILhlyrA+MH3kYnhLvJhAms/5x/R0atqe3w0ZdeVimCDxopXTR1N8defoFqAiIFEi0tsn6WE/qJ7JMng4xQ3HCI5tXKgiT1PhMXIywp5JiBA6tmr2l6c1fkHiahRFxVlp4DGodjIRjlwMr1N+QFbej85Rf6qjGxbgt96Qby2Ui994+lpeoKwA6niMKFVABTGyT1eEUKumDVuQRNWnNi/CicArQB4AMvQx/QAt19Ot7XHvNH7lAZyN4cRElijFCslvbo/SfGxJ4illPmjGPvZVhfUHPgAgJ8IlRXBH2cUG+mm+tjmEXb3gW2C6xQooj0utGtW8H56DKRAj+Ib4sW/GY5+dJ6n17K30ISUenD1mIGTfCuWWKvsYiChBkux6e+GEodSQDkFchA6xcqWKlJCD4jHIQO1ni6NdKbVJyyYN3kge4lhBkqtF80b1EEIHVs+G5GN+4EdNbfs0XJMuIxr/16hahZKpwMKSHz/WpIFeAvcWjuQWERdXsJd/+h0Gj2nbf5n7ZUUCDB4rwZ4q63gMNoloQVag0+PTvy6cMGRwj86GbVsONu68aOJQy9PbgVQt9rNLQ7ovieyPF7nePLJ86shhvYw6tW4xyNhw94qZ8dxbmJxxZvjZw7r/yiPS8fovi6eMH9izi0Grnp3arpg2Smx+HPy41GCbxvoOYCwIEqrEc8wg32s0v7QxQzJ4TNtcKm14jPCM2+Ak2YHVc6iCUqVypclDe5vuWmV/YY/t+V3nf10+qm+3ihXKI4R0atawObsLv/L4SNACOW53SXK9QwPldWrVOLJ+vtTihNWZHYN6dEYItWwMAfQqPJbuawd24Hy7WdUqlY5vXOh+59Sl7StYJvtwtCtWSGg+aBqCVbVK5S3zJwnNjgrNjqqy6A7s1jHVxzYnyJnmKcoKcBzWy4g6LK2fM15odpRteoAirqb19aqRdMkUj1FTG44XqdgU1s4e53b7pPmhjTf3rsOxAm0qV7qvPQ5xfu/xhHIkNm9Ub+mUEeqfxZOGbZ4/6a304Udv646tgSyhcX09m3M738oeJfItruxZ06Q+JBBTjx+j74JVJVFqRiJb6AM6tWpA0meInAEfM3gg2U1odrRmNQDDDevWObFp0bN7Z+Qut2JZNzlXDmxfMq1diyZnty2BcD4I7IH8Ywwe01gwS/pPGNXBrCHGhnmE9Xo6tYg3rxYN3t8hO9DRuCNkJNdv2vBPjyfZJBezr+WFz72mzncf4Jipzq/4PfYxbqa/I5WA0j4mukepRzbMnQA8HCHOryUPKFxZNf0r/Iq5wSwYk4qS8lekiPE3t0e9DNvBglOrxsrpox+d/IV79ZDv4wsu1w5Ry54Kj4GJPkVGvRPzvKaBH+VjsOWpXykzPqRfSxBlwHLh1J14KXcx0A+wuuT96LzGx+vhuRBbUxwjALs3cUCl8WMMHtO2kTH3GQmUqAQYPFaC4i3TeAx2oHjhc9HdMf17ULVJ4/+hvYwUPHNCzwin2nBoJxcfWDWbUj/R3ClUxezZqW0WYd+CAJuXz9imB2j0Gv2WkolXr1ol2MakCLJHOOYP566bNR4IeVs0juOY4Ug1ZvBiR7WVnJrC4DFtc6kU4jEg5iYs7ac2L9bT+ZxpR2OQdzHQ5984jN/5fPT+TPgBGOC5+62DG1RZfVS/mjd28MMTvwAeq17tBbGPpfvawVRKgciuqpUrqZ7Muzi8bh6wqMmVeCwv4c/htfPq6tRSfwYh1LlNi1A7U5wooeEcUFqSVGpxgjpAqj/cr2sH7tWDVHsDPKYAmzNoe1H8KMdrzRrC8bnqHxgKQtmq4DeNeQFZMYhnMqUdV/1K48Lx0l6cGmx9dpdKFPV0a9cgOKpF4/qrZowuV65cp9bN37k/Utm0oT4RnEQXi8b5gG3sgB44jJOhdhYDEn757PbhTepdU4GkZFJV4Ma+9ThRSvCYINTuCiUnuLh9BcOvqNGVJfQnLHdyyZYFk2mPWBzahF94FMz8Bh2U4iExP16FDP7lUyHFHCCKKH64/RXqdHdy82KcIPocjuVrj0NZlLYe+O6/EY/RlGXpfkp3XBo/FmpnSjcmMGgrJLmBTu+fPulKUpzNHz+EkJEo8WZe/c0AACAASURBVBt4wyaIKFEh5btX4TGeOp8HmVxflS0Ybb6WfwyeUUjO/7KMEhsSvhOZ0u6d/PSN9GGzhnVV/opgH4NkA6x3bpYUT84dOxgnu80YBVkKB/XojENYGT52mb72OIw9cQiEnnYx0Ies1vFiHCuEmLTPHxGOdaWnJAwe07Z5MfcZCfxrEmDwWAmKuuziMVjxg1h/e1kN6gFhJxXKl58xsv+N/eucL+97eOKXsQOUCG1Q906phHIadES5mHv1YJVKoHFumjfR1/JCoNVlp8v7qJtKhp8d9Zt6IbrXkVAPj+zbVWx+PND6ssT8xP7Vsxvo6ng9gIO9Qk1kUJ8Q9p/PnnRrD7QESppy7Vk4v7pNlsQDDB7TNpdKIR6DEwRijcFJ0nD7q/tXzxnTv3t7/aatmjZo1bSBUTv92aMH3Tq48f2zJ/i5hzoYoyMHtMzXz9im+0f06dqqacOWjRsM6N7pxv71OFYQ5Xx9aE/DiYN7ffSyyQ1xpmGWoIC+9XIy2TdugHHH1s30mzQY3ruLr+UFiN3Pt4/p1Kz+XHjP/8ml2WMGQplNGvTo0GbX8hmA65Lc1OtA3u4dYHVpxsj+bZo1atm4fvcOrY9uWPDB0ybT337cQOPBPTpHOV9X2ZBhej539318YfbogUbtWrZs3KCXoYH1+Z3gJFwgtlM1NUBFk4tNd6+eOWrAvHGDNT5zxw5aPGl4pCOh4H/5TGJxYuao/jQhb7vmjbcumCx3uRXHMRvWy2jWqAGf/B1yAp1UyalAGvHijfOANzLPsGZ2YIMKbarenu5tg194hNia/LJ4Sm9DA/0mDVo2aaDftOFgY8OtCyYDjUGMa6a/HawM4Zw30oeThvQa0LUj79phLC98DVGVXKouYNEom/mgYXjEC5/eO01dZ/sYGfzpaaViHaRxmAQt8z/5O1A+0goVyvNJ9mQYAOHcRP5tmiMBaH6BrtA6zccWPHhfewbZXG6oVwch9AUek4stDm1ECNWsXtXz4VkczS+UX7Fnp7bvPZ5AsCWwL9pRfkXKspPHSWh3YTdOlH4CKkg7ylLYt0v7TH+HLGKYJWBM8rv7I4oGv8BjCaKnd0/TEQtUq3LJd/IrQs4MoIVUfSAkLEE8fxxkPGvWsO5fz6xygpw+etlAKuow9mvpfXU+D0rGAwJMEG1bOIV4U9d99uBsi0b1EUImO1dhhTQVCgfCFWrv0q1dM8zuCo4X/u1pTYMwU0m8a6q3TXagE50O6s8z9jFtGxlzn5FAiUqAwWMlKN6yi8dguU9W0rjluUUd37gQPP5pWMtLj5xg1rIpkDIINoBdq3GSjMSAibcsmESI4NplBzpBeEw0Dw75InnvZI+yA1lwCpgkZV85QK0HgVaX8W9eONKFBI+Jf5c9yg1mf9KiHZLTesdMf4dRfbsh4lXv+eCsNvD2s/QtBo9pm0ulE4/RcQJDHQjNpFkBju/cHr2RPnwjffj+6WMcwcEpMhzkpI1kjBz8u2X6O7yRPngtvp/ma49T3D752eNIXoavfU6gczYkJvqcHhde9FyWHeT0u5vlG8mDTwEOOF4M9O75fB61aT7o1x44lPtW+uC15P5fz55ApFa4S8E6gKk5XozD2PB2eNIaJ0pzgp1zg1nZQUDggcO56lgL3i4X4nBI0wS1JZOxYLEacwd+lSCG5EsF6Q3z76T52BFiSRkOVRb+3uMxjhOBVCNcINw0mJUT7KguChBdgmjtrLHg5VhPV841xxHA2VDg7TY4hg8k+J42b6QPSNc8AEfKBDFWSDN9HSjAA0gWxskOdISLMkcKV2bxGOksBxzhMnfsILoXzBkz6J3bI4h7pDGNyTKcKH3n9mg+yb2uZFGP5qf72ULaOj+73CDn3oYGBITUS3a9A8GHMQL80iPE1rRLfiaxL/BYshvLFNg482w+Dhf34L8CKKs7MNkEs9Tzj00a0vs3t0f41TMgFfzNR869RU1JLRrVSxHcweEcGIHxwiWThiOEKleqJDE/gf/yB+fhV8/eyh6OH9iTvkWFx2C+RPNinG9Q8Hlo7VyIGo3iAXF/CEt9ommMYfihmn3M7sIu/IcvWKgSRMpPPLmIF9G0Fno6tZL5t3GKe3aQE0yiRMmZbUupI4nKXxHcrX3scILI4/6ZShUrVihffmhP8F6uW6d2pON1HMNLo/6HcvHTu6drEC4QYDEJ4wD3aTgHchjG8CFWNpoP0aThEIzN4DFtmxdzn5HAvyYBBo+VoKjLKB4j+g37N9nDjq2bI4T6de2QE+SEQ5xTSbIXOEGME6QI7lJ3/CE9DT/5O3wiShIFaT06tgFTWBT/b0/rj0CiCNpSuh8hQkiWWZ/dCQec1ar6Pb6AX3sq2di8bXAoJyvQXnWCrrGrwQ5EiK0jHK5e2rHC2WQ/TpRm+GsqcAV/9W/eYfCYtrlUmvEYNZSlettmBzsCr7ryw870dyCuQZ8BVcGxBDFdgeRXYcA7mgqh9mB2ywl2KtQPMM3HllqJgaeUZA0CdU0Dj4VzMvzsaTXAvEbckwq+muhktDRS5xA2vN0X7EU5AU45QN+vWfM0H7tMf0fwXArl5AQ7FWqILviiNB/bTH8HbR8ViILHApSF41A29ZNUiUK9MrC8RPASOGZ0AQFvsVhBPpOHZp3B29PbNjfEKb9flHL+7NtGmYR87bICnAomLSjYnNJ2p+zax+gIxLFCOdecZltGCBm0bHpg9RyHi3vE5sfzeBQPrZ3XXh9iCxFCvQzbvZLcx5GAFpRRggqJya7V9NvBxobcawc9H567uH1FvTrgsktdVT/jMVj/BUHWl/PcehFCfbt0EJodld05eevQBjg1iHL546klzQdN8z1079D60clf/J5cZJseoDSDeY4exzYswAqgjYF5J5e63jxCveUNWja1PP2rj+X5+8e3dW7bghLJkLe0/+hlnRsMiIuw8jyi4ZQtGte3ObfL6+E580MbE3kWRVARwouSZfYXdtNmLhg/5Ny2Zac2L1Z9jm1YeP/4FvzejwaAIYTmjRscbn/1nbtlsI3JmpljaQ3V/RVJdIB9tr/jp0DHwcYQs0r/TR7am/qC0kEOYokXUv5SmutCcPNoLNsskWcRaG1if3HPkknDK6ByEHQQ6QIP59vTGPuYto2Muc9IoEQlwOCxEhRvGcVjsIUkSDzunaGrPDjcJ8lS1eJn0v3scRRvATn1bKCnE8+5BUduconJTsjiihDaMGf8W+lDcgLnSlAcbMCwpcUK/R4rY7iH9DQMtjVRHnX7O2hTyNT1J6hYFOQ1womSDF+7IsCb+q/+tWsGj2mbS6Ucj9ERku4LUEr1KeawUSVgUB+N6vCjYDnKVxAgAUNaA49F8dJ8VNXQxCdaS1MzLpEqaf1hfgO1PlDwFcW/k1/454OSgqIAzS9JQhNJgaHj0l6cJNPAVxpv/KJrtEeKFnyXRjml8M8yjceU/EwpTyOdrlFiD7r+0zgo1XWlihWnDe8LhinF530EYHkw64OXzWhCpEl/UrFiBYRQtSqVL2xfQc1ukEwsUmk7BbfbWIGKwpTS7eQBmBjWTSwX/56PxyYM7jljJARTkbx2lahxCSG0cOJQHOycHZRvqvV3wJE8aqSlD1O21XLlym1dMJny3/Q2NPjgaZ0bwqLnAjhRenbrUvpw+fLlaEAa58pBnOKubQDDBE+SOpvsV8Eq+nP1/7u2bwXmqVD2tBH96P3aNao30KtD4zDnjx9CAwR2L5+BFZ9TF5J5JFMl5MgLq4a8HYluqprQc9WP3jaThkIGDhp3oFu7Zs3qVajRDCHUumlDuctnPLaL5CRoUl8P9vRIvuq0pRROnIJVAlHHCLLfv9S2DTH3GQmUcgkweKwEO6gM47FEyf0T2xBC5cuVAyrwLxWmNJKzdd/KWXSVD7S6hOMEuUHOH55ZUdo3WOibNdqzfGaorSkke4ngfKYiSBDuWqZMRKOnU3PxpGFCs6O5wc5YIVGHfAVXW3qHJqIp5tG+tkJK6D6Dx7TNpTKBx0poVBRdLMVjyhTS1avFsc1wtNKAUPQPy+63nwLAsdC4U1uaUPv90yc4GPTdstuif1Lzso7HlJBMDglOrM7umD9+SKc2zfWbNKyvq9OqWaPObVusmTnG5dohyKwFNB6fSXGU5rUoUPp/WTTFQL9pw7p1GtfTmzikF3Dtfgg6tHaeQcsmYNGKFdLhAQAjlJ3ua//L4qkdWzdrULdOs4b1lkwekeFvjyO5KvsYmNRiXC/uWGHUtmXN6tWbNaw7qEdn80MbwedWLdk6Nd7iWNcLvy43aqffpL5evTo6g3p0fnJmO37r9eT09s5tms8dOyg32DmL5LkGBnl/BxwnuLB9edf2rZrUr9uwXp3xA42pA6S2AUzr/E5mOXv0gK7t9Y07tdH4GLVrOW/CYJrLIc3X7uy2pT06ttGpBTbATq2bX929Bqe4HVk3v32rphBmqUYiQuFWiuAOJXRt2aRBiuAuDv+C4hKWl0geDmE/OvXruIHGNDkBQqhJfd0hPQ2PblgQbn8VJwghjYevHU4Qmx/c2LFVs2G9jP5ws1QR8PyT4f1v/pbBY9r2X+Z+WZEAg8dKsKfKMB6Ti6/tXUOPKmW3T2rQHoIOkSg5s2UJxWP+Ty7iOCF45Me5/u72ePWMsTq1atCvatesvnb2uLeyRzhGAKf+fvbZsKWJLm5f0ZzEH5NgsAqj+nUDlt5Xnhob9r+5mv/zdzF4TNtcYvCYttEFOkSi1GQXGJYb1tUF36dSxhqqrebfdx/sAAqJ252TlcpXrFC+HITEJEqLYxv/vteV/l/9B/AYRVZZ/o44SUpdT1+K70U7X38rfUiikoRYIcvwA4aJgt2R5mObE+yMEyR/e1nHsm++FN0HDwiFBEg4YvgQ8hTrqh7lCLAhmIUTxBl+9nLuLQgSi3UFH2C1+DFIyhfpgpNk6X52ceybL4X3wEc3UZrp76CBmsifDlgh+eTvIHcxT+TfxmFsnOyW6mkNVIThHAzRbp8tyek0G6dCkhvknMS/TQhUIbSy0KapGqusczQf4jAL+XBopgeQVbATxIuGsJ4L7ybyb0MYdqIE7scIoDJfuvVSPJacz4mybMoI4ET5EvGSrrHLCnSAronkvX/6JI5zU84zh0OQcC4EsMXwVZUH8yNk+ePgSF5OMKTWUDWhTFwweEzb/svcLysSYPBYCfZUGcZjiRLqzl6pYgXO1YPqx3KwxBM8RnM3VapYAXKYxAHcggU9nIPjRKG2pgfXzNFvComYEEKDe3T+y9OKxrTQVR4nyV6J7t/Yt65Pl/bUkaNendokT6iwiNjoUr4rMHhM21xi8Ji2oZvuZ58b5PS3pzXLdL/H/TM4mv9JTf/T9qsyfT870OmTv6PQ7OjTu6dwGCcTmO4+q7z/b9f/DTxGI5posrvcQBLsF8XHoeysQKDDUXnQFdq5NCFEVqATILEw8KSgCIGSTBREBfR5wGCRXFWkIg4BLhkaPwZ4jJiJaBgzjDGSc6LQt9NINmVphAKH1pa+veBmlE5oGDN97eDtYUCZU7CGBV+UThg4SDZ5YM7Q/OQjn3Rfe2WCijAujuRm+kIuPhrgSn2Y1Uum/ooqv1/utUMabiyqh2mxaT62uUFEyMRipmR3zH81fVhbq1VFleYLBo9p23+Z+2VFAgweK8GeKsN4LF6sih+zOLwJJ7tRml3lqu1ti2P4y6cCxaJ+kwYprndwOLj40w/sEzEQ5fVa8pA+gxC6fWQT3S0+PxMCJ5GfAhxMdq2qVrUyxDGPHwz0aCTrrrZ1X7lhkF1K2zM/6z6Dx7TNJQaPFTEm4Zw7xBknu+EEUXF0uyKKKhNfQUpryr8qF1PfxTJR7RKq5H8Gj6nk8zmi8ktdX/WAtgu6NWj7tuB91fNkBmniMWoNUz1T8Ocad4r/JP3htz6v8bqi//xq4eBpEgCEwwO6d4SU621b/uH++Kt+v9/dNUXXtpR8y+Axbfsvc7+sSIDBYyXYU2UDj8UKNNOheNvgaF6U03XKZDVr9EAcA17+cKIGdGc2OMrlleR+i8aQ8GTikN6Qy5UccuMYQaY/WMlSfWyByDte+Ep8n3q3/7p4Go5xBagWxcOhzqne8MxHb5ucQPDIn0nCr407tU33tc9Vy1OksdDDgpsgAuZ9uaQUanIMHtM2lxg8pjGSNf7MP8AuYw5CGq34pj+pieCbfvKffPi/h8f+/W4CPBbK/sPd0qhdS4TQAmIf+2/bXcGJUS4W3DxasQIwoGxbNAXLJUUfZf77/fIvv5HBY9r2X+Z+WZEAg8dKsKdKPx5bNWM0fuP5RToUyIsiyQ5yzglyGtGnKw0h4984DMlhonk4ygU/f4rjRTuWTqe+iJanfsUp7hnetjiUFe5wFYewcIobjnCBqIDn7i/FD5o3qkcymC3CCnFuMCuGdfOdmyUkQonm5YawoUC5mPJKDelphMO4GVpOVWHTTRCLbh3bsXT6tb1rcTi3UErxf3kPUH8dg8e0zSUGj6mPE+aakYBKAgweU4niuy/Sfe1yQ9gfPK1pEuflU0fiSJf/Oh6Do8nN8yHhZ+0a1X0endeI8f5uYZbdHzJ4TNv+y9wvKxJg8FgJ9lRpxWPcFMGd+rq1Se5mg4vbV5zZulT1ObV5yY196yFP0atn3KsHq1etghCqr6tz/tfloXZXQm1NudcOLZgwlJIITx/RD4eyaA7cFNc7YC4b3ItlciCObfZG8iDY1oQm3KxSuZLQ7ChkiA7njuzbtXObFuaHNkU4XH0teRDHNju7bWm1KuCveGjNXCwXq0dvq/YGsJsFQyjCgG7gnoEQklqcwHKxKhZZ9eRPvGDwmLa5xOCxnzgsmVeXZgkweOyH9A6c1sXwgmxMHC7thdTSYZDj+IeUXDoLgazo4exo1k2Hi3sCrC5pixwrnZUvoVoxeEzb/svcLysSYPBYCfZUacVjnFfi+w30dCiwKfh/xQoV/B5fBE6nl8/MDmzQqVmdPlO7RjXVNUJo0pDefz17giP5QOMRyn7nbtnVoJUqyUk93do1q1elPzy0dh5WiNN8bHAMf93scSTVDKpZo5qeTi09HUj9iRAaO6AHEBAHFU7rRCME/nqmPAHNyy7KvXqwtG1CDB7TNpcYPFZCKghTbFmXAIPHflQPggtfrCskvYzgFOTh+FFvKT3lQHsJjSSOFRbNmFJ66lyiNWHwmLb9l7lfViTA4LES7KlSiMcy/OwJNxRv68IpXQz0u3dorfHpYqA/ok/XF8J7OByorvALD+9H55ZMHt6hVTMKnFo0rj+8V5c7RzbnBLNwNIAxYFz0tcNxwjC7K+vnjO/cpgV9smHdOuMGGgNwihdm+TvAM6HOad52Jzcv6mPUvkYNQGu1alTtY9T+6p41GX72OJJfxL6S6W+Ho12PrJvXsnGDcQONf3OzxCHsUnUIyuAxbXOJwWMlqogwhZddCTB47Af2XRoJci5Vm8IPbF3BolRB3QW/+j+8w+Axbfsvc7+sSIDBYyXYU6UTjynhU6wAcq2EcQp82DiCi0NY9IgR2DvigEIj1ds2lnUj1O7Ka8l9+EmiNCvQQd1dEMBbDB/HCz8FQC6XCIerf3o8AQrjRBll7KW5UHAYC1KshLJfiu6F2l15Jb6Pw7jgyhjkXAQYo7sLnAjGC6HYcA4OYZe2Q1AGj2mbSwwe+z9Uj5gmF0cCDB4rjpSYZxgJfFUCDB7Ttv8y98uKBBg8VoI9VWrxGIVkcJqo5aO+9gGnoo8t5IeJdAGHkFDwBiFpUjSzBtEnSTgZF0e75gYVknxGdaSHQyHXJ5RGEtQU81AzzceOpqpUT9OpXtufeM3gMW1zicFjP3FY/pBXU6bsH1LU/08hX2Uth3XY2xbHi3J+T9Y2d+B+TlZmMBdH/Mdjov5/BgbT0pKQAIPHilpDmO/KggQYPFaCvVSa8dh3LIgApYqZ/pI+WWSa1+KX9h1V/Sk/YfCYtrlUJvBYMU8ESnpolZJqqDcTPI2DnXG0q/rNr14DGilyBfhqCT/xgW/qhU9+9lmBThp0r5kBdjTBcdFFMXjsJ/Yy8+r/kgQYPKZt/2XulxUJMHisBHvqP4bH/ktrd0m0hcFj2ubSd+AxYkcl9luff4MnDSBHODcr0Klo7bkkho16mcBbE8795GdfepAM8UMW/O5uGeV0HQez1GtbxDXIM4wDTshljeYu3dfuU4AjDucWZySk+9lnBTjiYOeP3jY4gqvyuAbVMJIfz7n1XHivaCJyBo8VMYqYrxgJFF8CDB7Ttv8y98uKBBg8VoI9xeCx4i+m/4EnGTymbS59Kx4j1GFcHCfA0a44QZQZ4Fgc5firQ6hQ/7F0P3tiyuC9EN5L97PD4S4/5F1FVKbwavjaZQc54zBOiuAuDmZhLUSjRRRbEl8RFUco597q1Lo5QugP98c4lJXuq+morPFqgHBxwjfSh389s8IxAhVK0XisFP5JOes+BThAL8TwMos08aX72ecEOmX6O0wf0VdPp+aRDQtwoph6X2OF5Pwvy2rXqN6iUX2/JxdxrKs2XMrgsVI4DJgqlUUJMHhM2/7L3C8rEmDwWAn2FIPHyuKy/t11ZvCYtrn0TXgMbEQRnJeie7uWz1gzc+ylnStxlEuWv+M/NBmBxSaCgyN5mX5fGNwo3ejK6aPq1ak9xNjwvccTHOL8Vcjx3YMEaEIjeSQW6AtUAw5v/g4TB/esq1Nr5sgBucHOGv5v3/3Gf/JDSHMU6zpv3GCE0L6Vs3GCqND0gOqvAK0oXnR8w4JG9XS7tW8d7XwDR/JLGuKqV+C7r2HgRfLkPPPeRgb1dXX2r5qDY10ztJtn4flQ9u9PLQ3btkQIrZg2CrJ6eNvSdWD51JGUZtbh4p4iMnMweOy7+6ts/bCYrv4/pFH0xKdMTLpitrfQMyyN3zJ4TNv+y9wvKxJg8FgJ9hSDxzRWzP/2nwwe0zaXvgmPpXrbYrlk07yJVJ1FCBWt0RZnUAEYixM+F9yFXLExApWxgqjUnHfujzq2AvtPrRrVvC3P43ix6oHiFF78Z8D8EidM5N9+Kb6HIz8b4qAaUS6xrJv1dSErYPNG9RQ8c/UHiv+KH/gkcKu+9rxzdAtCqHE9XbnLLRzJ+6qSlxXolB3oNHZAD9p9Nud2FoFGfmBt/3lRoM8lyrhXD9KaD+1lBBkRQ5y0gXPotRD2+6dPuhjoK/GYnOIxG5woXTl9NEKocqWKvpYXIEOUFr/N/wweS/e1/+rY+Od99NUSiqO4f7WQH/sAiMXfAciHQ0uckQWGmY8tDmHjaB4Od8nwdygNnfIP5QnLZjQPjtL8HYooisFj2vZf5n5ZkQCDx0qwpxg8VsTq+d/7isFj2uZS8fEY6Lhh7LeyhwYtm6jw2Lxxg3G88KO3zfeNGQLGRF4Pz7Vt0bhJfT2pxXGskKic6D4FQMjW7DEDG9atM6B7J8hrF1oiee1AXUiS2l/Y07xRvTbNG0E4Vgyfqunpfva5gUBGOqhH54Z160wa3DsryDErwOn72vtDfgUdEcFL4Jq3aFQfjGOrZuNESXG6AJoZJ9y9YmZjYh8Ld7iKo8qOfSyKH+18s6tBqyb19XYum4FjXDO14Ciaw6NQPJYV6JAZ4NC/WweE0Jj+PbKDnLMDHLRZd0sOj4HnJDHW/QsaeZqvXW6I00/PQQIzPYSdG8L6F5r8DbMMwJhrLOvmO7dHOUHO3/DDb6TDAT/hcBccK/jT40ks6+YL0T0czf/pMbH/sL0AxhLFCheLBJdbOE6kWrcLFsvgMW37L3O/rEiAwWMl2FMMHiu4aP6H7zB4TNtcKj4eI6BFZndhD0Kods3qfbu2Rwg1qa+ncPmKvUiZR4EooKCGqqnRYHBLELGvHChXrhxCyPHSXiwXf/SygZwNfvbpvkCOh0NYL4R3M/3tcTicYStLI7nOCx2xBZM0aFbAx1ZDKQRzk0Jybe9aijP9Hl/E0fyP3jY0iR8xtrA+BTi+EN7NDXEuNH6M5pmgSjb8D6/4wumRVjXdz55WT/knyU6h/JV27zuNZoJulyDauWwGQqhunVqRjtdxNE9dqip1X1kTdd2ROP69Et//28sGx2rGj30hKJLrgtYW/lfrNa1NUHuGgqLPAvnyK40WffFepfS+8FxVJkiM4X3wtIK8iJH8gvFj6oXAuAphadjHPnpa4+dPH5/eDgO4RnWPe2dwoqwIJ88SwmNQbJIEK8RYIcWRvCK0WA0pFf2nxpCmD5OhIk71tvngaY0ThEU0tujCi/mtttQLUA256IOn9d/eNlguKelqFLO2QPSS5HZi00KE0N2jW3GS9Ef1hUYFyDmI4De3RxvmjO/SDgy2zRrWXzV9dE6Qc04gOHuTZa2Q5UKjnFL1J4AxuVh461jj+roN69axOrsDJ2oVIIPHtO2/zP2yIgEGj5VgTzF4rFQt7iVdGQaPaZtLxcdjoOPGCuaOHYQQmjq8r/XZHeXLl8/TLSwOb8JJWvVaUMVC2DhRipOkOFEC/8cIqK8O7OhhbPxXgNDsKC2Kc+Ug/isAxwtxsiyHECrCz6P5+OVTrJCkgqZuBznKk6Q4WfrJX5NKJN3XHmLA6LvCuDQsJNWHBKepKgB1kOBwzkdvWzrqQFcI5+IPgRaHNlI8FmJrin/3wwkirJBQQkWoRrwQv3yG4yD9uvpwJUCFuDwlkgYmSqCZCZKcYEcNvTPd1y430AknyYiXoN1Hb1uImkuUwfOJUpwgyvADtKleeKHXnwLsswMdu3doTRS7ei9Ed1XeVmk+tsBAqCB1oDVRSLLVOFdAgOEc/MoDp7hnENCregXUJ5QDwqH1UUihnCTScUlSHA28F+m+9p8C7KG2ydJPAfYwJMLZWEGbIMOxQlWZ8FUUL791EhzN15AbfW+6Hy0Esth/HiEKKQ7naDwP5C4+djjFHQZDuIuGbOF1KmEmkZqHcd4/fazur5jpb5cd6DigW0eE0JH183GSW9FGxZLA3A9T8wAAIABJREFUYyB/heT20c2rZ4z5dfHUcIcrOOafmijJsYUjDuVkBX7hMwYmqVih7PbJ/t06dO/Y+v7xrViuVWNWDYPvvlAO71BOVsAX0II0WWx1dodxxzZ9u7QX3DyCE4T0pOO73/XPfwgD5rm71OJElcqVmjeqDyA/rERs73CaE8z608OqPxl4CKHqVSsjhBrq1ZFzbuEoPqw/IWwc4vypsBOcf97SEioBqi0Xn9y8mK6Ze1fMAjz25dqoejWDx7Ttv8z9siIBBo+VYE8xeEy1Vv4/XDB4TNtcKiYeA60iykXOvdW4vl6eWebK7tVpvnb6TRsghMYNNMYR3IwCBitiILLFybJX4vsPTmzbs2LmruUzzmxb6vngLI7g4kguDmXHsW9yrxw8un5BeWIfO7h6Dv/6YWeT/RzTAzlBQJuBI3l+Ty6a7FrFv34YgFkER8G7dWX3msent+MYVw1ejcwABxwndLi4x2TX6miWGQ5lw1tiXOM5t+4d27p35azdy2cc37jw4YlfEnkW+Ll7OjH74Ch+kNUll6uHNs5VxsWZ7lrNu3bI+fI+/rVDONIFqhHjKrE4brJzlce90zj6swINOC2Kj6N5fo8vnvtl2e7lM3Yvn3Fk/Xy26QE4fU/5rPGn+9rnhjinetuaH9oIgVvRfJziFsO6abJr1a7lMw6smcO9ehBuhrLVLVGFzs2sQKcMPztKq9i8UT3wfQoDCniw8sklmX72bNMDpzYv3rlsxtH1C1im+zMIXQpFpziMo+BZXNu71ub8LhwBTSOGLPt0P1BPk13vPj69/diGBTuXTb+4fYXjpb0sk/0sk/1Ol/YGWF3G0fzsAEccwnp4YtvdY1tzg5zxa88kVyht57LpRzcskN0+ieOEWVCmA06ShtiaHt+4cOey6Sc2LQKTY4p7hp8mlIUCFeJEF3Pzw5t2r5i5e/mMvStnPTixLZl/GydKM/w+x9iQweBid3731T1rYzlmqhTM+cPMLZYNwty5bPru5TOenNmRDXjeXg2PibBcbHdhN0JoYPdOgFWCv+I798PxGLw0hh9uf0VPpxbVYqcN74ujeBrYstBO13aTgDH7nCDnt7JHWUFfZFqD+idJj25YQN+1ZPIILBdp05i1lV/M+xDORzIu/CZ7hEO/SL0AuniCSMWhcmTdfDiP0KK4F/N1//AxipH+9rLu2wWM/IfWzcPJbqnf63RddGWg+QrJrYPKs55ti6aE2pt63j9rcWhjhr99ToAjjua/f/r4vcdjHONanOOYol/3r31L2iVV4TGLQxsZ+5i2TZa5/x+QAIPHSrATGTz2ry3cpeFFDB7TNpeKiccAeCTJLA5tQgjp6dSKYd3ECsnaWWMRQrq1a4bbXaH2E42+xinuZgfWt2wCsE31r0qlSjNG9X8rfYgTZZvnT1LdV78oV66c3YU9YDOJFS6dMgIh1K1960x/B5zidmP/OvokeMiouRiBfiCXSG+fqFihAkLo+r51+JXnG8nD1TPH6unUVC+c0nKYHViPk90Aq0TyJg3prfEA/bNm9WrP7p/DchEOYY3q2w0hNH5gTxwNR9oZfvYgE4U0iX97zthB1arAmbfqX/ny5bp1aM2/cRj/4ffRC4LroHpJMvaVAwihdi2avJU+vLh9Rb06tdV/snL6aBzsnB3kWKivo0q2oE3Gi85tWzZhUM/D6+ZRfAiVSZSF2JoMNjZUlUkvhvUyev/0CQ5hA2BLlJ7YtAghVE9XBwhUIsDRkYIx88MbWzVpqP7bCuXLV6xQgULlwcaGYFKQi0PtTOkzYXZX7h/b1rQB4HP6r3KlilsWTIZcCLGCk5sX16pRLf8bpFOrOvRIsrvK6gWtCGHjMPbBNXPr6wFXivq/JvX1Lm5fgRPEWf4Q3wUPE2LPlo0hZG7vSgiZozo9VD7F/dq+dQ3r1lEvYWD3Tm53TvXo2EbF54HjhPvXzJk2vF+orSmWS7+Kgn44HiMDRnJh+wpVPevWqQ3upv/ARAaTIpK3cvroKpUrL586EoeyVYcUdEawTQ80qqerU6vG3aNb1IMzVcPph1xkBThmBzqOG2RctUplYL9UI+YhirvE/ODG2jWqN2mgx79xJM/b9ufax2AkKySH1s6lS0Ei/3Yxk9p9h6yg+TGC+eOHIITaNGsMjqMKCY4R4GQZ9F2c0PPB2cb19Zo1rAcOtHGirx7HfEcdSuIncN6UIFw+dRRCqEXj+kSGWjlRqBCy37/Utg0x9xkJlHIJMHisBDuIwWMlsUaX2jIZPKZtLhUTj6UTp74x/YGab8LgXpBQOMWNbXqgAnFZvPDrcpwoVanagFW8bXCy+8UdK8qXh8AwYMIY0nvhhGFDexlR6LJ/9Rz81uv6vjWDenTu1qE1jR/raqA/sm+3Yb2MRvXtHggGGR6OFSyaOBQhZNi2ZaafA452DbdTmhfmjBmE4z5TiYCymyDZuWw6hYhB1pfxc7ddJMiqWpXKo/p22zx/4t6Vs+aNHVxfF1BQ5UoV2VcOgG4UJ9y5fPpg484dWjWjinJvQ4ORfboO6Wk4cXDPZP4dsOaFOA/rbYQQGt2/B46CmB+CEFxSBHeo32DFChV6dGyzaNKwdbPHj+jdtXKlisAJWb0aWL1eehBPSzBWOJvso+oLdfvUrVVj0pDeM0b2p8wcCKHtS6dRz8yipxKFRoBnEkTpxMsxN4T1m8yyZ+e2CKG2zRvvWTHT7MD6HUunde/QCiEU4XgNx4KssEJCDSZ6tWsl8S1whAvcfO7ueGlvpYpQ5/5dO5zYtOjCryvGDTSmnduqacOhPY22LZoMcogVBtuY0PirJZOGU3FNHNxr+oj+DfIx1ZmtSygDp55OzRkj+48faEyBWdUqlV2uHcIpbioghCNdlk1RUs+3btZo2oh+m+ZPnD68X706SvMRUJXIJekk5hCHu7wQ3m3esB5CaNfyGVgBzlHU6+z24U0VK4DrrG7tmtNH9F8wYWinNsDJ2bBunbqkKOC7l4tTvWxwpAv4psZrOp0WKu0fjscy/R1ygpyow2TfLu2pWC7vXAk9XsC8rF6lNB+7z4F8atGP4D7q5/ApwHF47y4IoaE9DdN97bL8HVLz4/1AD04QpQjugkE4xpWiIFqaNlOMMgxPLZpRFfSoVocvvGrBOBbk/If7Y0qFunDCUIA33rap+VUFl8UYvoJnQXJwFwLG8l8KgZf0o616NFBT9a3qeTol1YWm7RpmbiQvyvl6Az0A8FsXTsaJEnXjmDIW9Gs1oTGN6hUoFGR+9LLBUfyBPTohhIb36YpDnNN8bD5626TC6LXBCSKHixCRW758OfsLu3HC5+hZWn/19mp0hEoI1MStXpMi2q7+GFwXcJBWPlDgPj1UonIGS2+0INjGpE6tGnmHO1f3rCEGxi+s3+p1YPCYtv2XuV9WJMDgsRLsqeLjsVLI0qu+0mlcU68kjZvf9GfZai9tGmxUhOlBW0sZPKZtLhUHjxE/K0GIjYkO2X3ND23ESbIsP/sPXtbt9ZsihPp2aZ8T7KyiPFY9X6c27NZd27fyf3IJ/PoUYhzMlt0+adypLahBMa7wiXblXDlI48eAPT9GkBXglBvEwjE8UGXiBIsmDUMIGbXTh/L9HXCEy+ShYM5q2rBuIkEUVC/5FOCY5mNH802NH2hM1G7hvlWzFkwY4mN5AQAkhHWJcbJMdOtY7RrVEULzxw/BCaK/Pa2hbjGC6/uUljegQY9wyQpwAo/HCA5EoIWwqco7Jh+PAYxJlGxbNIVCu6MbFmT42UOMmUKCI7jmBzfUrFYV2m7Q6v3TJ7nBLEAOSVKWyX6KPBFCfYza+z++CBKIF4XZX+lI0jo3bVBX7mJOmUu0DWZ6n4aKUUsdqDvJskcnf0EI6dSs7vXgLH79DMvFOEn61zMr7tWDad52uUFO1CxwjDiw6enUSnK9g8NdsoMcU33s+ncFysGxA3qk+trj525gmYzhr5oBvPA9OraBQ/14Ubq3DY4BJUxl+GrbvLHU4gQ0QS6R3T5JIVk1Eh7T29Ag2NYUx4txrODusa0U7M0eMxCHczP9HUATfenhdHkvRXQzRvZ/LrgD7poKCY4XeT04Q8dVtSpVoHyFGGoezgE81gjw2O7lMwlqtcHBrL+fWXdtD5izYd06vGuHodWJkr+eWe1YNr1SRbCUquxjad4QXJfp75CuBjaKEPKPxWOASRJEnvfPVqtaJW/K8K8f6d8VItmG9DTMDYLU1YXWhKr4MK7kYvg/QQTxh2Q4KaMlkyQ4ik+NtyP7dIVhnyQjFhh+mg+EI37yd4SIuzeeOIiV5mNHwv9IiGAEryB+gIEUwYOfKyR0WqV624JPaYKYdI1QWZMEUYa/MtYRXhHgiJ+7Zfrbd27TAiG0bMoIiBuEjpCCAZagMpjRb57hl8+yC/C8Q+eGsqDaCSIoP14EP4zmffS2UYccSiMz/TaUk+ptA/alJCk8Hy+En4Sx1Y+ECpVnvqVaevswmPoRQsc2LlQ3G8LIjOZDaVATUmyEZrAiRWIZfmCmVvYLnfgJwgw/BxUpiFIyYA1z7WMEjpFTh/VVtk4hgcqHsvCfATSLQ4Xy5TlXDuA//XEcvDSHxHzCmIl1hYUrEqSR5e9AKkbamyTNCWZRGA99FOQIAgRRiHAiWN40gJYyUDOEBSXQsUTrHMMH2Ewof5QVhkBfmP7qZwTwgK8ddGsSkNDAmpkk2UgSn0we2huHsakduyiZxwgY+5i2XZi5X/olwOCxEuyjYuIxWBAhU61L0R5E2pahf/M+xLuT+AQczim40RazJtDeUDawYKtzspXuazidDXSCHDIhLI1NSNVqBo9pm0vFwWOgMCVKT22B0O2GdevEcW4p7SoJol8XTyUR6lU8759RuSERU5Voz/KZCKFKFSuAVeQPv3QvOBL+5GePn7v/4fEECKaDnUHFT5bxrh2ieMzp8j6c4v7Jz/6TUh2x1cRjfkAmcf/4VqpL3T+2lQYtgB6ZKBXdOkadFW8f3oSTZQDnIoBjGscL033tU71sgLmR8ExMHdYXITS4R+ecIOdMeBdU4+b+9bTYgCeXcIJIVQ2o85d4DMBYrKv/44u6tcATcunkETjFPTcYAA+oib72+I3n/tVzaGkPTmzDSVKojBoeG9Ct42vJffzcI83bJs3LGr/xMj+kjDBxNtmPk91UWp1qDBdxAc2Xi8/9siyPKa5l4/qvpA9xKOeDp3Wql01OMAsnSSmzNjymkHyBx8K4OIoX5XS9DmmI9bmd+LXHR0/rj17gVeX/5GI50oOuN47gRCm0Ou4zHjNo2STS8Rp+65nuY5dGqAvXzR5Hm9zHyAAIEl48TfW0ziQRMhMG90QItWra8LX0AQ5nZwU5p/nYUkDSsXVzyPStkKT5wggBabz3E9w8Sq1ziycOw7Guad42BfEYreTDE4BC84AoZCf/zTvN0xpU6lAWful+fANQ56njsSJkWPCrH4vHYBIliHctB1bMbh1a41D28Y0Q2VWjWlWvR+dwfCEUF/CTGD6OdPF5dOHm/g27l888vWUx98rB390f4xdP0/3scST32f0zrjePGHcEu2iPjm34Nw6LzY8Lbh6NcLiKQzmAlELZ0tsnhGZHYVaGsHAIm3XlwJ0jm8E6Gglhh6qGU8NREt/C4tAm6PFIFzhieOGR6mPn9eDcvWNbD66Zu3vFTJNdq8CzLgxCQNN8bLMC4RVud0+xTPfrE8/kMf27SyyOi24dE5odlfPMcSgbuHl87ES3jkksTuBQFgmABM4P8ET1tsEvnv7u/ph79dCpLYt3L59xeN082/O74thmOFGWDeNEWUOoXpzw6d3Td45sfid7hJ+7ZwU4Cc2OHdu4cP+q2Zantr+RPgDr69ci0+gsUHmNHtuwgOIxKgqcLIt0vPbkzI6j6xfsWzX7yentCp4FfvHZzzbDzx4mglyEwzjej85f27t278pZe1bMunVwg9fDc3DukyCi1rasAEccxnG7c0pw8wg9XxjQraPY/BiRw3Esl6QI7khvn6D+w+XLlzu+aaHbnVNCs6PS2ydwKBtgcBQvyOqyxaFNCVxznCLDISyJxYk8+/bhdfNtz+/+y9MKyyV/e1oRm7Nd3uJ5aO3co+vnAytSKEedujPd1y7b3wEny95KH0nMj1/ft27vyln7Vs26fXhTqN0VHC/JIvgtO9Dpk5+j4OYRy1O/RjpchWhDNbMtVkhcrh1yuLQ3jjirhztcRQjV19UJs7/y1WT0IHMGj2nbg5n7ZUECDB4rwV4qDh4jaqjklfh+Iv92bjAEvpfqDzAu8GNZN1+LH+S5YKmvpMWsNrQ3XvDO3TKBeysnsNS3V3mkZ58d5JwV4BjtdP2Dpw0OdykUkjF4TNtcKg4ey/B3yAl06mNokOf5NmvUABzN+9sLXG6wQiK6dYyaPohrmZgeqWYG2OUGO/fq3A4h1LNz2+wgp0yie1ENDIZZKBuHQbABjahxycdjwHefJFNpVLCLf2kfg0PlcHaK4A71W5s+oh+OgnNcigCptappg7qJYGJS5nQG2novG6ABjOLBgbdcjFPcN8+DuDWjdi1/fwo5zehMV0WmAflEnEB1PJxZEI8RuEId/yqUL/+MYFFVtaEyMfxg28vUnPjr4qk4RgDioniMIATQd994ffSypmftOIYfZH25dk2w2kGcT/K38eCBoJJllMk9z153ctNiOFZPBkMKeEblK1VUE9XEY3FCX8sLCKEqlSuJzY/jGGBFhycjXCIdr1PnUptzu77AY9UhMOzK7tX4tddHT2gCNFkuuXcMcHK5cgief+tJWwfoKFFKHUdr16gOjnNhXBwvfnrvNAVLJzYupOCZLlPpfvZZ4IPnQE12vQzbffCyzg5mFYLHiNWOhhfW19VJdLHAYRw6/aE+Iey/vaypDyr1V/xWDokfiMfSfe1zgp0+eFpRC9KuZTPwGy+/xxeqVq6EENqzYhZOABug+kJNRCpO4t+eNWpAlUrwmOpfB/1mtud34Xd+IbamKmoQ1bf0ghpycYJIYn6c2gmfnN6BX3u+EN0zaAk27ZF9u+FglrpdDiZXGGfqcDiq6NGxDcQcvnxmc25nz05t6TGH6hUVK1SYOXLAn8+sgB9VIeNdP0wddFUPqC5WzRgD0EUufnhiGx1jbndOYbmYoiyAlMlud49uocZh1a+oor9/1WxYKMKB9hDIG0NYf3vZ9Car0NW9a1MEd0b06aKyNuflpu/STv/Zg7M46bNDrLo8VdcEdvIjna7NGj1wxsgBgVaXINkgQX04QXJi06K6+WwrtD4N9HRIHg4pHVowkV97BtuYTBjUky59qmpXqlhx0pDeEQ7X8IunYEGSi5/ePV2D2MlVz6guPO6doW69qjvqF0CNkyzLDXaeMqwPQmjnshl/PrOaPLSPenv7GrWHd2WEe9w7Q4lJVCXMHTv4I5kCFGR+Im4F57Yta9u8seoZelG7RnUYjbECOHWK4LwS3zcgLg/tWjZJEd7FUbCfUmu26hTs3rGt+E9/x0t7+xgaWJ3ZiV97Fs1TqrRJMnhM2x7M3C8LEmDwWAn20lfxGGyHSdJn98+2atpwVN9uOJKnfpSoWtxLyQXoTwmiM1uW1qpRrVOb5kC38I0VhhLihTGsm0btWuZFzH8KcFSdYpaSNhZaDXC/CecsnTyiWtXKY/r3SPWxzQ0GXjWNhxk8pm0ufRWPwcCQS9zunKxCdEfrszvBqQa87Ai2CWXTmKVOrZt/9LLODnAEZ8UwborgDqXxWDB+CJzUqh3Dk2gHpbMTFJ4o/QKPJctURwnw7Zd47FOAIygHscLFEyF4qaFeHThHj3DJ8nf4kK98L5gwVJWiGh5OEOEY19fSh7Gsm54PzvKuHxaaHaVKp2Hblu/c8/FYkuQLPKZmryiIx0CPDOPMGzuY2KMapAjuavABfApw/OhtSykQZ40egCO5APkIHqNqkMT8BDEnggoOCmI0L9r5RiPCSEEDilRC0BjJhf4J2mow652bZW9DwMCVKlaYMLiXs8l+8DNMdsvOd14CeRa0j0WDfYwa+q7tXYvf+YBh0M8e/+FnfW4XNeAAQI11hSZQ+xjBY2YHNqgY1Wg/Ol6G6LgK5cuDnTM/rzd8JZccWT+fOnYmcG8BHpOLzYg1skL58o6X9wE5Rz5ohAb62OJY17WzwNqm36RBiuAOuOGFsTX8FcE+Fs0fN8AYwt66dfgUAJFUVD4g0hDWe48n1JXxp+MxspvIOFfBL7d8uXIA4OOE2QEOg3p0pucCf3vZ5KjxuMAkiuS9Et/vTvhIKlao0Kl184UThk4e0rsFYTRp1rDea8n939weTRzUc3CPznq1wU6rW7vm0J6Gw3oZDejWcefS6UAaIRe53jhC0dTDE9tgLsQJl02FmL1qVSv7Pr6gIt4AiYW7xLHNaFFbFkzCL5+G2V2hf7ZoXH/W6AG7l8/cPH9iVwPIoIUQWjd7HPE35oXYXRndv/vA7p0o9mhUT3d47y7DehkN7N7JZOcqOAGRi+8c2UwHgMT8OMVjAGySZcc3LaK2cT2dWkOMDZdPHTF3zKDG9XTpKxZPGg7crYRmMzeE9dczK+NOQNCyeNIwI5LIq1Pr5nPHDOpioF+BBBDqN20ILDXhX9j9Ck4ZGJORPDigiXKhjPN0el7euYqGck0d3vfi9hWntyyZSuDQ9iVTcZwgzYecHyVJvR+db9awLoWXXdrpzxs3ePnUkd3at6Kxsu1aNIl2ug4HIhHcOLZZnrVwsHFn6uJbT7f2sF5GQ3sajerb9aXw7tW9awf16EQpQMuhcl3a6Y/o02VIT8NxA4yjnW/iWNesQKc8zh7KYUuXWaO2LWePGUitbWDhN+5sc24npQXq1bndzFEDqIlSabSPF6ZCEkVbnOxGnZnLly/XuU2LZVNG7Fs5e8XUkdT7N8/3G1zQk2WwXDx3pz2FENowZzxEXXpa40iXl6L77Vo0geDhQT1xCDvLzx66PoKL40VfBWMMHtO2+TL3y5AEGDxWgp1VNB6DzSnYOd3XfmB3CMOF496kz2piwfX9p9+BNTfGldItVKpYAYgK1PTa4lSPeL+4TB/RL49Az3TXaghxVteQSqttMCvQ6aO3Ld1XGtfXi2HdKJSsjMFj2ubSV/EYqJIJop1LgSejbp1aduf3eD0853HvDP34Wl6g1GEVKpD4h2RgeMcx/Cina5/D5dXI1jSGIozbb8VjxBZEiTHyElLfOgioACskvOuHqd4JYIDMVtCxXnkEWl1eOX1Uq2YNqf8b1fPo/4ZtW/7+XXiMkCg4jO4HjItdDVr9AeyFX5CnQ7siXOihdb+uHeBbcr7DMtlPXw2WqHzEAqtNND/K6TplCPwOPKbUeBTiSKfrQ3p+5lfs2l7fdNcq8OYleYehVhp4LMIFQvKCnacNh4nfXr+px73TOYGOOYGOIbamVOXtbWiQ7m2bE+gEI0ENj93cv161KtJ+dLwE8WAAsS7t/QKqKSSH181Tw2McnCCmZrrqVau43z2t4a0HszVRdmAN0N/VrF4VjADRrgXxWBZEjdr2NgKz7aTBvXKCIUECHWAg0hC2Rj7on2kfI1B25XSIx+vftQMJ1LHHSbIzW5eCxCqUB5/eL5L4Qa6/9XPGE3tjuUNr52YHOAF4iHR5Kb7/6xJwEk7i34YzkXAODmWP6NMV6CJ6d8FBzjiEnRvsjKMg4gjLxa438/HYyV8AGiVKOFcO0kF4dMMCnARp/WD8eIPWbrp7NQUkYJ958TSObTasl5HprlVvZA/h7TECHAeWXrrR6NauCZn6InlgfA7n/u1lQw8gFk8aBgGZwc5QjRhXyDyukFAtv0qlSuCyKAclHiskEovj1Uk03aAenaOcrgPqjnTBcYJY1g1qHc0D5GCNee6e6m1D8VjPTuCZiRCqWqXyiU2LYExG83OCnLYthEjOPIx0astiDW4hjTVHNUKAKoNY3qjx7YOnNS0c0HscCQRNEOFontudk0/vnQHY5msH500+tpSRRbd2TUhcEcKCOsfwswIcdiydTu1XM0cOwJEuINJwNrgOhrKNSbUnDekN4gp2xsEsOJUAkbp+MWtiXUFoYBUEFJoT5DRhcC/arvLly+9dOQsGdqzgwzMrFSUstdGZ7FqVHeiIYwUpgjt02dHTqQWehDECOJNSSBwv7p0wqKft+V10tQES1ARRuMOVVs2AUrVnZ7BC5wSz4OwpgkuNctWqVBaYHcXJbjhBtIEMRT2dWoHWJgDSiG5QdMy2uthhfWDsY9r2YOZ+WZAAg8dKsJeKxmOwWyS5UT7cXobtMnzBKa4028dgzY0Tjh0A9Hf/Y+864JuqvvArpWVvQZaAoDIFRJAhAoIMEVCQoaAIyBAEWTIF2SAUEATZu0Bpk860TdukSVsKbdK992QqoH+ku7T3z7k3faRpUgo0aVIOv/z4pS/v3Xfvd9843z3nfKdhvToRwj8gB6y0U0L9+ajxHcZ7y//YRsif6diW5nhE6KU4psZ5X/7P/GDH3CAh42M93mr38NoV9I89121TPh/LDbIvCnV66G/TpQNoD6pHyzArgVlv7Duslyd6QllhWmSJyRgu/vozCAfScSkyO/65/GNgT4S7/ON3mYWiTRjWH3I2kryWzoAQxC4d2jzwvUQiqH5GuizgglVbqshXu5blpx/2mTdp9JO4yk0/fM2inl6YjwEsYc7jqaxIz3c6/ON3mZS+XyAPM0rEIjwHvNu5OFzvfIxqWkIWWX6wg/WOFaMGvle7RIJ/wrD+eUGggMcss1LxijHujwJsyS3/fT/PYZNYv27twe91HfJ+d1YkoEnDerJT20km1PuGQVUOH4N4RZbtVqe2JQSwlS4QDIZsqmz93Ck0NbF2tMNh7Xws1OnRdZXDZOzgvkVq1beMio9BZ6JEt6Xn21Exko3zp0HwZ4AdiRdHCQ/Vrwu6LwsmjyFJXrmUGsH+MeJk1xPsDvr0w/fB4g8HNQ6YgljS7uycAAAgAElEQVQ3Eu+R5naCXXKFYY5FYY48H8sPti8Od8oPsc9V2sPOGnwsTVYc6vyv/2UWBDH4va55SiGtryAEWh4pGku9MQN6ds5RCB6Hgp7N41BnkiqDYgkKULNkLhS2rKByhFJhVRLl9PCazVM+FuteEAzaIbQbsAqgwceApMV7TBn5Ibyw6tcNtztA7lzLDQTZUngZ3fSPdfyTuX0+/qBnfrB9YbBjcTj4xxhlsqhpDr7c2/7FYc6wf6LnXfkF5hr6bEi/YjVmXpFXDAAeK05zP8WeFaAW+Ffgo2s24PmhyvjUOUaDojOeRgUD8fs7IE8Jfc5RCIvDgQ59PgzCCxvUqxN4cS9JhNDfx2FQCeApH4sWFYZCUXXIaAUOLGeqNjXYKkamPC9IQH8F7qfOx6CyxQ1fkHIJsCM3ff3O7mIBC7UsLU5tXkLuKQqDHOCi+vs6H7d8ZfcqVXotzWUASZUbvo8hxIBO5bUrJFOlQNvytSbJUJxaxeFDrxxo3qQRq9RHYsWyUzvYwwRy7TJ9KuIQ04Ad+dhzvZRxZyNEAPmYHielHD4Gz4402bXze1g6x7mtS+n6XKngfo3HTdX+Cdm6ND+eBedAfd6IUokB5XcPYmPiPBJFx9jbaNdPM9VzeMo/tmp/pTp+HrElagSrdWuFg4WX5v34rxQ9XlKm2XT5fAyWnzN9HA/8wopQtWjaqM3rzVo3b6r+afP6aywNpn2rFn/LrUFAAqo2n2IkGSTFIO//qWwALMaXiGEyPuYGcVwgiw+uLTW/LvxaJl6RJx6MgDVpWD/B5Vh2oB1Ljfhp+jiS6p0VaMfSdZgYfYfWr/ud3QWehDgxSZOTe0qWaaaLjwXb7KcZmKo+l41XhIS0RE+2ZtyuVfNMr7OsIjO7HViy0L/+Nu+0hwifzyljZAFR+vOPsVOD6CKt0kYiRdcv7Bk58D3GsvYsn03SZEwAoxQfi3Yj0W7MEq1laTHjs6F8vFOLZo2njBocdHkfuX1N5UKpRD6WLrPfx2S+SznTSp4n4PSY/QXUnWvTohkIKsS4l/WPgfJHjNuIAeAa+qDH2/nB9o9DHHmlOBLm8r/rV3pT6cWqjVekZrcvS7+pZWkBV1ecZ3agXUGQAwlzHk3nqH2r5ne9z5MoWAVjLyDeqr64c4W6mHiOUgiJXjEgtpEbBEN+HKrGx4LsWSFs6jLVwscgryldxmR4LC1qggRFEqj/kzhxvNORRvVBEHXroun0FQB18wpC7LMCIAUR/DmJnvC5rwwT/mFJU9pOb/mJZEKhi+II53/91fhYjHse1LWDuHE2nFJ8LEVKotzSxadY7CUUrogXAxkricLIUYKS5wxas6t+3TrxzkdIvLgozJnnY58N6UvixPkh8CShzj07kuA5YywUxujX452H12w1/NUl15VmHHvJDQvJabx/7KM+3W9JzpGbfiTajQnTs5VNkMuKcWf5ipTAHCcxT59sgOENX3ZVPyGZ+1fNZW46GvmvxsciRfnBQMZUyKTLS/nH0lVl8djM8nysb7e38oLtQbCKamY+DnP+96pNq+YQ1fnlJ4Og9gMVsaTE0j3a/nATGr9qtXI2SfHmI4ELQoRZAXYwCnDoeYKL7GHoic0gI1TL0iLc7iCLyQR+m+m7Y4lKC2fb4hkjaSDAoN5d4IX7QgvTcA2gf8w0LQTsNUMA+Zger4Ry+Fh+sCOJcJk0YhDHcd07tYO05jBVMJKqTErJYr96oRINZ5R6xRiNn/h3g0Y5EQ2bld+NZZiUKhtS0gG2D3sTsGT6hvXqQnJCaul8jJL3nHqbT79DuJQnyy1u3bxpqvtT3S22usl3rFSVmNJ9KAeKpyeihnipgZQo7arvo/5dvdmyFWZg4CnS5d9MoI6RtiDpRg0a9RbYd+Rjuu6l8vkYZPLEe7I4qzYtmgVf3v+3/MItyVn1zz9XL6/7HqQUn1S+Atvxhm+u0r4wxImtDnTu0Obh9StFoQ7UkgD7Cd73SZDZwu4Rki73OKoKNRTuW0sywLwDwsYsOW18DN7uKTL5qR3MX3dq8xLp8W0sHFF+aidJkcEpUr19z6iWkH9b+h25ez1fCU4AkCNL8Fo6A66ZUnwsXc4rHMLadoInK+IEsqVa9DxAnGMble8zM+MkNKqH1X3OZfJr6XK/M7uYGMbOn74Filiir8iAqvR4RWY6MxdKiY7l1QdXLzOlBCgAEOMOKoUa8YpRriRNxiQKB/fpRlKl9/0uRQj+CLc7eNPrLMRNJUse0XrWKvu+Uvxj0W4kSRpgbcWgWD93CvMX8UZqcajzf9dtWbTkiP69ikKdgGSW0bvPonoeX38KWXyNG9SjSbNu2WCwUgW8JK/b3uffbAPhWFXLx/KCgD5NpDoZw/q9S1H1hKWBaFdyP+DP9T8wHC7tWsl4F3tYrf8e3IPm5jUiBAfLFltn7xStfAzEDFVESAsfg1sjWeJ/bndNWgwAygBm+MBNkeFzaN0Cli4ItfviIeczB+TyHUBIPdot0/NMqO0BKt645diGRezaZqUv4Dlcho/B7aaLj1Hhfr+zu9g9e3DNPPXC7pRfQRjzb0u/Yz55EL9JlT5W42OQkwnERhWeCoily3/86rMnyQXdOr5xz/ciiXy++A4YQrp8z3IIH2UV261WzE5zPwkZd1Rrnt5fjgUhDn26dmRBpyTaTT2kH7gKrY7YiKryLP5qHIn3yFNAiYVCdf9YpGt+sIoWwnOsDB9j9EmDj330XrdchfBxGKRGs5iFrAA7doPMHDcc3Mu8ZzXWLdn1OPOsgiAK5MHCUjIwapBa9Xkc6pTkelx5eZ/n0S3SE9tWfjeRZpzWDLU9wPgYkDq6vDuQ1sBgc1S7loXX8S3k5lUN1Zmyr1qtW5CP6Xr/4nZTQQD5mB5nShcfo7Eirje8zrBgiY/6dMsNEhZRiQgI/4gWQbJKolcOBG9AnoyqKku6nMS4q1aR4T0keFqZJEPOoqc0nlMQyRDiCKVFoOQOlUZIkUBtnJLXGL8/nCjOHc4L5VmkcEiCV15JqU26m0NxhMug3lBBaNuP35BMv4pHFOQG2ReHOWUF2jFVpS5vtv3bx5pFwtCoeic4b7JEZUbHiOHsrG5JvJiNF1TyaGEiSE5gBVuiXbNKa4UxYw6M+wSvkoHQWjopMhqRX8p5wgZOm2X7Q0kiGHsGAxlWbVUqCDHidI9TrzdrbGZm5rB/Pbl7XdfbAvmYrnupHD4G90KE6Kb0bOvmTTmOmzzyQ5IiASXxaNenn0gXctM39MrvzD6bNnowrBkroTIP819xHAfhNA9DSITocbgjrLLf9gu6vF98ZDNYmaDcAPp+zBcNkUK3/UGjJVGiqpeljY/lQvywY65S2JdKOI4f2o9pP/Tr/nZOIPiKwfhI85Yc38Zk3yDT6ZZ/1vUrQIqSJSTC+dPBIAKhwcecDvzCVAFAcf7utULajYJQR1hRLqt3nyLxOraVhQzBEnWiF0kQ5wUJCoMhbIkkeU4bPZjjuBZNG8U6HSHxHmAHq+l5VDofA59JhAuMLh66kR1gl6e0J4menw4GPQDwJ8S6g1tPg49FupJUb2b4dmzbUnpi279XbQpCHKAdGBFdRE+V5ilAdKTS4hXB2eXyl+wCizjt2LZlpsdpcudqQYg9RM1FuJJ/lCyR6Unt7DNbl5Ib8EDTwseoyuXZrUuZDb1jybfkbkBRmH1hKJRpKgx1mjIKwuGqlo/BvRDnHu98lMV/rvj28xueZxKcjiQ4H0lwOpLiesL75DZWqm7SiEEkzh0KWFFn/oLJY1gsX7r4JIlRiYXyLwXVM1Cbf6x8PsZqVeUFqSrOfdDjnawAaqlHuLCgx1ED32PhFdBzSGRytfnt508Hv1/PspZFTXONiOWTm5awYIrn42NJ8BZw/3MTmx3bPav4REQ2LkZUzlIJkCf3qXDvWpIuU+dj8CyKFPHpggwxlm7X9YX4WC5o2MBlv2HeVBZBynFcy2aNF075FHKS717PCrArDHXKUQiYT2/ySLjleddTyfvIPd1D5fSbNQGUSPKDHSuFj334XtdshcoOYXwsWyFgzn+ovl1Cuph/LKkMH4PnYYr3A79LB9fM69vjbUsLCw3FTkuLmkDCqWaJKgDh1lXXQ7/yuppzvviEpMsfUT1YjYuwIn8iH9P1/sXtpoIA8jE9zlR5fCxWnOp2kllaQ97vnqsUUD4mJBHOf/tclJ7YFm77Bwt8inE4fOLXH7cumnH5t5+hNO1tKN1DoiEjOfDi3n0/z/l1wVcCqzWgGXADdA74JxeYF2nyvCB7nzM7T25asmHe1AOr5wVC9RI3ugam4ieg80vrNaW4nxTsXbNzybdbFk2/uHMF1JZJlJAIkcrDUBLUPvT97oWhDoVqOl38GXV9oXwM4kBaUkmrrm+2vecDxYtylMJimsEvO7UDyulGu5IbV5PdTpzbtmzLwunnti2LdzlKbvrlBNgVhzmTNFm43cFD6xZsmD/NeseKm5KzAIXaeOnqo4xEu0YKD9lZrd7108x1cybvWznH//xuMP5owIx6D+HxHe5CUqQRgj/Ob1++eeHXu5bOtN+3DiKX0n3Yyw/eMcmS1bOhns8PU8aAS7AMleXbRD6m614qh4/BrGX68nJbl3/7mYqeQ74E/4EVdJp3zmQkmjVukOx6HEhXklfQZRXLavVa00u7fr7vcykrwC5NfHL3MlAB/WrMEGAIkGflluFxmsXKfti7602vM7lKYZT94VwFjcvSxsdUFkOGD1OJsLCoyeJztpTEWbFVlUzPM0wNfFjfHqCjmA71UlPcTzCmVIqPUUG/oMv7mUDcpBED/71qkxUggOI8EWD2afAxWBcHcXARn20/78vRzKFUEOyQ7Hacr8S1Yf5U6vSgKmd642OFoY7FYc7DPnh3/dwpKa4nQBchCYiZ4/71jOhuXjidpHvD00mDj0W5kQQvxcW9zRo1pBoJFm1aNOvcvu2AdzsPeLfzxBED18z+8irV24Cy0aX1FV9czyOWVvrO9GE8kOO4gT27KC/tLQpzIhEud+XnD69fwLr9UZ/uhaFOhdS5CnxMWqYedJTonu9FJjfXuEE9O6s1BbSwcpjt7yyZlhmUVegfYzfRgVVzGfdoWA9KBaj/a9KwHnNBNG3UAEz/WHdIEEqVsWjYBvXqgJem8vgYXUkEt4yq7JWZmf+538gtv0j7Q0wDENZEaM0JWFmIFH07DqqxMx3RTz/s8/3EkRvnT5v/5WgmI/EyfMztsIqPgWMwvVSBB3j+p8n4ks3OB38hGXK98jH2TmEFlwOs98z+4hMWDchx3Buvv+Z9Yhu54ZsX7JCtUGlHQRh2Aiwn8a8Y+sxxT3M/yeK0504aRWLd8yGJrhL8Yxp8rDjUKUsh6N0FyqA/k4+BsRHnccPzTH+qfGNuXqPrm298MXzAomljN/3w9fihoBdiWbMUH4N1q1tXD64BtUn2b0DPzpBoGl5KtYgf+zO/IB/T9f7F7aaCAPIxPc6UTj5GBQwehzotnT7+kwG99q6cQ5KhWAo8UEpK4g7r2yM/yH7j/GmNG0C0PfvXvlVz+/1rSVb4o+u2P0wZw0q+sJ/6dO0ULjjIy6kBkbjhq7y8f8j73dWXG81r1Pjms2HFYc4FtPYXywojyV5HflnI6/+yBhvWq7tw6qcQVxnjSp90Hj9/N/Gzj/pGCv4gac+ti0gl48Ub5k0Z0b/nL3OnkgTPfFYYKtPnAi0a0/XNtv/4Xd6/6vvXmzZWjRYKQTYEabsHChLusvb7yfXq1OJ/eqtda/nJ7XwNTVhnTfP2PbtrzOD361OlbH7PmubmI/r3ggjJJE8+KhJGFOdRGOq4ZvaXGsVbWr3WhMpneedTt15ekH3vLu2/HTcMssx1VB5jrwrkY7rupXL4WEGIY3GEywSaod729dcyvU7zRb3UX8DM4uTrq/5OEyeo0rrPnhWzWGJYTXPzt9q1eq9LR/4SgtTwJPC7wnTHe343AfTrWTnj96nG95U9q8AZm+j1zThIC+nRqX0+lKUqiVCi0UFhtgfq1LZkB9atUwtSIOI9VbRcIXwSc7iKRuOwAKRZE0ZMGjGQRfIwjenundoxvXuqd+dYGOL4yQCQTKT7t+r1Dpg7V8/9Bo7fCOdh/d7lOA68B3FiGnML4haJLsf40kltX2/2UZ/uH7z7TvOmkArPcdzoQX0eBaqMGBhmhtzpICjCP0mUl57Yxj8Q4AYBRcojLeiBL6CvWAgRffYsvuj1Zo2H9u0x9qP3h7zfnd0+XTu9kS6GuWN6Hkx6vknD+lAROEb83/Ur5B/lISqsx0p7a9SSql3LAvS+4z3B4kzyCrM7yBwIR39ZyLs1YHTpcof9oK9Yo0YNh/3reAsbfkqTMW0kS4uaoHcPYo9C8GJFiaaOAi8icwT1f/edj/p0a9+6BeMnHVq/DoWSqdArM3Zvep1lOuNQMSlNlkNlCUim77ltS5mLqW7tWu916di321uMWnzx8QAWJVhVfAxqqQWDSt4Qqmtfv07tpmqvDDZwVmuLfYfIvUxfRpt3/gTl181r1ICrOq7kqi6JPFePansc6jj8g55MXzE/GAR4yolXhEsX7h2QEmlAn8arZ08i/wb/vhoYY/MmjaD0cAwEOJA02aF1ILfIcdwTpft//C6pXKa3/WMc/2TXQGk+pgqOpSL17s+MV5Sd3MEaZwxQndtAYG2GD2OMNc1rKC+BLr96/lil+8fYA02lJkLDVdI9Tv0yd2qdWvBeAw1VfxsSIcoLsmcV5D7s3RWYs1oYCCwtJXhECv9gyPw6fxpJlkLkcFXzsVylPYlxnzkeHrD169Y5u3UprIEy7/c/CpbWaKHGx6gzTRou+IM9jvp1f5s9EDYu+OrFxDxUmXKYP6brHYzbTQEB5GN6nCVdfIyuk9kXhPLlNUAiSfVAKVla7t35zXFUhbZls8aTPhnYu3NHtgrbqnlTr+NbmQp2x7Ytvxw5qGtHUKV7uhIfBfm4JEJ0y/scU7h6q12rdXMmb100fd6kUa2bQ0mTv+UXmHsKSgDFecz/EqJWzMzMBr/XbdWsieu/n/Jxv55MXGHqqMEkyjU/GDJzSDwtpRILtXHVbeUKfgdzJ9ELyomURCwwA+vsViga07FtS2Y2NWlY//OP+/d/tzNL5q5ft47zwQ3Taf5GmxbNJo4Y+F6XjqxvbVs0SxYdhyQEBVQO+NffhsktNG/SaNyQfj/P/GLZjAl8CctxQ/rxAiTQk2jRg6s2zDKuXcty3JB+G+ZNXf7N5707Q+A+x3GbfviaVaeFGK1YN4iqinTm6ZzWISMf03Uv6eJjdCLcbknOtWvZXBXxlSRRtz94nMG8i3NPcD7KfFygdh3jSnUvodjr8Y0/vt2uNV84taa5ece2La1WzCax7kWhoL4AJ4p1u+N9/tPBfWpZWoCsBxXWhzTIRIiaWzgVVL8H9+5aGALBP+y8zNIlES4Thw+oaW5e09x84oiBBHIzHFQ7QAFZEYkSrfxuonrN3Patmh/bsMjj6Jb6dev0eLv9v/42LNUELtQUSaTw0MBeXXhC0umNlnAZx4pJpCvTgIZy2CXr4pSI+qSJT83+/JPmTRqxMkocx7ExbvtxBr0+PZihSfkYVM6tX7dOvTq1welUkuRJEfBIdjvBKvxAXa8SKXwe5PK/QAsp3u6Hfx3Yqwtz7FMUQedt+qdDEpyPgUBiIK3ynCbbu3JOjRo12rVsDqIF0SKSJA27coBFYf04bWy43cEAayu3Pze5Hd50cvOSwe91ZU2B7HiGD4l1j3E43LxpI/MaNc7TLSWjE7KSA7VrWdS1tBQf2USHQLUWKB/bt3JOTXPzhvVqAwmkpRHhsol0JeEu2xd/26ltSx5zM7rWM/vzTxJEx8ita8zNDgOMcf1LdqFbpzdoVPYMpmGQx7L17ivs9q5p37oFv7zVvGmjNXO+JAkeq2ZBesySr8cx/lY+jBq/wkMjWVr0IFPXvQPbiwrzw91IDBQ31zicBWmTZIni0l42KWvnfPnvVZtbknO31T5/ya2DLu9nDt5hfd8l4c45SnuSJmNrYar64DdV4RW5NBEIrqtMX6rbAe6X4jDnUVQUZGjfHnk0gpG5r+GSLqOvyOYLWoh0YW+x97p0zFMKP6GK+V9/OoTEivNYoa048ehBoAfTuUOb/BAHEueeFWgHuoix7rwspDofe3j9So+3oHbljM+GgtwIeNF16CumSEmcOy2JASsXcNJEz5xAO0YjWedJrJjdcZ3eaPW33JpEiYrU9BX1xMcKqJx9jkIAPqUoN3L3+m+UFderU9v/3G4are365SdQGaLVa01SYWXBnX/hwiE3r7Is7ieZ51Cw+4bvs/lYhtz10EamUgvZs1RKniIASi28nsfL+MdIuMtfcus2LSDm/KsxH5FMn0IqsUiVXeSswzwfy1YIwPCIdWMVGt9u3/q29NwXH0OJ8MYN6gVa732BBV/kY+U9QPA3E0EA+ZgeJ6ocPsZeq3xlEtWf1KrYtngGs044jhv7UV9w7CR4FIc5MWlmSIam4sXfTxx53+cSSfDIVzrM/mIkO+T89uVU4gxSOA7TzOnXGjcMsz0I9T2SvEii5y3pWTurtVBsMdQJTL0bfkxgoKZ5jd3LZ0Eof5IXhCFFiX6ZO7WkzWXsoc/UjbXaBGWtBK1b2Hj5kL8SPqbKzYCYol5dIHwrzoNEuR5YM49l2rC1wInDB2SKT8NPES7raBr6k9in35bNIilQqKSIShL3eKvDrwumsdgbyLtL8ioMcZwzUQUOpNPQkBUahSj9aTpolzdt1ABeUSyJJUXy8Lrtl5+AyEqDenWCbPbToHl45TOhCK2D4jciH9N1L+niYww6EusWdHm//PTOrAC74ggthbbZbpTMSGMc/vQ+uT3V7SRVVQGiBdG2Gb7/+F+WHN96adfKS7tWQoaSvw1oXYZAAhg7HCY93vNxqJP/ud22Vquv7F4V63AY1MkgbNX5nq+19MQ2CIMsHbUFNnqU6OF1W98zu+Snd/7v6hUSXSqJP1cJGRckRRrr+KfzwV8u7lzhcnDDfZ+LIBsd53H1/G56PT+t8w43XSpogchP7bDZvUqwdw3Ex9IsERLlmi4+LT2x7Zb0HATtlLgp4JBYMUn0Shefdti/jo1RfGTzP/6XSRpkvKiv+ucHQ8b/tfO7magd70BQJZ8keITbHvQ5vbMg1OEFSrEDVhm+haGOgdZWNrtXXdy10vngBnDLx4tJPJRyZlAXgvPEQX5qB1WJ8ACpiUgRi1liiUMkzRueMyxb9a+ATM/TTHFx1ucjSKInTGi8V9Dl/aBXGeHC02OmdqAa3QUrEu8JyWAlKDEi7XtmZ7DN7yTWnUePFXQiqbJ//S97Hdt6cSdcIUIWlpzo+YRNZavFPMN0x3tECg/JT+3IVggf0yACdgpqCvvd9b7gsH/dxZ0rBXvXQm2uVCmJcb/vd0l+asdd+QWi++rl+6nx5eX5GFweabIN86cxnQyY95t+kOYX5ar6RLpCfHu8mCm/165FazQnepF4cajtAebeHNG/F9DmOM/8YAcIqMvwIRHOgr1rshR2BGoYCEiy11SarNjjrfY5SgGJdC2OcGJqE7r4GByV4XOMluS2tKj5x9r5bM0CYpJv+NLaBqC4yNxufbp2gqLMNGgCjPX/hdjuWc2oL+NjKndxtCtbYmM+5Hy4tJxJlIiBoKGvCE6bCBfmc25Uv26oze/k78DCYId8eCxALXK/syo5HIhFT4RKAOr1xyqdj8HVFe0OL9k0qBiRoxRmB9iS29c8j25hdfM8jm6GTO9Ub96TvPOnmeSvABLGqt45UEvAeVBvWL/o2LblX7ILxbQGRrn+MSFJkgRd3sfe5iCOcscf0j5j3QtDAYrK4mN3ZBeYswvKKtzyzQmwo3g6P8k4YIUl+XhFIGm3/U+XZO6d2rSEZIUFXLBiIiVjBvUhkS6FIQ5MekfjfinnTzAn0D+m6x2M200BAeRjepylZ/IxjYcLPFDSZDwfGzP4fbaKCbH+ce6gbU2r13McN3/yaOprotnzKZIE0XEW1ggZsckSFovC5Ib7dO2UF+JYHOr4iAkKR4pIpg9dVoTaI7lKIauS9MVwCFUvDHZ4FGALj8sI0aPrtj3eakclFgappzVr9Pll/tTgY/16vH3b+zx7lEPCWIRoUC/VwvnE4QOghGUSLHCSGPd/rtp0aA2aZiC7T6Ud8qBYkxNYfskSEiPO5evYpHorL+1jjO7Er4tJGsiUkxj3BJdjrPgJFOq5cz37Gsgw/HftCknzjrA7yMCESqYpUnVjt/zBIh/TdS+Vz8fANgItRG9KxrR4AHjYqZfMA6z5WDeeaDFdr+JwJwj5y/CBT6qM5SXyRjlrAfLQQhxhBTrTBz6xIO+mIiqRLmAJxWqRNADJmTDaeKq3ViFmKPKjEJBYDxCDgQ7Ii2lpsgIluA5YDB4/BLaOC9WTQTzGBxZKoiGRUtWNWDfoRpRqC38UCM9A9WdX4DBsjOny4nAogKaOg8rxHmIP502SagxfdYpET2CqoU4aB/LnKv8LiN2HOIIieSaFOl1OEjzyFKCSxx8IiIU6wTQlUjGVWI9U9xMs42XP8lnk5tX/6O2WFWAHj5owx2yFgDk94LFGHaRgudJLAqhdqZZBG52OzquAWtVaTprkqWHJMYcP0GYevQxfEgVuB/XGWVNwagYRCM09HZRKPi5CpJrlTDmJdFWRikgQkGQRB3x/KvjlJfkYU53JDhQwzf3+775TEOLAFJuYC4j9D0GkEHK5jBnlvy74irkWSawbY1kcx/383cS/5dZPQrhzlUL/c79NoIXvoIBygge8gNK8f1ap5Jnb71tHYtz/vWpzU3IW9KJ0+Mco/XBNcz/ZohmEoLdtAaEZ7Vu3uCu7wMSc4PmfJGFFluvWruXyx0ZYCkzyIhEu1jtX8A5nNT4GBaz5MIrr53eTaLd7Phfvyi4UhjiWrT8GGWBj6wcAACAASURBVEo3fWx2r2K8rlvHN3xO74ReRYJP2/Po5o5vtOQ47vVmjakOO0Sp6I+PwXJSmszl4IYpIwdfO7cbHimxYnCDBwrYiNo0bwYridGuUEfO+3yXDm0g2dLS8vdVc//1v1wU7kyi3W54npk8EpYLn6wY7vt5DsvBY+sUhaFOT+uPqesr0sDRJNHxpg0bcBw3bki/RwF2xeHO6R6nwIEZ5lwpfKwQRMLsh74PZeLfatcqwfkovIhpXe9f5k1l66oqPY8EkP1ME5/q9EYrjuPGfAjsKz9I+ET9cvXsSWxoxzYuIrf9+PWdit5KyMd0vYBxu4kggHxMjxP1MnzM3LwGrKzTmp5gV4EWsxt7cHds8zqoridAZDkoZQc7FAQ79KH5MCA5HecBJYDS5XuWga5uLQsL650r6FI0yNOzgCI+yiXwohUTQRLuX0dyIqAoZ6YvfFK9yT/BP0z9lMW1/3fdthzHRQUfl2V30+BjkuPbmMaUyvRJ8GIVnJo1ahBjfxj8fnQlm9q+YiZe16dLJyiDW2I2FYaCiiMwrjBn6h+TkFv+/1y93IaaAmCFJEvgJZ3py7yCdWvXihcdJw+UgA8beLqcpHkPpAuQoAYR71F+jKL6oJCP6bqXyudjcDVSYT0NM1odW/47k+DjZ1xtO/gw+ToHZakIvye/m3ojJS7QUvY3fwiVxQfpv3KaVa/TwLfMKvnw7fBfShqE6D5+Z8aXdB1S8iscwj7qB/Itsy8wxpKbQuMnBqDGxuf9s1SJCG0nYgNkZIDEuN6RnX+nPdiX44b0y6W2l+p2SwMd18PrfmARpBe2L+dLw7FLQmvHdI1Ohaq2/jCmykOnAbvGWcqBSOsss/3LmQ6N9tX/fEk+xh6hnse2sBRKqOtIo9HUT6Hi4RGiW9Lz7EnY850OWQG2haGg0hnj+CersGxmZtaiaeNBvbt2fbMtq/XX9vVmN7zOMlFfkiTxLSmu0KBenaF9e7zVrtWH73WDgIUUqcfRLSyc3noHBGg8XcOiUe6sxhcztX+gNalV8fnAuqWB1nub0kpWjRvUmzr6o+XffD7k/e4sgvENWmad6d2zuSPp8iu7V7OmXmvc8OMPer7R8rXvvxhJUrxJipS5XCwtaspObiepqqJYJEHy09cQCkG1ZCzfad964vABQ9/vwcRa69etA/Uz7vhnB9oBVYsQPbx2hRGbyZ+UWohkj3emr9jlzbbPq3cPM5Uhv/TbzxzH1allOeT97vMmjZ7/5ejudNHTzMwMUjppHQ7w9d2+5nJwQ2NaqK1GjRqtmjf9ZECvCUM/4HO8IVkxTgwsiPqHwT8W4vB+t05wiw3tBwxHzXVMZYFcJ9O62BzHdX2z7ZC+QJygSHqGT2GoI6vQ/WHvrtkKqKnI9O5BzyNQwAqKzNDQV4xzTxKp9O5/oXr3EGKaLjv5K9QZeyJY2q5V87mTRi3+ehwL/e3X/W3mhgW9+0RPEucxZ+InLNMMUmfTofoziXK752vNLsUOrVskuUIK6HPdU4Aw+sd0vYNxuykggHxMj7P0MnzMoqZ5Mo0dVz2SQJzNiymqvftW+wd+l3kZIharwHSEP+rTnUS4wPM3xj3e6Uj7Vi3g6V/bcu6kURCbHiUiN/xYTUz6Ivdh9UAtLWpunD/t0q6V57cv4z82u3/+4uP+HMe91qQhrGhGas9e0HjxP9efzJjgtaSvW+/hRXXhpxQpSzdv06IZhNFHq3wX1EkinvEZCDB07tAmK9DuMXjGoGRKLg3dIYme9/0uRzsc9ju7y/PYZvv965grbO2cyazSEUmSMOdh8yaN/lg733rnCn7U57cvs96xgpHbQb26qNfifObQkI/pupeeyceeiS3uYLoI0Gg3yWJauInpHP62bJb1juUXdizfu3LOuCEfsLSuySM/LA534U1M0x3vc/W8EvhYinQjDVZs0rB+yJXfSSII2JTtAyxjJUp+mAKpwnVqW0JYY6o3NaN9bkrOfjVmiLo6VN3atSYM6w+atyX5h3lB9vBAXvJtw3p1mc3NcRyEYyR6kRSp/PQOlr1pu2e1epkvOOkNX+eDG1QFpiwtgCml+fCEDRx3f123s1rDYjFYyzXNzb8YPuCO7AKrEXxu21Km6aLK54wVL/tmgnoGI+T6pklJmuzSrpXUp2RBMydBIgsoVrgLifc4sGpu1zchLZD/V8vCYuTA3tCfv66XJBDaF4c7ZSsELCQSUs6i3fhwWZipdNmS6eM4juv5dgcQNH6edyIje//42Xzz2TB1jS5wKL3RCkRWbvjyswb85H6g7OSOUQPfUx8px3HvtG9zYPU8EiOGws0lEw1O4whn1m0ojBHlWkCLQbMG4WWaBJHeTIyHIdC4QT1Qn0+RsvxYjuOG9u2Rr7RX52O5SkG/Hm+rJrokVAQGEg2a+69Tt+fWH6eTFCkQ7GAHkiLbvew7VrmEnaV+3TqrZ3+Z7nGqbl3QLIkQ/EHuBcpObWfXw+pZk0i6LIctswbakdv+1jtWsJ+WzpjAGwM8LOV/gWEiH9P1DsbtpoAA8jE9ztJL8rEk0XESp1oighdbktfir6EYZY9O7dQX50rzsW5MtQLec3euSY5ve6d9a/ZkrFvL8pMBvaDqUbL0Mc21JSnS/T9/z7+fdH1p2azJX3KQp3+uxaryH51P3xPpcp6P0RrTqkVNeLamyljpzNbNmwIUJatlGnzsUaCdKvgK3gfe3ie2zZowomnDBrUsLPjCJmxo674HPkaVoFxnjlcpLOsaNcdxQ/p0h/q2Ci3GjdbRIR/TdS8hH9N6wbwiG1lMHYl2Wzh1LIsc1rjpGtWvu2DKGJC6jvPgTcxXBJyX5GN5QfbFES63vM4FWFtF2x+C+OoSG10DQJpM5fww4Eqg9d6gy/sLQx1ZAiGw5QQPEu2qvLTPeueKA6vnCveuBbsZqnhDdiVrBx7+wQ4kzTvW8YjD/nVHf1kkPrKZKlg6QfxqtFuwzX7lpX2FYU4aeYlQWC9REm53MNB6b5TwEEnS7CFwj1tX/7l6WX56x5ktP53duhRKpUNcqG+SyzHFxb35QUK+TUjXhHBZr3C7g1d2rz6x8UfZqe0k3Lkg2KEg1LEoxFF5aR+Q0ijXpzyKVssgmb73fS/5nNl5YcfyQ2sX2FmtCbb5HWLgM30ZHygZpj2JcUt0PhpgbXXD6wyJcuGd9hRApzve5wOsrWIdj5AYt3K85Rrgsz8hZDHGlcR5JDgfFR3aePSXhWe3LvU5vfMv2QVyw4+5MfkDAZZMn6IwlzDbA4K9aw6tXXBhx3Lvk9vv+0FuaiFNP+N3hr5FuyeKjgZcsIK0xqin2adsH7AHUmWPAux8Tu86uWnxxZ0rIoV/sNRrVgskwNoKXrLRbvx4gYFHuyVQKECVJ8xZfbxPio9HCP4ItLb69+rlojBnvvMkwyfd47T4yObjGxfZ/LYqxuFPKOyZABdA6JXfIVI0wuXBVZtAa6ugy/uLw50haaIkBZSWVGWXilWi6DiJhGYr/kE+puv9i9tNBQHkY3qcqUrkY3SJy4utMVeEj6k0wW75/yWz3vfz9+916chiuM3NayybMYGF4ZEU6e7lENNoYVFz1oQRG+dNW//9FI3P2jmTRX9soDSmorTk+R6g5fExb9a9CvExkEmQbpz/FVtda96k4cf93p0xdtjaOZOXf/M5W9NV8bEgexLlOn3sUI7jmjSsv3TGhA1zp2qMet2cyRvmTQ2y2UfiPCrOQpGP6bqXkI9V/KaolnvCGkq4C0kCY+v89mU7Fn+z5Otx878cvXH+tHPblkY7HIasoWioq1Eth1/OoF6ej4G/IsoVHB0J2j1j/NlhFiKcYc8UiXpiXg6rwpcsgdoPqd4QvJ3glQeauprTAeQtXgw70A+rmckKOUC+UIoUdPBLE0IWUQ+/JktIghevTcr3SlXoj2X3pckgEy9ZUhjsAIQkHoIhi0Al5enbB8x36gnhe8vqtucqgbbB6JIlNLew1CHQ8wgR/MqPkZ6FJ5x8fwDPBDgvn5nM/6QiVAD1c7wX+MNLSIsDYAhprt4w2BQZiQY9EvXd2PdshQC0VRKo8g3bOV1OImnWaBmiAn2jcJXtNmstRyEoCncBBZo0GZ1i1doHXBUxYhhvrOZqiBoUWjJaQZk2RcqUY/nOQw2DaFfIsVRdSB55CkG2EnyzJFmSHwJR5fxFqK63xCJc8ih7hxTfMp3hT6HrC/IxXe9f3G4qCCAf0+NMVS0fU0tA98kPdrSzWs3k783MzGytVsP7IEV6ggZ8m5vX8Dy2lfx1Hawi9uJU/z9dVo6PCNI81F6Wup6VWrfDA7Qy+BgIJaf7iI9uZoFPX435KNPzNLxTEzyhQG2AHdMSYHwMFEHixT9MgdS4Fk0bZ3qdBSk8LQOXkkSvsm9rrQNhG5GP6bqXkI+Vc9m8Ij+pJEnAuJTBkjnIvdKnDaSQeZQVJnlFYHl5PsasfF05dRowsjxJrc9zPq8SMrV0P9LVUwfVfSn0cJ0JluzXcpqlHeNzI1XtlCTmaXGSlN8NjVGzP1lrajmEOntbct6njI5vUNWIbnz4Pcv5QhvhB1sqg1TjKEiJpOUT+W6rU1ONnemeEKKpsZ3/sxQCaruVM6hy2tT1U6nRlZyF7cx6wl+Eap6xp1Osq1l+FLq+IB/T9f7F7aaCAPIxPc5UFfKxXKV9IaxFwZs1O1BQGGJP7itjHQ+zhGAq7+tJUr2lJ7ax2CHQHsz0eXT9ClMMy1YIsmmBlKwAO61Ld2w1C4SJk6QkSaq+2qrrcVl2e2XxscfBIPhWkhLWMEl0jNz0ZT0vDLH/n78NK2/F+BjoeWT4WK2YwwqhQh5FotejAFs2ZPWBa7Vayo6C34J8TNe9hHyMv0hM8UthmcX4Fx4FNbaeWqIqK7PEaHvhZk33wErhY6Y7fOw5IlBZCCAf0/X+xe2mggDyMT3OVBXyMdD/jXABvcQIlzylMCtQUBzmmB/i2Lc7pOfOmzQKYhsiXf6SX2C6Zx/16VYc7gJhKkECCF8JcQQx3BgxxDYkPq0spP7ohMSAJM8gm/2Q9l26TJD6buV8rzQ+FuZI4sQ/ToPkug6tW9zxvkCiRFkgBS4g95WB1lYN60MOuoqPBdqRBK9Aayum+AQS2zevFoc65wUL89jAmZw3CFiLylnQLTsu5GO67iXkY2WvFpPYQnP3XUms+3PdCCYxNCPpJPIxI5kI7IapI4B8TNf7F7ebCgLIx/Q4U/rlY7QQZEntEccSfUXQ8yDhLjlKweSRH/6xdgEUjY11A1XiBC/H39fXrQ0yR7+DtK4PFP/J8Nmx5FvmIps5fjhkMMeKgapFuxWFOsU6/rln2SzXgxtJikTDWQTPvkwf2z1rLC0tnmgwHl63oJTMccUW1CuLj0FV0Az5wTXz2EBAHznVG8LuY9w9j215u0TRhPExGoIIWRBfjfmIKSBv+uEriHpnA48UFQQ7BF602rJwerzzEV5EpCLvKuRjuu4l5GMVuX6MbR9ILEmUOh1cf+LXH6l6uM44KGPruQn1B/mYCU0WdtWYEUA+puv9i9tNBQHkY3qcqRfjY1t/nAEaGzXNQe8oXqWvCM+aJK8fqWZ0907t/va1JtEiFilOa484Dv+gF8dxH/WhfCza7YHvJVZi9e12rad/OnTpjPHjh/ZjZKxf97f/9rFmarmPw5zzgxzGD+3HmEy7Vs2njhq8+KvPvv506ICenevVAfK2ZdF0kBsunXAMZkSGz76VEPXHcRxUVU6WlM3/Lv/xzfjYmS0/sUbK6Ct676Yl1LTqeTBBjs4d2jwKtANnYLQozf0Uo151a9eeNmrwqlmTxg/9gBV7ebMNFI9mevcshpPEeya7nShJqOO6v9V+5viPF00bO2XU4B5vtWc12dz/3ERu+FZ8UMjHdN1LwMdoiWQ+CwK/GD8CENmbLDm/ffn6OVNIqndWgK3x99nkegi1IpMkRQ8ydd07sL2oMD/cjcRUvsJt+c9n/BURMCEEkI+V9wzB30wBAeRjepylF+Fj6XIm8l6nlmWyWklEeNYkS5d9M4HjuN6d33xw9RJR848VhTuPHfz+kwqPH/d7F4Tpaa2YYxsWdXqjJaM67P9alhbTRn+U5HKMpHkzpQpoNh6kotbM+VK9bAjbv1mjBpM+GRjvdITEqGp/8U9nUMXI9N2/SiWXL9i7Rr3sDL9b+V/g7Jm+rGgMx3GQypWipnefJtv3M7TfrmXzNPEp3lUFy/bxnt9/AQUlu3V8I0chfBzqBPJZt676nt01oGdnM1Zclo7h/W6dJMe3LfkaisZs+uEr0IOmomGwf6ZPuvjUt+OHN2pQTx0lMzOz1s2bLJz26X/Xbfkib+UPhP2KfEznvZT7EPQb0mSgIoMfU0EgxZv8L0RyfOvZLUvJo1AQ4TCVnptQP5MkIKT0702d9w7ysYpFW1TkEY37VGMEkI+V9wzB30wBAeRjepyl5+VjuUH2xaFOD69dCbC2giIqka4FISrdIaBY4c53vC9cu7AnxvFPqBOi9pYikaIU95PXzu9JFB2lJUSElOr4/C239j2z8+SmxXuWzxLuWxspPETi3DXywWDPcBeSJkv3OO1xdMuRDQt3Lv323PZlslM7UmjVL5LkqVVmkMS4TxoxiOO47m+1u+93iUS4lKPspOs1UBjiVBjioLi0T3lpn3rRGBUU122uX9gTbneQxLqrt0AiXG5Kz107vyfG4TCJUf1EC7b4ZSuEV8/tPrZx0YHVc6UntmUHCMjfAbek5/3P77nvd4lVSmFNASUDDUaPOKcjTgd++X313D0rZl3+7efrF/bc8DwDkrsRmD9WOXdHcV5WQaI/fkwOAZKu9Dh34PKBrSQzyOQ6bzIdTvAr+u9eeXca+sfUXnbqLwL8jgjwCCAfK+8Zgr+ZAgLIx/Q4S8/Lx/KouC0tkwI1WPJDhKUEhVV1ZmQkwUuD+UDafawYKpnEe/CJXsA3omjFlTQZCHuky0mSF5yiTIFjkKIOtCMx7iSVlg1JpUVgoDVxXpBD2f2hOHWa3O/sLkuLmuY1atjvW0vuXNMlw8g/LrV+gfqeUDTGm6R4axaNUVXLkZFEicZ4wUUW5Q6DSihVMiVbIXgc5gg4pHlDClmqNwl3hLArGBroc5RtB0rZxHsCOKwUDIhxe5MY9xcQ4Eb/mB7vJWy6ihCQSqW2trZVdHI8LUUA+RjyMUTgWQggH8PHpakjgHxMjzP4AnyspJgMiByWJTCqyh7a5KHZTxp8Q1VXRMELTGtpkz9LqbIh9BCN1p7uGWRPEr1mjh/OcdyCyWNIqlTXnvwh5XyBEiv0dGX3URWl0T3esrJvmnVslOBg1AoOf7qyGtwvNhzkY3q8l7DpKkIA+VgVAa92WsbHokU5CqguhR9EABEoiwCsKSd4Pv73ttqdg18RAVNCAPmYHmfrxfgYzxOM80uOQkjSvH3P7OI4rsubbe94nycxKIcNrA/5mB7vJWy6ihBAPlZFwKudtqjwcaQ7ZGBGiEikK34QAURACwJhziTFu+h/d9TuHPyKCJgSAsjH9Dhb1ZOPKYUkReJ6+NclX48LvLiXZMq1ZpcZJ5nUa6+Qj+nxXsKmqwgB5GNVBLzaaYse50dJ8sNE+aEi+B8/poBAXqhLXqiLMU5WuCi/Wn7gqnAueviX2p2DXxEBU0IA+ZgeZ6ta8rG8IHvIH0v0JEmeJEn6YmljeuVFVdU48jE93kvYdBUhgHysioBXP21x8eMC/JgQAoQUx8dGe7i7EkJMqNsm39XCfEKK1e8c/I4ImBACyMf0OFnVlY+VZGRBJkNVkR8jPC/yMT3eS9h0FSGAfKyKgMfTmjYCCoXi9OnTpj0G7D0igAgYEAHkY3oEuxrzMSOkQ1XeJeRjeryXsOkqQgD5WBUBj6c1bQSQj5n2/GHvEQGDI4B8TI+QIx+rco5kyA4gH9PjvYRNVxECyMeqCHg8rWkjgHzMtOcPe48IGBwB5GN6hBz5mCHpUJWfC/mYHu8lbLqKEEA+VkXA42lNGwHkY6Y9f9h7RMDgCCAf0yPkwMfSZKyycNlyGbilmiEA9U/SvB//laLHSwqbRgQMiwDyMcPijWerJgggH6smE4nDQAQMhQDyMT0i/TjxKrnlT8KctdTKwDIy1Q+BUGdyw7f4b+RjerynsGkDI4B8zMCA4+mqBwLIx6rHPOIoEAGDIYB8TI9Q5ydeyw91yg93qZ7lPqplDZOXGpRLQZjz43uperyksGlEwLAIIB8zLN54tmqCAPKxajKROAxEwFAIIB/TJ9JFhaQwnzwuwM8rhEBxkT4vKWwbETAoAsjHDAo3nqy6IIB8rLrMJI4DETAQAsjHDAQ0ngYRQAQQAZNDAPmYyU0ZdtgYEEA+ZgyzgH1ABEwIAeRjJjRZ2FVEABFABAyKAPIxg8KNJ6suCCAfqy4zieNABAyEAPIxAwGNp0EEEAFEwOQQQD5mclOGHTYGBJCPGcMsYB8QARNCAPmYCU0WdhURQAQQAYMigHzMoHDjyaoLAsjHqstM4jgQAQMhgHzMQEDjaRABRAARMDkEkI+Z3JRhh40BAeRjxjAL2AdEwIQQQD5mQpOFXUUEEAFEwKAIIB8zKNx4suqCAPKx6jKTOA5EwEAIIB8zENB4GkQAEUAETA4B5GMmN2XYYWNAAPmYMcwC9gERMCEEkI+Z0GRhVxEBRAARMCgCyMcMCjeerLoggHysuswkjgMRMBACyMcMBDSeBhFABBABk0MA+ZjJTRl22BgQQD5mDLOAfUAETAgB5GMmNFnYVUQAEUAEDIoA8jGDwo0nqy4IIB+rLjOJ40AEDIQA8jEDAY2nQQQQAUTA5BBAPmZyU4YdNgYEkI8ZwyxgHxABE0IA+ZgJTRZ2FRFABBABgyKAfMygcOPJqgsCyMeqy0ziOBABAyGAfMxAQONpEAFEABEwOQSQj5nclGGHjQEB5GPGMAvYB0TAhBBAPmZCk4VdRQQQAUTAoAggHzMo3Hiy6oIA8rHqMpM4DkTAQAggHzMQ0HgaRAARQARMDgHkYyY3ZdhhY0AA+ZgxzAL2AREwIQSQj5nQZGFXEQFEABEwKALIxwwKN56suiCAfKy6zCSOAxEwEALIxwwENJ4GEUAEEAGTQwD5mMlNGXbYGBBAPmYMs4B9QARMCAHkYyY0WdhVRAARQAQMigDyMYPCjSerLgggH6suM4njQAQMhADyMQMBjadBBBABRMDkEEA+ZnJThh2uQgQePHiwcOHC6dOnjxkzZsCAATNnzvzqq6+uX79ehV3CUyMCiIBJIIB8zCSmCTuJCCACiEAVIIB8rApAx1OaMgLff/89p/avc+fOd+/eNeUBYd8RAUTAEAggHzMEyngORAARQARMEQHkY6Y4a9jnKkQgKiqqSZMmPCM7dOhQFXYGT40IIAKmggDyMVOZKewnIoAIIAIGQiAtLe2nn35avHjxhAkTRo0atWTJkkWLFkVFRRno9HgaRMCUEfjhhx8YH+vevfuDBw9MeSjYd0QAETAQAsjHDAQ0ngYRQAQQAVNBICcnZ/DgwfwaP8dx3bp1u3fvnqn0H/uJCFQhApGRkY0aNeI4Dp1jVTgLeGpEwLQQQD5mWvOFvUUEEAFEwBAIODs716hRg6dkJ0+eNMRZ8RyIQLVAYOHChd26dfvvv/+qxWhwEIgAIqB3BJCP6R1iPAEigAggAiaHQGFh4fDhwxkf69Wr18OHD01uCMbQ4aJ/bhbdSy+6n4GfVwcB8vB2hI+b3fH95OHtV2fUONLnQSC9OAefqMbwhDaiPiAfM6LJwK4gAogAImA8CHh4eJiZmXEcZ21tbTy9MqWeFBWReG9yw48kS0kKfhABRAARkJIkCflfCLmXYkqPMuyr/hFAPqZ/jPEMiMCLIVBcXJz1T9F/9/CDCBgegeJH9/P/uTPzy3FfjBzy8HYayXpg+D4Y+owP/y4uyHuxm1XrUcVFj/PC3UmkKDvQLidQgB9EABFABLKu25JU6eM7iVofGrjxlUUA+dgrO/U4cKNHoLiIxElJopTEivGDCCAC+kUgRkxu+ZN/b1bic0HFx2LFuUphXpA9fhABRAARyAkUkDQZ8rFKfNJWj6aQj1WPecRRVEcEiovyI9xJlGtWoF2OQoAfRAAR0B8CWQG2JFlS9CCzEh8lyMfQ+EYEEAENBJCPVeIztjo1hXysOs0mjqV6IcD4GC6uo2MBEdA/AmAkpUiRj2nYjvgnIoAIVC4CyMeql6FWaaNBPlZpUGJDiEAlI4B8TP9WeOW+aLE100UA+Zjpzh32HBEwIQSQj1WypVRdmkM+Vl1mEsdR/RBAPoZ8DBEwFALIx0zIosWuIgKmiwDysepnrFXKiJCPVQqM2AgioAcEkI8ZyhY33Vc79ryyEEA+VllIYjuIACJQDgLIx/RgLVWHJpGPVYdZxDFUTwSQjyEfQwQMhQDysXIsSPwJEUAEKgsB5GPV02B76VEhH3tpCLEBREBPCCAfM5QtXlkvWmzHdBFAPma6c4c9RwRMCAHkY3qymEy9WeRjpj6D2P/qiwDyMeRjiIChEEA+ZkIWLXYVETBdBJCPVV+j7aVGhnzspeDDgxEBPSKAfMxQtrjpvtqx55WFAPKxykLSdNvJVQpZgTvTHQL23PgRQD6mR6vJlJtGPmbKs4d9r94IIB9DPoYIGAoB5GPGb8jqtYc5CiGJdSPpcpIhL1AKcw114el1UNi4ESKAfKx6G24vPDrkYy8MHR6ICOgZAeRjejOJcthCuFJohG9r7FKVIIB8rEpgN5KT5iqFJNo90eXY0Q0LbXavIjHuhaGORtI37EY1QwD5mJ4tJ1NtHvmYqc4c9rv6I4B8TA98LDfIPj9ISFK8SZKUpHrnKJCS2Vczc+fFhoN87MVwqx5H5SgEJFn6y9wpHMc1bdQgUniIxHvm4nqNHp7A1eOCeZlRIB+r/sbbC40Q+dgLwYYHIQIGQAD5mB6sgYIQeuqT1gAAIABJREFURxLjfnLT4vVzp9jtXU0SJWh1vYxtUW2ORT5WbabyBQZC+Zhk7ZwvOY5r0rB+uN1BkuiZg3xMD0/gF5idanYI8jEDWE+meArkY6Y4a9jnVwMB5GOVbQ1AVFKk6z2fi13ffIPjuAnD+pMIl4IQDExCF5k98rFqZvU+13AYH1s3Z/JTPpbwbD7G638wFZDy+VupnZXCXKWWm47uo9IUyVEIcKnouSbRVHZGPvZqGHDPPUrkY88NGR6ACBgIAeRjeuFjovu+F7t3asdx3OfIxyobYVMxicr2E/lYWUxenS3Py8cYuSJx7iRDTtJk8EmVk3hxXpBAKyvLDrSDnVPonukykigh4U4awdLZgQIS6UKSJdBauhx2jhZlKwTPnIXcIHsghIHI37RQ3GeiZ/gdkI8ZyIIytdMgHzO1GcP+vjoIIB+rbLZA/WPPzcdUC9uBYPHAp9x161ylyjZ6urO2UeQo6Cp4BRrUMBdQ9k0DkMr6E/lYZSFpiu08Fx8D4hQvJgleqe4n3f/cdHrzkjNbl3oe3ZIsOkYSPEisODvwKYnKVQrzgxxIhk+Gx2nZyR2nNi0+v31Z4EUrekYpT7eyAu3Ibf//XbMJuGB1adfKYxsXSU9uuyM7TzJ9+H20ApurFBaFOJI0OUmVkVhxTgX4m9Z2cKPBEEA+9uoYcc81UuRjzwUX7owIGBAB5GPamMzLvDVfgI+B7RUhguXqNG/VQni6HEwubawsWyEoCnOEndPZQricpHg/DnFUjzti3+kqeMluGT4kQqR1WV1jsDlKYVGoU77SXr1BjX3wzxdDAPnYi+FWPY6qOB+DB0KG/KbXufmTx7Ro2ohT+9e0UYPvJ468LT1H0mU8JcsPdiBp3ntXzH69WWN+XzOOG9Czc4TgEEnwyFUKwXv2t0L0x4Zend/k9+E47o3XX7u0ayVJ8db1cMgNsocHQrD9lkXT5385Otz2IEmEBqvHpFTXUSAfM6AVZUqnQj5mSrOFfX21EEA+VqV8jCZ4CMgNv7ve522tVq/7fsrirz77+buJxzYuinY4RFKkxeEu6qYPrHBnyLMC7Rx+X7/1xxmLvx63Yd40jyObi8KcSJQr2xNqHMW4kTgP3zO79q6cs3TGhJUzv7i0c8XfcmuS4l3+Qni2QkDSvAuDHUm0K4kR6zLRqqsRo+9xIR/TN8LG3H4F+Rjcv0meqW4nelPiZGZm1qJp4xH9e04Y9sEbr7/GqFSfrp1ueJ4lsWKWDEZSpHuWz+I4zrxGjY8/eHfJ1+Nmjh/e5c22HMftXTmbpMmzAuxIqrf81I7GDepxHNfjrXYLJo/5YcqYQb27qmKqo0UF2pLN8miYIsn0ubJ7FTv1xOEDSIy7+kPJmDF/ZfuGfOzVMuQqPFrkYxWGCndEBAyMAPKxKuVjeUH2JE1+/Ncf32z9uvqiNcdxDevV/fm7iUC0IlVEC1bNb/gGXNzT/913NHb+YviArEBBMU0XITFu/wVc+WbcMAuLmuq7vdO+dajtgXIk3cAQTJML9q0d0b/Xt+M+viU5y5/6lTVrKnfgyMcqF0/Taq2CfCwv2IFEuo4f+gHHcTXNzdfPnXrP5+JjuuByR3Z+1oTh7Kb+9rOPSYIXLNBEON/3u9S+VXOO41Z8+wWJcWcBjf9dv3Ju+zLZye2q3RK9po76kOO4D3t3e+B3mSR5kThxUaiT+OjmM5uXkAQvXVHK0O1M37Nbl7LzDuv3LokSIR8z8msP+ZiBLSlTOR3yMVOZKeznq4cA8rGq42PU2eW7Y/E3ZmZmHMe1eq3JuI/6Lvhy9KwJI95so6JnM8YOJTFuecEOEAYZJboru9C9I8iEvNO+9cYF0w6vW7B2zuSeb3fgOC7e+SgEJgXZk1jxrAkjGKNbNG3sn+t+2L74m9GD3uM47sL25SRDrjP9Ixgca6Ponk/6c3zjIpKue+fKxs3I7ZtK6R7ysUqB0UQbqQgfo+THx+3PTRY1zTmOWzpjPLl1lUS65gc7AE+LF5Mot7GD3+c4rlH9eiE2v5MEL5LoGXR5f4O6dTiO8zq2hdy6mnX9Sp5C+DjMkWT6kiQvFg7933XbD3q8zXHcqlmTyK2r2QFXcgMFNNBRRjJ8dD4TgiBumcSLYxz+HNG/Z693OhzfsIikSNFzbuQXIfKxV8+Yq9CIkY9VCCbcCRGoAgSQj1U2r6hg/hg4o5IlEYIDTRrW5ziub/e3IDEj2pXqnslS3U5+/MG7bEH69OYlJNPnUYAdSZef376M47jGDeopLu4ld65Dhn26/H/XbNwO/1oc6gh1z2LFcU5HGtWv+0RT++CaeeSOP+yT4UMiRdIT2zM8TvFhjVrsCRroOPrDPuy8yMe0QPRyVwvysUqH1IQarAgfg4DhRMnir8fBekr9ulAzOtGTzxODFZwbfjYloYN/rv+BpHqTKFG6+GSzxg05jps3aRSJdSc3rz4OdcgOFGSXyCEC74oUjRzYm+O4Pl07QfrZHX8S6ZIVaJdN1YPKhxF6nuCZF2T/v2s2JFmiodlY/rH4a5UggHysCqwpUzgl8jFTmCXs46uJAPKxl7Owy75rK8jHmOG1YPIYxq8gkvCvABBODBRkBdiSW1cTXI62eq0Jx3GD3+uWq7QvDHYgyZKN86dxHNehdYu8EIeiUMdH123BRAt3IhnywlAHaDPdx+PIZsuaEKl47fxukuH7n79NdoBdXpAD6H+UG2gEFDFD7vj7Lx9/0PPbcR//JbtAIjEwqTLlrZGPlb1fXp0tz+RjTDkjV2k/5P3uHMf1f/edbKXgcdjTDNIc6qqKdjjM2NeiqWNJvGeu0p7Eib/5bBjHcWZmZqMGvSc6tBH2zPR9HOrAHF/gIsv0ObZhEVtq6dbxjaMbFt2SngdZoGj3rEC7Z84CyPyEO5EIUT4qeVT2K+OZ4L/ADsjHXk2D7pmjRj72TIhwB0SgihBAPlbZL9eK8DG6j+tNyVmW9TH90yEkEVJB+PcuULJU71mfQ9hho/r1bnidIVEuJE12bhtkcZjXqLF3xRzIErnpVxzmmFWywg3NxnrEOv3ZkPrHpo4a/CjQjty8SqJUC+Fa68PyJ80LsgcRthRvkuBJkiQkskJ6jOqH4/fyEUA+Vj4+1fvXZ/MxpZBEiP7xv9yVSnGMH/oBiXXPCyqla08iXW9Jz7HnxtefDmEqrCRWfFd+gfds16hh1qdrp6O/LIQQxyQJ714jCV4rZn5Ry9KCsbJ2LZuvnj0pw+M0uXNN/eGjaxZyUXO1sl8WuqB++e3Ix6rIojL20yIfM/YZwv69ugggH6vsV2xF+Bh4olIkvmd21a5l+cQ/dmD1XJLmrZ7CAaZbmuzQ2vkcx9W2tAi8aEUSJCTS5a7sQteObwAlM68xbmg/l4MbYM+bfnk0zQPe4sEOJFb83XhV0n/vzh2PsYXwDDmJcilfXJEZATlKWrVMm9T+y1sJr3gLyMde5QugInysOEL0r78NKyX/xccDSLxHrlqxL/Zsue19vkPrFhzHTR87lEksgmM83vNxqNPZrUsH9erCcs84jhvRv9ctyTmS4JGjEOYqhY9DHEiKt+T41skjB7ElG47j3mzzOmSd3fbnadurPEfVZuzIx15do67ckSMfKxce/BERqEIEkI9VDR8DyTKXPzawheoru1dppNQzPmZntYbjuBo1ajj+vp5kyCGF7IZv0OX9A3t3YRIgZjQb5MyWpSROzMqLgcUW45YdaDv7ixGWFqqF8DdavrZh/rQHfpdIqhStrio0uZCPVSH4VX7qZ/OxIPuiEMf8YPvhH/SCQOU+3fKD7aG0YMkzisUrxjr+2bwJFCVbNmMCyKUqoBRYjlIIIc03fEm4s8fRLWM/6sueLVNHDyaRIpADCbLPZQ7wdB+S4BVhd3DJ9HF1atfiOO7tdq3TPU6TGJWOqy6gcpVA6nT9ituNCgHkY1VoVRnzqZGPGfPsYN9ebQSQj5XYOpX1Nq2YfwzSORx/X89sJusdKzRkDykf8z6/fTnwMTMz+33rmNQhZIuly/OUwnPbln38wbuWJYr2M8d/TCJdCoPBdAPnW4wbSfSUHt82fexQVnGI5vF3TBQd4w24yhovtlNxBJCPVRyr6renFj4W78FqvjOqA2wn2IHEubNA5debNUl1O0li3HgxQwgnzvAT7l3LnhtntvzE1nGAsCmEOUohOMAVQmBl0W5TRoK6fZsWzSjXorUElbBPjkIA7cR7kptX/1gDHngzMzP7/aonjC7Y4bEW60biPAvU+KGunXF7lSOAfOzVNux0jh75mE5o8AdEoIoRQD5WVXwsTSY5vrWmOaha7105BySk1QKT4G2aLt+++BuO42pZWlw7v4ckSZhZlq0QPA5xJDd8i8JdvE9uH9IHUv85jjvyy0KSJmONgHlHM/hJvGes05G5E0eacSCpP230RySKamfrHjVldAKUUNOHRYV8TB+omkqbGnws2v4QFT51JdFu/Ad0d9Jke1fMZjf176vmkvuK7AA7WvdZQCJEJMFzwrD+HMe1fK1JossxEiOGNZoET5IsITGu2QpBtkLw6NoVcvfaARrtXKeWZazjnyReXBTmDBmnSV7ZCkGOQvDfdVuS6BUuPFTbEkKmT25aTDJ91R9B6qhCz1O8MzxOxzodIdFu+UHoJatMmR91qCvrO/KxKrasjPX0yMeMdWawX4gA8jHdzOTFXo1a/WM8yclRCHMUQpA7ixEniY4zBcXxQ/qReA+qggivebZYTuLcxw/tRxM8WjzwvUQiQOqwMMiemlPQQn6QPblz7ab0XHuaTDJl5IckFlbB86mLjJ5IAOXIkrxIotekTwYxYcabknPlBCblKoXFoaDWiCWGXmz2yz8K+Vj5+FTvX9X5WKMG9aQntt2SnE0Xn+I/ae4ni8OdSJx7qvspliHWuEG9S7/9DHQr3oPEibMCbJd+M4FWK+RWz55E0mRAq9Ll57Yt3Th/2k2vs1COLFlK0qSPQx0/oyGL77Rvc0d2gaTJEkXHl3w9LujyPhLnTpKksFuqdNdPMzmOs7Sw8Dy2haSoVnM0ZgH87UmS69Z72rRoWqeW5aYfviaJqrUhjT3xT+NBAPkYGndaEUA+phUW3IgIGAECyMf0zMcmDh9AEj1JihR4UbJE9UmRFgQ5kGjXMbTYV4O6dXzP7CL/KnOVwuxAu6IwJ/K/UPmpHUztY+2cySQFVrWhiFCECzQV554NhYPssgLsSLJ0UO+uKt9XnAdEIkW5wkJ4CqSKgXr+tSvk78CNC0Aov2Pb16H0kI5Ekdwg++JQpyyFnfTENqhvli7nA6WMx84w6Z4gHzPp6XvJzjM+tmb2lywIuXmThq1ea6L+adKw/ob5U+HmvXX13LZlLP/T0qLm6EF9Fk79dNInAzu1bckSRz8d/H5ekJCEu9AIRp+tP85goYkzx3+87ccZG+ZNZaWfn7jRjm34EQpdpEgDrK1ojfg644b02zB/6vbF33z+cX8LWhjju/HDSYw4L/ipkKP6SKHbN3xZ5UOO4z58r2v5ZTPUj8XvVYUA8jEjsK6MsQvIx4xxVrBPiAAggHxMP3zsnu/FblQIcWjfHoEX9you7Qu8uJd9Ai7uhVXqKBHJ9HXYv868Rg2aUt/K8+gWqAed4Pk//ytOB3/p2LYlMKg2lEFFu+aDFrbLwF6df13wVbrHKRqhJCXxHo6/r29Qt84TWXwIbUqRkhTpkumfzRg7VHFpHwRBJUtJsiTe8UjPdzpwHAcK2iXJ/WUNBTC8Ej3nTx5NRfbrehzdQlKlGLhYFqgX3oJ87IWhqwYHwv2VJjvx648sFlHr/4umjSVxkFRG7gY47F/f4612Grs1bdRg+Tef5ygFbDdQ+EjwCrho1adrJ0bV+P3feP01q+WzSYYPOMnDXf71t/nyk0G82D3brX7d2t9PHEkzTl11Lb5At9N9nQ+qxIdmjB1K4mg2WmU/OavBFBvPEJCPoYGnFQHkY1phwY2IgBEggHyssq0KGq/oet/nIhOtrsGii3grqeSL5Pg2kuZNUmVr5sB6+ZMssvp1a/d/t/Owvu926dCGKVY3blDPds8qcssvO1BQEOJUGOrYu/ObLHVkeP+e300YPvi9bvXr1uY4rm+3t+77XSIRziRZuuLbzzmOq1en9oCenb/5bOjYwe+3bNaYVZ32Prmd6YJotRsKQhxJpMsn/UHbDQje6rkaqo9aj8KNFUcA+VjFsaqWe8ItFuXqfXKb+Mgmj6ObNT7uf26CSoPREJkMWWG3r/5z1cb98KZdP81c9d3EdXMmn9++LNbhMEmVksintSsg+DlN9igA3NoHVs1dOfOL7Yu/sbNaneF5mpIxAVSZVwrBbR7tpry07/TmJWtmTdowb+rpzUvC7A5C7GKkqPxlF+h2vIftntVQPENylkS7odCikV+fyMeMwLoyxi4gHzPGWcE+IQKAAPKxyuZjeUH21OoSfTvu49q1LOtRRWnGcNT/9z6xjaR65yvtSYr3yU2Lu3V8gxdL5DiuQd06Iwe+B0GM9wJZqVZYw06X2e9f1+udN2uXVHRlAUhfjfkoQXSMpMrBhosVxzsf+eyjvg3rgdOM/bO0qPnhe11dD/9K/gooR+8eVuWTJUu+HsfIG+yfKteV4m/k5ohxdg/5mHHOi8F6lasUwsMhw0f7J9OXRLvy1AiIVrgL7AnRzjTUOV1OEjyyAwUadChHIQC5jnQ5FHOHPaUkU06iXbMCn4Yg0kMcIF46TaZqDb54ZQeCWEj5CJR0WwbHxjztYflH4a9ViADyMTTwtCKAfEwrLLgRETACBJCP6YGPgYss3CUvyF55aV+AtVVg6U/AhT2hV34nKdJ8Ws8HookyfR9eu+JzeufFnSuP/LLQbu/qMNsDsJ6dLmNkjL3XwT674ZujEF6/sOfK7lUnNy12ObghUvAHJJzEe7Jaz8CpErxItFuU/SHH39ef/HWxwGrN9Qt78kOgNlE5ZIydoiDUsTDY0fPoZuXlfSTTB8lY5VpUyMcqF08TbS2HKhxq/V+DGjFZxVJ76uBOZffUaIphxWR+1Bp8BhNTR1glEaSjA+p74vcqRwD5mBFYV8bYBeRjxjgr2CdEABBAPqYHPsY0EgtDnSAWKElS5gPaHrnKp4rJ2QoB7JwiBWHDDB9Y56ZlXvmVcv7tnqMQFIQ6kkQJ7JbpC5n6cR45ilLr5WCZKYUkzgPaYSvxiZKCEMeKkCuQcAx1JOk+JEmqK5+E7wx+eV4EkI89L2K4PyKACLwAAsjH0MDTigDyMa2w4EZEwAgQQD6mHz7G3qBQfVXHp+wrttTSdbmL0KyoK1vk1roKzgjh01XwclvT1hMBkrGysLz8FuRjL48htoAIIALPRAD5mBFYV8bYBeRjxjgr2CdEABBAPqZPPvbMtybu8EohgHzslZpuHCwiUFUIIB9DA08rAsjHtMKCGxEBI0AA+RjyMUTAUAggH6sq8xTPiwi8UgggHzMC68oYu4B8zBhnBfuECAACyMcMZYu/UtYADlYrAsjHtMKCGxEBRKByEUA+hgaeVgSQj2mFBTciAkaAAPIx5GOIgKEQQD5WuUYntoYIIAJaEUA+ZgTWlTF2AfmYMc4K9gkRAASQjxnKFtf61sSNrxQCyMdeqenGwSICVYUA8jE08LQigHxMKyy4EREwAgSQjyEfQwQMhQDysaoyT/G8iMArhQDyMSOwroyxC8jHjHFWsE+IACCAfMxQtvgrZQ3gYLUigHxMKyy4ERFABCoXAeRjaOBpRQD5mFZYcCMiYAQIIB9DPoYIGAoB5GOVa3Ria4gAIqAVAeRjRmBdGWMXkI8Z46xgnxABQAD5mKFsca1vTdz4SiGAfOyVmm4cLCJQVQggH0MDTysCyMe0woIbEQEjQAD5GPIxRMBQCBgJH8tRCHIUgqqyFPG8Ggiw6chVCjW245+IQFkEcpXCity/yMeMwLoyxi4gHzPGWcE+IQKAAPIxQ9niZd+suOVVQ8AY+Fh2oICk+5BkaVG4M3IAXVdgbpC9YWhSjkJIMuQkTUbiPJAk65oO3M4QyFEISJw7SfUmafKCEMdy7l/kY2jgaUUA+ZhWWHAjImAECDw/H8tRCNTfBDmBgpxAQTkvBnyVIgLVHoEchSA/xDFPIcgtl95XOR/LChSQu9fs961dOHXsbek5Eu2Gd27ZizNXKSwOdSIZPiRdTiJFOfr0XJEET5vfVu38aWaU/R8kRozTUXY6cAtDIEcpJAlekcJD236c8ef6BcURLkWhjroeOMjHjMC6MsYuIB8zxlnBPiECgMDz8LFcpTA/2IGkSEm0K4kQZSsEj0OdSJo3SZeRGNccxbPjbSDWAvlbuSY7Gh8mhwD1OMlIhAtJkqgvVZQdSNXyMejnbX+Po5trmJn1fKfDf9dtiyOcc5X2Zfv5Mlv4eCpdluLLNG6AY3OD7ItDnQpCHM9s+enohoX3fS+RSFd90KRcpT2JdLnnY926RVOO4xZ/PY4kSdBFpo8pNvVrkmGSHywkcR7fTxzJ0X8+p3eSVLmuCwb5GBp4WhFAPqYVFtyICBgBAs/Dx4CMJXj9Mm9qr7fevCU9T5Il9/0uLZ0xYeHUsbFOR0mce/lWCyzvRYiAvGXISaw4GzNYkJiZPgJwVad4n/h18ehBfVbNmlgY4lgU6qSLilQhH8tVCkmU6KH/lb7d3uI47tTmJeSmX3ZgJWeRQfRdpCt4ljJ8AAd9epb0Ybjn0TBFki4/uGYes3pXzZ5EUvRCk2BGIl3vyi60as7zMS9d5rWeBvsqNKt672T4kEzfYtO8Jtk0FYQ4knDniSMGsivT7+xvJFWm64JBPmYE1pUxdgH5mDHOCvYJEQAEKszHsgLtyK2rh9cv4Djuk/69CkMdSap34EUr9m64tGslSde5VpcXZE+ND9E9v4u//vDVmtlfhtsdILEYnFPJrgnTsq5ylMJ8pVCvwWD6BiQ3yL4o1Kkg2GFE/54cx1nUrJkkOk7idV7YVcnHAgUk1XvlzIkcx/Xu/OajAFsSVsn5Y3CPR7tmep3+Y+38k5sW5yqExRFOle5/0/ecQopOmsxqxWz2ZFvx7eckRarL6n2ZzjA+9hfyMX0uygDIEa535ecPr1twfOOi/65dIXrwCb/MZfA8xzqQSNHYwX05juvYtuUt6VkSrXMNFPkYGnhaEUA+phUW3IgIGAECFeNjsOyd5BVjf7jVa004jvM4splk+pBET56PXf7tZ5Kuc61ObdV5PrNy5n85mqTJcip7ef553m2vNBeqcqByg+xJoheJdScpEtP1lOYq7YvCHfOC7If1e5fjuIb166a6nywnC6iq+Bjcv2nePqd31q9bm+O4fSu/Jxk+Gs6xXCUsmjzTo8X2yQ3SEpwMTCbT98SvP3IcV6eWZaC1FWUyWvZkl5+qqYr50CrSN/6qfq6WSzoDw1etHEWI/nfNZv3cKatnTUpxO0litWfZVbBLunbTHx/TdUYeH/5L+XuW/yvfSAmAFb14NA4s+2cuXb975qWocaDW3sI1ecPnyu5VdLnE3Pvk9vLXDeECoGfXaJz/k52lUvrGt1mRL3ALJ0uCbX5vVL8ex3Hbl3xL0uVZgXa6jkU+ZgTWlTF2AfmYMc4K9gkRAAQqxsfyguxJtOvnw/pzHDf2o74kyhWCQJIlz8fHMnxObFr8dNU5TY58TNfbtHpvLwh1JJGidXMnf/PZMPGRTSRZYqJeMjCpw5wfXrvS8+0OHMeNGti7MNTxcUi5SfYp0qIHmZX48CkuepwX7v4Mb7NCQBI953zxCcdx5uY14pyOkFh3HvMchTA7UFAc4URiPUC+Qpsafk6JyjaJFJFYcXEYpI/mKEoJ+YALPU12fCPwsdq1LAOs95AEj6xAOw3nUm6QfbZCAMHPka4k1q2YZqJq7MNf/7lKIdB1pYBEi0mMOD/YITsQzqtV/JClCeVCzKQIxhIhyg92zNahNpSjAN1wZl5nKwQk0pnEeeQHO0AjSmFxOM2MTZORaM3MWOhSoKAgxJ5EuZJYcUGIllPkKkGeMTtQUBjqRGLFJMq1IMiRIvaUnVY6H8uhHePPqEJDje7yopGwQKYU5imEJNqNRLtppP5CzxVPe14Y6qTRc352GH3NDgQxGzZMdp1oOEVV6VsQMetKYj20Isba/H97VwEexfHFN06ABIJDkCCB4O4uxSlatFCKu2txKRrcNcSJX5K7XHI5i0Hc3QWXKhAgMn/evLvNcQkhFPpvWpbvPr7N3e7szJvZnfd78nswhBAnIFNJFJBY/puyZIs3pQtAgZ8VvU2CGX9ZxpqU2FM8pq2lJb56gKT5vrgLa5INKi5ZCXRlFkfxSBJ0UhV0scKki1ZIYjzZq1SloRiFyhNEl7obSRCQBMHbCBe6GktMgcrHqmRVqLamkBsN7IeHK1OyauY4hmEGdmv3JsyluFz/NofHvuA79r/UFIfH/kuzyY3lvyWBCuAxoAHI87c5tAGhlMvJ7eSe/4u7jmXiMeUWUoattCDCjcTybx/bcuvAuj/vOkIovzJSRc20ye5Sqjui6kaFx3AvpZr4KtSZbU3tTNXGS7pHb636k9pVdNenHgNlJ0ufUMFv6E1p0ZiyOol+CbYppUJTxg6t7LwTDFZFzWKvVT0o/6Z4Zsk5Ic5qKpRqU6i9KZTgD99XTZjK3qp3FWP8fgu0r1+7JsMwG+dNIuni0kqzamuKpsq6NfyksgbUus3+qWbzLrnqA22WI17V+YJH456/7eFNaH33OLuT3Asox933j/jHUOCvw5yH94KgSm0trRSPSyRZiI9MPgVRJNXnt0D7DK9rT/1sQHfMliEyQQHCMJO9SZaYxAme+FlnCa//GmBHErxIhrg42gOhFNjvk71JrvzGvjXoH4u8fYpkSOC0ZO9iJbf+qxDngnBXoHeP8Xgst8oSXv89yB4uzPbLDy5RkUvuGw8eVBLrmetzM090EwiEkrzArYqfdF/WywedjPWKqpswAAAgAElEQVQg2RISz3/qZ5MhuPLEz4bEuAM5eLyXmicBsFCKN/YNAEy6+IncOp1/FYBcrCc0Fe+puEWSt+qEwk9xniRLWhTJy/O1yPa+oaA4UkmIfRXqXBjlBtyM6b6vQhxzfW7e87WAAO9UEcmUsB3+sngM9PUUbwytzBJeB/LMGA8gW2InCNLVAEuTJMCQJMWHJHrl0L6RVB8E57jsSZacpIpeBDtke9/IFd0EF1OqiGRJYYLeZ3+hC0NI0n3fhrtmC6/f87WAm2ZKi6JLwAxcHuMBLFCxHg8ltzIFV9+Eu9CFoQ50YQipIpIm+jPYIcv7+iOZZRHwRUkRZbHPMtw0XQRzl+Lz5x0HkiQk6eI/7t7O4F/5JcCOpPqQRAEKGWB2ijfJljmf2IZPqL/FYVgPCV5wVQwwZ0JrqSJY82mi16HOJEv6a4B9qucV2K2UFQheBjvCJVnS4ij3RzLLDME1uFE8H5qK9lBdHvmhzkVR7tB4opDWk3CBRMooXp4IVi+0mS0rjHJDAKxchAKS4vO21NYAHUsT00UoLI72IImCJN7FOjUNDarpB1keJbl+7EJiJaN6wOGx/5ai9sVGw+GxLyZKriFOAl9YAhXAY6BwxPEnDe3DMExNg2o5PjdJHJ9uiu/7xzIlkJSS4EXSJSTdl8SDWqO6Q8BeFeFGHgSSh0Ek1oM1z4PzLYEPJGaQTO/8OsSVJAtpIyK1nZhtTbGPxniSFDxTQpKFBeGuqlsje7Kycbr1gmYgJemiwgg3sOnG80l82eRpwHkdwyMJAlXcyLZZwQNFP+P5IJD0MjqZH+pSHONOEgQFkTzgTKeMKajFqkICxU8K2UpIigjFq3oO26VXIc7AxBXPJ2ki9qZq/ge08YNmieekiUg0mPnZRtgDuDDclSo9EmgtxRuN1uwJeJAfRokcEvgI3mB5lKwEL4BbSlgLWkiy95/BDojHti2YBrGvMe4knv82QmE5BsUlATg8aT+pMpQBowajtUo7cBdYA3SY6RKSJHwd7qo2UsTVYHFP4BfQbP6XwU5F0R6Kq1LAJcJekh/mAtp5AqwK1fXJDhY6r5yv/FDnt+GuJNoDgxVXzxpHMiSvPhxBBJIJdiL/hH8M9O84/qwxgxiGqV+7Zq7PTZIghMIVYaAvCi/unTK8bxsTY6Ma1Zob1x/Wq7PFgbUknk/ZF+lTcz8wweX8gVVzBnRthxHLzRs36N2x9e6lM3+/40CSfWAikoVb5k/p3q5li8b1GYbR1NDo0KpZn05terZvNbx3pwdiSxLHB7b9VB8S63lm65J+nc2MDCHyqrlx/UlD+/DP7yZZkrfgnlKsAdDO7we8A2zrv5/YqTW4H6vrVenSpkWfTq17d2zds4Npt7YtXU/9RMOkneHkHNkvAXbmGxcM7Na+hXF9PT3dJg3q9unYZsei73JEN8iDwBd3FcFdMOoYz4lD+3Q0bSa78TNJEq6b822Lxg0a1DEa1bfbY7k1yRAnul3o19msX2ezwFtHSZoYFwO9i/9jmfWepTN7tm9lXL92nZqGnVqbrJw5DlyOD4JeBjtC4ECC19sIN2fzbbPHDm7drBHDMEaGBh1amUwa2hv8Mw8DERx+QTwG1rHHd6IdzyyeMrJDy6Z1jQyN69Xp06nNoTVzfw2wJ6mAWkmidxr/yoCubft1afPHHYc0z8sTh/RuXL+Ocb3aq2eNJ4mwHgqj3EmG2Pvi3lljBpk1b1zXyNDI0KB9y6YzRg30uriHZEoLIsF/iI8DtPkoKM7l/LwJQ02bNkRrXe+ObY5v+JHEeKKXGMBYmvjXQPtdS2Z0bt0cz2nbssmqmePu+94iCYr0J2p8cSEPg4JtzWeNGdSqcQMQmoFBj3ame5fPBhtBthTfTjTyVup5dldH02YTBvckOfIswbWVM8eZNmvUsI6RadNGc8YOyfS6TvIC/rzrSFJ9DqyY3b1tS9OmMAsaGhrtWjTp26lNzw6mQ3t2zILQYi+S7LNo8sh2LZrYHFpP7gfuWz67dTPj+rVr9u/SNs3jMkkUwqb2+E6m17VdS2b0bG/arFE9PT2d5o3rD+7RwXzjgt/v3CZZ0pIJjeM/llsP7tGhb+c2sObTxdf2rOzTsU3DOkZN6tfp1cHUfOMCsCkk8Kl/2GP+tyM6tGq6YPI3JFYhMZQtyC1H5nNpX8/2pp1aN4Og2Tz/9d9PZBjm0Oq5JM+PXczsq0ntgMNjX1hT+q80x+Gx/8pMcuP470ngY3iMKqCQTdGjPdCy1TSoBhkyiULYjFXjFQ9vJI+DSaoo0+t6iK15xO1Tj6RWJFOGsSW4VUBT8fyncutHUkuSpOA8gC8ThI9l1s/9bEG7TfchycI0/pUQW/NIh9O/+NuRPD9wbii18Nc0pAQMh+m+zwNs413Ph9iah9qap3hcBkU5W/5SRSGmjQsey6ye+9kWhLmRh4HP/OxCbM2jHc+A2p3k/Uhq9VgGu6YakIMLY/kv7jg+EN8qiHB9q3J3tW2vnD/BqpoC5t57vhYRt0+F2Z1I97wC1tN7fq9DQOmkzNpuL+7CXQBXJAlJgiDW+WyIrfk9kQVJ9kY1JT/UERBLAj/L63qo3Ylgm+PRjmeeyKxJupgkANRR7QPMS6oPSfLO9bkZ6XA62MY82f0S2MWVCg2gghBnEg1m7Kdymzjnc8E25jFOZ0Gly5WzyATbBAU0TUziBRn8K6G2J0JszRPdLhRG8Mj996yzFIwJnvvZPJZZQ6BXohdJ9832vhFqdyLc/uQDyS2SLXurzAkhqaKncutsr+t1jWowDLNm9vgXdx1gIqRWABKo64/ECx5KLP8McgCtJc8vx+dmsM3xeJfzoMdQdRCGGS8gGeJn/rbRjmeCbY6H2Z3IEFD/Rq5/frAju2Dyw1wKqRL5QGJJYjzfhruQ+/6/33WIcTobbAPDAeO9MhPjTRhQkD8U33omtym9KkDVThL+GmD/UArzBX3IlTubg+m9q1mL5/62H8L27AT9U3iMPgheDyVWvNM7Ih1Ok1QRlbPLO6bTPctm6enqoKKsr6erpamJx9+PG0JiPACKZ4ptD2+saQDYiWGYavp61arq6+po459De3YCjoQ4fnG0x+RhYLIp/a9qFb04l3MkyZuk+twTWUwY3AvPqWlYzahG9Sr07lqamruWzCSZ0vwwWM8g23sBfhaHmzao+04H1dXVNjI0NDKsrvF+64fWzCMZYtC8c+Vxzme7tGmBv2toaFTTr8KOq1WThrIbh8jDoBd0YRTTENNWTQBCXN29cvbYwWyr2lpa0Y5nyJMQ8dUD+KXVwfUkB54LcLZk+8W4nMXYVPQ0VtFTiK5BHSPptYMAtqN5vwTYje7fDS/X1tKsYVC1ur6+Bu16FT1dq4MbkNkSXzKfz+cBD+mTu3ZHN+EDxTCMnq6OjrYWdqBXh9YPxBZgeckQB9w6glmOXhf3tGvZlB11x1YmlBfUnaT4bJg7UVO5Bqro6WLCIXLVbP1xKkkX42KGd0i2VHrtIJJD6uvp1jWqUbuGgQYd57U9qzBBkcR5PpXbDOjajopLs65Rjbq1auhow+KZN2FYyS4Q5kLu+V38aVmtGgbY/9o1qhtWr4qtdTFrkc6/TNJEGCJIsqTIftmjfSvhpb24QjQ1NfBkhmHamBjHOZ8DE1gCf+74oewwVQ+0tbRCbMxJhrQoyr1fF7N3cbwHVs7ZMHeS6jmQJp0tIw8DBed3N6HrEMJ9NTWrVtHTVoq3byezVI9L4PakcZIkyTuJd0FPB1aFv8WRmaMHYoM62tq4ABiG+W5E/6IodzCRpImWThsFktHWCrh1hHpTlWER4a4k0WsGvby5cX0woKRLAm4dllw7QJK83oS7sq+UDx1weOy/p6x9kRFxeOyLiJFrhJPA3yCBj+Gx12EusHPEen4/bnB1ff0+ndr8FmiPbitVPOZ8YttTufXSaaPr1QIlW0tLq0XjBgdXfU/SfYuiPTD2jCR5p7hf6tCymZmJsefZXSQLTJ4k1Sfi9qk2JsZtTIzfRvIS3C7OHD0Id2Udbe2Ops2AKeRBUL4SZcElDwNDbMyXThtt1rxJ1Sp6uOHVrmEwpn93+c3D5GGgwpIa6kzSxKG2J1o3bWRm0pjEenie29W+FWghmhoaG+ZN8rt5SFubadOskcuJbSTPj4VkGN/1MsRpZJ+uTRvU3bl4xl8gWAMl6fGdRLcLi6eObNYQdEqGYWrVMBjeuzPv9A6SC2wKmILy7ZBejerWcj25vSCSN3PMoCp6ugzDmDVvnOpxGYPKSK6/75X93w7p1aB2TdQ59HR1TJs1Wj1rPOzTeX5sLBZVGaWpnpfnTxzeqG4tTaoCGFarOrJv1wCLIyTDVzER8fy34a77V8w2bdoQFWtdHe0ubZpf2rmCpPki4Hkd5oJ6Xrzb+SnD+9auCXrSOyoIg2r6Q3p2dD6xjeTIEVKCWhkneCC59W6yWjdrlC288dzfdtl3Y1BR09TUbNG4wcnNC0mGFPBMllRwbnfThnVbGDfQ0gLVv1YNgxaNGzQ3rm/SqN7lXcshBChLan9ks3G92uMH9SQPAs9tX9q4QR1MSTq1eRHJlPxxx4Hk+T2QWG6aN7ltiyao/WhoaNQ1Mhzdv5vgwh6S48eqKW+oO27x1FGN6hpd2LGMPAm+sW915zYmOHCDavqj+nUDJ8nTYGg2S26xb02jukadW5sAHUWmmE2tgWHG83N9bvTu0LqFcf3LO1cAq3s8f9zAHvVq1fC5tJc8UCw89talD/4pPKYA4fGeJM+fpAAYQ8BzY99qnNYubVrYHt4YYmMuuXZw77JZdWoaMgwDJpUYT5IsXDRlJMMwc8cPcT25PcrhdJrnlQCLI1NH9MNrj62fD9FoScJ3z5rdkU14so629v6Vc+yObLp1cJ3bqZ/AMBHl/irECVXzxvVqX9+7OsXjUp7oZqDl0TH9u6O+7mi+FfX4YopqerY3ZRimR/tWvlf23xffSvG4tHvpTJy4nYunS68dhOJgMZ4k3vOx1BrdLzra2qtmjvO6sCfG4XSQ5dHVs8ZraQEyadG4QbbwOgL+4ij3P4Jut6IunXYt4IXQsnGDU5sXXtqxfOWMsY8lVuSeP4vHbA5tIDkyEFe0B2uW0tPV2fTDZNn1n4Otj9sf3Tyyb9d36/PIuh9g9aaIgm3MGYZp17LJyU0L/W8eTvW4HO9y7uKO5YiXWjdr9M7DhsFyJJb/mXgMHCmZkmDr4/jObFDH6Ny2JXcsjwVYHDm/fWl7Crr8LA7DBKX5BlI8pqer07qZMcMwQ3p2tDiw9sDK77fMnwrWjWzpvuWzcE57dWhteXB9sPXxGKczN/etaUmxK8Mwp7YsIrn+L4Md30a4vQl37dOpDU1nah9qa/5EZp0huMo7vWPC4F4XflpOsmXgWcqUbJgHIKdhnVouJ7Y9EFve97UIsDiyZNqogd3aIR4Du1VewDVlavEPE4bdtT52z/dmivulk5sWGlTTp0nL3Yuj3DF7kMVjNQ2r4a9rZk+QXz8kurx/0eRvELHPmzAUIhUThVGOZ2yPbFo9ezxCqR2Lp9sf3WR5cB1E3Sd5F0S5kmj3/l3awivXpDF6jw+u+v7G3tXLvxuT5HaRPAyKsD/VgEZWG1avunvpTPHVA3HOZyVXD077pj/KakDXdvnUtQhzAXjsor6ejoaGhllzaLBvJ7PbR7fctT7uZL61SxuFh/DCT8vg7ZEmkt88pE3X56YfJpNsGRoT6avGM9PrWl0jeAwXTx35jhkVhJkmIjly1UDi0m8Y9hsOj/0N2tJ/oUkOj/0XZpEbw39TAhXAYxBnGO3+Otwl3fPKb4G3MZQL7KPUP6ZBTYabfpjcsVUzhmGqVtGrW6sGa5leN+dbiCILg5AwkuobZn8SDfAW+9eSHDn4ZDIkfjcPMQxTu6aB04ltTajmXb1qlVo1DPBMHW3tq7tXkTyolUSDVSReF/YaVq+K9unaNQw6mZo0qGOEJzeoXTPi9imSLsFkJ5Ipk1wDO3eD2jVtD29EZirc/0b175YlVGx4Ewb3IvGC10qjI6CaXD+Ps7vwzJv71gAV5KdUS4MW7vnJb/yMSExDQ6N6Nf06NQ0Ra2lqaMDws8F5WBjJ69UBlM6j6+aPGwhExpqampoaAFTuWB0DE2+m9Oi6HxByaGpq1DSoVr+2kWE1GD7VIYxjHM+C7wutswnCDK+rpjREyqCqfr/OZkN6dMAAs8nD+pIYj7cRbq/DIPp0+sgBKMAOrZqN6N0Zo6qaNqibJbxOEsEvB2Ds0R37o4CLcFo7tGrWydTEgN5aS1PzwKq54M0IhmQ2kihI51+pQSfF9simbm1bYgZR7ZoGaAtnGGbHou9IloxkSZ3Mt8KtqUEbDqilWZ+iUPMNP0L+T6bkAi2r0Lez2bntSxGCalOb+sqZY0GzTPeNuH2qLVV3sG/1atWsXcMAAZ6utjYghBwlTA13JfFe4wf3xFw1jPnR1NAwMqxe06A6Nl6rRnXfq/sx4cf/1mEd6vxZM3sCSfN9rZx30G9y5ee3Q70HDQ0N0eX9JFNcGMnL87GAyKtSdIWsYqR68A/iMfRUw3OBHshoj18D7TvQZ7aNiXGm4Bp5FgwqbKaE3PMPszuxfeG0YrTiJ3kH25oDnk8TAZxL9oZQ2PsBz/xt0cU0aWhvkgS8HRD99Tr+xv61OPsRDqfJb5Eg1Tw/yFLLll3csRx+qqIrvLiX/BIKSTvRHuSe/29BtxE5DO7egbIUuJA8f/fTO9BVAnVvfw0nmJaTLZ1Joy5H9OkC/YnzhPtmiHctmYHzcmbrYpLnR3L9aMyzL8nz+3n1PHxYti2YStKBzFMVjzEM06m1SYr7JfIgCNZnEoQaknSJGh57cdeBZMvObVPQw/68ei7EXWdIwBd9P7A42v3EpgVup38imZI34W4kzsP15E/g28+VUy+NADzGT0OOrP0BHU2BlkdJOnhUPh+PgQM50QsjUatXrQKCfR4G85gmJvcDHkosdy2dkeN9E6YsXYHHUBqzxw6GqOAHQdDDJCFJFsY5n61lWJ1hmME9OvwaaE8e3aG5WF7kyd1Y53MtaAxhc+P6D8WW4FJO8o5zOYePPMSaPg+lIcFeMOQ4cPW/DHEqiuS9DnNBtLN+7kTyKIhE88BXnymDVRTriWuSRHs8kdvgK2jm6IEwrTS9kCQIyfNQLDygqakpOL9bsWUo/WPg66umb3N4I2CbTAncOsl7DPVM1jUyTHA9Dwsynk9exTqf3K7IH7t1lPxB12Su35twZ5gsJR5jGKZZw3pBVkdhZnP9INEu1pMkCPBVaVBVH+xoD4PQ9EDyZCTRa+FksFMwDHNj72r6BnBEPFZNH1hMqQljKLwe7wXCjPwSHuN0tgElKO7dsTVUA4/xzA9zRvl0am0Chk5qu4S3RJ4ceXEYhoFXDeUuxkRZ1fdJOcccHvtvKmyfPSoOj322CLkGOAn8TRKoAB7DXVORSa/kdCrBY9QJg3Bo1cxxsc5nfw+6Lbq8D1U9hmEcjm9R8H+k+oYr8ZjlgXUYdk8yxH4Whyk20KxeDbaxzT9MTvG4fF9kcX77MoySMmveGCzKcTRCLFt2dP18hmFWzxovu/7zr4H2r8Ocfwu8fWrLoqr64CubPXYwiReAJRUsx9J39n6Id9LRwY1wxYyx3pf23ti72uogdOD7cUMwCDOJd4EkQbAc7HCQBe6z/LsxsEM3qpcnKq/MS+kdEayb0R5P/WxQxTSoqn9s/fw0/tVfAmxDbE6snfOtBsNsmT+F5Mheh5bgMYQ9PTu0tj+6yf3MjpObFkDWxKM7Ppf3YUCXmYmx0/GtWcLrL4Md0/hXl08fo8GALbh/l7aY+AFm5nTJmtkT3ukHTerXgcz1WPeiSN4TmfWpzYuANiPRKx+gptz9DGi62lpa539aVhjpVhTp/jLY0f30jkVTvgElMpYmB2ZLAyyOoPxH9e0a43T2TYRrQbhrsvulcYMANxpW0w+zOwEKLqSmCDIFV2vQkDb0pM2fODzS4fQjqfXto5ubNayHfrBop7OgbCUIaJTpidrUCbNoyshUj8uxzudinc+9DnN5EwZkDxd+WkZvUbVqFb3q+lX2r5zjc2nf+e1L+ed2kQxpfpjLwG4QAaWno7Nj0fQoxzO/Btr/EmBr/fMGdMpV0dP1urBHWe/YmSR6TaB4rDaNhurc2sT+6KYncqsc7xvbF05DL+LQnp2KIt0Lo3lFUTxsvFXThs/97YqphgSzDHyAnqjt9e7YmsocHL9A/BAvKDPZrPTa+GfxGNsfMI5ky3wu70Ot8di6+fCE3nHAeDBFnG2qCM+Hk9PEJEvy4q7ji7sO4HwG+jhnkiJCF0G3ti2Loz3eIobPlKjwKx4nycIXdx2BYg4YC917dwR3yuRhfUi6bz5kObpCQmCIM7nnd3gtoKZ6tWpme9/A4LoTmxaixeH3oNuFka6vsP0s6dmtAIrog3mTxPKLIt1+D3JobQIOn76dzYqi3QsieGC7Qaa+KPeXIU7tWjRBBwh1SrsVR/FY/5hBtaoQyvj47ou7Dki3COPNlKrhsVd3HUk8HxMFTZs2AjqHaHe0EAGJYrgbVdO9sQVAdHl+RdG8P+86QIRkiDNcnimRXv9Zl0ayuZ7cjh7yz8Rj6LPN8bmB/szvvulP0kRwO8rvB/MYCzCsOAq6SjLE6B+DAnQYXpsiekmZBuHMLOm+FbMppmUgVezRHcV6CHV+cceBPAg4tEYBa+F9ni0jycJoxzNoGAJvz69hBRFuL4IdXyg5P2gpCN6rEOe+nSEacMaogRT4+cAqCnZkk9BA2rl+VgfXKzk5j5McOWRmguXIhSR45YluNq4P7nHAwBliMOGp4DG49dOQV3SNAWbOlWNTujraAGOypED4kSlW8CtqU37FVJGCXzHUBVKIlXhMW1vL/uhm8jyUDpyGpyYLE9wuoAtu7vghWLwBqCZDnaEb6b7JHpcRwY7p350kekF6JPWPIR4bO6AHNSIAl8yrEGfoXqZk9Szw1Glra1FM7kuypEfXwXbGMAxg6RyZgno0XjCN+p+7mrX4485txGns81uRAw6P/U0a07+9WQ6P/dtnkOv/f1cCFcNjuAFAtJsyk0oNj+np6ECMSq6cJIsKIlzI87AQG3MMoYGs61hPWm+qPDxGDed6N/atIff8gUItxp08Ddm5GMzeDMNAgFw27FWFkbznAXYQy5fhSzJlRdFubyPcIGcpW/rdSAggaWNiDJk8lPiYxWPYyP6Vc94lzAB7WDY4aki21Nl8G3pITm5aSMNFgP8a0RTSEsz/djhJ92UDAiuyEYLqky07uRm0yXdZ6We2LiHPQkicACjXMsQkS+pzeR+UwUnxfh3uyvrH3u3HvTu2fiixBLN0lhQsvrEeJNodQ7lMGtWLd71AnoaQOM+CKDeSLCJZkhUzxuIt0INXEOn2MtRpcI8OihCXBwGvkIcaaNakJEGgSL1L90VnQutmxiTGozAK4o4KqQZJEgSFUbz8UFCUSRx/8nBIB2rboskTuTXJ9XsdCglvJEee53uzKY3AXDR5JJBHBzuq4jGG0QA5ZwKnC8zLH1G3DqzDfkKif4YY4G66+EWwE/J5bF8wjdwLgHCpZJ/CKNCkWTwGKpquju2RTWCWTpeATNJ9SbbM6qBKg/cDSIqoKNqtONKd/BLmc3lf9aoQ4DSqX1eknn8dVoLH3iV1DOvVCYbz6A5VlcCN8D3NMNHW0pJcPQhwMVt2kiKBd4wUsOpy5aiBkSRhout5VED3LZ/N5uOp0i1+dHlUIjyWLt6/cg6QZFStctfaHJNz2P5jXCv756sQJ8jRShbCg0NpCYujgR1+Cc1+ad+yaX6oMxDSBDuRHIVdn/LdH8eUGHimwIN6FW0ioFgDnQ/otfQD/HvoNa2mX4XyZ4hIhhjxWKsmDZ/72RFYGIAGSbYMvUxtTIx/DbAviuaRVN8gy6OoAUPLNAqa7TnFIQqWcCPD6lGOZ0iKd2FECR77bmR/1PLZS8rAY9kyEifI9LqG3ntgX0h5j3RRQUSkfDe+DnP5865jYbgbvA8hktOLelqEoXYn0aFk9fN6RQzk58UrQldzZO5ndqI5DOIIIOatJKGUEpOCjQle1yp47Nz2peR+4EuW4CTCrSiKN34Q+JA7mDb7NfC2aq1wuDZVdNf6WHXq9vlp0XckTfQ2zDU/3KVHO0gqrlurxpVdK8D+Be8ZYG1BYeKzvIbGCmpraa3/fmKOz3V4b2eIXyohGQX23uvnAlOFadNGj2RWb8MBe+MHBBvq1MUM0gIXTRlJkrwQZmD+mGG1qtGOp0mKDwYVgzTSxHcsj2Fcw+1jWxT+tFz5e3hMJdhBFY8N6NaOxHq8twyypNY/K1iFHY9vKUVpCAYaTBQ0M2n8SAoxqCRRmMS7WI1aBg+tmQuXKIVMkafc4egWfBk60dBcEidIcr+EZq+Fk78h6b7woMV7pXlewd0TwgreT4pme1j+AYfH/rtK22eNjMNjnyU+7mJOAn+jBD4Fj6luAGp4bOuCaSTP/zVb0odu4XPGgvepVg2DZN4lUEpSROX4x96F6oEe/ziIGnehCg1JBBMsBo+d3rIYgwZBt4vlQ3wUtbO+DAZDZmGEK7nnf4DqlzUNqt0XW5B46uRR+scYhpk4tDeJExRFg2KHpYGKoj1+DbBvQy3rg7t3KIriAUMjxIr4OZlvRZwGDOalWC5U5VD6GMBMjAemlLRq2ui5vx2JgcwZWpLIGcg5KBE2mupZPGZkWB0CFIEFDuz0aH/1u3kYNS3IYcsDDwZVlF3Anp0mSuJdNKLxRdNHDiDp4rdhLgURbqP6QSpL/y5tgbv5XkB+KBRBYlPjQCfIEKOpu5Zh9Qj7U+RZaGEkjBr6QxVKqj0Lk3iXEHuc2LSQ4knII4JPPJ/k+S2nULCrWYv8UGfAcgkl/rH5E0eQLNmbcKgxBYskyv2Z3KZRvVoMwwrFw30AACAASURBVKyd/S1JE2EgE8t3v4WSBKjoZ+/hsS0/TiF5flAgK8QJq9UVRboP7Nae5uc0hYyvWOCbRlBEFUffGaMgFNOgqj7QlycI80OdWP9YyyYNs7yukxzZi7tgoQckmS3zu3kYyQ8ghQP42fmpHpfRkwaUA8ner8PoqsiRndi0AMMjQW40C6v07Jf/TSXCY6kiTPSqV6sG8NEllM0yqvCNR7mRTEmcy7nz25dtnDdpzrghQ3t27tfZrGFdqA7/UTwG80Ld4JjtCYtWQRqCqin8jx4ebS0tyCzNlpFsGf/cbgxBdDbfSp6Fgo/uQdCbMBfMWfqmTxeSBM43kiO3o/UGwBV/bItaaDEuePONMHF6Ojo+EGUqLYhwY/1j8ycOJynebJYghS6l/GMUhYbZn0RXye6lM4FxURnIWnrGYV3RfFTe6R17l89ePHXUxCG9+3dp26VNc22aM/kl8ViWFKNAGYYBn3Bm2ZHVOAWsfwzMXkpYAs97jCcbvDqqXzcS4/GGuqdwaHBCAj9TcK1RXXiKkYcDx+h5dhdiCQ0NjfYtmx5aPTdLeE3BwKQk5sn1uYH0mDSLzGj5d2Pu0sxMEuPxKsQZcmhj+RMpea+OjnbdWpAxpfqvnlENzBiEFzjY9eD9oMBj1auG2Z1kaTBgjDSEHsPCMfEPVkjF8Niofl2Lo4FmA0cNKydLunvpTAyaDbU7ofbIQ2JqkhBNEvVr1Ux2vwivx4QSPHZg5feqicd0Cnxl13/G2GxIhc0A3k6SKPiOpqK1bNyAxoK6k1wZBgjo6miH2J5Qs5WUXm9lfsPhsb9Ra/o3N83hsX/z7HF9/29L4LPxGO6d1HwIHBWKzYxaytl0C0AaaWKS7FMOHtPU1HA/vQPM21TRASUgzvOBxBIVNdCBlAoEALZQ0PAUmQ/xgt8Cb78Oc9m/Auz9VfX1KJ33e3hMU0PD9eRP5D4kobG7F9rOt8yfokh3sT8FdXhCgBTxx4lQObd9y6aAptiINRX7N9uI2gHVXbxyfW42awRBekBSl+jFZqYphAPFvsBo/TbCjcVj077pD3dX0paANpApOb7+R9Qj0WmgqjW+DnctinIf2hMqSg3s1r4I/FouJFv285q5OCNjBnT3u3kYCrDmyQuUlO6olgXcOqJgDTFpbHdkE4TZgAfAEw3bcOtsyPJCRGp5cF2m17Uk3sVk+kniXczyuob27KYNab5Zgtc7HrMMwVVMzzu9eZGqj+JNOBTkQYUMpJHqgwk87+GxjBLtFtUgVEeMDKsDpyJMCswaTHqyMNXjMmbErZ0zAdCdyoSCCpLrd3nnCtTjQWhQaboEj43s26U42v11mIKdDCYr2uN5gJ1JI6BohylIg/wikuSNGpJxvdr3fG+ROA9wDMZ4DKP1u77p06U4ilcRijO1tQFD+If47tV6AkJO8Zk5GujvjevVfupnQ6ntFUTzqidj1BmJF2yYO6mmASQXIS8CHiARXwXwGLhxhBf2oOOiTk1DPS0FLSG2Aw+gjl7TBnV7d2yd5nmFJApodo2ikECDOkYnNi2SXj/ocnL7aMr8oaejA8k82YCrSbbMgmasvUt8kl3/mX1LKJ81eI6u7IIloaOtLbywh2TLVPHYDxOGVQCPSUmqOMjyKKbFnti4QO0uqhKDp+nxHdHl/d3atsQnCDOX2P/fkYt8STyWLcMMK4ZhoCwVVDxTcvSpvK/U8Nj1PatJtgwfK3gKYj2f+9liBhcYd9JKqropUrxi+Y8klib0nQYB4TS0G96fT+74WxwZ1a8rmybasG6tc9uWANkPTceFpylTck90a8nUUWg8QovGsu9Gvw51IQkC+n7gDe3ZEaPKG9YGhK/2r3H92k0a1Dm6dr7CG18uHrtrfRxJL20ObUTLSwXx2Mi+XYsi38djmZKtP8LuUE1fD3Cmkp1fubQgZHcD9ezVqUnT1crAY5DJrDg/1Jmk+t61Po6oHrxnEH4J1ES2hzfikMGgkAMJeOirHNqrU0GkW0F4SZEP1ZVW/jGHx/7bittfHh2Hx/6y6LgLOQn8zRL4QngMWBCVeElhY86SOhzbghoJVZ6kH8FjGhrAc6iqJcTz74tv1a8FVYN3LpmBpl9QyqM9SKpvoOXRrQumjuzXFXnS6tQAtmW6d1Ypjce0tTTB06XSQ9pJAHV3rI6h2X7fitkkW06i3e+LLTCba8PciSRTUfem/M2P/RW6lyJisw4gi50WO2ZPUD1QxWNzxg4G7URZfAk05gzxSuqGMqymT7WB9zwYkImeIJj37TBFSCFlbCuMcs8Pc5k8rC/u7nq6OkN7dbI7sgly/9IVhWhBi8qW7l8xB63OGrRO1OG184AO/gFURqJ4TH5222JsBFGWmoaEEqtT0xB4zFOA4IHFY8DJkVmihdAxunWlEUezxg4mKZ+Ax2hS/jmS7I3ZWdCxdMkdq2PYc4h+fN8bQIUm5Z/fjSlhtoc30hl3ZP1jw3t3fhPuUqQsRK5IcQl27EPzmkb07kzLFruQPD/H40A68i5PCSpx5chJsnekwyn9KkB9eX7b0gqyd6jONR5XIjyWJlo751sINjMyTONfIQkCNqUHu4p1wECfThMhPZ2mpua0b/rxz+2KuH0qxvFMvMt5pDqoAB6DB012Q+EZOLjq+2d+tlDf+f1PjveN34NukxSggiBx/IcSqw6UDZXV9XFGjAyrm2/8kdyD+tFwZraMd3oHUrncPrq51DMOzxGm6OhX0YNUsQxxoYp/rGJ4DHg+Yp3P4Rtmx6LpUDCgTNgT6kzSReH2p5Bmtrlx/ZObFt61ggIV8a7nHY5tQfr4L4vHLPYrwneRtJYFAKrzWC4ecymO5v0Z7IjZfSP7di3LPyZM519BO8iSaaNIsqJ+NLxMsqQkXhBgcWTRlJEsYj++YT68OSkUgTmipcOT3S/tXzmnJeUFYRhmyoi+xdEeBZEQTYDpnW1MjNM8r9wXW6gtjDwsWp0ifENzAsv3j31ZPHZMaREDP9X7LnGo8QiUHt+gUSNdAN541XjFUv4xJ5IBeYmI6qGOAo2tLY72eOZn08KYmoRG9CNZ0mTeRYxrhdiEj9V9Lv2SKXnVZEkLH6b+zQoE1/y/TAIcHvuXTRjX3a9IAl8Qj1EOKMVmQPUkj7M70SJuT9HaX8Nj9Sge20Xx2MtgJ8jCSvBaM3sCenh0tLRq1aiup6tvXLcW6kDV9MvAY1pamu5ndpAchUmY3cPehLsWR7kPoTlX3du1fA3UAgH2RzYh3YV6TRgVezPbgtoB4rE4l3MYlAK5FtkyDLRTO1PNPzZ7zCCgIVEWRKbYQzx/4nCkG0HmcVWNGbSBJOFiSkTe3Lh+ns8NkkCLwkFlbc8ru1d2NWuBsIRhmOG9OyW5X2RhEk0Dk/lc3j9mQHfsJ1B+N2ngZL6NPLoLGfDZMgzxQipwE+P6TRvWU/20btbIrHmT5dNGkxhPiM9MEJSDxwoi3bAwFFjWPxGPxbsC3ivBY1kS+Q1g43wHJJAzWlX7RKXT98p+DPK8smsFhfcfxmNhLkURvDfhLuj4GtarU1Ekj6aUeDwDdwFQRNAwVz7Jlh9dB+R4dYwM0wG9KOrYlp7T8r+pRHgsQ3Jq8yJ0VgTeAu5EVYABOjQE2TqTFO8Yp7O1aoBnDBJ40oGxEGj3kr1JjmzFDOC8KROP6evpQsEA6q4BD0ySd7zr+TqUv3vrgqnAXwfkdV5qn+IYoEiBhyhVtOmHyQzDzBo9SHR5/6pZ48YN6jF77OADK+dAfbBc/1c0m5Ge6RNqd8KAJg1CwLNKnT1FzYZ03wWTwN3doI4RJQvhF0WW5I9VFI9FezyQWCKfJHKpv+eYpfwThbSk+7uqhsumg1jq1DQMtTtJHt8hKb4grgdBMY6n0brx5fAYAF3x1QMIWS/uWEZy38sfexXiVBTNexuhnj+m6h9jK5pMGQ52nPYtm/4aYKeaPwaLIU0su3EIgcSpzQvxTYIzBdHCYS4kC8pUBNuYt6XUKe1a0qRTWlQdSGKgvoIjSfIhubInMmtM9K2ipwsV2zIlJFG4bPpohmEa168DdRfTJSROoLYwSLzXm3DIXoYX41/1j+loa0HiropVTjV/rAz/WLbM4bgi3QugPi1SovKAuxZF8QZ3h3zdHu1bvQp1gsjtpJJ4xcNrf1DNHwPsmiNnfbm+V4DQVVHXLt0XIw4a1DF6JLU6T9lljQyqg6Ek/jNeNRwe+4o0uYoOlcNjFZUUdx4ngf+3BL4gHlPZ52DXzJbdOgDM1wzDAFVx1l/0j6niMYAKGeLtC7/DgLQfvh0WZHn0nsgCNvsMMdoyy4xX/BAeA1UjS3p6M/iCtDQ1gVk7R4YJSP26tIXkqCg3dBSobMNlhHWxv9J4RWGmlyLXYslUsCWznOklp1Fop+ofU+CxcEXj1NUjXk4Vu2r6VRLcLtBUqJJIJOBwi3bHsJb2LZs+ldtAcgXN2QCAlCt/lwfPO71j7IDuGFTWs70psAVSfVdRbzdHRuIFQZbHVkwfY0iL/BhWrwqsjKnA+sUmpfjfPAx5ETEewC+i+onxICneClUv8f+Fx6h/DLXP/Stmq5VsxlWHBGvvmF2ALQ1sBCV4bAT4x1yLIhXxP+gfexHs0NEUSjUAtUO67yv0uqSLkamypkE1KDUez+/H0sQlCktPKDuz5R9UIjyWI+ed+gkfT/AMPwh4CfyKkKQHsYK5fi9DHIEiBegidiC+BS93jvzPO7eBRo8GCiLOeQ+P5cosKVeepoYGUOQruewwLQfl3KtDaxLt8TbCBakXae4iNFgMa4z/KtT5bZhLUZSiKhRQdLyKAQryLBmguIdBJE9eFAlZoFAmnmaTPpZZGdMExZ4dWhfHeBQhvyImYab6PJRaYjHfkX27kFj+61BnVb77CuIxqEkYxevdsTXDMCaN6j2WWZEkrxJywkQhieMXRvIKI9wKInhDekD0Xb8ubUmS98sgEBeUzM6Whdqe+LL+MRh+ovBdnS58ficM6UVSfN6EQHE5miLrSDKkwFIYy4cXnQqfhxoeA6iQIdlIC4XB6/rCHvIE+RVhPbwKdiD3/bGMmJ6uDlipMqSQP5YsJOmifFq8G5ZE0G3yNARfwgZV9eGpSRIWRQLTEublvgx2+jPoNsmRh9ufwozNWwfWkRwpyZJe2gmFEN7VHoCo8id3/gy6jVmvL4IdgQ8DSlYIMLv10/GYA8n1c1MudeAwTPNV8is6l4fHaHhhuP1J7CrYkhA+UdlCnOH9gLs25ugzXz59DAQfAuaE+mPILjOyX9fCSDeI0L7r+DLYCXhE0xSUpPVq1Uhyu4CefxhRpkx+4xDy6F7ZtRILpn83coBqFZbyXyylf+XiFf/fqtS/5H4cHvuXTBTXza9QAl8Ij4EHjEa74cYAG3ymdNuCaZAVoK0NNcHApl4en4fmB+IVVfCYhMS6PxDfMm3aiGEYKBac4AWJT7HURQN4DIiDPwmPoUKT6nEZS7VuXTD1qdwGw3Ig2uR9srLSe17pb6DBGM9fAuw609Kfo/tDcrzqaa9CnAoieZiT9hE8lilV1N7R0ICKunl+rEkegGIk7487t5GMZMwAYFt+TQ3VyLgNHCfhbpSp0nvzfPAzaGpqAKMXVSle0QQ28IeAluZLcuQuJ7aho2z17AkkFer/eJzdhTFgUBggR44U1Yj3WLt4Sf7JZ+Kx9LLzx+oaGb7nHyvJHwNeAShVlCzMV8kfA30oW/bTIoDrujra0U5nSLJIlc9jWK9OJNbzbRgQRSoSYxK9UtwvInMJjD0DK9c5k0woi4eBkZd2roh3OY/ygaQUldLhqjNbkeNKgsfoKgUfIBLBG9erHWxjDuWhEPOkilxObOvTyQycFfcCAm8dQf3y8Jp5UKMsQQDP8oNA99M7kOybxWNo3RBe3Is15a7tWUX+jARDTJpvURSPZEoww1NTU+MMpech9/zAcZQOK5BkS5/52z3xsyYxPKCiSfSaQ2tRNKhjtHHeJOtDG+yObHI+sc3f4kii24Xfg+xJlrQogvcq1PlNCGQVYtiYpobGkbXzgEM11w8LqZEYT2RceEcAA8WmAWc6fTIeAwIYB5ItP6UkTYWyiinewAsK1dXkj2RWc8cP3bZgGvDBxPFnjB7IMEyrJg2f+tuQB/5QfOxR4KsQp6nDFRW0v5R/DOpDgHeaP51Sy+rqaN86sJ48CAB55gKFbMTtkyP7dvW9egCybZX1oN95otTwGDhCM8WSqwfRA9avi9kDsSV5TGtt5cpJnr/g/G7k7Rg/uCeEtkKtOX6cy7kwYJvwpVXphDCVj4MwCBZIYgTXSJrotyA7ybWDwMaJc50gIL9HuJ/diehLmS4lyFByb/bv0vaRxAqGkEmdipkS8MfGeuZAXUQIqf10PAbE9P4WioxZKEz/Wziyv5IYTyjGqOS7V/OP5Ye6APdsmOvg7sAeVL1qFYh/fhAIM54pIfcDf/G3G0nJk6pX1Qe2j1RF6imLxxiGmT5yAJRGuO9PMsXkyV2HY1t0aR3FxVOAmZZ9n1OGWx4S1bRs3ADDYoGPROWdX5HXi+o5HB77CrW5igyZw2MVkRJ3DieBf0ICn43HMENs7IAesLelAvs5eKviIO4Is4a6mrX4LdC+OMqdpH42Hkv0TgDOcSA0h4yyHPkf1JIKFXIe30EurE/CYwoK+BTvGaNAherSpvkZWt2oun6VGKezJFlZkawCkYrsXggaUhx/0jAgi69etQoU6coLQIssSCZdXBDp9kuAfUEkr1w8Blxh/hZHEBSB9yxT8ibUBS3f4J34Nez20c0o/As7liFkAr0nWwpc/5QvEazyKd7JvIuoZp3fDqe9BM8G1LFlm6KhRF5IXT11RD+S5E3iPPJ8biKd2sQhvUmqTyHlGKTUl2B6h8DOdBFJ8FIUF/5kPMb7/Y4DkuYvnDyCZEhe3HF4Q6spoL6FfB5qeAy1z+Jo90FUQ6pVozqUPciSomypwd7n9zu329Oko8E9OkA5gSg3Vb57w+pVXU/9RH4Jzw+GoliwbB7dObYBSFPeKdCgANGY2/wwl8IIKAOApVrfFRfas3QWLRdb9zGwWsPaZqf7kw4qCR5TOEjz/LG8NSbA7Fo6w/H4lmt7VrEFcEG8Kb6/B9mjcaFOTcPLO1fEOJ0NtTuxe+nMKlV0NTWhAh6LxwDmJfAzva6ht6p1M2OLfWsdj2/ZOn8KpHSm+z6WWXehdgodba0Fk0fYH9101/p44K2jjse3bFswrY1J46E9OpI4cGGRZGGC63kMfsPZYf/X1tJq16LJoTXzoPADen5SfRJ5F7BKlba21sLJ3/BO7+Cf23Vu25JR/brhhXMnDKVUmeBS+wt4DAxMsR7P/W2wSxoaGpOG9bm6e5Wj+dbdS2diaCsEJ6f60GoNUDQcGWICLI7EOZ9zPfXTAFoxT2Hj+EJ894pM3Wyp381DWH2xmn6VlTPH2RzaaH1o/fLpY5EzHVJnc2QkTcTyK6rhMbqGnUiqz5Kpo7DnXdo0v75ntfDiHpvDG9Z9/21NyuNav05NsKxl0iJgOfLdS2doaWkumjKSd/qnSIfTITbm+1fMQbIKiAuIF5BsWeCtowzDjO7f/daBtcE25lEOpy0Prm9DI4G7tW0JlSdiaEVviAdWlOHqaNrs7LbFPpf3hdufFF7Yc2770kmUfRGiajOhCN4nxCtSgxqJ5T+UWGLemkmjeld3r3Q+sW3rj1NTPa+Ai0/piVXDY4pn5J6/8OJetEdUr6q/Zf4U/rnd7md2HFs/v0d7U5TVnuUzgVqGMvir+sf0aK05uqcs9jy7c+/yWchNVU2/SoiNOckUsxHCsLqypScoCyi22bRB3dIx6p/8quHiFf8JlaqS35PDY5V8grjufcUS+EJ4jGGYCYN7PRDfAvNhjpyk+KBzjGEYIPbN9QMDc7n1oCvkH4txfyCxRB4wKGuWrDRR58g9z+5id7vSfB4fildUKDQ5cix/pF9FD+lDxg7oDkntlCLsk3ZBBcDL8+Of242BgmMHdIfKzpkSsJ2n+Sa6XRgzoDv4dtJ8Qe+P5PXqAPu6Wryiwjob7orYQ1dH+8JPS8GXlesHDodMSbj9yXYtmjIM061tyz/vOgLcjfV8LLO+vHPFQ6mlYhYypeRJsPOJbegvggKpGVCI7OJPy0CvglwgfzCcPwzK9bmJFCZ7ls0iGWKogZMp2bkEir/paGuf+2kZiBqrouX6wSUJ/DC7k0AoH+8JxnWsB1292jsIWprPo3T+WEEk73WYc0+q0HRr27Igggc9SRQoGMyV9aBL4zFQXHLkiNbokusJuS55/iCWDPGbcFesyaapqQHBdfeQTvO9+mO1axpaH9pAUsAHSO7737E6hqTtnVs3/y2wpO4q1ZBkxzeAjlijelW0WC/9bjTy9X/qkmDPrzx4LD/MpQBcK5CKiQsVFUH8X0dbe/33EyFNLsyJ3PPnn9uNVA0aGhoamhro/hrUvf3Pq4HMs13LJlh/TKHCZilWDtugvp5ulMNpcChlSVM9Lo8dCPXE8Z+Otja2hn8C/00y5fNIFDzzt0OPQUfTZpOH9504tPfEob37d22LjznDMFAbMJ4Pld+DHcnDIOm1g6bNwHOu9k9LU3PBpBH4gICDN8xFFY8B52eSIkERp4laBGRsPWjgXciRY4UMkucnv3GoZZOGardAUAqWlzTRWyA+5bGcOtraWmgNqVpF78i6H7q3hYJd1D8GbLQklv9IaoVFzFfMGEuz+EoIYNllU/4BtJMHDwViIbW+jR/Uk1av9lCNV7yyayW6ytmWAUvHehZE8OZPHM7SQqo21bZ5Y+n1n8mjYAXlT4785r41eIIGrSXAzuOwXp3gjvFeJMkr0e0CFojHNwmWw2YYpmnDuv63jqi6mrHuHwJI8OdDJ0o60qxh3STeRYj/pKWrke/eoJp+qO0JkqGglISJy5CyfD8wcXnKiVOWrWNHpKWpCXSUmbJiJR4b3rtzYSRUs2Rlosg/fBRkeXAdJiezl+NBNX09IP7NEBeEuyqiZxXxinoMw6yaOQ6tcqpXGVTVhzJx9wJeKql0YQ8CA4R3otuFujTBkmGY5dPHklQoDaLamU865vxjX7FWV97QOTxWnnS43zgJ/JMS+BJ4TFdH26x543d6RovGDXYsnn522+JpI/qhJdiseePHUisS5wmxTJ+Lx2guUJI31k3S0NBYMGmE+xkwhK+eNZ7qzYAHqpXFd18OHgN7ebTHM39bTNbHvfPSTqhtzcaTfNJGmB/m8jYMXGQTh/bG1jq1Ntny45TjG+YvmDgCwy9Xzx5P0sWvP4zHFLguVy65dhB5ovV0deaMG3Jz/9pLO5cvnjIKgyr19XQhCutB4J93IbMuxMYcZ2HnkhlO5lv553YdWPV9A0oh3b9LW/AgUddZo3q1qletsnDKN9aHNnhd2HN51wqERkaG1aGeDwbexHs+kdtgwo+2ltbEob2Pb/jR2Xyr1c/rD6+dN6o/uB32LANdBNTBT8RjULon2WfljHEon5mjB57btmTWmEGntywB4Jop+ZB/DGAq6EyuyHuOcPTk5oW3Dq7bvWQG0iQCuKWU3DQi0UXNP4Z3nDK87+kti7YvnIYVfhmGgQq5Of6skkRdPZCaj54BzFeE+k6fWIxObeVUHjym0AKj3Ui6mHd6x8zRg7q1bdnGxLhXe9NFU0ZCpYQ037cRkDwJ8/sgKNrhzNJpo/p2advSuEGvDqZ7ls16E+6SIbg+bmCPpdNGkQQvdqTA/JnifX770pF9u3ZqbdKrgykUJ4zzfBvhBiswQ0xiPK/uXjlxaO+uZi1aNmnYydRkZN+ua+d8C26cGM+3kVBLgHLu9cJKeuBFSRIC/0ccUIzmet+Y/y3w3FTTrwIpapQyBFp+EPhAbPnz6rkj+3bt2KqZmYlxj/amcycM8zy3i6T4oOEAOwn8Ewn8ZdPG9O/S7sL2pSRNrOrwhKlPFGYLr48f1HPcwB4htuZQcYF6ROEu9wNyRTd3LJ4+tGfHti2atG/ZdHT/bme2LnkeYIdUIqBbx/GLoniXdiwfM6B7+5ZNWzcz/u6b/sDf8Gv4tgXTRvTuHGxznFZxcC6IdCuKcv9x4vCBXdvfOrCWZEjxRqwwK3iQH+JE8gKCbcyXTBvdp2MbM5PGXdo0nz5qgJP51qIYd5IogElM4N/3tZg4tM/o/t0V9TPed/OCYSXek6T4uJ36ac7YwT3bm5qZGNMBdj+6bv5juTW55/+CRRG0ppz3pb0LJ3/Tr7NZC+OGXdq0+HZI7xt7V4N4k7wU5QczJLHOZ7f8OGV4786mzRq1bdFkeO/Oe5fNApNZnh9bORrlT+4HRN4+tey70QO7tTMzaWzatFH/ru1mjRl0avOiDP5VxF0g3jSx342fh/ToOH3kAIirpKtCEX6cwM8V3Zw8vO+IPl2gylmqr0Ke4a4kXXx1z6rR/bt1btO8R3vT9XO/hYKTka4kTbRtwdS+ndvuXjqLJAoxS01V7Ij2E9wubP1x6pAeHdu3aGJmYty3s9ny6WMDLY+SLGlBpCv2H1aOCh47svYHku5rvnHBgK7t2jQz7t625YJJI0DyD4JU1xveCyYo1ZetTf9lXjWcf+yfVK0q6b05PFZJJ4brFicB8jl4LEN81/o41N6tph/pcGrqCEV2BKq8DMN0aNU03P4UyYGcDbqP+obZn0RuAIv9QCMOwSc0UQf1XUhwUlIgUoWYf8/3JromIBYoiyaRJwofSa2wIjB7I4ZhhvbsyDu9A+kcS/xjWTLJtQPI1QEpWNTOrbrXluyFmZJ130/EBuvVqpHldY3Ev8cvX/qqcr6BwSYKn/vbfT8eKmKr/RvSoyOwHSYKIW1A6R8Dj5kKvyI2DvrfsxD3MzvLNPybNKpnc2gTeRqM1Y1JPNjaEVmp3bFr25aRjqdJpgyKIyULl04DNjO1f/Vr14QqsQ+CUOUC/JwtjXE6M6h7ew2ISlP/V8+oTaf0IAAAEEpJREFUhuup7ZhiRxK90vlXkKP52Pr5qgxmbyPc3oa7dWwFhBkzRg0gKVBMDOST6pPgegFdnWzT+5bPpt4/6QXKMFanpkGs81lWG0aZUNI/n2d+ttO+6Y/VddnLGYapoqu7dNpo4Pen7Cb0khL/2Dd9utzctwbjMNmr9HR10MitPqHhUJGcXdXtWzX9865TUcRfqQXEtlyp8BiqsKA954JD+/fA24+kVvBIZoiRB4LVGmExpIhIhvh1mPMjmRU8mznS4kgeSRJAOlmaKF+F/B18ZeGu4CSP4z/3s30ZChWogByP1nKA/En8NdHrN3rH3wLtSJwnEPRlSgsj3OBeGWK/m4eQKQGogB4EvApxAmd1uGtBhAvJ8w+2O4HmHsAwef6YxwgabZwnlKyI9XzmZ/tIagXlwtNEJFeOI2VngQa+AoVjUZQ7yRSX9kKApyXJC2r3xXlixTz2WnoXiMQrjHR7IrN+JreBc3L9SLQHS/X5CtI7qQQSBL8E2D73swU8SalQwCkNCXiQa4T2AiiInOINPclSVKRgszQrcsB2DN4V6b5YgPiR1AqkmuJDcvwLw12V9KTOEEOYIABkm16270WBi3LkJN33jzsOj6RWz/zoALOgPqGqfSofUtecIeEwQ5wf5vxIagm1CpJhmMVRwMyJHYOnNVn4rrBycbTHY5k1iCLWA7z3cYLSYochpIjoanF9IrN+IrOGGPg0oBeC0GhlmzAFmWJgf0n0ApitgirhdgleMMwYD5JWMrOKceXKSTz/F387eA1miKm5AbhPoARCpBsAe5WmWMFSr68jrIcseUEk76nchj4CcBVJ98VK9HiyGh7DDGSSJX0b7vZIavlHkAOMJQ1oP1QbVxxDVQDBKJqQ1qFVsxfBwNaIaa5lnFyB+HnOP8Zpd2VKgMNjZYqF+5KTQCWQwF/FY7D3xPKfym13LZ15aM082BqTvOyPbpo5elD/Lm2njAD/w1O5NclVmFTp+Z6/BdrvWT57x+LpaYKrJFEA22cs/6nMZtfSGbuXzswT3SRxJXWQCiJ5xVHu5hsXbF0wlXK1+eRj/ZkU0asQp5v71yyYNGJg13ZThve9tGP5mwhXkuz98+q5h9bMA5azSB7cMY7/WGq1c8mM3UtnQSyl0pKqtsNBN1J9wm+fRPazOeOGlEmKqHZV+X+CWpkoJIlezie2Lftu9OAeHYb17rR69nj3MzvfhLmQDFDIoIdpPpd2rtgwbxLkNaW/Z6fH9kFHeRj0SGZ9dc+qHyeNGNKz46Du7edNGHZ1z6p7vhbkfgC7u8Mokrx/DbCzPrRh+fQx3/TpMqJ3l6XTRlscWPvHXQdW2wNixgSB96W9W36c8u2QXoO6QWtH188HGndV+zelTSMZ0jcRLo7mW9fOmTBuYM9+nc2++6b/+u8n2h7emCW8zqabF0TyCsLdDq6eu3XB1EiHMyTJm1Xlgd4t2fvKrhWbfpisOkZQg3JkWcLre5fPnjqi39iBPXYsmv4swAaKyyV5Rzuc3Tx/yuG1P7wOdy1WlgtjBa6QbYKXz+V9m36YPGFwr96d2kwa1mfX0pl3rI+DCh4HUZTK80vw2Ig+nTGhbvvCacN6dRrRp8vGeZP8LY6AkTtcYeRWXuUCd8mV887swCyp7QvBIqCqkrJnVvygsuEx7DmmBRbHuJN4fnG0ByYWqg2KUpY7FUXwSALwxQNfnILM01lF1Ap2UOTcAzdXvCec/H7YFf76OswZ74glE4DHT0lIQ3LlNocUFXKDrI6Rp8Ek0r0gwg3I+iLdyR+RSOGor6cLhKgqFZCB7yEYkBv4eeL5xTHQTxYmqY8oBFTe0p3H0/IphT3kNJbS0fEu8BzF80k8kAlRUkp2vSFVDPgVoSexnkDqGKLoxqsQZwpN3zv5VYgz2xN8r9KrPD/+fwxQqrLjekWZFYuiedCxGE+cVlWdPj/U+U246xtaUYC9qvQBXBjsVBwDMiSxfKz6pXoj9hIM48Q7Fse4vw6BinBqZ+LKKYRJ+aC4ShoEZnxa1ARO5hdFuCkWhsowAceGOL+NcKOzo1hybAs4RsRa7Jd4ADMSBmuj+P01CVUBIngfWgl4LWw9wY7AaE+XFj4CapfA3Kn4x7D+2Iu7DvSVC6sxPxhMUWq9ojHz71XCpMVdJGpPTemryv+Gw2OVQLuqjF3g8FhlnBWuT5wEQAJ/FY+hybko2h3MhJkSus24QtZ4ig9gsxRvCDxTM6kCfTw9P11M4gGMKYOm6JcZYhInUN2uaOCfC6RdpfuqBtO/CnEuinIDI2uqCO5FU5sKo9zBXpsB0W4sgR74YaIhcQI+cUClXeYeBubwXJntYYUK6Hh8C/BeqCiRFTFUs+ewt1DKRE77KQQbObXWs7qXIigxkw4Q0rvLzhagJnlPMBKniqCRRCHSBpB4PhvwgzeF8cZQ8zOemSSES7JlRSrGe9RXSBaYwEF0iV7QWoYEy5exnccD4GmMcgNfR5pIcXKKDxxny6jFWtFhVF4VM5UsVBsIAEXlGFWlCoCHFoqF1QI8e2KkO4fpSBRC99IliKvVeoXLBmznWZCSp+gYtpAhzqdQQeWSEjw2vHdnwIdpImg8CWcEXAr5oUDyrnIJHEP3MqWH1kCKVBVdnTtWx1RVf7WTK/hn5cRj2Hm09Ksp02rjwiQZVRVf7QS1P+Gh+LAtv8w7Ut+pb4iNOdL2jOzXNdz+5HN/W3CdBTs9llnZHt6IHs5v+nZ5E+aqlvCjHAvgqNJzqt69D/dN7cwy/8RHvsyf2C8rcg68S2lPaAaU5HmA7VO5zVO/j3yeyG3+uAPls0uhAuAsKX8e2e6Vc4CNVKQd5TyqP0GqjStWzgfewKpnottQcffPmyC1ZvFPaLlUs6W/KftaWmKhzBZwQyyFx4CvFX8qZzVCSGSmdNMPUzAKF2wQGSVsH2X25KNfcniMU/DKlACHx8oUC/clJ4FKIIHPwGO4JaAVVvUYv0Hi9dLbhsJqq7IxY5XPip+PGzZ7F9UG8Vj1puU3jmciMBhNc6JaNWn4a6B9UTSP3T6pxZqaiqnJllp5wXZb9ieBDxBCZb9X6yc6AVR7CPVSaQif6pdqx0j0rNZUmapSBc9Ua+pDwi9T1Hht6bt/6Hs0AMOvKpOOA1TrLdsm+72aHNT+VIiOOh+UIyoNud/DY2/CXQrCIShOeb6Tmjqr6BilWHwZ4tiptQnDMAO7tiuGugWuah341D8rMx771LH8jeeDn0G4dJqC609XR9u0aaOB3dv3aN+qWcN6yD7SoVUzqJab/l4Z67+xSypP9N90FzBbZElFl/e1bdGkVdOGps0alf9p2bRhR1OTNM+rJOkvlgz+mwby1Tar9I9dqKYPfB77V8zB+hnlCwT3l/tiS+Sb7dfZrDja/XV46fdYeXC39C04PFYJtKvK2AUOj1XGWeH6xEkAJPDZeKz0TvDv+gbUoAxxiK25QVWg0V8/91sIJlRWtYLNMl7wzN82z9fiXkU+IguIvyoFPP5dMvlv9VYdjxW9D5jLHCxA9Dw/l5PbUfs/tXnhXyhGV7plDo+Vlknpb4ACMZJHEgQuJ7ZPHdHPkPJ2svl+PdubHlz1/SOpNRuCW7qFf+M34BzLlt06sI4d6UcPdHS1ofJVOoYnfJq+/m8UUSXvM2wWiYIs4TUjg6o6OlpntixSI7Ess/8w73l+nmd3QfHMKnrX96xSi84o86qPfsnhMU7BK1MCHB4rUyzcl5wEKoEEODwW4vyOxHzzfIgV0dXRhoyUTBkbZEISBHm+N81MgD2ygv/ObF2sSmjx0Y2TO+FvlQDNJvIaP7gnwzDDenV6E+ZSETwGKR+xntNHDXhHvVi7pkGy+yWS9FeK0akNjcNjagL50J+KqNpcIAV5KreOcTob5XAm8vbpdP4VmNBMCYkHytYPXf4v/R5WXRw/yuFMRT6Rt08nuF4AMhXO+vP3ey8ruKLyQ13elTJP87wS5XCGRLuXGUxbuil820Q7nkl0u0gyPzdzDNvn8Fgl0K4qYxc4PFYZZ4XrEycBkMBXj8cgoSiWP6J3l/q1a/7w7XAS7fFGWYIG7J0Jgvu+t1o1aWRUo7pRDYOPfmoYVIPqzFlStRyq0nsw983/RwJgfk4RrZwxtqZBVZjfGI+PKkmgVMW6/x50u4VxfeP6tTfMnfSunt7rv1SMTm2MHB5TE0j5f76ktIpALJHqo/gkCpGD8T8JQiAPM5JXMlh21B86SAaKo/JlyP36f5YAvD2SvEiaz4dyX0v3B8v3kTQftVJ4pc+s+DccHuMUvDIlwOGxMsXCfclJoBJIgMNjtAjYL4F2QFcY61kU5a6q4ijiFf2sc3xu5IpuVuBzAxnJKr5xcmf+3RIooCWtsr2vAz0JlKL+eGQXsMBHuz+WWz2Q3CIJgjLp2irSjto5HB5TE0hF/oRkQuXnQ1QKFWnn33IOO9iPHqi+qf4to/sa+okr9lNH+upLsLCwN+XwWCXQripjFzg8VhlnhesTJwGQAIfHKGUWUEsnCMtUuwGSxfJJghDIAD/+ERZEKtjS2K2RO/hnJQAlvyN5JFEIlNOleBQ/1DeAZDDvXm9KUeF/6JKPfs/hsY+KiDuBkwAngc+XAIfHOAWvTAlweKxMsXBfchKoBBLg8Bj1liC98od2Qfy1gv9/qBHu+39QAkq67Y97xlQ7Wf6qUD2zgsccHqugoLjTOAlwEvgcCXB4rBJoV5WxCxweq4yzwvWJkwBIgMNjFYhe+5x9kbuWkwArgb8Rj8V4vgx2hOK53IeTACeBr14CL+44kExx4cNUTs/hJKAqAQ6PqUqDO+YkUJkkgHgswQuC12lZUu5/TgKcBP4mCUDh13Rx0fPcL/kKKCoiKRLyMACqY2dJuQ8nAU4CnARIppi8iCbPMr7kq4Zr698vAQ6P/fvnkBvBf1UCxUUFsUKSIiqMdCuO4nEfTgKcBP4+CRQCV7u0+MviseLioqdZhY9SCx+lcR9OApwEOAkoJPAwtfjlr/9VzYUb11+TAIfH/prcuKs4Cfz9EigqehPr8zbCnftwEuAk8H+QQHGUR9HzvL//webuwEmAkwAnAU4CnATekwCHx94TB/cHJ4HKJIFiUviGFLzmPpwEOAn8nyRQVFiZ3gBcXzgJcBLgJMBJ4KuQAIfHvopp5gbJSYCTACcBTgKcBDgJcBLgJMBJgJNAJZQAh8cq4aRwXeIkwEmAkwAnAU4CnAQ4CXAS4CTASeCrkACHx76KaeYGyUmAkwAnAU4CnAQ4CXAS4CTASYCTQCWUAIfHKuGkcF3iJMBJgJMAJwFOApwEOAlwEuAkwEngq5AAh8e+imnmBslJgJMAJwFOApwEOAlwEuAkwEmAk0AllACHxyrhpHBd4iTASYCTACcBTgKcBDgJcBLgJMBJ4KuQAIfHvopp5gbJSYCTACcBTgKcBDgJcBLgJMBJgJNAJZQAh8cq4aRwXeIkwEmAkwAnAU4CnAQ4CXAS4CTASeCrkACHx76KaeYGyUmAkwAnAU4CnAQ4CXAS4CTASYCTQCWUAIfHKuGkcF3iJMBJgJMAJwFOApwEOAlwEuAkwEngq5DA/wByFBtKQuVmUwAAAABJRU5ErkJggg==)"
      ]
    },
    {
      "cell_type": "code",
      "execution_count": 28,
      "metadata": {
        "id": "sK_em0Wr8wCl"
      },
      "outputs": [],
      "source": [
        "from keras.models import Sequential\n",
        "from keras.layers import Dense, Dropout\n",
        "from keras.callbacks import EarlyStopping"
      ]
    },
    {
      "cell_type": "code",
      "execution_count": 29,
      "metadata": {
        "id": "5t-Z74em8xNC"
      },
      "outputs": [
        {
          "name": "stdout",
          "output_type": "stream",
          "text": [
            "WARNING:tensorflow:From e:\\DL_6to8\\repository\\venv\\Lib\\site-packages\\keras\\src\\backend.py:873: The name tf.get_default_graph is deprecated. Please use tf.compat.v1.get_default_graph instead.\n",
            "\n"
          ]
        }
      ],
      "source": [
        "model = Sequential()\n",
        "\n",
        "#Create Dense layer 1\n",
        "model.add(Dense(units=64, activation='relu', input_shape=(xtrain.shape[1],)))\n",
        "#Add dropout layer 1\n",
        "model.add(Dropout(rate=0.3))\n",
        "#Create Dense layer 2\n",
        "model.add(Dense(units=32, activation='relu'))\n",
        "#Output layer should have 4 neurons because there are 4 classses in this data\n",
        "model.add(Dense(units=4, activation='softmax'))"
      ]
    },
    {
      "cell_type": "code",
      "execution_count": 30,
      "metadata": {
        "colab": {
          "base_uri": "https://localhost:8080/"
        },
        "id": "MiVHukYGHNcO",
        "outputId": "c82c914e-4ebe-492b-dee1-a35b03b59a42"
      },
      "outputs": [
        {
          "name": "stdout",
          "output_type": "stream",
          "text": [
            "Model: \"sequential\"\n",
            "_________________________________________________________________\n",
            " Layer (type)                Output Shape              Param #   \n",
            "=================================================================\n",
            " dense (Dense)               (None, 64)                1344      \n",
            "                                                                 \n",
            " dropout (Dropout)           (None, 64)                0         \n",
            "                                                                 \n",
            " dense_1 (Dense)             (None, 32)                2080      \n",
            "                                                                 \n",
            " dense_2 (Dense)             (None, 4)                 132       \n",
            "                                                                 \n",
            "=================================================================\n",
            "Total params: 3556 (13.89 KB)\n",
            "Trainable params: 3556 (13.89 KB)\n",
            "Non-trainable params: 0 (0.00 Byte)\n",
            "_________________________________________________________________\n"
          ]
        }
      ],
      "source": [
        "model.summary()"
      ]
    },
    {
      "cell_type": "markdown",
      "metadata": {
        "id": "zwYDa6SuHRns"
      },
      "source": [
        "**Compile the Model**"
      ]
    },
    {
      "cell_type": "code",
      "execution_count": 31,
      "metadata": {
        "id": "y8Rmo9XMHPlB"
      },
      "outputs": [
        {
          "name": "stdout",
          "output_type": "stream",
          "text": [
            "WARNING:tensorflow:From e:\\DL_6to8\\repository\\venv\\Lib\\site-packages\\keras\\src\\optimizers\\__init__.py:309: The name tf.train.Optimizer is deprecated. Please use tf.compat.v1.train.Optimizer instead.\n",
            "\n"
          ]
        }
      ],
      "source": [
        "model.compile(optimizer='adam', loss='categorical_crossentropy', metrics=['accuracy'])"
      ]
    },
    {
      "cell_type": "markdown",
      "metadata": {
        "id": "9IS7I_OrHjhH"
      },
      "source": [
        "**Add early stopping**"
      ]
    },
    {
      "cell_type": "code",
      "execution_count": 32,
      "metadata": {
        "id": "C-KVRhAeHhED"
      },
      "outputs": [],
      "source": [
        "es = EarlyStopping(monitor='val_loss', patience=10)"
      ]
    },
    {
      "cell_type": "markdown",
      "metadata": {
        "id": "pIpdXfQaHzKM"
      },
      "source": [
        "**Training the model**"
      ]
    },
    {
      "cell_type": "code",
      "execution_count": 33,
      "metadata": {
        "colab": {
          "base_uri": "https://localhost:8080/"
        },
        "id": "0hkM7Y79Hyhx",
        "outputId": "319fff3f-b582-4b09-dfb9-94f4d48e0120"
      },
      "outputs": [
        {
          "name": "stdout",
          "output_type": "stream",
          "text": [
            "Epoch 1/200\n",
            "WARNING:tensorflow:From e:\\DL_6to8\\repository\\venv\\Lib\\site-packages\\keras\\src\\utils\\tf_utils.py:492: The name tf.ragged.RaggedTensorValue is deprecated. Please use tf.compat.v1.ragged.RaggedTensorValue instead.\n",
            "\n",
            "WARNING:tensorflow:From e:\\DL_6to8\\repository\\venv\\Lib\\site-packages\\keras\\src\\engine\\base_layer_utils.py:384: The name tf.executing_eagerly_outside_functions is deprecated. Please use tf.compat.v1.executing_eagerly_outside_functions instead.\n",
            "\n",
            "40/40 [==============================] - 7s 20ms/step - loss: 1.3608 - accuracy: 0.3227 - val_loss: 1.2536 - val_accuracy: 0.4719\n",
            "Epoch 2/200\n",
            "40/40 [==============================] - 0s 4ms/step - loss: 1.1914 - accuracy: 0.4820 - val_loss: 1.0917 - val_accuracy: 0.5688\n",
            "Epoch 3/200\n",
            "40/40 [==============================] - 0s 3ms/step - loss: 1.0268 - accuracy: 0.5414 - val_loss: 0.9209 - val_accuracy: 0.6000\n",
            "Epoch 4/200\n",
            "40/40 [==============================] - 0s 3ms/step - loss: 0.8643 - accuracy: 0.6461 - val_loss: 0.7776 - val_accuracy: 0.6750\n",
            "Epoch 5/200\n",
            "40/40 [==============================] - 0s 3ms/step - loss: 0.7357 - accuracy: 0.6852 - val_loss: 0.6715 - val_accuracy: 0.7344\n",
            "Epoch 6/200\n",
            "40/40 [==============================] - 0s 3ms/step - loss: 0.6466 - accuracy: 0.7453 - val_loss: 0.5809 - val_accuracy: 0.7781\n",
            "Epoch 7/200\n",
            "40/40 [==============================] - 0s 3ms/step - loss: 0.5645 - accuracy: 0.7711 - val_loss: 0.5101 - val_accuracy: 0.8188\n",
            "Epoch 8/200\n",
            "40/40 [==============================] - 0s 4ms/step - loss: 0.5090 - accuracy: 0.8102 - val_loss: 0.4516 - val_accuracy: 0.8406\n",
            "Epoch 9/200\n",
            "40/40 [==============================] - 0s 3ms/step - loss: 0.4651 - accuracy: 0.8297 - val_loss: 0.4060 - val_accuracy: 0.8656\n",
            "Epoch 10/200\n",
            "40/40 [==============================] - 0s 3ms/step - loss: 0.4202 - accuracy: 0.8461 - val_loss: 0.3739 - val_accuracy: 0.8750\n",
            "Epoch 11/200\n",
            "40/40 [==============================] - 0s 3ms/step - loss: 0.3906 - accuracy: 0.8555 - val_loss: 0.3461 - val_accuracy: 0.8844\n",
            "Epoch 12/200\n",
            "40/40 [==============================] - 0s 3ms/step - loss: 0.3641 - accuracy: 0.8586 - val_loss: 0.3270 - val_accuracy: 0.8813\n",
            "Epoch 13/200\n",
            "40/40 [==============================] - 0s 3ms/step - loss: 0.3464 - accuracy: 0.8641 - val_loss: 0.3083 - val_accuracy: 0.8844\n",
            "Epoch 14/200\n",
            "40/40 [==============================] - 0s 3ms/step - loss: 0.3169 - accuracy: 0.8750 - val_loss: 0.2843 - val_accuracy: 0.9094\n",
            "Epoch 15/200\n",
            "40/40 [==============================] - 0s 4ms/step - loss: 0.2947 - accuracy: 0.8875 - val_loss: 0.2756 - val_accuracy: 0.9187\n",
            "Epoch 16/200\n",
            "40/40 [==============================] - 0s 4ms/step - loss: 0.2857 - accuracy: 0.8867 - val_loss: 0.2617 - val_accuracy: 0.9062\n",
            "Epoch 17/200\n",
            "40/40 [==============================] - 0s 3ms/step - loss: 0.2760 - accuracy: 0.8984 - val_loss: 0.2445 - val_accuracy: 0.9062\n",
            "Epoch 18/200\n",
            "40/40 [==============================] - 0s 3ms/step - loss: 0.2663 - accuracy: 0.9047 - val_loss: 0.2361 - val_accuracy: 0.9156\n",
            "Epoch 19/200\n",
            "40/40 [==============================] - 0s 3ms/step - loss: 0.2510 - accuracy: 0.9016 - val_loss: 0.2307 - val_accuracy: 0.9156\n",
            "Epoch 20/200\n",
            "40/40 [==============================] - 0s 3ms/step - loss: 0.2312 - accuracy: 0.9078 - val_loss: 0.2265 - val_accuracy: 0.9219\n",
            "Epoch 21/200\n",
            "40/40 [==============================] - 0s 3ms/step - loss: 0.2309 - accuracy: 0.9062 - val_loss: 0.2143 - val_accuracy: 0.9219\n",
            "Epoch 22/200\n",
            "40/40 [==============================] - 0s 3ms/step - loss: 0.2201 - accuracy: 0.9141 - val_loss: 0.2133 - val_accuracy: 0.9187\n",
            "Epoch 23/200\n",
            "40/40 [==============================] - 0s 4ms/step - loss: 0.1998 - accuracy: 0.9289 - val_loss: 0.2017 - val_accuracy: 0.9250\n",
            "Epoch 24/200\n",
            "40/40 [==============================] - 0s 4ms/step - loss: 0.1980 - accuracy: 0.9180 - val_loss: 0.1982 - val_accuracy: 0.9156\n",
            "Epoch 25/200\n",
            "40/40 [==============================] - 0s 4ms/step - loss: 0.1825 - accuracy: 0.9305 - val_loss: 0.2028 - val_accuracy: 0.9156\n",
            "Epoch 26/200\n",
            "40/40 [==============================] - 0s 3ms/step - loss: 0.1867 - accuracy: 0.9266 - val_loss: 0.2048 - val_accuracy: 0.9125\n",
            "Epoch 27/200\n",
            "40/40 [==============================] - 0s 3ms/step - loss: 0.1854 - accuracy: 0.9305 - val_loss: 0.1919 - val_accuracy: 0.9250\n",
            "Epoch 28/200\n",
            "40/40 [==============================] - 0s 3ms/step - loss: 0.1857 - accuracy: 0.9266 - val_loss: 0.2020 - val_accuracy: 0.9156\n",
            "Epoch 29/200\n",
            "40/40 [==============================] - 0s 3ms/step - loss: 0.1865 - accuracy: 0.9227 - val_loss: 0.1908 - val_accuracy: 0.9219\n",
            "Epoch 30/200\n",
            "40/40 [==============================] - 0s 4ms/step - loss: 0.1809 - accuracy: 0.9312 - val_loss: 0.1882 - val_accuracy: 0.9281\n",
            "Epoch 31/200\n",
            "40/40 [==============================] - 0s 4ms/step - loss: 0.1647 - accuracy: 0.9383 - val_loss: 0.1822 - val_accuracy: 0.9250\n",
            "Epoch 32/200\n",
            "40/40 [==============================] - 0s 3ms/step - loss: 0.1587 - accuracy: 0.9367 - val_loss: 0.1870 - val_accuracy: 0.9219\n",
            "Epoch 33/200\n",
            "40/40 [==============================] - 0s 3ms/step - loss: 0.1622 - accuracy: 0.9312 - val_loss: 0.1854 - val_accuracy: 0.9062\n",
            "Epoch 34/200\n",
            "40/40 [==============================] - 0s 4ms/step - loss: 0.1491 - accuracy: 0.9398 - val_loss: 0.1750 - val_accuracy: 0.9125\n",
            "Epoch 35/200\n",
            "40/40 [==============================] - 0s 4ms/step - loss: 0.1453 - accuracy: 0.9430 - val_loss: 0.1782 - val_accuracy: 0.9187\n",
            "Epoch 36/200\n",
            "40/40 [==============================] - 0s 5ms/step - loss: 0.1495 - accuracy: 0.9414 - val_loss: 0.1907 - val_accuracy: 0.9125\n",
            "Epoch 37/200\n",
            "40/40 [==============================] - 0s 5ms/step - loss: 0.1534 - accuracy: 0.9430 - val_loss: 0.1905 - val_accuracy: 0.9187\n",
            "Epoch 38/200\n",
            "40/40 [==============================] - 0s 3ms/step - loss: 0.1389 - accuracy: 0.9453 - val_loss: 0.1726 - val_accuracy: 0.9250\n",
            "Epoch 39/200\n",
            "40/40 [==============================] - 0s 3ms/step - loss: 0.1305 - accuracy: 0.9508 - val_loss: 0.1737 - val_accuracy: 0.9187\n",
            "Epoch 40/200\n",
            "40/40 [==============================] - 0s 4ms/step - loss: 0.1281 - accuracy: 0.9531 - val_loss: 0.1724 - val_accuracy: 0.9187\n",
            "Epoch 41/200\n",
            "40/40 [==============================] - 0s 4ms/step - loss: 0.1456 - accuracy: 0.9398 - val_loss: 0.1637 - val_accuracy: 0.9187\n",
            "Epoch 42/200\n",
            "40/40 [==============================] - 0s 4ms/step - loss: 0.1329 - accuracy: 0.9461 - val_loss: 0.1656 - val_accuracy: 0.9219\n",
            "Epoch 43/200\n",
            "40/40 [==============================] - 0s 4ms/step - loss: 0.1285 - accuracy: 0.9523 - val_loss: 0.1656 - val_accuracy: 0.9312\n",
            "Epoch 44/200\n",
            "40/40 [==============================] - 0s 3ms/step - loss: 0.1296 - accuracy: 0.9500 - val_loss: 0.1713 - val_accuracy: 0.9250\n",
            "Epoch 45/200\n",
            "40/40 [==============================] - 0s 3ms/step - loss: 0.1256 - accuracy: 0.9531 - val_loss: 0.1700 - val_accuracy: 0.9187\n",
            "Epoch 46/200\n",
            "40/40 [==============================] - 0s 3ms/step - loss: 0.1129 - accuracy: 0.9664 - val_loss: 0.1680 - val_accuracy: 0.9250\n",
            "Epoch 47/200\n",
            "40/40 [==============================] - 0s 4ms/step - loss: 0.1155 - accuracy: 0.9477 - val_loss: 0.1696 - val_accuracy: 0.9281\n",
            "Epoch 48/200\n",
            "40/40 [==============================] - 0s 4ms/step - loss: 0.1232 - accuracy: 0.9508 - val_loss: 0.1773 - val_accuracy: 0.9281\n",
            "Epoch 49/200\n",
            "40/40 [==============================] - 0s 3ms/step - loss: 0.1259 - accuracy: 0.9516 - val_loss: 0.1593 - val_accuracy: 0.9375\n",
            "Epoch 50/200\n",
            "40/40 [==============================] - 0s 3ms/step - loss: 0.1014 - accuracy: 0.9641 - val_loss: 0.1664 - val_accuracy: 0.9281\n",
            "Epoch 51/200\n",
            "40/40 [==============================] - 0s 4ms/step - loss: 0.1072 - accuracy: 0.9609 - val_loss: 0.1545 - val_accuracy: 0.9219\n",
            "Epoch 52/200\n",
            "40/40 [==============================] - 0s 5ms/step - loss: 0.0975 - accuracy: 0.9641 - val_loss: 0.1662 - val_accuracy: 0.9250\n",
            "Epoch 53/200\n",
            "40/40 [==============================] - 0s 4ms/step - loss: 0.1036 - accuracy: 0.9656 - val_loss: 0.1547 - val_accuracy: 0.9406\n",
            "Epoch 54/200\n",
            "40/40 [==============================] - 0s 3ms/step - loss: 0.1004 - accuracy: 0.9656 - val_loss: 0.1671 - val_accuracy: 0.9281\n",
            "Epoch 55/200\n",
            "40/40 [==============================] - 0s 4ms/step - loss: 0.0965 - accuracy: 0.9664 - val_loss: 0.1648 - val_accuracy: 0.9219\n",
            "Epoch 56/200\n",
            "40/40 [==============================] - 0s 5ms/step - loss: 0.1103 - accuracy: 0.9563 - val_loss: 0.1709 - val_accuracy: 0.9187\n",
            "Epoch 57/200\n",
            "40/40 [==============================] - 0s 4ms/step - loss: 0.0979 - accuracy: 0.9648 - val_loss: 0.1608 - val_accuracy: 0.9250\n",
            "Epoch 58/200\n",
            "40/40 [==============================] - 0s 3ms/step - loss: 0.0980 - accuracy: 0.9578 - val_loss: 0.1623 - val_accuracy: 0.9375\n",
            "Epoch 59/200\n",
            "40/40 [==============================] - 0s 4ms/step - loss: 0.0896 - accuracy: 0.9711 - val_loss: 0.1659 - val_accuracy: 0.9375\n",
            "Epoch 60/200\n",
            "40/40 [==============================] - 0s 4ms/step - loss: 0.0960 - accuracy: 0.9633 - val_loss: 0.1640 - val_accuracy: 0.9344\n",
            "Epoch 61/200\n",
            "40/40 [==============================] - 0s 3ms/step - loss: 0.0886 - accuracy: 0.9672 - val_loss: 0.1620 - val_accuracy: 0.9156\n"
          ]
        }
      ],
      "source": [
        "hist = model.fit(xtrain, ytrain_cat, validation_split=0.2, epochs=200, callbacks=[es])"
      ]
    },
    {
      "cell_type": "markdown",
      "metadata": {
        "id": "6CW5g1CCIE5z"
      },
      "source": [
        "### **Plot the Learning Curve**"
      ]
    },
    {
      "cell_type": "code",
      "execution_count": 34,
      "metadata": {
        "colab": {
          "base_uri": "https://localhost:8080/",
          "height": 487
        },
        "id": "KbCz2Y6TIB83",
        "outputId": "8eb58f21-01f9-44de-9d3f-819511c985ab"
      },
      "outputs": [
        {
          "data": {
            "image/png": "[encoded data removed]",
            "text/plain": [
              "<Figure size 1000x500 with 1 Axes>"
            ]
          },
          "metadata": {},
          "output_type": "display_data"
        }
      ],
      "source": [
        "import matplotlib.pyplot as plt\n",
        "plt.figure(figsize=(10,5))\n",
        "plt.plot(hist.history['loss'], label='Training Loss')\n",
        "plt.plot(hist.history['val_loss'], label='Validation Loss')\n",
        "plt.xlabel('Epochs')\n",
        "plt.ylabel('Categorical Cross Entropy')\n",
        "plt.title('Learning Curve')\n",
        "plt.legend()\n",
        "plt.show()"
      ]
    },
    {
      "cell_type": "markdown",
      "metadata": {
        "id": "LM1E9mOLI5j3"
      },
      "source": [
        "**Evaluate the model**"
      ]
    },
    {
      "cell_type": "code",
      "execution_count": 35,
      "metadata": {
        "colab": {
          "base_uri": "https://localhost:8080/"
        },
        "id": "xKFbceodI3-c",
        "outputId": "186bc112-d696-4baf-ce23-338d975f707b"
      },
      "outputs": [
        {
          "name": "stdout",
          "output_type": "stream",
          "text": [
            "50/50 [==============================] - 0s 2ms/step - loss: 0.0583 - accuracy: 0.9800\n"
          ]
        },
        {
          "data": {
            "text/plain": [
              "[0.05825559049844742, 0.9800000190734863]"
            ]
          },
          "execution_count": 35,
          "metadata": {},
          "output_type": "execute_result"
        }
      ],
      "source": [
        "model.evaluate(xtrain, ytrain_cat)"
      ]
    },
    {
      "cell_type": "code",
      "execution_count": 36,
      "metadata": {
        "colab": {
          "base_uri": "https://localhost:8080/"
        },
        "id": "IKPEuYx4JFZU",
        "outputId": "342044e1-8b97-4c6f-cc80-dd2934e0462a"
      },
      "outputs": [
        {
          "name": "stdout",
          "output_type": "stream",
          "text": [
            "13/13 [==============================] - 0s 2ms/step - loss: 0.1671 - accuracy: 0.9200\n"
          ]
        },
        {
          "data": {
            "text/plain": [
              "[0.16711439192295074, 0.9200000166893005]"
            ]
          },
          "execution_count": 36,
          "metadata": {},
          "output_type": "execute_result"
        }
      ],
      "source": [
        "model.evaluate(xtest, ytest_cat)"
      ]
    },
    {
      "cell_type": "markdown",
      "metadata": {
        "id": "z5lsRB6jJKNt"
      },
      "source": [
        "**Get probability for train and test**"
      ]
    },
    {
      "cell_type": "code",
      "execution_count": 37,
      "metadata": {
        "colab": {
          "base_uri": "https://localhost:8080/"
        },
        "id": "vcNEhpAnJJEC",
        "outputId": "b36cf94a-7f6f-4a27-a48a-92a859ee12e1"
      },
      "outputs": [
        {
          "name": "stdout",
          "output_type": "stream",
          "text": [
            "50/50 [==============================] - 0s 2ms/step\n",
            "13/13 [==============================] - 0s 1ms/step\n"
          ]
        }
      ],
      "source": [
        "yprob_train = model.predict(xtrain)\n",
        "yprob_test = model.predict(xtest)"
      ]
    },
    {
      "cell_type": "code",
      "execution_count": 38,
      "metadata": {
        "colab": {
          "base_uri": "https://localhost:8080/"
        },
        "id": "ZlniOLyYJWP5",
        "outputId": "31d1f656-c4e9-44ab-eb9f-f35b2ead3cd4"
      },
      "outputs": [
        {
          "data": {
            "text/plain": [
              "array([[5.3111567e-06, 9.1359419e-01, 8.6400531e-02, 8.4726182e-09],\n",
              "       [6.7286774e-20, 2.0874641e-07, 8.1318134e-01, 1.8681848e-01],\n",
              "       [8.9553797e-01, 1.0446207e-01, 3.1528204e-09, 1.6382362e-22],\n",
              "       [1.3857603e-21, 4.3226325e-09, 1.2801747e-01, 8.7198251e-01],\n",
              "       [4.8367794e-05, 9.9887592e-01, 1.0756525e-03, 4.8010294e-13]],\n",
              "      dtype=float32)"
            ]
          },
          "execution_count": 38,
          "metadata": {},
          "output_type": "execute_result"
        }
      ],
      "source": [
        "yprob_train[0:5]"
      ]
    },
    {
      "cell_type": "code",
      "execution_count": 39,
      "metadata": {
        "colab": {
          "base_uri": "https://localhost:8080/"
        },
        "id": "puoqzAD4JZAA",
        "outputId": "0afbef21-523c-4322-c176-7acf5b4498d7"
      },
      "outputs": [
        {
          "data": {
            "text/plain": [
              "array([[9.93374169e-01, 6.62580971e-03, 2.19505497e-10, 9.52265869e-24],\n",
              "       [3.03191916e-11, 8.41090642e-03, 9.91574705e-01, 1.43299321e-05],\n",
              "       [6.04373345e-04, 9.97546732e-01, 1.84883142e-03, 6.35014665e-13],\n",
              "       [5.74536500e-30, 2.32250742e-14, 3.55399854e-04, 9.99644637e-01],\n",
              "       [3.27685557e-05, 9.85816598e-01, 1.41506325e-02, 1.03119235e-10]],\n",
              "      dtype=float32)"
            ]
          },
          "execution_count": 39,
          "metadata": {},
          "output_type": "execute_result"
        }
      ],
      "source": [
        "yprob_test[0:5]"
      ]
    },
    {
      "cell_type": "markdown",
      "metadata": {
        "id": "PS2PErtDJdVT"
      },
      "source": [
        "**Get predictions out of probability**"
      ]
    },
    {
      "cell_type": "code",
      "execution_count": 40,
      "metadata": {
        "id": "OWlN_APQJcJt"
      },
      "outputs": [],
      "source": [
        "import numpy as np\n",
        "ypred_train = np.argmax(yprob_train, axis=1)\n",
        "ypred_test = np.argmax(yprob_test, axis=1)"
      ]
    },
    {
      "cell_type": "code",
      "execution_count": 41,
      "metadata": {
        "colab": {
          "base_uri": "https://localhost:8080/"
        },
        "id": "Px49zhCVJxA8",
        "outputId": "95fcdb6f-f9fa-4d3b-e9a6-4a5bf5336f57"
      },
      "outputs": [
        {
          "data": {
            "text/plain": [
              "array([1, 2, 0, 3, 1], dtype=int64)"
            ]
          },
          "execution_count": 41,
          "metadata": {},
          "output_type": "execute_result"
        }
      ],
      "source": [
        "ypred_train[0:5]"
      ]
    },
    {
      "cell_type": "code",
      "execution_count": 42,
      "metadata": {
        "colab": {
          "base_uri": "https://localhost:8080/",
          "height": 206
        },
        "id": "aEknXuFoJzON",
        "outputId": "6744be38-74bc-4799-d094-a688ba046cbf"
      },
      "outputs": [
        {
          "data": {
            "text/html": [
              "<div>\n",
              "<style scoped>\n",
              "    .dataframe tbody tr th:only-of-type {\n",
              "        vertical-align: middle;\n",
              "    }\n",
              "\n",
              "    .dataframe tbody tr th {\n",
              "        vertical-align: top;\n",
              "    }\n",
              "\n",
              "    .dataframe thead th {\n",
              "        text-align: right;\n",
              "    }\n",
              "</style>\n",
              "<table border=\"1\" class=\"dataframe\">\n",
              "  <thead>\n",
              "    <tr style=\"text-align: right;\">\n",
              "      <th></th>\n",
              "      <th>price_range</th>\n",
              "    </tr>\n",
              "  </thead>\n",
              "  <tbody>\n",
              "    <tr>\n",
              "      <th>968</th>\n",
              "      <td>1</td>\n",
              "    </tr>\n",
              "    <tr>\n",
              "      <th>240</th>\n",
              "      <td>2</td>\n",
              "    </tr>\n",
              "    <tr>\n",
              "      <th>819</th>\n",
              "      <td>0</td>\n",
              "    </tr>\n",
              "    <tr>\n",
              "      <th>692</th>\n",
              "      <td>3</td>\n",
              "    </tr>\n",
              "    <tr>\n",
              "      <th>420</th>\n",
              "      <td>1</td>\n",
              "    </tr>\n",
              "  </tbody>\n",
              "</table>\n",
              "</div>"
            ],
            "text/plain": [
              "     price_range\n",
              "968            1\n",
              "240            2\n",
              "819            0\n",
              "692            3\n",
              "420            1"
            ]
          },
          "execution_count": 42,
          "metadata": {},
          "output_type": "execute_result"
        }
      ],
      "source": [
        "ytrain.head()"
      ]
    },
    {
      "cell_type": "code",
      "execution_count": 43,
      "metadata": {
        "colab": {
          "base_uri": "https://localhost:8080/"
        },
        "id": "Dj_MbXebJ1dr",
        "outputId": "d1f86750-5639-406d-d3e9-f3d251307be0"
      },
      "outputs": [
        {
          "data": {
            "text/plain": [
              "array([0, 2, 1, 3, 1], dtype=int64)"
            ]
          },
          "execution_count": 43,
          "metadata": {},
          "output_type": "execute_result"
        }
      ],
      "source": [
        "ypred_test[0:5]"
      ]
    },
    {
      "cell_type": "code",
      "execution_count": 44,
      "metadata": {
        "colab": {
          "base_uri": "https://localhost:8080/",
          "height": 206
        },
        "id": "KjNg4TjhJ4Es",
        "outputId": "02aee1a6-0aa1-45e4-d4fe-c4061b4e6d36"
      },
      "outputs": [
        {
          "data": {
            "text/html": [
              "<div>\n",
              "<style scoped>\n",
              "    .dataframe tbody tr th:only-of-type {\n",
              "        vertical-align: middle;\n",
              "    }\n",
              "\n",
              "    .dataframe tbody tr th {\n",
              "        vertical-align: top;\n",
              "    }\n",
              "\n",
              "    .dataframe thead th {\n",
              "        text-align: right;\n",
              "    }\n",
              "</style>\n",
              "<table border=\"1\" class=\"dataframe\">\n",
              "  <thead>\n",
              "    <tr style=\"text-align: right;\">\n",
              "      <th></th>\n",
              "      <th>price_range</th>\n",
              "    </tr>\n",
              "  </thead>\n",
              "  <tbody>\n",
              "    <tr>\n",
              "      <th>1860</th>\n",
              "      <td>0</td>\n",
              "    </tr>\n",
              "    <tr>\n",
              "      <th>353</th>\n",
              "      <td>2</td>\n",
              "    </tr>\n",
              "    <tr>\n",
              "      <th>1333</th>\n",
              "      <td>1</td>\n",
              "    </tr>\n",
              "    <tr>\n",
              "      <th>905</th>\n",
              "      <td>3</td>\n",
              "    </tr>\n",
              "    <tr>\n",
              "      <th>1289</th>\n",
              "      <td>1</td>\n",
              "    </tr>\n",
              "  </tbody>\n",
              "</table>\n",
              "</div>"
            ],
            "text/plain": [
              "      price_range\n",
              "1860            0\n",
              "353             2\n",
              "1333            1\n",
              "905             3\n",
              "1289            1"
            ]
          },
          "execution_count": 44,
          "metadata": {},
          "output_type": "execute_result"
        }
      ],
      "source": [
        "ytest.head()"
      ]
    },
    {
      "cell_type": "markdown",
      "metadata": {
        "id": "CVmWA0C4KBD0"
      },
      "source": [
        "### **Plot confusion matrix**"
      ]
    },
    {
      "cell_type": "code",
      "execution_count": 45,
      "metadata": {
        "colab": {
          "base_uri": "https://localhost:8080/",
          "height": 468
        },
        "id": "8EOwYe30J9f-",
        "outputId": "c1800f43-a319-4688-b802-6cbb1f76434b"
      },
      "outputs": [
        {
          "data": {
            "text/plain": [
              "<sklearn.metrics._plot.confusion_matrix.ConfusionMatrixDisplay at 0x15e13ce0ad0>"
            ]
          },
          "execution_count": 45,
          "metadata": {},
          "output_type": "execute_result"
        },
        {
          "data": {
            "image/png": "[encoded data removed]",
            "text/plain": [
              "<Figure size 640x480 with 2 Axes>"
            ]
          },
          "metadata": {},
          "output_type": "display_data"
        }
      ],
      "source": [
        "from sklearn.metrics import confusion_matrix, ConfusionMatrixDisplay\n",
        "cf = confusion_matrix(ytest, ypred_test)\n",
        "cfd = ConfusionMatrixDisplay(cf)\n",
        "cfd.plot()"
      ]
    },
    {
      "cell_type": "markdown",
      "metadata": {
        "id": "9CcGZDfPKfni"
      },
      "source": [
        "**Printing classification report**"
      ]
    },
    {
      "cell_type": "code",
      "execution_count": 46,
      "metadata": {
        "colab": {
          "base_uri": "https://localhost:8080/"
        },
        "id": "posKeAmtKeOc",
        "outputId": "4ed8ec30-9400-4973-d42a-c6c8a8688652"
      },
      "outputs": [
        {
          "name": "stdout",
          "output_type": "stream",
          "text": [
            "              precision    recall  f1-score   support\n",
            "\n",
            "           0       0.95      0.94      0.95       105\n",
            "           1       0.87      0.93      0.90        91\n",
            "           2       0.94      0.83      0.88        92\n",
            "           3       0.92      0.96      0.94       112\n",
            "\n",
            "    accuracy                           0.92       400\n",
            "   macro avg       0.92      0.92      0.92       400\n",
            "weighted avg       0.92      0.92      0.92       400\n",
            "\n"
          ]
        }
      ],
      "source": [
        "from sklearn.metrics import classification_report\n",
        "print(classification_report(ytest, ypred_test))"
      ]
    },
    {
      "cell_type": "markdown",
      "metadata": {
        "id": "1Yw9R_vHKwhJ"
      },
      "source": [
        "--> Because f1_micro is 94% in test above is a very good model"
      ]
    },
    {
      "cell_type": "markdown",
      "metadata": {
        "id": "pn6rgwFjK82j"
      },
      "source": [
        "**Predicting out of sample data**"
      ]
    },
    {
      "cell_type": "code",
      "execution_count": 48,
      "metadata": {
        "colab": {
          "base_uri": "https://localhost:8080/",
          "height": 443
        },
        "id": "laKIetmxKuLF",
        "outputId": "bd36d6bb-0799-4617-bdc2-2c40f332f341"
      },
      "outputs": [
        {
          "data": {
            "text/html": [
              "<div>\n",
              "<style scoped>\n",
              "    .dataframe tbody tr th:only-of-type {\n",
              "        vertical-align: middle;\n",
              "    }\n",
              "\n",
              "    .dataframe tbody tr th {\n",
              "        vertical-align: top;\n",
              "    }\n",
              "\n",
              "    .dataframe thead th {\n",
              "        text-align: right;\n",
              "    }\n",
              "</style>\n",
              "<table border=\"1\" class=\"dataframe\">\n",
              "  <thead>\n",
              "    <tr style=\"text-align: right;\">\n",
              "      <th></th>\n",
              "      <th>id</th>\n",
              "      <th>battery_power</th>\n",
              "      <th>blue</th>\n",
              "      <th>clock_speed</th>\n",
              "      <th>dual_sim</th>\n",
              "      <th>fc</th>\n",
              "      <th>four_g</th>\n",
              "      <th>int_memory</th>\n",
              "      <th>m_dep</th>\n",
              "      <th>mobile_wt</th>\n",
              "      <th>...</th>\n",
              "      <th>pc</th>\n",
              "      <th>px_height</th>\n",
              "      <th>px_width</th>\n",
              "      <th>ram</th>\n",
              "      <th>sc_h</th>\n",
              "      <th>sc_w</th>\n",
              "      <th>talk_time</th>\n",
              "      <th>three_g</th>\n",
              "      <th>touch_screen</th>\n",
              "      <th>wifi</th>\n",
              "    </tr>\n",
              "  </thead>\n",
              "  <tbody>\n",
              "    <tr>\n",
              "      <th>0</th>\n",
              "      <td>1</td>\n",
              "      <td>1043</td>\n",
              "      <td>1</td>\n",
              "      <td>1.8</td>\n",
              "      <td>1</td>\n",
              "      <td>14</td>\n",
              "      <td>0</td>\n",
              "      <td>5</td>\n",
              "      <td>0.1</td>\n",
              "      <td>193</td>\n",
              "      <td>...</td>\n",
              "      <td>16</td>\n",
              "      <td>226</td>\n",
              "      <td>1412</td>\n",
              "      <td>3476</td>\n",
              "      <td>12</td>\n",
              "      <td>7</td>\n",
              "      <td>2</td>\n",
              "      <td>0</td>\n",
              "      <td>1</td>\n",
              "      <td>0</td>\n",
              "    </tr>\n",
              "    <tr>\n",
              "      <th>1</th>\n",
              "      <td>2</td>\n",
              "      <td>841</td>\n",
              "      <td>1</td>\n",
              "      <td>0.5</td>\n",
              "      <td>1</td>\n",
              "      <td>4</td>\n",
              "      <td>1</td>\n",
              "      <td>61</td>\n",
              "      <td>0.8</td>\n",
              "      <td>191</td>\n",
              "      <td>...</td>\n",
              "      <td>12</td>\n",
              "      <td>746</td>\n",
              "      <td>857</td>\n",
              "      <td>3895</td>\n",
              "      <td>6</td>\n",
              "      <td>0</td>\n",
              "      <td>7</td>\n",
              "      <td>1</td>\n",
              "      <td>0</td>\n",
              "      <td>0</td>\n",
              "    </tr>\n",
              "    <tr>\n",
              "      <th>2</th>\n",
              "      <td>3</td>\n",
              "      <td>1807</td>\n",
              "      <td>1</td>\n",
              "      <td>2.8</td>\n",
              "      <td>0</td>\n",
              "      <td>1</td>\n",
              "      <td>0</td>\n",
              "      <td>27</td>\n",
              "      <td>0.9</td>\n",
              "      <td>186</td>\n",
              "      <td>...</td>\n",
              "      <td>4</td>\n",
              "      <td>1270</td>\n",
              "      <td>1366</td>\n",
              "      <td>2396</td>\n",
              "      <td>17</td>\n",
              "      <td>10</td>\n",
              "      <td>10</td>\n",
              "      <td>0</td>\n",
              "      <td>1</td>\n",
              "      <td>1</td>\n",
              "    </tr>\n",
              "    <tr>\n",
              "      <th>3</th>\n",
              "      <td>4</td>\n",
              "      <td>1546</td>\n",
              "      <td>0</td>\n",
              "      <td>0.5</td>\n",
              "      <td>1</td>\n",
              "      <td>18</td>\n",
              "      <td>1</td>\n",
              "      <td>25</td>\n",
              "      <td>0.5</td>\n",
              "      <td>96</td>\n",
              "      <td>...</td>\n",
              "      <td>20</td>\n",
              "      <td>295</td>\n",
              "      <td>1752</td>\n",
              "      <td>3893</td>\n",
              "      <td>10</td>\n",
              "      <td>0</td>\n",
              "      <td>7</td>\n",
              "      <td>1</td>\n",
              "      <td>1</td>\n",
              "      <td>0</td>\n",
              "    </tr>\n",
              "    <tr>\n",
              "      <th>4</th>\n",
              "      <td>5</td>\n",
              "      <td>1434</td>\n",
              "      <td>0</td>\n",
              "      <td>1.4</td>\n",
              "      <td>0</td>\n",
              "      <td>11</td>\n",
              "      <td>1</td>\n",
              "      <td>49</td>\n",
              "      <td>0.5</td>\n",
              "      <td>108</td>\n",
              "      <td>...</td>\n",
              "      <td>18</td>\n",
              "      <td>749</td>\n",
              "      <td>810</td>\n",
              "      <td>1773</td>\n",
              "      <td>15</td>\n",
              "      <td>8</td>\n",
              "      <td>7</td>\n",
              "      <td>1</td>\n",
              "      <td>0</td>\n",
              "      <td>1</td>\n",
              "    </tr>\n",
              "    <tr>\n",
              "      <th>...</th>\n",
              "      <td>...</td>\n",
              "      <td>...</td>\n",
              "      <td>...</td>\n",
              "      <td>...</td>\n",
              "      <td>...</td>\n",
              "      <td>...</td>\n",
              "      <td>...</td>\n",
              "      <td>...</td>\n",
              "      <td>...</td>\n",
              "      <td>...</td>\n",
              "      <td>...</td>\n",
              "      <td>...</td>\n",
              "      <td>...</td>\n",
              "      <td>...</td>\n",
              "      <td>...</td>\n",
              "      <td>...</td>\n",
              "      <td>...</td>\n",
              "      <td>...</td>\n",
              "      <td>...</td>\n",
              "      <td>...</td>\n",
              "      <td>...</td>\n",
              "    </tr>\n",
              "    <tr>\n",
              "      <th>995</th>\n",
              "      <td>996</td>\n",
              "      <td>1700</td>\n",
              "      <td>1</td>\n",
              "      <td>1.9</td>\n",
              "      <td>0</td>\n",
              "      <td>0</td>\n",
              "      <td>1</td>\n",
              "      <td>54</td>\n",
              "      <td>0.5</td>\n",
              "      <td>170</td>\n",
              "      <td>...</td>\n",
              "      <td>17</td>\n",
              "      <td>644</td>\n",
              "      <td>913</td>\n",
              "      <td>2121</td>\n",
              "      <td>14</td>\n",
              "      <td>8</td>\n",
              "      <td>15</td>\n",
              "      <td>1</td>\n",
              "      <td>1</td>\n",
              "      <td>0</td>\n",
              "    </tr>\n",
              "    <tr>\n",
              "      <th>996</th>\n",
              "      <td>997</td>\n",
              "      <td>609</td>\n",
              "      <td>0</td>\n",
              "      <td>1.8</td>\n",
              "      <td>1</td>\n",
              "      <td>0</td>\n",
              "      <td>0</td>\n",
              "      <td>13</td>\n",
              "      <td>0.9</td>\n",
              "      <td>186</td>\n",
              "      <td>...</td>\n",
              "      <td>2</td>\n",
              "      <td>1152</td>\n",
              "      <td>1632</td>\n",
              "      <td>1933</td>\n",
              "      <td>8</td>\n",
              "      <td>1</td>\n",
              "      <td>19</td>\n",
              "      <td>0</td>\n",
              "      <td>1</td>\n",
              "      <td>1</td>\n",
              "    </tr>\n",
              "    <tr>\n",
              "      <th>997</th>\n",
              "      <td>998</td>\n",
              "      <td>1185</td>\n",
              "      <td>0</td>\n",
              "      <td>1.4</td>\n",
              "      <td>0</td>\n",
              "      <td>1</td>\n",
              "      <td>1</td>\n",
              "      <td>8</td>\n",
              "      <td>0.5</td>\n",
              "      <td>80</td>\n",
              "      <td>...</td>\n",
              "      <td>12</td>\n",
              "      <td>477</td>\n",
              "      <td>825</td>\n",
              "      <td>1223</td>\n",
              "      <td>5</td>\n",
              "      <td>0</td>\n",
              "      <td>14</td>\n",
              "      <td>1</td>\n",
              "      <td>0</td>\n",
              "      <td>0</td>\n",
              "    </tr>\n",
              "    <tr>\n",
              "      <th>998</th>\n",
              "      <td>999</td>\n",
              "      <td>1533</td>\n",
              "      <td>1</td>\n",
              "      <td>0.5</td>\n",
              "      <td>1</td>\n",
              "      <td>0</td>\n",
              "      <td>0</td>\n",
              "      <td>50</td>\n",
              "      <td>0.4</td>\n",
              "      <td>171</td>\n",
              "      <td>...</td>\n",
              "      <td>12</td>\n",
              "      <td>38</td>\n",
              "      <td>832</td>\n",
              "      <td>2509</td>\n",
              "      <td>15</td>\n",
              "      <td>11</td>\n",
              "      <td>6</td>\n",
              "      <td>0</td>\n",
              "      <td>1</td>\n",
              "      <td>0</td>\n",
              "    </tr>\n",
              "    <tr>\n",
              "      <th>999</th>\n",
              "      <td>1000</td>\n",
              "      <td>1270</td>\n",
              "      <td>1</td>\n",
              "      <td>0.5</td>\n",
              "      <td>0</td>\n",
              "      <td>4</td>\n",
              "      <td>1</td>\n",
              "      <td>35</td>\n",
              "      <td>0.1</td>\n",
              "      <td>140</td>\n",
              "      <td>...</td>\n",
              "      <td>19</td>\n",
              "      <td>457</td>\n",
              "      <td>608</td>\n",
              "      <td>2828</td>\n",
              "      <td>9</td>\n",
              "      <td>2</td>\n",
              "      <td>3</td>\n",
              "      <td>1</td>\n",
              "      <td>0</td>\n",
              "      <td>1</td>\n",
              "    </tr>\n",
              "  </tbody>\n",
              "</table>\n",
              "<p>1000 rows × 21 columns</p>\n",
              "</div>"
            ],
            "text/plain": [
              "       id  battery_power  blue  clock_speed  dual_sim  fc  four_g  int_memory  \\\n",
              "0       1           1043     1          1.8         1  14       0           5   \n",
              "1       2            841     1          0.5         1   4       1          61   \n",
              "2       3           1807     1          2.8         0   1       0          27   \n",
              "3       4           1546     0          0.5         1  18       1          25   \n",
              "4       5           1434     0          1.4         0  11       1          49   \n",
              "..    ...            ...   ...          ...       ...  ..     ...         ...   \n",
              "995   996           1700     1          1.9         0   0       1          54   \n",
              "996   997            609     0          1.8         1   0       0          13   \n",
              "997   998           1185     0          1.4         0   1       1           8   \n",
              "998   999           1533     1          0.5         1   0       0          50   \n",
              "999  1000           1270     1          0.5         0   4       1          35   \n",
              "\n",
              "     m_dep  mobile_wt  ...  pc  px_height  px_width   ram  sc_h  sc_w  \\\n",
              "0      0.1        193  ...  16        226      1412  3476    12     7   \n",
              "1      0.8        191  ...  12        746       857  3895     6     0   \n",
              "2      0.9        186  ...   4       1270      1366  2396    17    10   \n",
              "3      0.5         96  ...  20        295      1752  3893    10     0   \n",
              "4      0.5        108  ...  18        749       810  1773    15     8   \n",
              "..     ...        ...  ...  ..        ...       ...   ...   ...   ...   \n",
              "995    0.5        170  ...  17        644       913  2121    14     8   \n",
              "996    0.9        186  ...   2       1152      1632  1933     8     1   \n",
              "997    0.5         80  ...  12        477       825  1223     5     0   \n",
              "998    0.4        171  ...  12         38       832  2509    15    11   \n",
              "999    0.1        140  ...  19        457       608  2828     9     2   \n",
              "\n",
              "     talk_time  three_g  touch_screen  wifi  \n",
              "0            2        0             1     0  \n",
              "1            7        1             0     0  \n",
              "2           10        0             1     1  \n",
              "3            7        1             1     0  \n",
              "4            7        1             0     1  \n",
              "..         ...      ...           ...   ...  \n",
              "995         15        1             1     0  \n",
              "996         19        0             1     1  \n",
              "997         14        1             0     0  \n",
              "998          6        0             1     0  \n",
              "999          3        1             0     1  \n",
              "\n",
              "[1000 rows x 21 columns]"
            ]
          },
          "execution_count": 48,
          "metadata": {},
          "output_type": "execute_result"
        }
      ],
      "source": [
        "xnew = pd.read_csv('E:/DL_6to8/repository/Multiclass_Classification/test_mobile.csv')\n",
        "xnew"
      ]
    },
    {
      "cell_type": "code",
      "execution_count": 49,
      "metadata": {
        "colab": {
          "base_uri": "https://localhost:8080/",
          "height": 226
        },
        "id": "pBqZVHOFLKQm",
        "outputId": "cf353eff-06ba-4777-d2f9-fd1ca5bc0f76"
      },
      "outputs": [
        {
          "data": {
            "text/html": [
              "<div>\n",
              "<style scoped>\n",
              "    .dataframe tbody tr th:only-of-type {\n",
              "        vertical-align: middle;\n",
              "    }\n",
              "\n",
              "    .dataframe tbody tr th {\n",
              "        vertical-align: top;\n",
              "    }\n",
              "\n",
              "    .dataframe thead th {\n",
              "        text-align: right;\n",
              "    }\n",
              "</style>\n",
              "<table border=\"1\" class=\"dataframe\">\n",
              "  <thead>\n",
              "    <tr style=\"text-align: right;\">\n",
              "      <th></th>\n",
              "      <th>battery_power</th>\n",
              "      <th>blue</th>\n",
              "      <th>clock_speed</th>\n",
              "      <th>dual_sim</th>\n",
              "      <th>fc</th>\n",
              "      <th>four_g</th>\n",
              "      <th>int_memory</th>\n",
              "      <th>m_dep</th>\n",
              "      <th>mobile_wt</th>\n",
              "      <th>n_cores</th>\n",
              "      <th>pc</th>\n",
              "      <th>px_height</th>\n",
              "      <th>px_width</th>\n",
              "      <th>ram</th>\n",
              "      <th>sc_h</th>\n",
              "      <th>sc_w</th>\n",
              "      <th>talk_time</th>\n",
              "      <th>three_g</th>\n",
              "      <th>touch_screen</th>\n",
              "      <th>wifi</th>\n",
              "    </tr>\n",
              "  </thead>\n",
              "  <tbody>\n",
              "    <tr>\n",
              "      <th>0</th>\n",
              "      <td>1043</td>\n",
              "      <td>1</td>\n",
              "      <td>1.8</td>\n",
              "      <td>1</td>\n",
              "      <td>14</td>\n",
              "      <td>0</td>\n",
              "      <td>5</td>\n",
              "      <td>0.1</td>\n",
              "      <td>193</td>\n",
              "      <td>3</td>\n",
              "      <td>16</td>\n",
              "      <td>226</td>\n",
              "      <td>1412</td>\n",
              "      <td>3476</td>\n",
              "      <td>12</td>\n",
              "      <td>7</td>\n",
              "      <td>2</td>\n",
              "      <td>0</td>\n",
              "      <td>1</td>\n",
              "      <td>0</td>\n",
              "    </tr>\n",
              "    <tr>\n",
              "      <th>1</th>\n",
              "      <td>841</td>\n",
              "      <td>1</td>\n",
              "      <td>0.5</td>\n",
              "      <td>1</td>\n",
              "      <td>4</td>\n",
              "      <td>1</td>\n",
              "      <td>61</td>\n",
              "      <td>0.8</td>\n",
              "      <td>191</td>\n",
              "      <td>5</td>\n",
              "      <td>12</td>\n",
              "      <td>746</td>\n",
              "      <td>857</td>\n",
              "      <td>3895</td>\n",
              "      <td>6</td>\n",
              "      <td>0</td>\n",
              "      <td>7</td>\n",
              "      <td>1</td>\n",
              "      <td>0</td>\n",
              "      <td>0</td>\n",
              "    </tr>\n",
              "    <tr>\n",
              "      <th>2</th>\n",
              "      <td>1807</td>\n",
              "      <td>1</td>\n",
              "      <td>2.8</td>\n",
              "      <td>0</td>\n",
              "      <td>1</td>\n",
              "      <td>0</td>\n",
              "      <td>27</td>\n",
              "      <td>0.9</td>\n",
              "      <td>186</td>\n",
              "      <td>3</td>\n",
              "      <td>4</td>\n",
              "      <td>1270</td>\n",
              "      <td>1366</td>\n",
              "      <td>2396</td>\n",
              "      <td>17</td>\n",
              "      <td>10</td>\n",
              "      <td>10</td>\n",
              "      <td>0</td>\n",
              "      <td>1</td>\n",
              "      <td>1</td>\n",
              "    </tr>\n",
              "    <tr>\n",
              "      <th>3</th>\n",
              "      <td>1546</td>\n",
              "      <td>0</td>\n",
              "      <td>0.5</td>\n",
              "      <td>1</td>\n",
              "      <td>18</td>\n",
              "      <td>1</td>\n",
              "      <td>25</td>\n",
              "      <td>0.5</td>\n",
              "      <td>96</td>\n",
              "      <td>8</td>\n",
              "      <td>20</td>\n",
              "      <td>295</td>\n",
              "      <td>1752</td>\n",
              "      <td>3893</td>\n",
              "      <td>10</td>\n",
              "      <td>0</td>\n",
              "      <td>7</td>\n",
              "      <td>1</td>\n",
              "      <td>1</td>\n",
              "      <td>0</td>\n",
              "    </tr>\n",
              "    <tr>\n",
              "      <th>4</th>\n",
              "      <td>1434</td>\n",
              "      <td>0</td>\n",
              "      <td>1.4</td>\n",
              "      <td>0</td>\n",
              "      <td>11</td>\n",
              "      <td>1</td>\n",
              "      <td>49</td>\n",
              "      <td>0.5</td>\n",
              "      <td>108</td>\n",
              "      <td>6</td>\n",
              "      <td>18</td>\n",
              "      <td>749</td>\n",
              "      <td>810</td>\n",
              "      <td>1773</td>\n",
              "      <td>15</td>\n",
              "      <td>8</td>\n",
              "      <td>7</td>\n",
              "      <td>1</td>\n",
              "      <td>0</td>\n",
              "      <td>1</td>\n",
              "    </tr>\n",
              "  </tbody>\n",
              "</table>\n",
              "</div>"
            ],
            "text/plain": [
              "   battery_power  blue  clock_speed  dual_sim  fc  four_g  int_memory  m_dep  \\\n",
              "0           1043     1          1.8         1  14       0           5    0.1   \n",
              "1            841     1          0.5         1   4       1          61    0.8   \n",
              "2           1807     1          2.8         0   1       0          27    0.9   \n",
              "3           1546     0          0.5         1  18       1          25    0.5   \n",
              "4           1434     0          1.4         0  11       1          49    0.5   \n",
              "\n",
              "   mobile_wt  n_cores  pc  px_height  px_width   ram  sc_h  sc_w  talk_time  \\\n",
              "0        193        3  16        226      1412  3476    12     7          2   \n",
              "1        191        5  12        746       857  3895     6     0          7   \n",
              "2        186        3   4       1270      1366  2396    17    10         10   \n",
              "3         96        8  20        295      1752  3893    10     0          7   \n",
              "4        108        6  18        749       810  1773    15     8          7   \n",
              "\n",
              "   three_g  touch_screen  wifi  \n",
              "0        0             1     0  \n",
              "1        1             0     0  \n",
              "2        0             1     1  \n",
              "3        1             1     0  \n",
              "4        1             0     1  "
            ]
          },
          "execution_count": 49,
          "metadata": {},
          "output_type": "execute_result"
        }
      ],
      "source": [
        "xnew2 = xnew.drop(columns=['id'])\n",
        "xnew2.head()"
      ]
    },
    {
      "cell_type": "markdown",
      "metadata": {
        "id": "o3_zPL9tLS9U"
      },
      "source": [
        "**Apply pre.transform on xnew**"
      ]
    },
    {
      "cell_type": "code",
      "execution_count": 50,
      "metadata": {
        "colab": {
          "base_uri": "https://localhost:8080/",
          "height": 226
        },
        "id": "tBXO7hM2LRSn",
        "outputId": "949db622-6801-48fc-ee5e-77d2dfbcf1a2"
      },
      "outputs": [
        {
          "data": {
            "text/html": [
              "<div>\n",
              "<style scoped>\n",
              "    .dataframe tbody tr th:only-of-type {\n",
              "        vertical-align: middle;\n",
              "    }\n",
              "\n",
              "    .dataframe tbody tr th {\n",
              "        vertical-align: top;\n",
              "    }\n",
              "\n",
              "    .dataframe thead th {\n",
              "        text-align: right;\n",
              "    }\n",
              "</style>\n",
              "<table border=\"1\" class=\"dataframe\">\n",
              "  <thead>\n",
              "    <tr style=\"text-align: right;\">\n",
              "      <th></th>\n",
              "      <th>battery_power</th>\n",
              "      <th>blue</th>\n",
              "      <th>clock_speed</th>\n",
              "      <th>dual_sim</th>\n",
              "      <th>fc</th>\n",
              "      <th>four_g</th>\n",
              "      <th>int_memory</th>\n",
              "      <th>m_dep</th>\n",
              "      <th>mobile_wt</th>\n",
              "      <th>n_cores</th>\n",
              "      <th>pc</th>\n",
              "      <th>px_height</th>\n",
              "      <th>px_width</th>\n",
              "      <th>ram</th>\n",
              "      <th>sc_h</th>\n",
              "      <th>sc_w</th>\n",
              "      <th>talk_time</th>\n",
              "      <th>three_g</th>\n",
              "      <th>touch_screen</th>\n",
              "      <th>wifi</th>\n",
              "    </tr>\n",
              "  </thead>\n",
              "  <tbody>\n",
              "    <tr>\n",
              "      <th>0</th>\n",
              "      <td>-0.445060</td>\n",
              "      <td>1.010051</td>\n",
              "      <td>0.340463</td>\n",
              "      <td>0.981177</td>\n",
              "      <td>2.232650</td>\n",
              "      <td>-1.043966</td>\n",
              "      <td>-1.490890</td>\n",
              "      <td>-1.393304</td>\n",
              "      <td>1.490528</td>\n",
              "      <td>-0.664768</td>\n",
              "      <td>1.003414</td>\n",
              "      <td>-0.944639</td>\n",
              "      <td>0.371413</td>\n",
              "      <td>1.246506</td>\n",
              "      <td>-0.072765</td>\n",
              "      <td>0.283103</td>\n",
              "      <td>-1.649584</td>\n",
              "      <td>-1.786861</td>\n",
              "      <td>0.994018</td>\n",
              "      <td>-1.014099</td>\n",
              "    </tr>\n",
              "    <tr>\n",
              "      <th>1</th>\n",
              "      <td>-0.904874</td>\n",
              "      <td>1.010051</td>\n",
              "      <td>-1.253064</td>\n",
              "      <td>0.981177</td>\n",
              "      <td>-0.071307</td>\n",
              "      <td>0.957886</td>\n",
              "      <td>1.596010</td>\n",
              "      <td>1.034357</td>\n",
              "      <td>1.434017</td>\n",
              "      <td>0.209639</td>\n",
              "      <td>0.343653</td>\n",
              "      <td>0.227403</td>\n",
              "      <td>-0.913037</td>\n",
              "      <td>1.632873</td>\n",
              "      <td>-1.497202</td>\n",
              "      <td>-1.324131</td>\n",
              "      <td>-0.734267</td>\n",
              "      <td>0.559641</td>\n",
              "      <td>-1.006018</td>\n",
              "      <td>-1.014099</td>\n",
              "    </tr>\n",
              "    <tr>\n",
              "      <th>2</th>\n",
              "      <td>1.294038</td>\n",
              "      <td>1.010051</td>\n",
              "      <td>1.566254</td>\n",
              "      <td>-1.019184</td>\n",
              "      <td>-0.762495</td>\n",
              "      <td>-1.043966</td>\n",
              "      <td>-0.278179</td>\n",
              "      <td>1.381165</td>\n",
              "      <td>1.292737</td>\n",
              "      <td>-0.664768</td>\n",
              "      <td>-0.975869</td>\n",
              "      <td>1.408462</td>\n",
              "      <td>0.264954</td>\n",
              "      <td>0.250619</td>\n",
              "      <td>1.114266</td>\n",
              "      <td>0.971917</td>\n",
              "      <td>-0.185077</td>\n",
              "      <td>-1.786861</td>\n",
              "      <td>0.994018</td>\n",
              "      <td>0.986097</td>\n",
              "    </tr>\n",
              "    <tr>\n",
              "      <th>3</th>\n",
              "      <td>0.699922</td>\n",
              "      <td>-0.990050</td>\n",
              "      <td>-1.253064</td>\n",
              "      <td>0.981177</td>\n",
              "      <td>3.154233</td>\n",
              "      <td>0.957886</td>\n",
              "      <td>-0.388426</td>\n",
              "      <td>-0.006069</td>\n",
              "      <td>-1.250297</td>\n",
              "      <td>1.521249</td>\n",
              "      <td>1.663176</td>\n",
              "      <td>-0.789118</td>\n",
              "      <td>1.158284</td>\n",
              "      <td>1.631029</td>\n",
              "      <td>-0.547577</td>\n",
              "      <td>-1.324131</td>\n",
              "      <td>-0.734267</td>\n",
              "      <td>0.559641</td>\n",
              "      <td>0.994018</td>\n",
              "      <td>-1.014099</td>\n",
              "    </tr>\n",
              "    <tr>\n",
              "      <th>4</th>\n",
              "      <td>0.444976</td>\n",
              "      <td>-0.990050</td>\n",
              "      <td>-0.149853</td>\n",
              "      <td>-1.019184</td>\n",
              "      <td>1.541463</td>\n",
              "      <td>0.957886</td>\n",
              "      <td>0.934531</td>\n",
              "      <td>-0.006069</td>\n",
              "      <td>-0.911225</td>\n",
              "      <td>0.646842</td>\n",
              "      <td>1.333295</td>\n",
              "      <td>0.234165</td>\n",
              "      <td>-1.021810</td>\n",
              "      <td>-0.323860</td>\n",
              "      <td>0.639453</td>\n",
              "      <td>0.512708</td>\n",
              "      <td>-0.734267</td>\n",
              "      <td>0.559641</td>\n",
              "      <td>-1.006018</td>\n",
              "      <td>0.986097</td>\n",
              "    </tr>\n",
              "  </tbody>\n",
              "</table>\n",
              "</div>"
            ],
            "text/plain": [
              "   battery_power      blue  clock_speed  dual_sim        fc    four_g  \\\n",
              "0      -0.445060  1.010051     0.340463  0.981177  2.232650 -1.043966   \n",
              "1      -0.904874  1.010051    -1.253064  0.981177 -0.071307  0.957886   \n",
              "2       1.294038  1.010051     1.566254 -1.019184 -0.762495 -1.043966   \n",
              "3       0.699922 -0.990050    -1.253064  0.981177  3.154233  0.957886   \n",
              "4       0.444976 -0.990050    -0.149853 -1.019184  1.541463  0.957886   \n",
              "\n",
              "   int_memory     m_dep  mobile_wt   n_cores        pc  px_height  px_width  \\\n",
              "0   -1.490890 -1.393304   1.490528 -0.664768  1.003414  -0.944639  0.371413   \n",
              "1    1.596010  1.034357   1.434017  0.209639  0.343653   0.227403 -0.913037   \n",
              "2   -0.278179  1.381165   1.292737 -0.664768 -0.975869   1.408462  0.264954   \n",
              "3   -0.388426 -0.006069  -1.250297  1.521249  1.663176  -0.789118  1.158284   \n",
              "4    0.934531 -0.006069  -0.911225  0.646842  1.333295   0.234165 -1.021810   \n",
              "\n",
              "        ram      sc_h      sc_w  talk_time   three_g  touch_screen      wifi  \n",
              "0  1.246506 -0.072765  0.283103  -1.649584 -1.786861      0.994018 -1.014099  \n",
              "1  1.632873 -1.497202 -1.324131  -0.734267  0.559641     -1.006018 -1.014099  \n",
              "2  0.250619  1.114266  0.971917  -0.185077 -1.786861      0.994018  0.986097  \n",
              "3  1.631029 -0.547577 -1.324131  -0.734267  0.559641      0.994018 -1.014099  \n",
              "4 -0.323860  0.639453  0.512708  -0.734267  0.559641     -1.006018  0.986097  "
            ]
          },
          "execution_count": 50,
          "metadata": {},
          "output_type": "execute_result"
        }
      ],
      "source": [
        "xnew_pre = num_pipe.transform(xnew2)\n",
        "xnew_pre.head()"
      ]
    },
    {
      "cell_type": "markdown",
      "metadata": {
        "id": "MRhDr_MZLkOR"
      },
      "source": [
        "**Get probabilities for xnew**"
      ]
    },
    {
      "cell_type": "code",
      "execution_count": 51,
      "metadata": {
        "colab": {
          "base_uri": "https://localhost:8080/"
        },
        "id": "Vs8TH14uLion",
        "outputId": "906b7d6b-96aa-4ed1-d35a-18eb412e1810"
      },
      "outputs": [
        {
          "name": "stdout",
          "output_type": "stream",
          "text": [
            "32/32 [==============================] - 0s 1ms/step\n"
          ]
        }
      ],
      "source": [
        "yprob = model.predict(xnew_pre)"
      ]
    },
    {
      "cell_type": "code",
      "execution_count": 52,
      "metadata": {
        "colab": {
          "base_uri": "https://localhost:8080/"
        },
        "id": "xr4HQTxfLrx7",
        "outputId": "3ec93dc1-a3e9-4b3f-a82e-827ce45244ae"
      },
      "outputs": [
        {
          "data": {
            "text/plain": [
              "array([[9.4209086e-22, 1.5515965e-09, 7.4268833e-02, 9.2573112e-01],\n",
              "       [1.7420718e-28, 1.0621163e-12, 6.6409423e-03, 9.9335903e-01],\n",
              "       [4.0397924e-16, 9.4003390e-06, 8.4962451e-01, 1.5036604e-01],\n",
              "       [1.9462966e-37, 2.7085175e-18, 2.6593356e-05, 9.9997342e-01],\n",
              "       [4.2599370e-04, 9.9663299e-01, 2.9409942e-03, 9.2176884e-11]],\n",
              "      dtype=float32)"
            ]
          },
          "execution_count": 52,
          "metadata": {},
          "output_type": "execute_result"
        }
      ],
      "source": [
        "yprob[0:5]"
      ]
    },
    {
      "cell_type": "markdown",
      "metadata": {
        "id": "dZdKE0h_LvZW"
      },
      "source": [
        "**Get the predictions from probs**"
      ]
    },
    {
      "cell_type": "code",
      "execution_count": 53,
      "metadata": {
        "colab": {
          "base_uri": "https://localhost:8080/"
        },
        "id": "RNt44pUDLuQT",
        "outputId": "b7489291-0e75-4675-8f05-fdbb790a3a15"
      },
      "outputs": [
        {
          "data": {
            "text/plain": [
              "array([3, 3, 2, 3, 1, 3, 3, 1, 3, 0, 3, 3, 0, 0, 2, 0, 2, 1, 3, 1, 1, 3,\n",
              "       1, 1, 3, 0, 2, 0, 2, 0, 3, 0, 3, 0, 1, 1, 3, 1, 2, 1, 1, 2, 0, 0,\n",
              "       0, 1, 0, 3, 1, 2, 1, 0, 3, 0, 3, 0, 3, 1, 0, 3, 3, 2, 0, 1, 1, 1,\n",
              "       2, 3, 1, 2, 1, 2, 2, 3, 3, 0, 2, 0, 1, 3, 0, 3, 3, 0, 3, 0, 3, 1,\n",
              "       3, 0, 1, 2, 2, 1, 2, 2, 0, 2, 1, 2, 1, 0, 0, 3, 0, 2, 0, 1, 2, 3,\n",
              "       3, 2, 1, 3, 3, 3, 3, 2, 3, 0, 0, 3, 2, 1, 2, 0, 3, 2, 3, 2, 0, 2,\n",
              "       1, 1, 3, 1, 1, 0, 3, 2, 1, 2, 1, 2, 2, 3, 3, 2, 2, 3, 2, 3, 1, 0,\n",
              "       3, 2, 3, 3, 3, 3, 3, 2, 3, 3, 3, 3, 1, 0, 3, 0, 0, 0, 2, 1, 0, 1,\n",
              "       0, 0, 1, 2, 1, 0, 0, 1, 1, 2, 2, 1, 0, 0, 0, 1, 1, 3, 1, 0, 2, 2,\n",
              "       2, 3, 1, 1, 3, 3, 3, 2, 2, 1, 0, 0, 1, 3, 1, 2, 3, 3, 0, 2, 0, 3,\n",
              "       2, 3, 3, 1, 0, 1, 0, 3, 0, 1, 0, 2, 2, 1, 2, 0, 3, 0, 3, 1, 2, 0,\n",
              "       0, 2, 1, 3, 3, 3, 1, 1, 3, 0, 0, 2, 3, 3, 1, 3, 1, 1, 3, 2, 1, 2,\n",
              "       3, 3, 3, 1, 0, 1, 2, 3, 1, 1, 3, 2, 0, 3, 0, 0, 3, 0, 0, 3, 2, 3,\n",
              "       3, 2, 0, 3, 3, 2, 3, 1, 3, 1, 2, 0, 2, 3, 1, 0, 0, 3, 0, 3, 0, 1,\n",
              "       2, 0, 2, 3, 1, 3, 2, 2, 0, 2, 0, 0, 0, 1, 3, 2, 0, 0, 0, 3, 2, 0,\n",
              "       3, 3, 0, 2, 2, 2, 3, 1, 3, 3, 1, 2, 2, 3, 3, 1, 3, 0, 3, 1, 3, 1,\n",
              "       2, 3, 0, 1, 0, 3, 1, 3, 2, 3, 0, 0, 0, 0, 2, 0, 0, 2, 2, 1, 2, 2,\n",
              "       2, 0, 1, 0, 0, 3, 3, 0, 3, 1, 2, 2, 1, 2, 3, 1, 1, 2, 2, 1, 2, 0,\n",
              "       1, 1, 0, 3, 2, 0, 0, 1, 0, 0, 1, 1, 0, 0, 0, 2, 2, 3, 2, 3, 0, 3,\n",
              "       0, 3, 0, 1, 1, 1, 2, 0, 3, 2, 3, 3, 1, 3, 1, 3, 1, 2, 2, 0, 1, 2,\n",
              "       1, 1, 0, 0, 0, 1, 2, 1, 0, 3, 2, 0, 2, 2, 0, 0, 3, 1, 2, 0, 2, 2,\n",
              "       3, 0, 3, 0, 2, 3, 2, 3, 0, 2, 0, 2, 3, 0, 1, 2, 0, 0, 1, 1, 1, 3,\n",
              "       3, 3, 1, 3, 1, 2, 2, 3, 3, 3, 2, 0, 2, 1, 2, 2, 1, 0, 2, 2, 0, 0,\n",
              "       0, 3, 1, 0, 2, 2, 2, 0, 3, 0, 2, 2, 1, 3, 0, 2, 3, 1, 1, 1, 3, 3,\n",
              "       1, 1, 1, 3, 2, 0, 3, 1, 2, 0, 3, 3, 1, 3, 2, 2, 3, 0, 1, 2, 3, 1,\n",
              "       3, 2, 3, 1, 1, 0, 0, 3, 2, 0, 3, 2, 3, 2, 1, 3, 3, 3, 2, 3, 3, 1,\n",
              "       2, 0, 2, 3, 3, 0, 0, 1, 1, 2, 2, 2, 0, 0, 2, 2, 3, 2, 0, 2, 1, 3,\n",
              "       3, 0, 1, 3, 0, 2, 1, 1, 0, 0, 2, 1, 0, 1, 2, 2, 2, 0, 2, 2, 1, 0,\n",
              "       3, 0, 0, 3, 2, 0, 0, 1, 0, 0, 3, 0, 3, 1, 3, 1, 1, 3, 2, 0, 1, 1,\n",
              "       3, 2, 3, 2, 1, 3, 0, 2, 1, 2, 0, 1, 1, 1, 1, 2, 1, 3, 1, 3, 2, 2,\n",
              "       1, 3, 3, 0, 1, 2, 0, 3, 3, 0, 2, 1, 1, 2, 0, 3, 2, 0, 3, 2, 3, 0,\n",
              "       0, 3, 0, 2, 2, 3, 2, 2, 2, 2, 1, 2, 3, 0, 0, 0, 1, 2, 1, 0, 0, 1,\n",
              "       0, 0, 3, 0, 1, 2, 0, 0, 1, 1, 3, 0, 3, 2, 3, 0, 0, 1, 2, 2, 1, 0,\n",
              "       1, 1, 0, 1, 1, 0, 1, 3, 3, 0, 3, 1, 1, 3, 0, 1, 0, 2, 2, 0, 3, 1,\n",
              "       0, 3, 1, 1, 0, 3, 3, 3, 2, 3, 0, 3, 2, 0, 0, 0, 3, 3, 3, 0, 2, 1,\n",
              "       3, 0, 0, 3, 2, 0, 3, 1, 2, 1, 1, 1, 3, 1, 1, 1, 2, 0, 0, 2, 2, 0,\n",
              "       2, 0, 0, 0, 0, 2, 3, 3, 3, 0, 1, 2, 1, 1, 0, 0, 2, 1, 0, 2, 0, 3,\n",
              "       2, 2, 1, 2, 0, 2, 1, 3, 0, 0, 3, 2, 3, 0, 0, 2, 3, 3, 1, 2, 2, 1,\n",
              "       0, 0, 3, 3, 1, 3, 0, 0, 0, 2, 2, 1, 2, 0, 3, 3, 1, 2, 3, 3, 0, 1,\n",
              "       1, 2, 1, 2, 2, 0, 1, 3, 1, 1, 3, 0, 2, 3, 2, 1, 1, 1, 3, 3, 0, 2,\n",
              "       3, 0, 2, 3, 2, 2, 2, 3, 2, 0, 1, 2, 1, 2, 1, 1, 2, 2, 2, 1, 2, 1,\n",
              "       0, 1, 3, 1, 0, 1, 2, 3, 1, 0, 0, 3, 2, 2, 3, 0, 3, 2, 2, 1, 3, 0,\n",
              "       1, 3, 1, 1, 1, 2, 3, 2, 0, 3, 0, 2, 3, 0, 3, 2, 3, 3, 1, 0, 2, 3,\n",
              "       1, 0, 2, 1, 2, 1, 2, 0, 2, 3, 0, 2, 3, 2, 3, 0, 2, 1, 1, 2, 2, 3,\n",
              "       3, 0, 2, 1, 2, 1, 3, 0, 0, 3, 0, 2, 0, 0, 3, 3, 2, 0, 0, 0, 0, 3,\n",
              "       2, 3, 3, 0, 0, 2, 1, 0, 2, 2], dtype=int64)"
            ]
          },
          "execution_count": 53,
          "metadata": {},
          "output_type": "execute_result"
        }
      ],
      "source": [
        "ypred = np.argmax(yprob, axis=1)\n",
        "ypred"
      ]
    },
    {
      "cell_type": "markdown",
      "metadata": {
        "id": "TGojcBd-L6Zx"
      },
      "source": [
        "**Get maximum probability**"
      ]
    },
    {
      "cell_type": "code",
      "execution_count": 54,
      "metadata": {
        "colab": {
          "base_uri": "https://localhost:8080/"
        },
        "id": "6acdBJiQL4X6",
        "outputId": "5e7d22b6-5ff3-4f9e-a78b-af3b6cc70970"
      },
      "outputs": [
        {
          "data": {
            "text/plain": [
              "array([0.9257311, 0.993359 , 0.8496245, 0.9999734, 0.996633 ],\n",
              "      dtype=float32)"
            ]
          },
          "execution_count": 54,
          "metadata": {},
          "output_type": "execute_result"
        }
      ],
      "source": [
        "max_probs = np.max(yprob, axis=1)\n",
        "max_probs[0:5]"
      ]
    },
    {
      "cell_type": "markdown",
      "metadata": {
        "id": "NpxWjzPHMI8Z"
      },
      "source": [
        "**Saving above results to dataframe**"
      ]
    },
    {
      "cell_type": "code",
      "execution_count": 55,
      "metadata": {
        "colab": {
          "base_uri": "https://localhost:8080/",
          "height": 423
        },
        "id": "p9IeBaEvMGCs",
        "outputId": "24df538b-75ba-489d-f6ca-70b2a6de2b9b"
      },
      "outputs": [
        {
          "data": {
            "text/html": [
              "<div>\n",
              "<style scoped>\n",
              "    .dataframe tbody tr th:only-of-type {\n",
              "        vertical-align: middle;\n",
              "    }\n",
              "\n",
              "    .dataframe tbody tr th {\n",
              "        vertical-align: top;\n",
              "    }\n",
              "\n",
              "    .dataframe thead th {\n",
              "        text-align: right;\n",
              "    }\n",
              "</style>\n",
              "<table border=\"1\" class=\"dataframe\">\n",
              "  <thead>\n",
              "    <tr style=\"text-align: right;\">\n",
              "      <th></th>\n",
              "      <th>id</th>\n",
              "    </tr>\n",
              "  </thead>\n",
              "  <tbody>\n",
              "    <tr>\n",
              "      <th>0</th>\n",
              "      <td>1</td>\n",
              "    </tr>\n",
              "    <tr>\n",
              "      <th>1</th>\n",
              "      <td>2</td>\n",
              "    </tr>\n",
              "    <tr>\n",
              "      <th>2</th>\n",
              "      <td>3</td>\n",
              "    </tr>\n",
              "    <tr>\n",
              "      <th>3</th>\n",
              "      <td>4</td>\n",
              "    </tr>\n",
              "    <tr>\n",
              "      <th>4</th>\n",
              "      <td>5</td>\n",
              "    </tr>\n",
              "    <tr>\n",
              "      <th>...</th>\n",
              "      <td>...</td>\n",
              "    </tr>\n",
              "    <tr>\n",
              "      <th>995</th>\n",
              "      <td>996</td>\n",
              "    </tr>\n",
              "    <tr>\n",
              "      <th>996</th>\n",
              "      <td>997</td>\n",
              "    </tr>\n",
              "    <tr>\n",
              "      <th>997</th>\n",
              "      <td>998</td>\n",
              "    </tr>\n",
              "    <tr>\n",
              "      <th>998</th>\n",
              "      <td>999</td>\n",
              "    </tr>\n",
              "    <tr>\n",
              "      <th>999</th>\n",
              "      <td>1000</td>\n",
              "    </tr>\n",
              "  </tbody>\n",
              "</table>\n",
              "<p>1000 rows × 1 columns</p>\n",
              "</div>"
            ],
            "text/plain": [
              "       id\n",
              "0       1\n",
              "1       2\n",
              "2       3\n",
              "3       4\n",
              "4       5\n",
              "..    ...\n",
              "995   996\n",
              "996   997\n",
              "997   998\n",
              "998   999\n",
              "999  1000\n",
              "\n",
              "[1000 rows x 1 columns]"
            ]
          },
          "execution_count": 55,
          "metadata": {},
          "output_type": "execute_result"
        }
      ],
      "source": [
        "df_final = xnew[['id']]\n",
        "df_final"
      ]
    },
    {
      "cell_type": "code",
      "execution_count": 56,
      "metadata": {
        "id": "mp9hEGL4MS24"
      },
      "outputs": [],
      "source": [
        "df_final['price_range']=ypred\n",
        "df_final['Probability']=max_probs"
      ]
    },
    {
      "cell_type": "code",
      "execution_count": 57,
      "metadata": {
        "colab": {
          "base_uri": "https://localhost:8080/",
          "height": 423
        },
        "id": "apmktJFRMdP_",
        "outputId": "9608059d-6219-418a-b3e4-e9526a1a85b2"
      },
      "outputs": [
        {
          "data": {
            "text/html": [
              "<div>\n",
              "<style scoped>\n",
              "    .dataframe tbody tr th:only-of-type {\n",
              "        vertical-align: middle;\n",
              "    }\n",
              "\n",
              "    .dataframe tbody tr th {\n",
              "        vertical-align: top;\n",
              "    }\n",
              "\n",
              "    .dataframe thead th {\n",
              "        text-align: right;\n",
              "    }\n",
              "</style>\n",
              "<table border=\"1\" class=\"dataframe\">\n",
              "  <thead>\n",
              "    <tr style=\"text-align: right;\">\n",
              "      <th></th>\n",
              "      <th>id</th>\n",
              "      <th>price_range</th>\n",
              "      <th>Probability</th>\n",
              "    </tr>\n",
              "  </thead>\n",
              "  <tbody>\n",
              "    <tr>\n",
              "      <th>0</th>\n",
              "      <td>1</td>\n",
              "      <td>3</td>\n",
              "      <td>0.925731</td>\n",
              "    </tr>\n",
              "    <tr>\n",
              "      <th>1</th>\n",
              "      <td>2</td>\n",
              "      <td>3</td>\n",
              "      <td>0.993359</td>\n",
              "    </tr>\n",
              "    <tr>\n",
              "      <th>2</th>\n",
              "      <td>3</td>\n",
              "      <td>2</td>\n",
              "      <td>0.849625</td>\n",
              "    </tr>\n",
              "    <tr>\n",
              "      <th>3</th>\n",
              "      <td>4</td>\n",
              "      <td>3</td>\n",
              "      <td>0.999973</td>\n",
              "    </tr>\n",
              "    <tr>\n",
              "      <th>4</th>\n",
              "      <td>5</td>\n",
              "      <td>1</td>\n",
              "      <td>0.996633</td>\n",
              "    </tr>\n",
              "    <tr>\n",
              "      <th>...</th>\n",
              "      <td>...</td>\n",
              "      <td>...</td>\n",
              "      <td>...</td>\n",
              "    </tr>\n",
              "    <tr>\n",
              "      <th>995</th>\n",
              "      <td>996</td>\n",
              "      <td>2</td>\n",
              "      <td>0.891298</td>\n",
              "    </tr>\n",
              "    <tr>\n",
              "      <th>996</th>\n",
              "      <td>997</td>\n",
              "      <td>1</td>\n",
              "      <td>0.999677</td>\n",
              "    </tr>\n",
              "    <tr>\n",
              "      <th>997</th>\n",
              "      <td>998</td>\n",
              "      <td>0</td>\n",
              "      <td>0.834714</td>\n",
              "    </tr>\n",
              "    <tr>\n",
              "      <th>998</th>\n",
              "      <td>999</td>\n",
              "      <td>2</td>\n",
              "      <td>0.954797</td>\n",
              "    </tr>\n",
              "    <tr>\n",
              "      <th>999</th>\n",
              "      <td>1000</td>\n",
              "      <td>2</td>\n",
              "      <td>0.999681</td>\n",
              "    </tr>\n",
              "  </tbody>\n",
              "</table>\n",
              "<p>1000 rows × 3 columns</p>\n",
              "</div>"
            ],
            "text/plain": [
              "       id  price_range  Probability\n",
              "0       1            3     0.925731\n",
              "1       2            3     0.993359\n",
              "2       3            2     0.849625\n",
              "3       4            3     0.999973\n",
              "4       5            1     0.996633\n",
              "..    ...          ...          ...\n",
              "995   996            2     0.891298\n",
              "996   997            1     0.999677\n",
              "997   998            0     0.834714\n",
              "998   999            2     0.954797\n",
              "999  1000            2     0.999681\n",
              "\n",
              "[1000 rows x 3 columns]"
            ]
          },
          "execution_count": 57,
          "metadata": {},
          "output_type": "execute_result"
        }
      ],
      "source": [
        "df_final"
      ]
    },
    {
      "cell_type": "code",
      "execution_count": 58,
      "metadata": {
        "colab": {
          "base_uri": "https://localhost:8080/"
        },
        "id": "y9RAM3p-MfAn",
        "outputId": "5abc853a-c848-4a38-d833-4bd1cb30da3b"
      },
      "outputs": [
        {
          "data": {
            "text/plain": [
              "price_range\n",
              "3    264\n",
              "0    258\n",
              "2    249\n",
              "1    229\n",
              "Name: count, dtype: int64"
            ]
          },
          "execution_count": 58,
          "metadata": {},
          "output_type": "execute_result"
        }
      ],
      "source": [
        "df_final['price_range'].value_counts()"
      ]
    },
    {
      "cell_type": "markdown",
      "metadata": {
        "id": "sJGC6YKfMniD"
      },
      "source": [
        "**Save above file to csv**"
      ]
    },
    {
      "cell_type": "code",
      "execution_count": 59,
      "metadata": {
        "id": "NnyCo6g9MmVy"
      },
      "outputs": [],
      "source": [
        "df_final.to_csv('Result.csv', index=False)"
      ]
    }
  ],
  "metadata": {
    "colab": {
      "provenance": []
    },
    "kernelspec": {
      "display_name": "Python 3",
      "name": "python3"
    },
    "language_info": {
      "codemirror_mode": {
        "name": "ipython",
        "version": 3
      },
      "file_extension": ".py",
      "mimetype": "text/x-python",
      "name": "python",
      "nbconvert_exporter": "python",
      "pygments_lexer": "ipython3",
      "version": "3.11.8"
    }
  },
  "nbformat": 4,
  "nbformat_minor": 0
}
